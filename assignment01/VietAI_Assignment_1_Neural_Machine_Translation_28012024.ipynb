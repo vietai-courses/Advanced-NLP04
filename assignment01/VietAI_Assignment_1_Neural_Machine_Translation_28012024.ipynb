{
  "cells": [
    {
      "cell_type": "markdown",
      "metadata": {
        "id": "GhYjHDP9wUiw"
      },
      "source": [
        "# **Assignment 1: Translation with a Sequence to Sequence Network**\n",
        "\n",
        "This assignment is split into two sections: Neural Machine Translation with (1) RNNs and (2) Transformer. To be more specifically, in Machine Translation, our goal is to convert a sentence from the source language (e.g. Vietnamese) to the target language (e.g. English). In this assignment, we will implement a sequence-to-sequence (Seq2Seq) network based on two architectures: **RNNs with Attention** and **Transformer**, to build a Neural Machine Translation (NMT) system."
      ]
    },
    {
      "cell_type": "markdown",
      "metadata": {
        "id": "UzUewzPQyv7j"
      },
      "source": [
        "That's a lot to digest, the goal of this assignment is to break it down into easy to understand parts. In this assignment you will:\n",
        "\n",
        "- Prepare the data.\n",
        "- Implement necessary components:\n",
        "    - With RNNs and attention architecture:\n",
        "        - Embedding Layer: to initialize the necessary word embeddings\n",
        "        - Declare basic components of our model.\n",
        "        - The Encoder & Decoder\n",
        "\n",
        "    - With Transformer Architecture:\n",
        "        - Positional embeddings.\n",
        "        - Transformer Layer\n",
        "\n",
        "- Build & train two our models.\n",
        "- Generate translations."
      ]
    },
    {
      "cell_type": "markdown",
      "metadata": {
        "id": "AfRYHN7dxXfn"
      },
      "source": [
        "**Requirements**\n",
        "\n",
        "Firstly, apart from standards libraries, we need to install some package:\n",
        "\n",
        "1. `sentencepiece`: To build your own vocabulary \\\\\n",
        "2. `sacrebleu`: To evaluate our model using BLUE score metric"
      ]
    },
    {
      "cell_type": "code",
      "execution_count": null,
      "metadata": {
        "id": "4hbap3qmadgJ"
      },
      "outputs": [],
      "source": [
        "%%capture\n",
        "!pip install sentencepiece==0.1.97\n",
        "!pip install tqdm==4.29.1\n",
        "!pip install sacrebleu\n",
        "!pip install nltk\n",
        "!pip install 'portalocker>=2.0.0'"
      ]
    },
    {
      "cell_type": "markdown",
      "metadata": {
        "id": "yMNtv0jhyZuJ"
      },
      "source": [
        "Below, we import our standard libraries."
      ]
    },
    {
      "cell_type": "code",
      "execution_count": null,
      "metadata": {
        "id": "ivUAAQs2XuIw"
      },
      "outputs": [],
      "source": [
        "# Standard libraries\n",
        "import sys\n",
        "import json\n",
        "import time\n",
        "import math\n",
        "import numpy as np\n",
        "from typing import List, Tuple, Dict, Set, Union\n",
        "from collections import Counter, namedtuple\n",
        "from itertools import chain\n",
        "from dataclasses import dataclass\n",
        "\n",
        "# to compute BLUE score\n",
        "import sacrebleu\n",
        "\n",
        "# Pytorch\n",
        "import torch\n",
        "import torch.nn as nn\n",
        "import torch.nn.utils\n",
        "import torch.nn.functional as F\n",
        "from torch.nn.utils.rnn import pad_packed_sequence, pack_padded_sequence\n",
        "\n",
        "# To train vocabulary\n",
        "import sentencepiece as spm\n",
        "\n",
        "# Ensure that all operations are deterministic on GPU (if used) for reproducibility\n",
        "torch.backends.cudnn.deterministic = True\n",
        "torch.backends.cudnn.benchmark = False"
      ]
    },
    {
      "cell_type": "code",
      "execution_count": null,
      "metadata": {
        "id": "DhgJuptiW9Pa"
      },
      "outputs": [],
      "source": [
        "#@title Default hyperparameters\n",
        "@dataclass\n",
        "class Args:\n",
        "    cuda: str = \"cuda:0\"\n",
        "    train_src: str = \"data/train.vi\"\n",
        "    train_tgt: str = \"data/train.en\"\n",
        "    dev_src: str = \"data/dev.vi\"\n",
        "    dev_tgt: str = 'data/dev.en'\n",
        "    vocab_file: str = 'vocab.json'\n",
        "    src_vocab_size: int = 15000\n",
        "    tgt_vocab_size: int = 21000\n",
        "    seed: int = 0\n",
        "    batch_size: int = 32\n",
        "    max_len: int = 320\n",
        "    embed_size: int = 1024\n",
        "    hidden_size: int = 768\n",
        "    clip_grad: float = 5.0                  # gradient clipping\n",
        "    log_every: int = 10                     # log every\n",
        "    max_epoch: int = 100                     # max epoch\n",
        "    patience: int = 5                       # wait for how many iterations to decay learning rate\n",
        "    max_num_trial: int = 5                  # terminate training after how many trials\n",
        "    lr_decay: float = 0.5                   # learning rate decay\n",
        "    beam_size: int = 5                      # beam size\n",
        "    lr: float = 0.001                       # learning rate\n",
        "    uniform_init: float = 0.1               # uniformly initialize all parameters\n",
        "    model_save_path: str = 'lstm_model.bin' # model save path\n",
        "    valid_niter: int = 2000                 # perform validation after how many iterations\n",
        "    dropout: float = 0.3\n",
        "    max_decoding_time_step: int = 70        # maximum number of decoding time steps\n",
        "\n",
        "args = Args()\n",
        "device = torch.device(args.cuda) if torch.cuda.is_available() else torch.device(\"cpu\")\n",
        "\n",
        "seed = int(args.seed)\n",
        "torch.manual_seed(seed)\n",
        "torch.cuda.manual_seed(seed)\n",
        "np.random.seed(seed * 13 // 7)"
      ]
    },
    {
      "cell_type": "markdown",
      "metadata": {
        "id": "yFw7oNvnzRjf"
      },
      "source": [
        "# Data Preparation"
      ]
    },
    {
      "cell_type": "markdown",
      "metadata": {
        "id": "4HvcA-jc2CmC"
      },
      "source": [
        "\n",
        "## Loading data files\n",
        "The data for this project is a set of thousands of Vietnamese to\n",
        "English translation pairs. We will download them first then save to 'data' folder."
      ]
    },
    {
      "cell_type": "code",
      "execution_count": null,
      "metadata": {
        "id": "nQCDCurrVPwh"
      },
      "outputs": [],
      "source": [
        "%%capture\n",
        "!mkdir data\n",
        "\n",
        "import os\n",
        "import re\n",
        "\n",
        "def download_file(google_drive_link, to_save_path):\n",
        "    match = re.search(r\"/file/d/(.*?)/\", google_drive_link)\n",
        "    file_id = match.group(1) if match else None\n",
        "    new_path = f\"https://drive.google.com/uc?id={file_id}\"\n",
        "\n",
        "    os.system(f\"wget --no-check-certificate {new_path} -O {to_save_path}\")\n",
        "\n",
        "\n",
        "\n",
        "data_path = 'https://drive.google.com/file/d/1eq68XlKxWBFCj4YgMRl2N5YdrZvB9FDs/view?usp=sharing'\n",
        "download_file(data_path, args.train_src)\n",
        "\n",
        "data_path = 'https://drive.google.com/file/d/1679j2kIvdl8Oe_WRSX0vi62JtOrhr1GD/view?usp=sharing'\n",
        "download_file(data_path, args.train_tgt)\n",
        "\n",
        "\n",
        "data_path = 'https://drive.google.com/file/d/1p0tBxnD-MVXyve772omfq1nFDraeI_sO/view?usp=sharing'\n",
        "download_file(data_path, args.dev_src)\n",
        "\n",
        "data_path = 'https://drive.google.com/file/d/1ZvBBTUwzYJuN4J8WCZ9-kZiBEm4iPpiL/view?usp=sharing'\n",
        "download_file(data_path, args.dev_tgt)"
      ]
    },
    {
      "cell_type": "markdown",
      "metadata": {
        "id": "p0yO-MHgGKeX"
      },
      "source": [
        "## Logging data files"
      ]
    },
    {
      "cell_type": "markdown",
      "metadata": {
        "id": "4UQxrse_JeVw"
      },
      "source": [
        "Understanding the appearance of our data serves as a solid starting point when addressing the issue. The data will be recorded in the source-target (src-tgt) format, featuring raw, unprocessed text. In the subsequent section, you will observe how the data undergoes preprocessing into a more suitable format, specifically using a sub-word tokenizer, to enhance the machine's comprehension."
      ]
    },
    {
      "cell_type": "code",
      "execution_count": null,
      "metadata": {
        "id": "f_U7PVxJIVcv"
      },
      "outputs": [],
      "source": [
        "def read_file(file_path):\n",
        "  \"\"\" Read file, where each sentence is dilineated by a `\\n`.\n",
        "  @param file_path (str): path to file containing corpus\n",
        "  \"\"\"\n",
        "  data = []\n",
        "  with open(file_path, 'r', encoding='utf8') as f:\n",
        "    for line in f:\n",
        "      data.append(line.strip())\n",
        "\n",
        "  return data"
      ]
    },
    {
      "cell_type": "code",
      "execution_count": null,
      "metadata": {
        "id": "NgJsKOk-FosY"
      },
      "outputs": [],
      "source": [
        "def logging_data(file_path_src, file_path_tgt, num_data):\n",
        "    \"\"\" Log file, where each data is dilineated by a `\\n`.\n",
        "    @param file_path_src (str): path to file containing source corpus\n",
        "    @param file_path_tgt (str): path to file containing target corpus\n",
        "    @param num_data (int): number of data to log\n",
        "    \"\"\"\n",
        "\n",
        "    data_src = read_file(file_path_src)\n",
        "    data_tgt = read_file(file_path_tgt)\n",
        "\n",
        "    for i in range(num_data):\n",
        "      print(\"Src sent: \", data_src[i])\n",
        "      print(\"Tgt sent: \", data_tgt[i])\n",
        "      print(\"\\n\")"
      ]
    },
    {
      "cell_type": "code",
      "execution_count": null,
      "metadata": {
        "colab": {
          "base_uri": "https://localhost:8080/"
        },
        "id": "7pqsnAr6Gw0w",
        "outputId": "b2e662a6-6c64-44d5-babf-211c1b55d373"
      },
      "outputs": [
        {
          "name": "stdout",
          "output_type": "stream",
          "text": [
            "Src sent:  Khoa học đằng sau một tiêu đề về khí hậu\n",
            "Tgt sent:  Rachel Pike : The science behind a climate headline\n",
            "\n",
            "\n",
            "Src sent:  Trong 4 phút , chuyên gia hoá học khí quyển Rachel Pike giới thiệu sơ lược về những nỗ lực khoa học miệt mài đằng sau những tiêu đề táo bạo về biến đổi khí hậu , cùng với đoàn nghiên cứu của mình -- hàng ngàn người đã cống hiến cho dự án này -- một chuyến bay mạo hiểm qua rừng già để tìm kiếm thông tin về một phân tử then chốt .\n",
            "Tgt sent:  In 4 minutes , atmospheric chemist Rachel Pike provides a glimpse of the massive scientific effort behind the bold headlines on climate change , with her team -- one of thousands who contributed -- taking a risky flight over the rainforest in pursuit of data on a key molecule .\n",
            "\n",
            "\n",
            "Src sent:  Tôi muốn cho các bạn biết về sự to lớn của những nỗ lực khoa học đã góp phần làm nên các dòng tít bạn thường thấy trên báo .\n",
            "Tgt sent:  I &apos;d like to talk to you today about the scale of the scientific effort that goes into making the headlines you see in the paper .\n",
            "\n",
            "\n",
            "Src sent:  Có những dòng trông như thế này khi bàn về biến đổi khí hậu , và như thế này khi nói về chất lượng không khí hay khói bụi .\n",
            "Tgt sent:  Headlines that look like this when they have to do with climate change , and headlines that look like this when they have to do with air quality or smog .\n",
            "\n",
            "\n",
            "Src sent:  Cả hai đều là một nhánh của cùng một lĩnh vực trong ngành khoa học khí quyển .\n",
            "Tgt sent:  They are both two branches of the same field of atmospheric science .\n",
            "\n",
            "\n"
          ]
        }
      ],
      "source": [
        "logging_data(args.train_src, args.train_tgt, 5)"
      ]
    },
    {
      "cell_type": "markdown",
      "metadata": {
        "id": "dNjAaNbWypoV"
      },
      "source": [
        "# Let's start your assignment implementation 💪\n"
      ]
    },
    {
      "cell_type": "markdown",
      "metadata": {
        "id": "KEmMVX8J2hHw"
      },
      "source": [
        "## Q1: Padding function (5 points)\n",
        "In order to apply tensor operations, we must ensure that the sentences in a given batch are of the same length. Thus, we must identify the longest sentence in a batch and pad others to be the same length. Implement the `pad_sents` function, which shall produce these padded sentences."
      ]
    },
    {
      "cell_type": "code",
      "execution_count": null,
      "metadata": {
        "id": "1iQUZHWNWULr"
      },
      "outputs": [],
      "source": [
        "def pad_sents(sents, pad_token):\n",
        "    \"\"\" Pad list of sentences according to the longest sentence in the batch.\n",
        "        The paddings should be at the end of each sentence.\n",
        "    @param sents (list[list[str]]): list of sentences, where each sentence\n",
        "                                    is represented as a list of words\n",
        "    @param pad_token (str): padding token\n",
        "    @returns sents_padded (list[list[str]]): list of sentences where sentences shorter\n",
        "        than the max length sentence are padded out with the pad_token, such that\n",
        "        each sentences in the batch now has equal length.\n",
        "    \"\"\"\n",
        "    sents_padded = []\n",
        "\n",
        "    ### YOUR CODE HERE (~6 Lines)\n",
        "\n",
        "\n",
        "    ### END YOUR CODE\n",
        "\n",
        "    return sents_padded"
      ]
    },
    {
      "cell_type": "code",
      "execution_count": null,
      "metadata": {
        "id": "cNwJBxvO2u75"
      },
      "outputs": [],
      "source": [
        "sents = [\n",
        "    \"VietAI là tổ chức phi lợi nhuận.\",\n",
        "    \"Theo báo cáo mới nhất của Linkedin về danh sách việc làm triển vọng với mức lương hấp dẫn năm 2020, các chức danh công việc liên quan đến AI đều xếp thứ hạng cao.\",\n",
        "    \"Sứ mệnh của VietAI là ươm mầm tài năng về trí tuệ nhân tạo và xây dựng một cộng đồng các chuyên gia trong lĩnh vực trí tuệ nhân tạo đẳng cấp quốc tế.\"\n",
        "    \"Chúng ta đang trên hành trình tiến bộ và dân chủ hoá trí tuệ nhân tạo thông qua mã nguồn mở và khoa học mở\"]\n",
        "\n",
        "sents = [s.split() for s in sents]\n",
        "padded_sents = pad_sents(sents, pad_token=\"<PAD>\")\n",
        "\n",
        "for sent in padded_sents:\n",
        "    assert len(sent) == len(padded_sents[0])"
      ]
    },
    {
      "cell_type": "markdown",
      "metadata": {
        "id": "SGywMiTH5MCa"
      },
      "source": [
        "Below, we define the `VocabEntry` class. The `VocabEntry` class is a vocabulary entry that contains a dictionary that maps words to indices and provides methods to convert words to indices, indices to words, and sentences to tensors. The purpose of this class is to facilitate the management of the vocabulary."
      ]
    },
    {
      "cell_type": "code",
      "execution_count": null,
      "metadata": {
        "id": "euaeDPZSaISN"
      },
      "outputs": [],
      "source": [
        "class VocabEntry(object):\n",
        "    \"\"\" Vocabulary Entry, i.e. structure containing either\n",
        "    src or tgt language terms.\n",
        "    \"\"\"\n",
        "    def __init__(self, word2id=None):\n",
        "        \"\"\" Init VocabEntry Instance.\n",
        "        @param word2id (dict): dictionary mapping words 2 indices\n",
        "        \"\"\"\n",
        "        if word2id:\n",
        "            self.word2id = word2id\n",
        "        else:\n",
        "            self.word2id = dict()\n",
        "            self.word2id['<pad>'] = 0   # Pad Token\n",
        "            self.word2id['<s>'] = 1 # Start Token\n",
        "            self.word2id['</s>'] = 2    # End Token\n",
        "            self.word2id['<unk>'] = 3   # Unknown Token\n",
        "        self.unk_id = self.word2id['<unk>']\n",
        "        self.id2word = {v: k for k, v in self.word2id.items()}\n",
        "\n",
        "    def __getitem__(self, word):\n",
        "        \"\"\" Retrieve word's index. Return the index for the unk\n",
        "        token if the word is out of vocabulary.\n",
        "        @param word (str): word to look up.\n",
        "        @returns index (int): index of word\n",
        "        \"\"\"\n",
        "        return self.word2id.get(word, self.unk_id)\n",
        "\n",
        "    def __contains__(self, word):\n",
        "        \"\"\" Check if word is captured by VocabEntry.\n",
        "        @param word (str): word to look up\n",
        "        @returns contains (bool): whether word is contained\n",
        "        \"\"\"\n",
        "        return word in self.word2id\n",
        "\n",
        "    def __setitem__(self, key, value):\n",
        "        \"\"\" Raise error, if one tries to edit the VocabEntry.\n",
        "        \"\"\"\n",
        "        raise ValueError('vocabulary is readonly')\n",
        "\n",
        "    def __len__(self):\n",
        "        \"\"\" Compute number of words in VocabEntry.\n",
        "        @returns len (int): number of words in VocabEntry\n",
        "        \"\"\"\n",
        "        return len(self.word2id)\n",
        "\n",
        "    def __repr__(self):\n",
        "        \"\"\" Representation of VocabEntry to be used\n",
        "        when printing the object.\n",
        "        \"\"\"\n",
        "        return 'Vocabulary[size=%d]' % len(self)\n",
        "\n",
        "    def id2word(self, wid):\n",
        "        \"\"\" Return mapping of index to word.\n",
        "        @param wid (int): word index\n",
        "        @returns word (str): word corresponding to index\n",
        "        \"\"\"\n",
        "        return self.id2word[wid]\n",
        "\n",
        "    def add(self, word):\n",
        "        \"\"\" Add word to VocabEntry, if it is previously unseen.\n",
        "        @param word (str): word to add to VocabEntry\n",
        "        @return index (int): index that the word has been assigned\n",
        "        \"\"\"\n",
        "        if word not in self:\n",
        "            wid = self.word2id[word] = len(self)\n",
        "            self.id2word[wid] = word\n",
        "            return wid\n",
        "        else:\n",
        "            return self[word]\n",
        "\n",
        "    def words2indices(self, sents):\n",
        "        \"\"\" Convert list of words or list of sentences of words\n",
        "        into list or list of list of indices.\n",
        "        @param sents (list[str] or list[list[str]]): sentence(s) in words\n",
        "        @return word_ids (list[int] or list[list[int]]): sentence(s) in indices\n",
        "        \"\"\"\n",
        "        try:\n",
        "            if type(sents[0]) == list:\n",
        "                for i in range(len(sents)):\n",
        "                    # set max length\n",
        "                    sents[i] = sents[i][:args.max_len]\n",
        "                return [[self[w] for w in s] for s in sents]\n",
        "            else:\n",
        "                # set max length\n",
        "                sents = sents[:args.max_len]\n",
        "                return [[self[w] for w in sents]]\n",
        "        except Exception as e:\n",
        "            print(e, sents)\n",
        "            return []\n",
        "\n",
        "    def indices2words(self, word_ids):\n",
        "        \"\"\" Convert list of indices into words.\n",
        "        @param word_ids (list[int]): list of word ids\n",
        "        @return sents (list[str]): list of words\n",
        "        \"\"\"\n",
        "        return [self.id2word[w_id] for w_id in word_ids]\n",
        "\n",
        "    def to_input_tensor(self, sents: List[List[str]], device: torch.device = device) -> torch.Tensor:\n",
        "        \"\"\" Convert list of sentences (words) into tensor with necessary padding for\n",
        "        shorter sentences.\n",
        "\n",
        "        @param sents (List[List[str]]): list of sentences (words)\n",
        "        @param device: device on which to load the tesnor, i.e. CPU or GPU\n",
        "\n",
        "        @returns sents_var: tensor of (max_sentence_length, batch_size)\n",
        "        \"\"\"\n",
        "        word_ids = self.words2indices(sents)\n",
        "        sents_t = pad_sents(word_ids, self['<pad>'])\n",
        "        sents_var = torch.tensor(sents_t, dtype=torch.long, device=device)\n",
        "        return torch.t(sents_var)\n",
        "\n",
        "    @staticmethod\n",
        "    def from_corpus(corpus, size, freq_cutoff=2):\n",
        "        \"\"\" Given a corpus construct a Vocab Entry.\n",
        "        @param corpus (list[str]): corpus of text produced by read_corpus function\n",
        "        @param size (int): # of words in vocabulary\n",
        "        @param freq_cutoff (int): if word occurs n < freq_cutoff times, drop the word\n",
        "        @returns vocab_entry (VocabEntry): VocabEntry instance produced from provided corpus\n",
        "        \"\"\"\n",
        "        vocab_entry = VocabEntry()\n",
        "        word_freq = Counter(chain(*corpus))\n",
        "        valid_words = [w for w, v in word_freq.items() if v >= freq_cutoff]\n",
        "        print('number of word types: {}, number of word types w/ frequency >= {}: {}'\n",
        "              .format(len(word_freq), freq_cutoff, len(valid_words)))\n",
        "        top_k_words = sorted(valid_words, key=lambda w: word_freq[w], reverse=True)[:size]\n",
        "        for word in top_k_words:\n",
        "            vocab_entry.add(word)\n",
        "        return vocab_entry\n",
        "\n",
        "    @staticmethod\n",
        "    def from_subword_list(subword_list):\n",
        "        vocab_entry = VocabEntry()\n",
        "        for subword in subword_list:\n",
        "            vocab_entry.add(subword)\n",
        "        return vocab_entry"
      ]
    },
    {
      "cell_type": "markdown",
      "metadata": {
        "id": "T9afEr0m6ZkF"
      },
      "source": [
        "Afterwards, we use a `Vocab` class to wrap vocabulary used for both the source and target languages in a machine translation task. It is composed of two `VocabEntry` objects, one for the source language and one for the target language.\n",
        "\n",
        "The build method is used to construct a `Vocab` object from a list of subwords generated by **SentencePiece** for both the source and target languages. Then, we save them to a JSON file."
      ]
    },
    {
      "cell_type": "code",
      "execution_count": null,
      "metadata": {
        "id": "IoIvy1Fw6LGK"
      },
      "outputs": [],
      "source": [
        "class Vocab(object):\n",
        "    \"\"\" Vocab encapsulating src and target langauges.\n",
        "    \"\"\"\n",
        "    def __init__(self, src_vocab: VocabEntry, tgt_vocab: VocabEntry):\n",
        "        \"\"\" Init Vocab.\n",
        "        @param src_vocab (VocabEntry): VocabEntry for source language\n",
        "        @param tgt_vocab (VocabEntry): VocabEntry for target language\n",
        "        \"\"\"\n",
        "        self.src = src_vocab\n",
        "        self.tgt = tgt_vocab\n",
        "\n",
        "    @staticmethod\n",
        "    def build(src_sents, tgt_sents) -> 'Vocab':\n",
        "        \"\"\" Build Vocabulary.\n",
        "        @param src_sents (list[str]): Source subwords provided by SentencePiece\n",
        "        @param tgt_sents (list[str]): Target subwords provided by SentencePiece\n",
        "        \"\"\"\n",
        "\n",
        "        print('initialize source vocabulary ..')\n",
        "        src = VocabEntry.from_subword_list(src_sents)\n",
        "\n",
        "        print('initialize target vocabulary ..')\n",
        "        tgt = VocabEntry.from_subword_list(tgt_sents)\n",
        "\n",
        "        return Vocab(src, tgt)\n",
        "\n",
        "    def save(self, file_path):\n",
        "        \"\"\" Save Vocab to file as JSON dump.\n",
        "        @param file_path (str): file path to vocab file\n",
        "        \"\"\"\n",
        "        with open(file_path, 'w') as f:\n",
        "            json.dump(dict(src_word2id=self.src.word2id, tgt_word2id=self.tgt.word2id), f, indent=2)\n",
        "\n",
        "    @staticmethod\n",
        "    def load(file_path):\n",
        "        \"\"\" Load vocabulary from JSON dump.\n",
        "        @param file_path (str): file path to vocab file\n",
        "        @returns Vocab object loaded from JSON dump\n",
        "        \"\"\"\n",
        "        entry = json.load(open(file_path, 'r'))\n",
        "        src_word2id = entry['src_word2id']\n",
        "        tgt_word2id = entry['tgt_word2id']\n",
        "\n",
        "        return Vocab(VocabEntry(src_word2id), VocabEntry(tgt_word2id))\n",
        "\n",
        "    def __repr__(self):\n",
        "        \"\"\" Representation of Vocab to be used\n",
        "        when printing the object.\n",
        "        \"\"\"\n",
        "        return 'Vocab(source %d words, target %d words)' % (len(self.src), len(self.tgt))\n",
        "\n",
        "\n",
        "def get_vocab_list(file_path, source, vocab_size):\n",
        "    \"\"\" Use SentencePiece to tokenize and acquire list of unique subwords.\n",
        "    @param file_path (str): file path to corpus\n",
        "    @param source (str): tgt or src\n",
        "    @param vocab_size: desired vocabulary size\n",
        "    \"\"\"\n",
        "    spm.SentencePieceTrainer.Train(input=file_path, model_prefix=source, vocab_size=vocab_size)     # train the spm model\n",
        "    sp = spm.SentencePieceProcessor()   # create an instance; this saves .model and .vocab files\n",
        "    sp.Load('{}.model'.format(source))  # loads tgt.model or src.model\n",
        "    sp_list = [sp.IdToPiece(piece_id) for piece_id in range(sp.GetPieceSize())] # this is the list of subwords\n",
        "    return sp_list"
      ]
    },
    {
      "cell_type": "markdown",
      "metadata": {
        "id": "01HlWwyR6x0v"
      },
      "source": [
        "## Train and save our vocabulary to a json file"
      ]
    },
    {
      "cell_type": "code",
      "execution_count": null,
      "metadata": {
        "colab": {
          "base_uri": "https://localhost:8080/"
        },
        "id": "Uh-tl8jWat2S",
        "outputId": "9c2951b9-2d69-4794-b0a5-4463544f66a7"
      },
      "outputs": [
        {
          "name": "stdout",
          "output_type": "stream",
          "text": [
            "read in source sentences: data/train.vi\n",
            "read in target sentences: data/train.en\n",
            "initialize source vocabulary ..\n",
            "initialize target vocabulary ..\n",
            "generated vocabulary, source 15000 words, target 21000 words\n",
            "vocabulary saved to vocab.json\n"
          ]
        }
      ],
      "source": [
        "print('read in source sentences: %s' % args.train_src)\n",
        "print('read in target sentences: %s' % args.train_tgt)\n",
        "\n",
        "src_sents = get_vocab_list(args.train_src, source='src', vocab_size=args.src_vocab_size)\n",
        "tgt_sents = get_vocab_list(args.train_tgt, source='tgt', vocab_size=args.tgt_vocab_size)\n",
        "vocab = Vocab.build(src_sents, tgt_sents)\n",
        "print('generated vocabulary, source %d words, target %d words' % (len(src_sents), len(tgt_sents)))\n",
        "\n",
        "vocab.save(args.vocab_file)\n",
        "print('vocabulary saved to %s' % args.vocab_file)"
      ]
    },
    {
      "cell_type": "markdown",
      "metadata": {
        "id": "MiC1obxY763V"
      },
      "source": [
        "## Read sentence pairs for training\n",
        "The full process for preparing the data is:\n",
        "\n",
        "- Read text file  into pairs\n",
        "- Encode raw text into subwords\n",
        "- Add word lists into our data"
      ]
    },
    {
      "cell_type": "code",
      "execution_count": null,
      "metadata": {
        "id": "cIwV0sOye2JJ"
      },
      "outputs": [],
      "source": [
        "def read_corpus(file_path, source):\n",
        "    \"\"\" Read file, where each sentence is dilineated by a `\\n`.\n",
        "    @param file_path (str): path to file containing corpus\n",
        "    @param source (str): \"tgt\" or \"src\" indicating whether text\n",
        "        is of the source language or target language\n",
        "    \"\"\"\n",
        "    data = []\n",
        "    sp = spm.SentencePieceProcessor()\n",
        "    sp.load('{}.model'.format(source))\n",
        "\n",
        "    with open(file_path, 'r', encoding='utf8') as f:\n",
        "        for line in f:\n",
        "            subword_tokens = sp.encode_as_pieces(line)\n",
        "            # only append <s> and </s> to the target sentence\n",
        "            if source == 'tgt':\n",
        "                subword_tokens = ['<s>'] + subword_tokens + ['</s>']\n",
        "            data.append(subword_tokens)\n",
        "\n",
        "    return data\n",
        "\n",
        "train_data_src = read_corpus(args.train_src, source='src')\n",
        "train_data_tgt = read_corpus(args.train_tgt, source='tgt')\n",
        "\n",
        "dev_data_src = read_corpus(args.dev_src, source='src')\n",
        "dev_data_tgt = read_corpus(args.dev_tgt, source='tgt')\n",
        "\n",
        "train_data = list(zip(train_data_src, train_data_tgt))\n",
        "dev_data = list(zip(dev_data_src, dev_data_tgt))"
      ]
    },
    {
      "cell_type": "markdown",
      "metadata": {
        "id": "f1GXVgR08Nw3"
      },
      "source": [
        "We will visualize certain pairs of training data after encoding into subwords to gain insights into the data. It becomes evident that when raw text is encoded into subwords, a single word can be represented as the concatenation of other subwords. For instance, `\"Trong\"` transforms into `\"_Tro\"` and `\"ng\"` while `\"dòng\"` transforms into `\"_dò\"` and `\"ng\"`. Both examples will share the `\"ng\"` in common, reduce the number of item needed in the vocab size."
      ]
    },
    {
      "cell_type": "code",
      "execution_count": null,
      "metadata": {
        "colab": {
          "base_uri": "https://localhost:8080/"
        },
        "id": "VWCT-JzV6BeW",
        "outputId": "a4f955c3-40e7-499c-8628-248f11db1a84"
      },
      "outputs": [
        {
          "name": "stdout",
          "output_type": "stream",
          "text": [
            "Src sent: ▁Khoa|▁học|▁đ|ằng|▁sau|▁một|▁tiêu|▁đề|▁về|▁khí|▁hậu\n",
            "Tgt sent: <s>|▁Rachel|▁P|ike|▁|:|▁The|▁science|▁|behind|▁a|▁climate|▁headline|</s>\n",
            "\n",
            "\n",
            "Src sent: ▁Tro|ng|▁4|▁phút|▁,|▁chuyên|▁gia|▁hoá|▁học|▁khí|▁quyển|▁Rachel|▁P|ike|▁giới|▁t|hiệu|▁sơ|▁lược|▁về|▁những|▁nỗ|▁lực|▁khoa|▁học|▁m|iệt|▁mà|i|▁đ|ằng|▁sau|▁những|▁tiêu|▁đề|▁táo|▁bạo|▁về|▁biến|▁đổi|▁khí|▁hậu|▁,|▁cùng|▁với|▁đoàn|▁nghiên|▁cứu|▁của|▁mình|▁--|▁hàng|▁ngàn|▁người|▁đã|▁cố|ng|▁|hiến|▁cho|▁dự|▁án|▁này|▁--|▁một|▁chuyến|▁bay|▁mạo|▁hiểm|▁qua|▁rừng|▁già|▁để|▁tìm|▁kiếm|▁thông|▁tin|▁về|▁một|▁phân|▁tử|▁the|n|▁chố|t|▁.\n",
            "Tgt sent: <s>|▁In|▁4|▁minutes|▁|,|▁atmospher|ic|▁chemist|▁Rachel|▁P|ike|▁provide|s|▁a|▁glimpse|▁of|▁the|▁massive|▁scientific|▁effort|▁|behind|▁the|▁bold|▁headline|s|▁on|▁climate|▁change|▁|,|▁with|▁her|▁team|▁--|▁one|▁of|▁|thousands|▁who|▁contribute|d|▁--|▁|taking|▁a|▁risk|y|▁flight|▁over|▁the|▁rainforest|▁in|▁pursuit|▁of|▁data|▁on|▁a|▁key|▁molecule|▁.|</s>\n",
            "\n",
            "\n",
            "Src sent: ▁Tôi|▁muốn|▁cho|▁các|▁bạn|▁biết|▁về|▁sự|▁to|▁lớn|▁của|▁những|▁nỗ|▁lực|▁khoa|▁học|▁đã|▁góp|▁phần|▁làm|▁nên|▁các|▁dò|ng|▁tí|t|▁bạn|▁thường|▁thấy|▁trên|▁báo|▁.\n",
            "Tgt sent: <s>|▁I|▁&|apos|;|d|▁like|▁to|▁talk|▁to|▁you|▁to|day|▁about|▁the|▁scale|▁of|▁the|▁scientific|▁effort|▁that|▁go|es|▁into|▁|making|▁the|▁headline|s|▁you|▁see|▁in|▁the|▁paper|▁.|</s>\n",
            "\n",
            "\n",
            "Src sent: ▁Có|▁những|▁dò|ng|▁tr|ông|▁như|▁thế|▁này|▁khi|▁bàn|▁về|▁biến|▁đổi|▁khí|▁hậu|▁,|▁và|▁như|▁thế|▁này|▁khi|▁nói|▁về|▁chất|▁lượng|▁không|▁khí|▁hay|▁khói|▁bụ|i|▁.\n",
            "Tgt sent: <s>|▁Head|lines|▁that|▁look|▁like|▁|this|▁when|▁the|y|▁have|▁to|▁do|▁with|▁climate|▁change|▁|,|▁and|▁headline|s|▁that|▁look|▁like|▁|this|▁when|▁the|y|▁have|▁to|▁do|▁with|▁air|▁quality|▁or|▁smog|▁.|</s>\n",
            "\n",
            "\n",
            "Src sent: ▁Cả|▁hai|▁đều|▁là|▁một|▁nh|ánh|▁của|▁cùng|▁một|▁lĩnh|▁vực|▁trong|▁ngành|▁khoa|▁học|▁khí|▁quyển|▁.\n",
            "Tgt sent: <s>|▁The|y|▁are|▁both|▁two|▁branche|s|▁of|▁the|▁same|▁field|▁of|▁atmospher|ic|▁science|▁.|</s>\n",
            "\n",
            "\n"
          ]
        }
      ],
      "source": [
        "n = 5\n",
        "for i in range(n):\n",
        "  print(\"Src sent: \" + \"|\".join(train_data_src[i]))\n",
        "  print(\"Tgt sent: \" + \"|\".join(train_data_tgt[i]))\n",
        "  print(\"\\n\")"
      ]
    },
    {
      "cell_type": "markdown",
      "metadata": {
        "id": "HzUtPU1A32gt"
      },
      "source": [
        "We define the `batch_iter` function to iterate through the given data in batches of a specified size, where each batch contains source and target sentences.\n",
        "\n",
        "The sentences are sorted in reverse order by their length, so that longer sentences come first.\n",
        "\n",
        "The function takes three arguments: the data to iterate through, the batch size, and a flag indicating whether to shuffle the data randomly or not."
      ]
    },
    {
      "cell_type": "code",
      "execution_count": null,
      "metadata": {
        "id": "n4Lpa-Kck-QJ"
      },
      "outputs": [],
      "source": [
        "def batch_iter(data, batch_size, shuffle=False):\n",
        "    \"\"\" Yield batches of source and target sentences reverse sorted by length (largest to smallest).\n",
        "    @param data (list of (src_sent, tgt_sent)): list of tuples containing source and target sentence\n",
        "    @param batch_size (int): batch size\n",
        "    @param shuffle (boolean): whether to randomly shuffle the dataset\n",
        "    \"\"\"\n",
        "    batch_num = math.ceil(len(data) / batch_size)\n",
        "    index_array = list(range(len(data)))\n",
        "\n",
        "    if shuffle:\n",
        "        np.random.shuffle(index_array)\n",
        "\n",
        "    for i in range(batch_num):\n",
        "        indices = index_array[i * batch_size: (i + 1) * batch_size]\n",
        "        examples = [data[idx] for idx in indices]\n",
        "\n",
        "        examples = sorted(examples, key=lambda e: len(e[0]), reverse=True)\n",
        "        src_sents, tgt_sents = list(), list()\n",
        "        for src_sent, tgt_sent in examples:\n",
        "            if len(src_sent) > 0 and len(tgt_sent) > 0:\n",
        "                src_sents.append(src_sent)\n",
        "                tgt_sents.append(tgt_sent)\n",
        "        yield src_sents, tgt_sents"
      ]
    },
    {
      "cell_type": "markdown",
      "metadata": {
        "id": "1TVBV17b9N3Z"
      },
      "source": [
        "# The Seq2Seq Model 1: RNNs with global attention\n",
        "\n",
        "In this section, we describe the training procedure for the proposed NMT system, which uses a Bidirectional LSTM Encoder and a Unidirectional LSTM Decoder.\n",
        "\n",
        "<img src=\"https://i.ibb.co/pjRW6tC/arc.png\" alt=\"arc\" border=\"0\" width=70%>\n",
        "\n",
        "# Model description (training procedure)\n",
        "\n",
        "Given a sentence in the source language, we look up the character or word embeddings from an **embeddings matrix**, yielding $x_1,...,x_m (x_i \\in \\mathbb{R}^e)$, where $m$ is the length of the source sentence and e is the embedding size. We feed the embeddings to the bidirectional encoder, yielding hidden states and cell states for both the forwards (→) and backwards (←) LSTMs. The forwards and backwards versions are concatenated to give hidden states $h^{enc}_i$ and cell states $c^{enc}_i$ :\n",
        "\n",
        "$$ h^{enc}_i = [\\overleftarrow{h^{enc}_i}; \\overrightarrow{h^{enc}_i}] \\:\\: \\text{where} \\:\\: h^{enc}_i \\in \\mathbb{R}^{2h \\times 1} $$\n",
        "$$ c^{enc}_i = [\\overleftarrow{c^{enc}_i}; \\overrightarrow{c^{enc}_i}] \\:\\: \\text{where} \\:\\: c^{enc}_i \\in \\mathbb{R}^{2h \\times 1} $$ \\\\\n",
        "\n",
        "We then initialize the **decoder**’s first hidden state $h^{enc}_0$ and cell state $c^{enc}_0$  with a linear projection of the encoder’s final hidden state and final cell state.\n",
        "\n",
        "$$ h^{dec}_0 = W_h[\\overleftarrow{h^{enc}_1}; \\overrightarrow{h^{enc}_m}] \\:\\: \\text{where} \\:\\: h^{dec}_0 \\in \\mathbb{R}^{h \\times 1} $$\n",
        "$$ c^{dec}_0 = W_c[\\overleftarrow{c^{enc}_1}; \\overrightarrow{c^{enc}_m}] \\:\\: \\text{where} \\:\\: c^{dec}_0 \\in \\mathbb{R}^{h \\times 1} $$ \\\\\n",
        "\n",
        "With the decoder initialized, we must now feed it a target sentence. On the $t^{th}$ step, we look up the embedding for the $t^{th}$ subword, $y_t \\in \\mathbb{R}^{e \\times 1}$ . We then concatenate $y_t$ with the combined-output vector $o_{t-1} \\in \\mathbb{R}^{h \\times 1}$ from the previous timestep (we will explain what this is later!) to produce $\\bar{y_t} \\in \\mathbb{R}^{(e+h) \\times 1}$. Note that for the first target subword (i.e. the start token) $o_0$ is a zero-vector. We then feed $\\bar{y_t}$ as input to the decoder.\n",
        "\n",
        "\n",
        "$$ h^{dec}_t , c^{dec}_t = \\text{Decoder}(\\bar{y_t},  h^{dec}_{t-1} , c^{dec}_{t-1} ) \\:\\:\\: \\text{where} \\:\\:\\: h^{dec}_t \\in \\mathbb{R}^{h \\times 1} , c^{dec}_t \\in \\mathbb{R}^{h \\times 1} $$ \\\\\n",
        "\n",
        "We then use $h^{dec}_t$ to compute multiplicative attention over $h^{enc}_1,...,, h^{enc}_m$ :\n",
        "\n",
        "$$ e_{t,i} = (h_t^{dec})^TW_{attProj}h^{enc}_i \\:\\:\\: \\text{where} \\:\\:\\: e_t \\in \\mathbb{R}^{m \\times 1}, W_{attProj} \\in \\mathbb{R}^{h \\times 2h} $$\n",
        "\n",
        "$$ \\alpha_t = softmax(e_t) \\:\\:\\: \\text{where} \\:\\:\\: \\alpha_t \\in \\mathbb{R}^{m \\times 1}$$\n",
        "\n",
        "$$ a_t = ∑_{i=1}^m \\alpha_{t, i} h^{enc}_i \\:\\:\\: \\text{where} \\:\\:\\: a_t \\in \\mathbb{R}^{2h \\times 1}$$ \\\\\n",
        "\n",
        "We now concatenate the attention output $a_t$ with the decoder hidden state $h^{dec}_t$ and pass this through a linear layer, tanh, and dropout to attain the *combined-output* vector $o_t$.\n",
        "\n",
        "$$ u_t = [a_t;h^{dec}_t] \\:\\:\\: \\text{where} \\:\\:\\: u_t \\in \\mathbb{R}^{3h \\times 1} $$\n",
        "\n",
        "$$ v_t = W_uu_t \\:\\:\\: where \\:\\:\\: v_t \\in \\mathbb{R}^{h \\times 1},W_u \\in \\mathbb{R}^{h \\times 3h}$$\n",
        "\n",
        "$$ o_t = dropout(tanh(v_t)) \\:\\:\\: where \\:\\:\\: o_t \\in \\mathbb{R}^{h \\times 1}$$ \\\\\n",
        "\n",
        "Then, we produce a probability distribution $P_t$ over target subwords at the $t^{th}$ timestep:\n",
        "\n",
        "$$ P_t = softmax(W_{vocab}o_t) \\:\\:\\: where \\:\\:\\: P_t \\in \\mathbb{R}^{V_t \\times 1}, W_{vocab}\\in \\mathbb{R}^{V_t \\times h} $$\n",
        "\n",
        "Here, $V_t$ is the size of the target vocabulary. Finally, to train the network we then compute the cross entropy loss between $P_t$ and $g_t$, where $g_t$ is the one-hot vector of the target subword at timestep $t$:\n",
        "\n",
        "$$ J_t(θ) = CrossEntropy(P_t, g_t)$$\n",
        "Here, $θ$ represents all the parameters of the model and $J_t(θ)$ is the loss on step t of the decoder.\n",
        "\n",
        "Now that we have described the model, let’s try implementing it Mandarin Vietnamese to English translation!\n",
        "\n",
        "\n"
      ]
    },
    {
      "cell_type": "markdown",
      "metadata": {
        "id": "tLAaS2fZ4aBS"
      },
      "source": [
        "## Q2 (5 points) Embedding Layer Initilization\n",
        "\n",
        "Implement the `__init__` function to initialize the necessary source and target embeddings."
      ]
    },
    {
      "cell_type": "code",
      "execution_count": null,
      "metadata": {
        "id": "O9zylrls4d6A"
      },
      "outputs": [],
      "source": [
        "class ModelEmbeddings(nn.Module):\n",
        "    \"\"\"\n",
        "    Class that converts input words to their embeddings.\n",
        "    \"\"\"\n",
        "    def __init__(self, embed_size, vocab):\n",
        "        \"\"\"\n",
        "        Init the Embedding layers.\n",
        "\n",
        "        @param embed_size (int): Embedding size (dimensionality)\n",
        "        @param vocab (Vocab): Vocabulary object containing src and tgt languages\n",
        "                              See vocab.py for documentation.\n",
        "        \"\"\"\n",
        "        super(ModelEmbeddings, self).__init__()\n",
        "        self.embed_size = embed_size\n",
        "\n",
        "        # default values\n",
        "        self.source = None\n",
        "        self.target = None\n",
        "\n",
        "        src_pad_token_idx = vocab.src['<pad>']\n",
        "        tgt_pad_token_idx = vocab.tgt['<pad>']\n",
        "\n",
        "        ### YOUR CODE HERE (~2 Lines)\n",
        "        ### TODO - Initialize the following variables:\n",
        "        ###     self.source (Embedding Layer for source language)\n",
        "        ###     self.target (Embedding Layer for target langauge)\n",
        "        ###\n",
        "        ### Note:\n",
        "        ###     1. `vocab` object contains two vocabularies:\n",
        "        ###            `vocab.src` for source\n",
        "        ###            `vocab.tgt` for target\n",
        "        ###     2. You can get the length of a specific vocabulary by running:\n",
        "        ###             `len(vocab.<specific_vocabulary>)`\n",
        "        ###     3. Remember to include the padding token for the specific vocabulary\n",
        "        ###        when creating your Embedding.\n",
        "        ###\n",
        "        ### Use the following docs to properly initialize these variables:\n",
        "        ###     Embedding Layer:\n",
        "        ###         https://pytorch.org/docs/stable/nn.html#torch.nn.Embedding\n",
        "\n",
        "\n",
        "        ### END YOUR CODE"
      ]
    },
    {
      "cell_type": "markdown",
      "metadata": {
        "id": "PtcWFUr4NKoF"
      },
      "source": [
        "## Q3-6 RNN with Global attention NMT model"
      ]
    },
    {
      "cell_type": "markdown",
      "metadata": {
        "id": "eQedhWy5JE6I"
      },
      "source": [
        "\n",
        "### Q3 (10 points) Initialize layers in NMT model\n",
        "Implement the `init` function to initialize the necessary model layers (LSTM, projection, and dropout) for the NMT system."
      ]
    },
    {
      "cell_type": "markdown",
      "metadata": {
        "id": "pZukPek7NPbn"
      },
      "source": [
        "###  Q4 (15 points) Encoder\n",
        "Implement the `encode` function. This function converts the padded source sentences into the tensor $X$, generates $h^{enc}_1 , . . . , h^{enc}_m $, and computes the initial state $h^{dec}_0$ and initial cell  $h^{dec}_0$ for the $\\text{Decoder}$"
      ]
    },
    {
      "cell_type": "markdown",
      "metadata": {
        "id": "cOFoVBl-NSBf"
      },
      "source": [
        "\n",
        "### Q5 (15 points) Decoder\n",
        "Implement the `decode` function. This function constructs $\\bar{y}$ and runs the step function over every timestep for the input.\n",
        "\n"
      ]
    },
    {
      "cell_type": "markdown",
      "metadata": {
        "id": "OKOojY7ENUf0"
      },
      "source": [
        "### Q6: (20 points) Decoder step\n",
        "Implement the `step` function. This function applies the Decoder’s LSTM cell for a single timestep, computing the encoding of the target subword $h^{dec}_t$ , the attention scores $e_t$, attention distribution $\\alpha_t$, the attention output $a_t$, and finally the combined output $o_t$."
      ]
    },
    {
      "cell_type": "code",
      "execution_count": null,
      "metadata": {
        "id": "qfa3jewziImC"
      },
      "outputs": [],
      "source": [
        "Hypothesis = namedtuple('Hypothesis', ['value', 'score'])\n",
        "\n",
        "class NMT(nn.Module):\n",
        "    \"\"\" Simple Neural Machine Translation Model:\n",
        "        - Bidrectional LSTM Encoder\n",
        "        - Unidirection LSTM Decoder\n",
        "        - Global Attention Model (Luong, et al. 2015)\n",
        "    \"\"\"\n",
        "\n",
        "    def __init__(self, embed_size, hidden_size, vocab, dropout_rate=0.2):\n",
        "        \"\"\" Init NMT Model.\n",
        "\n",
        "        @param embed_size (int): Embedding size (dimensionality)\n",
        "        @param hidden_size (int): Hidden Size, the size of hidden states (dimensionality)\n",
        "        @param vocab (Vocab): Vocabulary object containing src and tgt languages\n",
        "                              See vocab.py for documentation.\n",
        "        @param dropout_rate (float): Dropout probability, for attention\n",
        "        \"\"\"\n",
        "        super(NMT, self).__init__()\n",
        "        self.model_embeddings = ModelEmbeddings(embed_size, vocab)\n",
        "        self.hidden_size = hidden_size\n",
        "        self.dropout_rate = dropout_rate\n",
        "        self.vocab = vocab\n",
        "\n",
        "        # default values\n",
        "        self.encoder = None\n",
        "        self.decoder = None\n",
        "        self.h_projection = None\n",
        "        self.c_projection = None\n",
        "        self.att_projection = None\n",
        "        self.combined_output_projection = None\n",
        "        self.target_vocab_projection = None\n",
        "        self.dropout = None\n",
        "        # For sanity check only, not relevant to implementation\n",
        "        self.gen_sanity_check = False\n",
        "        self.counter = 0\n",
        "\n",
        "        ### YOUR CODE HERE (~9 Lines)\n",
        "        ### TODO - Initialize the following variables IN THIS ORDER:\n",
        "        ###     self.post_embed_cnn (Conv1d layer with kernel size 2, input and output channels = embed_size,\n",
        "        ###         padding = same to preserve output shape )\n",
        "        ###     self.encoder (Bidirectional LSTM with bias)\n",
        "        ###     self.decoder (LSTM Cell with bias)\n",
        "        ###     self.h_projection (Linear Layer with no bias), called W_{h} .\n",
        "        ###     self.c_projection (Linear Layer with no bias), called W_{c} .\n",
        "        ###     self.att_projection (Linear Layer with no bias), called W_{attProj}.\n",
        "        ###     self.combined_output_projection (Linear Layer with no bias), called W_{u}.\n",
        "        ###     self.target_vocab_projection (Linear Layer with no bias), called W_{vocab}.\n",
        "        ###     self.dropout (Dropout Layer)\n",
        "        ###\n",
        "        ### Use the following docs to properly initialize these variables:\n",
        "        ###     LSTM:\n",
        "        ###         https://pytorch.org/docs/stable/nn.html#torch.nn.LSTM\n",
        "        ###     LSTM Cell:\n",
        "        ###         https://pytorch.org/docs/stable/nn.html#torch.nn.LSTMCell\n",
        "        ###     Linear Layer:\n",
        "        ###         https://pytorch.org/docs/stable/nn.html#torch.nn.Linear\n",
        "        ###     Dropout Layer:\n",
        "        ###         https://pytorch.org/docs/stable/nn.html#torch.nn.Dropout\n",
        "        ###     Conv1D Layer:\n",
        "        ###         https://pytorch.org/docs/stable/generated/torch.nn.Conv1d.html\n",
        "\n",
        "\n",
        "        ### END YOUR CODE\n",
        "\n",
        "    def forward(self, source: List[List[str]], target: List[List[str]]) -> torch.Tensor:\n",
        "        \"\"\" Take a mini-batch of source and target sentences, compute the log-likelihood of\n",
        "        target sentences under the language models learned by the NMT system.\n",
        "\n",
        "        @param source (List[List[str]]): list of source sentence tokens\n",
        "        @param target (List[List[str]]): list of target sentence tokens, wrapped by `<s>` and `</s>`\n",
        "\n",
        "        @returns scores (Tensor): a variable/tensor of shape (b, ) representing the\n",
        "                                    log-likelihood of generating the gold-standard target sentence for\n",
        "                                    each example in the input batch. Here b = batch size.\n",
        "        \"\"\"\n",
        "        # Compute sentence lengths\n",
        "        # source_lengths = [len(s) for s in source]\n",
        "        source_lengths = [len(s) if len(s) <= args.max_len else args.max_len for s in source]\n",
        "\n",
        "        # Convert list of lists into tensors\n",
        "        source_padded = self.vocab.src.to_input_tensor(source, device=self.device)  # Tensor: (src_len, b)\n",
        "        target_padded = self.vocab.tgt.to_input_tensor(target, device=self.device)  # Tensor: (tgt_len, b)\n",
        "\n",
        "        ###     Run the network forward:\n",
        "        ###     1. Apply the encoder to `source_padded` by calling `self.encode()`\n",
        "        ###     2. Generate sentence masks for `source_padded` by calling `self.generate_sent_masks()`\n",
        "        ###     3. Apply the decoder to compute combined-output by calling `self.decode()`\n",
        "        ###     4. Compute log probability distribution over the target vocabulary using the\n",
        "        ###        combined_outputs returned by the `self.decode()` function.\n",
        "\n",
        "        enc_hiddens, dec_init_state = self.encode(source_padded, source_lengths)\n",
        "        enc_masks = self.generate_sent_masks(enc_hiddens, source_lengths)\n",
        "        combined_outputs = self.decode(enc_hiddens, enc_masks, dec_init_state, target_padded)\n",
        "        P = F.log_softmax(self.target_vocab_projection(combined_outputs), dim=-1)\n",
        "\n",
        "        # Zero out, probabilities for which we have nothing in the target text\n",
        "        target_masks = (target_padded != self.vocab.tgt['<pad>']).float()\n",
        "\n",
        "        # Compute log probability of generating true target words\n",
        "        target_gold_words_log_prob = torch.gather(P, index=target_padded[1:].unsqueeze(-1), dim=-1).squeeze(\n",
        "            -1) * target_masks[1:]\n",
        "        scores = target_gold_words_log_prob.sum(dim=0)\n",
        "        return scores\n",
        "\n",
        "    def encode(self, source_padded: torch.Tensor, source_lengths: List[int]) -> Tuple[\n",
        "        torch.Tensor, Tuple[torch.Tensor, torch.Tensor]]:\n",
        "        \"\"\" Apply the encoder to source sentences to obtain encoder hidden states.\n",
        "            Additionally, take the final states of the encoder and project them to obtain initial states for decoder.\n",
        "\n",
        "        @param source_padded (Tensor): Tensor of padded source sentences with shape (src_len, b), where\n",
        "                                        b = batch_size, src_len = maximum source sentence length. Note that\n",
        "                                       these have already been sorted in order of longest to shortest sentence.\n",
        "        @param source_lengths (List[int]): List of actual lengths for each of the source sentences in the batch\n",
        "        @returns enc_hiddens (Tensor): Tensor of hidden units with shape (b, src_len, h*2), where\n",
        "                                        b = batch size, src_len = maximum source sentence length, h = hidden size.\n",
        "        @returns dec_init_state (tuple(Tensor, Tensor)): Tuple of tensors representing the decoder's initial\n",
        "                                                hidden state and cell. Both tensors should have shape (2, b, h).\n",
        "        \"\"\"\n",
        "        enc_hiddens, dec_init_state = None, None\n",
        "\n",
        "        ### YOUR CODE HERE (~ 11 Lines)\n",
        "        ### TODO:\n",
        "        ###     1. Construct Tensor `X` of source sentences with shape (src_len, b, e) using the source model embeddings.\n",
        "        ###         src_len = maximum source sentence length, b = batch size, e = embedding size. Note\n",
        "        ###         that there is no initial hidden state or cell for the encoder.\n",
        "        ###     2. Apply the post_embed_cnn layer. Before feeding X into the CNN, first use torch.permute to change the\n",
        "        ###         shape of X to (b, e, src_len). After getting the output from the CNN, still stored in the X variable,\n",
        "        ###         remember to use torch.permute again to revert X back to its original shape.\n",
        "        ###     3. Compute `enc_hiddens`, `last_hidden`, `last_cell` by applying the encoder to `X`.\n",
        "        ###         - Before you can apply the encoder, you need to apply the `pack_padded_sequence` function to X.\n",
        "        ###         - After you apply the encoder, you need to apply the `pad_packed_sequence` function to enc_hiddens.\n",
        "        ###         - Note that the shape of the tensor output returned by the encoder RNN is (src_len, b, h*2) and we want to\n",
        "        ###           return a tensor of shape (b, src_len, h*2) as `enc_hiddens`, so you may need to do more permuting.\n",
        "        ###         - Note on using pad_packed_sequence -> For batched inputs, you need to make sure that each of the\n",
        "        ###           individual input examples has the same shape.\n",
        "        ###     4. Compute `dec_init_state` = (init_decoder_hidden, init_decoder_cell):\n",
        "        ###         - `init_decoder_hidden`:\n",
        "        ###             `last_hidden` is a tensor shape (2, b, h). The first dimension corresponds to forwards and backwards.\n",
        "        ###             Concatenate the forwards and backwards tensors to obtain a tensor shape (b, 2*h).\n",
        "        ###             Apply the h_projection layer to this in order to compute init_decoder_hidden.\n",
        "        ###             This is h_0^{dec} in the PDF. Here b = batch size, h = hidden size\n",
        "        ###         - `init_decoder_cell`:\n",
        "        ###             `last_cell` is a tensor shape (2, b, h). The first dimension corresponds to forwards and backwards.\n",
        "        ###             Concatenate the forwards and backwards tensors to obtain a tensor shape (b, 2*h).\n",
        "        ###             Apply the c_projection layer to this in order to compute init_decoder_cell.\n",
        "        ###             This is c_0^{dec} in the PDF. Here b = batch size, h = hidden size\n",
        "        ###\n",
        "        ### See the following docs, as you may need to use some of the following functions in your implementation:\n",
        "        ###     Pack the padded sequence X before passing to the encoder:\n",
        "        ###         https://pytorch.org/docs/stable/generated/torch.nn.utils.rnn.pack_padded_sequence.html\n",
        "        ###     Pad the packed sequence, enc_hiddens, returned by the encoder:\n",
        "        ###         https://pytorch.org/docs/stable/generated/torch.nn.utils.rnn.pad_packed_sequence.html\n",
        "        ###     Tensor Concatenation:\n",
        "        ###         https://pytorch.org/docs/stable/generated/torch.cat.html\n",
        "        ###     Tensor Permute:\n",
        "        ###         https://pytorch.org/docs/stable/generated/torch.permute.html\n",
        "        ###     Tensor Reshape (a possible alternative to permute):\n",
        "        ###         https://pytorch.org/docs/stable/generated/torch.Tensor.reshape.html\n",
        "\n",
        "\n",
        "        ### END YOUR CODE\n",
        "\n",
        "        return enc_hiddens, dec_init_state\n",
        "\n",
        "    def decode(self, enc_hiddens: torch.Tensor, enc_masks: torch.Tensor,\n",
        "               dec_init_state: Tuple[torch.Tensor, torch.Tensor], target_padded: torch.Tensor) -> torch.Tensor:\n",
        "        \"\"\"Compute combined output vectors for a batch.\n",
        "\n",
        "        @param enc_hiddens (Tensor): Hidden states (b, src_len, h*2), where\n",
        "                                     b = batch size, src_len = maximum source sentence length, h = hidden size.\n",
        "        @param enc_masks (Tensor): Tensor of sentence masks (b, src_len), where\n",
        "                                     b = batch size, src_len = maximum source sentence length.\n",
        "        @param dec_init_state (tuple(Tensor, Tensor)): Initial state and cell for decoder\n",
        "        @param target_padded (Tensor): Gold-standard padded target sentences (tgt_len, b), where\n",
        "                                       tgt_len = maximum target sentence length, b = batch size.\n",
        "\n",
        "        @returns combined_outputs (Tensor): combined output tensor  (tgt_len, b,  h), where\n",
        "                                        tgt_len = maximum target sentence length, b = batch_size,  h = hidden size\n",
        "        \"\"\"\n",
        "        # Chop off the <END> token for max length sentences.\n",
        "        target_padded = target_padded[:-1]\n",
        "\n",
        "        # Initialize the decoder state (hidden and cell)\n",
        "        dec_state = dec_init_state\n",
        "\n",
        "        # Initialize previous combined output vector o_{t-1} as zero\n",
        "        batch_size = enc_hiddens.size(0)\n",
        "        o_prev = torch.zeros(batch_size, self.hidden_size, device=self.device)\n",
        "\n",
        "        # Initialize a list we will use to collect the combined output o_t on each step\n",
        "        combined_outputs = []\n",
        "\n",
        "        ### YOUR CODE HERE (~9 Lines)\n",
        "        ### TODO:\n",
        "        ###     1. Apply the attention projection layer to `enc_hiddens` to obtain `enc_hiddens_proj`,\n",
        "        ###         which should be shape (b, src_len, h),\n",
        "        ###         where b = batch size, src_len = maximum source length, h = hidden size.\n",
        "        ###         This is applying W_{attProj} to h^enc, as described in the PDF.\n",
        "        ###     2. Construct tensor `Y` of target sentences with shape (tgt_len, b, e) using the target model embeddings.\n",
        "        ###         where tgt_len = maximum target sentence length, b = batch size, e = embedding size.\n",
        "        ###     3. Use the torch.split function to iterate over the time dimension of Y.\n",
        "        ###         Within the loop, this will give you Y_t of shape (1, b, e) where b = batch size, e = embedding size.\n",
        "        ###             - Squeeze Y_t into a tensor of dimension (b, e).\n",
        "        ###             - Construct Ybar_t by concatenating Y_t with o_prev on their last dimension\n",
        "        ###             - Use the step function to compute the the Decoder's next (cell, state) values\n",
        "        ###               as well as the new combined output o_t.\n",
        "        ###             - Append o_t to combined_outputs\n",
        "        ###             - Update o_prev to the new o_t.\n",
        "        ###     4. Use torch.stack to convert combined_outputs from a list length tgt_len of\n",
        "        ###         tensors shape (b, h), to a single tensor shape (tgt_len, b, h)\n",
        "        ###         where tgt_len = maximum target sentence length, b = batch size, h = hidden size.\n",
        "        ###\n",
        "        ### Note:\n",
        "        ###    - When using the squeeze() function make sure to specify the dimension you want to squeeze\n",
        "        ###      over. Otherwise, you will remove the batch dimension accidentally, if batch_size = 1.\n",
        "        ###\n",
        "        ### You may find some of these functions useful:\n",
        "        ###     Zeros Tensor:\n",
        "        ###         https://pytorch.org/docs/stable/torch.html#torch.zeros\n",
        "        ###     Tensor Splitting (iteration):\n",
        "        ###         https://pytorch.org/docs/stable/torch.html#torch.split\n",
        "        ###     Tensor Dimension Squeezing:\n",
        "        ###         https://pytorch.org/docs/stable/torch.html#torch.squeeze\n",
        "        ###     Tensor Concatenation:\n",
        "        ###         https://pytorch.org/docs/stable/torch.html#torch.cat\n",
        "        ###     Tensor Stacking:\n",
        "        ###         https://pytorch.org/docs/stable/torch.html#torch.stack\n",
        "\n",
        "\n",
        "        ### END YOUR CODE\n",
        "\n",
        "        return combined_outputs\n",
        "\n",
        "    def step(self, Ybar_t: torch.Tensor,\n",
        "             dec_state: Tuple[torch.Tensor, torch.Tensor],\n",
        "             enc_hiddens: torch.Tensor,\n",
        "             enc_hiddens_proj: torch.Tensor,\n",
        "             enc_masks: torch.Tensor) -> Tuple[Tuple, torch.Tensor, torch.Tensor]:\n",
        "        \"\"\" Compute one forward step of the LSTM decoder, including the attention computation.\n",
        "\n",
        "        @param Ybar_t (Tensor): Concatenated Tensor of [Y_t o_prev], with shape (b, e + h). The input for the decoder,\n",
        "                                where b = batch size, e = embedding size, h = hidden size.\n",
        "        @param dec_state (tuple(Tensor, Tensor)): Tuple of tensors both with shape (b, h), where b = batch size, h = hidden size.\n",
        "                First tensor is decoder's prev hidden state, second tensor is decoder's prev cell.\n",
        "        @param enc_hiddens (Tensor): Encoder hidden states Tensor, with shape (b, src_len, h * 2), where b = batch size,\n",
        "                                    src_len = maximum source length, h = hidden size.\n",
        "        @param enc_hiddens_proj (Tensor): Encoder hidden states Tensor, projected from (h * 2) to h. Tensor is with shape (b, src_len, h),\n",
        "                                    where b = batch size, src_len = maximum source length, h = hidden size.\n",
        "        @param enc_masks (Tensor): Tensor of sentence masks shape (b, src_len),\n",
        "                                    where b = batch size, src_len is maximum source length.\n",
        "\n",
        "        @returns dec_state (tuple (Tensor, Tensor)): Tuple of tensors both shape (b, h), where b = batch size, h = hidden size.\n",
        "                First tensor is decoder's new hidden state, second tensor is decoder's new cell.\n",
        "        @returns combined_output (Tensor): Combined output Tensor at timestep t, shape (b, h), where b = batch size, h = hidden size.\n",
        "        @returns e_t (Tensor): Tensor of shape (b, src_len). It is attention scores distribution.\n",
        "                                Note: You will not use this outside of this function.\n",
        "                                      We are simply returning this value so that we can sanity check\n",
        "                                      your implementation.\n",
        "        \"\"\"\n",
        "\n",
        "        combined_output = None\n",
        "\n",
        "        ### YOUR CODE HERE (~3 Lines)\n",
        "        ### TODO:\n",
        "        ###     1. Apply the decoder to `Ybar_t` and `dec_state`to obtain the new dec_state.\n",
        "        ###     2. Split dec_state into its two parts (dec_hidden, dec_cell)\n",
        "        ###     3. Compute the attention scores e_t, a Tensor shape (b, src_len).\n",
        "        ###        Note: b = batch_size, src_len = maximum source length, h = hidden size.\n",
        "        ###\n",
        "        ###       Hints:\n",
        "        ###         - dec_hidden is shape (b, h) and corresponds to h^dec_t in the PDF (batched)\n",
        "        ###         - enc_hiddens_proj is shape (b, src_len, h) and corresponds to W_{attProj} h^enc (batched).\n",
        "        ###         - Use batched matrix multiplication (torch.bmm) to compute e_t (be careful about the input/ output shapes!)\n",
        "        ###         - To get the tensors into the right shapes for bmm, you will need to do some squeezing and unsqueezing.\n",
        "        ###         - When using the squeeze() function make sure to specify the dimension you want to squeeze\n",
        "        ###             over. Otherwise, you will remove the batch dimension accidentally, if batch_size = 1.\n",
        "        ###\n",
        "        ### Use the following docs to implement this functionality:\n",
        "        ###     Batch Multiplication:\n",
        "        ###        https://pytorch.org/docs/stable/torch.html#torch.bmm\n",
        "        ###     Tensor Unsqueeze:\n",
        "        ###         https://pytorch.org/docs/stable/torch.html#torch.unsqueeze\n",
        "        ###     Tensor Squeeze:\n",
        "        ###         https://pytorch.org/docs/stable/torch.html#torch.squeeze\n",
        "\n",
        "\n",
        "        ### END YOUR CODE\n",
        "\n",
        "        # Set e_t to -inf where enc_masks has 1\n",
        "        if enc_masks is not None:\n",
        "            e_t.data.masked_fill_(enc_masks.bool(), -float('inf'))\n",
        "\n",
        "        ### YOUR CODE HERE (~6 Lines)\n",
        "        ### TODO:\n",
        "        ###     1. Apply softmax to e_t to yield alpha_t\n",
        "        ###     2. Use batched matrix multiplication between alpha_t and enc_hiddens to obtain the\n",
        "        ###         attention output vector, a_t.\n",
        "        # $$     Hints:\n",
        "        ###           - alpha_t is shape (b, src_len)\n",
        "        ###           - enc_hiddens is shape (b, src_len, 2h)\n",
        "        ###           - a_t should be shape (b, 2h)\n",
        "        ###           - You will need to do some squeezing and unsqueezing.\n",
        "        ###     Note: b = batch size, src_len = maximum source length, h = hidden size.\n",
        "        ###\n",
        "        ###     3. Concatenate dec_hidden with a_t to compute tensor U_t\n",
        "        ###     4. Apply the combined output projection layer to U_t to compute tensor V_t\n",
        "        ###     5. Compute tensor O_t by first applying the Tanh function and then the dropout layer.\n",
        "        ###\n",
        "        ### Use the following docs to implement this functionality:\n",
        "        ###     Softmax:\n",
        "        ###         https://pytorch.org/docs/stable/nn.functional.html#torch.nn.functional.softmax\n",
        "        ###     Batch Multiplication:\n",
        "        ###        https://pytorch.org/docs/stable/torch.html#torch.bmm\n",
        "        ###     Tensor View:\n",
        "        ###         https://pytorch.org/docs/stable/tensors.html#torch.Tensor.view\n",
        "        ###     Tensor Concatenation:\n",
        "        ###         https://pytorch.org/docs/stable/torch.html#torch.cat\n",
        "        ###     Tanh:\n",
        "        ###         https://pytorch.org/docs/stable/torch.html#torch.tanh\n",
        "\n",
        "\n",
        "        ### END YOUR CODE\n",
        "\n",
        "        combined_output = O_t\n",
        "        return dec_state, combined_output, e_t\n",
        "\n",
        "    def generate_sent_masks(self, enc_hiddens: torch.Tensor, source_lengths: List[int]) -> torch.Tensor:\n",
        "        \"\"\" Generate sentence masks for encoder hidden states.\n",
        "\n",
        "        @param enc_hiddens (Tensor): encodings of shape (b, src_len, 2*h), where b = batch size,\n",
        "                                     src_len = max source length, h = hidden size.\n",
        "        @param source_lengths (List[int]): List of actual lengths for each of the sentences in the batch.\n",
        "\n",
        "        @returns enc_masks (Tensor): Tensor of sentence masks of shape (b, src_len),\n",
        "                                    where src_len = max source length, h = hidden size.\n",
        "        \"\"\"\n",
        "        enc_masks = torch.zeros(enc_hiddens.size(0), enc_hiddens.size(1), dtype=torch.float)\n",
        "        for e_id, src_len in enumerate(source_lengths):\n",
        "            enc_masks[e_id, src_len:] = 1\n",
        "        return enc_masks.to(self.device)\n",
        "\n",
        "    def beam_search(self, src_sent: List[str], beam_size: int = 5, max_decoding_time_step: int = 70) -> List[\n",
        "        Hypothesis]:\n",
        "        \"\"\" Given a single source sentence, perform beam search, yielding translations in the target language.\n",
        "        @param src_sent (List[str]): a single source sentence (words)\n",
        "        @param beam_size (int): beam size\n",
        "        @param max_decoding_time_step (int): maximum number of time steps to unroll the decoding RNN\n",
        "        @returns hypotheses (List[Hypothesis]): a list of hypothesis, each hypothesis has two fields:\n",
        "                value: List[str]: the decoded target sentence, represented as a list of words\n",
        "                score: float: the log-likelihood of the target sentence\n",
        "        \"\"\"\n",
        "        src_sents_var = self.vocab.src.to_input_tensor([src_sent], self.device)\n",
        "\n",
        "        src_encodings, dec_init_vec = self.encode(src_sents_var, [len(src_sent)])\n",
        "        src_encodings_att_linear = self.att_projection(src_encodings)\n",
        "\n",
        "        h_tm1 = dec_init_vec\n",
        "        att_tm1 = torch.zeros(1, self.hidden_size, device=self.device)\n",
        "\n",
        "        eos_id = self.vocab.tgt['</s>']\n",
        "\n",
        "        hypotheses = [['<s>']]\n",
        "        hyp_scores = torch.zeros(len(hypotheses), dtype=torch.float, device=self.device)\n",
        "        completed_hypotheses = []\n",
        "\n",
        "        t = 0\n",
        "        while len(completed_hypotheses) < beam_size and t < max_decoding_time_step:\n",
        "            t += 1\n",
        "            hyp_num = len(hypotheses)\n",
        "\n",
        "            exp_src_encodings = src_encodings.expand(hyp_num,\n",
        "                                                     src_encodings.size(1),\n",
        "                                                     src_encodings.size(2))\n",
        "\n",
        "            exp_src_encodings_att_linear = src_encodings_att_linear.expand(hyp_num,\n",
        "                                                                           src_encodings_att_linear.size(1),\n",
        "                                                                           src_encodings_att_linear.size(2))\n",
        "\n",
        "            y_tm1 = torch.tensor([self.vocab.tgt[hyp[-1]] for hyp in hypotheses], dtype=torch.long, device=self.device)\n",
        "            y_t_embed = self.model_embeddings.target(y_tm1)\n",
        "\n",
        "            x = torch.cat([y_t_embed, att_tm1], dim=-1)\n",
        "\n",
        "            (h_t, cell_t), att_t, _ = self.step(x, h_tm1,\n",
        "                                                exp_src_encodings, exp_src_encodings_att_linear, enc_masks=None)\n",
        "\n",
        "            # log probabilities over target words\n",
        "            log_p_t = F.log_softmax(self.target_vocab_projection(att_t), dim=-1)\n",
        "\n",
        "            live_hyp_num = beam_size - len(completed_hypotheses)\n",
        "            contiuating_hyp_scores = (hyp_scores.unsqueeze(1).expand_as(log_p_t) + log_p_t).view(-1)\n",
        "            top_cand_hyp_scores, top_cand_hyp_pos = torch.topk(contiuating_hyp_scores, k=live_hyp_num)\n",
        "\n",
        "            prev_hyp_ids = torch.div(top_cand_hyp_pos, len(self.vocab.tgt), rounding_mode='floor')\n",
        "            hyp_word_ids = top_cand_hyp_pos % len(self.vocab.tgt)\n",
        "\n",
        "            new_hypotheses = []\n",
        "            live_hyp_ids = []\n",
        "            new_hyp_scores = []\n",
        "\n",
        "            for prev_hyp_id, hyp_word_id, cand_new_hyp_score in zip(prev_hyp_ids, hyp_word_ids, top_cand_hyp_scores):\n",
        "                prev_hyp_id = prev_hyp_id.item()\n",
        "                hyp_word_id = hyp_word_id.item()\n",
        "                cand_new_hyp_score = cand_new_hyp_score.item()\n",
        "\n",
        "                hyp_word = self.vocab.tgt.id2word[hyp_word_id]\n",
        "                new_hyp_sent = hypotheses[prev_hyp_id] + [hyp_word]\n",
        "                if hyp_word == '</s>':\n",
        "                    completed_hypotheses.append(Hypothesis(value=new_hyp_sent[1:-1],\n",
        "                                                           score=cand_new_hyp_score))\n",
        "                else:\n",
        "                    new_hypotheses.append(new_hyp_sent)\n",
        "                    live_hyp_ids.append(prev_hyp_id)\n",
        "                    new_hyp_scores.append(cand_new_hyp_score)\n",
        "\n",
        "            if len(completed_hypotheses) == beam_size:\n",
        "                break\n",
        "\n",
        "            live_hyp_ids = torch.tensor(live_hyp_ids, dtype=torch.long, device=self.device)\n",
        "            h_tm1 = (h_t[live_hyp_ids], cell_t[live_hyp_ids])\n",
        "            att_tm1 = att_t[live_hyp_ids]\n",
        "\n",
        "            hypotheses = new_hypotheses\n",
        "            hyp_scores = torch.tensor(new_hyp_scores, dtype=torch.float, device=self.device)\n",
        "\n",
        "        if len(completed_hypotheses) == 0:\n",
        "            completed_hypotheses.append(Hypothesis(value=hypotheses[0][1:],\n",
        "                                                   score=hyp_scores[0].item()))\n",
        "\n",
        "        completed_hypotheses.sort(key=lambda hyp: hyp.score, reverse=True)\n",
        "\n",
        "        return completed_hypotheses\n",
        "\n",
        "    @property\n",
        "    def device(self) -> torch.device:\n",
        "        \"\"\" Determine which device to place the Tensors upon, CPU or GPU.\n",
        "        \"\"\"\n",
        "        return self.model_embeddings.source.weight.device\n",
        "\n",
        "    @staticmethod\n",
        "    def load(model_path: str):\n",
        "        \"\"\" Load the model from a file.\n",
        "        @param model_path (str): path to model\n",
        "        \"\"\"\n",
        "        params = torch.load(model_path, map_location=lambda storage, loc: storage)\n",
        "        args = params['args']\n",
        "        model = NMT(vocab=params['vocab'], **args)\n",
        "        model.load_state_dict(params['state_dict'])\n",
        "\n",
        "        return model\n",
        "\n",
        "    def save(self, path: str):\n",
        "        \"\"\" Save the odel to a file.\n",
        "        @param path (str): path to the model\n",
        "        \"\"\"\n",
        "        print('save model parameters to [%s]' % path, file=sys.stderr)\n",
        "\n",
        "        params = {\n",
        "            'args': dict(embed_size=self.model_embeddings.embed_size, hidden_size=self.hidden_size,\n",
        "                         dropout_rate=self.dropout_rate),\n",
        "            'vocab': self.vocab,\n",
        "            'state_dict': self.state_dict()\n",
        "        }\n",
        "\n",
        "        torch.save(params, path)"
      ]
    },
    {
      "cell_type": "markdown",
      "metadata": {
        "id": "ViJAE00fMKw7"
      },
      "source": [
        "Now it’s time to get things running!"
      ]
    },
    {
      "cell_type": "markdown",
      "metadata": {
        "id": "aJjqKeVjNdJt"
      },
      "source": [
        "## Evaluating function\n"
      ]
    },
    {
      "cell_type": "code",
      "execution_count": null,
      "metadata": {
        "id": "80dkhcV5lT91"
      },
      "outputs": [],
      "source": [
        "def evaluate_ppl(model, dev_data, batch_size=32):\n",
        "    \"\"\" Evaluate perplexity on dev sentences\n",
        "    @param model (NMT): NMT Model\n",
        "    @param dev_data (list of (src_sent, tgt_sent)): list of tuples containing source and target sentence\n",
        "    @param batch_size (batch size)\n",
        "    @returns ppl (perplixty on dev sentences)\n",
        "    \"\"\"\n",
        "    was_training = model.training\n",
        "    model.eval()\n",
        "\n",
        "    cum_loss = 0.\n",
        "    cum_tgt_words = 0.\n",
        "\n",
        "    # no_grad() signals backend to throw away all gradients\n",
        "    with torch.no_grad():\n",
        "        for src_sents, tgt_sents in batch_iter(dev_data, batch_size):\n",
        "            loss = -model(src_sents, tgt_sents).sum()\n",
        "\n",
        "            cum_loss += loss.item()\n",
        "            tgt_word_num_to_predict = sum(len(s[1:]) for s in tgt_sents)  # omitting leading `<s>`\n",
        "            cum_tgt_words += tgt_word_num_to_predict\n",
        "\n",
        "        ppl = np.exp(cum_loss / cum_tgt_words)\n",
        "\n",
        "    if was_training:\n",
        "        model.train()\n",
        "\n",
        "    return ppl\n",
        "\n",
        "def compute_corpus_level_bleu_score(references: List[List[str]], hypotheses: List[Hypothesis]) -> float:\n",
        "    \"\"\" Given decoding results and reference sentences, compute corpus-level BLEU score.\n",
        "    @param references (List[List[str]]): a list of gold-standard reference target sentences\n",
        "    @param hypotheses (List[Hypothesis]): a list of hypotheses, one for each reference\n",
        "    @returns bleu_score: corpus-level BLEU score\n",
        "    \"\"\"\n",
        "    # remove the start and end tokens\n",
        "    if references[0][0] == '<s>':\n",
        "        references = [ref[1:-1] for ref in references]\n",
        "\n",
        "    # detokenize the subword pieces to get full sentences\n",
        "    detokened_refs = [''.join(pieces).replace('▁', ' ') for pieces in references]\n",
        "    detokened_hyps = [''.join(hyp.value).replace('▁', ' ') for hyp in hypotheses]\n",
        "\n",
        "    # sacreBLEU can take multiple references (golden example per sentence) but we only feed it one\n",
        "    bleu = sacrebleu.corpus_bleu(detokened_hyps, [detokened_refs])\n",
        "\n",
        "    return bleu.score, detokened_refs, detokened_hyps"
      ]
    },
    {
      "cell_type": "markdown",
      "metadata": {
        "id": "YM4LMEmT62FL"
      },
      "source": [
        "## Training the model"
      ]
    },
    {
      "cell_type": "code",
      "execution_count": null,
      "metadata": {
        "colab": {
          "base_uri": "https://localhost:8080/"
        },
        "id": "etmZ3f8Ei1vG",
        "outputId": "2c4f9a23-a4a4-4c5d-d8c6-eca3d62c7d35"
      },
      "outputs": [
        {
          "name": "stderr",
          "output_type": "stream",
          "text": [
            "uniformly initialize parameters [-0.100000, +0.100000]\n"
          ]
        }
      ],
      "source": [
        "# Initialize our model and optimizer\n",
        "model = NMT(embed_size=args.embed_size,\n",
        "            hidden_size=args.hidden_size,\n",
        "            dropout_rate=float(args.dropout),\n",
        "            vocab=vocab)\n",
        "model.train()\n",
        "\n",
        "uniform_init = float(args.uniform_init)\n",
        "if np.abs(uniform_init) > 0.:\n",
        "    print('uniformly initialize parameters [-%f, +%f]' % (uniform_init, uniform_init), file=sys.stderr)\n",
        "    for p in model.parameters():\n",
        "        p.data.uniform_(-uniform_init, uniform_init)\n",
        "\n",
        "model = model.to(device)\n",
        "optimizer = torch.optim.Adam(model.parameters(), lr=float(args.lr))"
      ]
    },
    {
      "cell_type": "markdown",
      "metadata": {
        "id": "gHL9PVKB7iQa"
      },
      "source": [
        "We wil first train our model on a small training set of 50 samples and evaluate it on a small dev set of 50 samples."
      ]
    },
    {
      "cell_type": "code",
      "execution_count": null,
      "metadata": {
        "id": "UBinbqo068vb"
      },
      "outputs": [],
      "source": [
        "max_train = 50\n",
        "\n",
        "train_data_small = [val for val in train_data if len(val[0]) > 3][:max_train]\n",
        "dev_data_small = [val for val in dev_data if len(val[0]) > 3][:max_train]"
      ]
    },
    {
      "cell_type": "code",
      "execution_count": null,
      "metadata": {
        "id": "rFp33trgjLpP"
      },
      "outputs": [],
      "source": [
        "num_trial = 0\n",
        "train_iter = patience = cum_loss = report_loss = cum_tgt_words = report_tgt_words = 0\n",
        "cum_examples = report_examples = epoch = valid_num = 0\n",
        "hist_valid_scores = []\n",
        "train_time = begin_time = time.time()\n",
        "print('begin Maximum Likelihood training')\n",
        "\n",
        "for epoch in range(args.max_epoch):\n",
        "    for src_sents, tgt_sents in batch_iter(train_data_small, batch_size=args.batch_size, shuffle=True):\n",
        "        train_iter += 1\n",
        "\n",
        "        optimizer.zero_grad()\n",
        "\n",
        "        batch_size = len(src_sents)\n",
        "\n",
        "        example_losses = -model(src_sents, tgt_sents) # (batch_size,)\n",
        "        batch_loss = example_losses.sum()\n",
        "        loss = batch_loss / batch_size\n",
        "\n",
        "        loss.backward()\n",
        "\n",
        "        # clip gradient\n",
        "        grad_norm = torch.nn.utils.clip_grad_norm_(model.parameters(), args.clip_grad)\n",
        "\n",
        "        optimizer.step()\n",
        "\n",
        "        batch_losses_val = batch_loss.item()\n",
        "        report_loss += batch_losses_val\n",
        "        cum_loss += batch_losses_val\n",
        "\n",
        "        tgt_words_num_to_predict = sum(len(s[1:]) for s in tgt_sents)  # omitting leading `<s>`\n",
        "        report_tgt_words += tgt_words_num_to_predict\n",
        "        cum_tgt_words += tgt_words_num_to_predict\n",
        "        report_examples += batch_size\n",
        "        cum_examples += batch_size\n",
        "\n",
        "        if train_iter % args.log_every == 0:\n",
        "            print('epoch %d, iter %d, avg. loss %.2f, avg. ppl %.2f ' \\\n",
        "                    'cum. examples %d, speed %.2f words/sec, time elapsed %.2f sec' % (epoch, train_iter,\n",
        "                                                                                        report_loss / report_examples,\n",
        "                                                                                        math.exp(report_loss / report_tgt_words),\n",
        "                                                                                        cum_examples,\n",
        "                                                                                        report_tgt_words / (time.time() - train_time),\n",
        "                                                                                        time.time() - begin_time), file=sys.stderr)\n",
        "\n",
        "            train_time = time.time()\n",
        "            report_loss = report_tgt_words = report_examples = 0.\n",
        "\n",
        "        # perform validation\n",
        "        if train_iter % args.valid_niter == 0:\n",
        "            print('epoch %d, iter %d, cum. loss %.2f, cum. ppl %.2f cum. examples %d' % (epoch, train_iter,\n",
        "                                                                                        cum_loss / cum_examples,\n",
        "                                                                                        np.exp(cum_loss / cum_tgt_words),\n",
        "                                                                                        cum_examples), file=sys.stderr)\n",
        "\n",
        "            cum_loss = cum_examples = cum_tgt_words = 0.\n",
        "            valid_num += 1\n",
        "\n",
        "            print('begin validation ...', file=sys.stderr)\n",
        "\n",
        "            # compute dev. ppl and bleu\n",
        "            dev_ppl = evaluate_ppl(model, dev_data, batch_size=128)   # dev batch size can be a bit larger\n",
        "            valid_metric = -dev_ppl\n",
        "\n",
        "            print('validation: iter %d, dev. ppl %f' % (train_iter, dev_ppl), file=sys.stderr)\n",
        "\n",
        "            is_better = len(hist_valid_scores) == 0 or valid_metric > max(hist_valid_scores)\n",
        "            hist_valid_scores.append(valid_metric)\n",
        "\n",
        "            if is_better:\n",
        "                patience = 0\n",
        "                print('save currently the best model to [%s]' % args.model_save_path, file=sys.stderr)\n",
        "                model.save(args.model_save_path)\n",
        "\n",
        "                # also save the optimizers' state\n",
        "                torch.save(optimizer.state_dict(), args.model_save_path + '.optim')\n",
        "            elif patience < int(args.patience):\n",
        "                patience += 1\n",
        "                print('hit patience %d' % patience, file=sys.stderr)\n",
        "\n",
        "                if patience == int(args.patience):\n",
        "                    num_trial += 1\n",
        "                    print('hit #%d trial' % num_trial, file=sys.stderr)\n",
        "                    if num_trial == int(args.max_num_trial):\n",
        "                        print('early stop!', file=sys.stderr)\n",
        "                        exit(0)\n",
        "\n",
        "                    # decay lr, and restore from previously best checkpoint\n",
        "                    lr = optimizer.param_groups[0]['lr'] * float(args.lr_decay)\n",
        "                    print('load previously best model and decay learning rate to %f' % lr, file=sys.stderr)\n",
        "\n",
        "                    # load model\n",
        "                    params = torch.load(args.model_save_path, map_location=lambda storage, loc: storage)\n",
        "                    model.load_state_dict(params['state_dict'])\n",
        "                    model = model.to(device)\n",
        "\n",
        "                    print('restore parameters of the optimizers', file=sys.stderr)\n",
        "                    optimizer.load_state_dict(torch.load(args.model_save_path + '.optim'))\n",
        "\n",
        "                    # set new lr\n",
        "                    for param_group in optimizer.param_groups:\n",
        "                        param_group['lr'] = lr\n",
        "\n",
        "                    # reset patience\n",
        "                    patience = 0"
      ]
    },
    {
      "cell_type": "markdown",
      "metadata": {
        "id": "p1kxo8fYNC_n"
      },
      "source": [
        "## Testing the model\n",
        "\n",
        "Beam search is an algorithm used in many NLP and speech recognition models as a final decision making layer to choose the best output given target variables like maximum probability or next output character. Beam size is usually 4-10. Increasing beam size is computationally inefficient and, potentially leads to worse quality. The figure is referenced from the blog [Sequence to Sequence (seq2seq) and Attention](https://lena-voita.github.io/nlp_course/seq2seq_and_attention.html).\n",
        "\n",
        "<img src=\"https://drive.google.com/uc?id=1rjVuANPjwTQi33beysq_LRNCxd6xhRHY\" width=\"800\" height=\"400\"/>\n",
        "\n",
        "The model uses `beam_search` function to yield the translations in the target language. `beam_search` will return a list of hypothesis for the translated sentences, each will have the value and the score for it, sorted in the descending order, so the first element in the Hypothesis is the best option for translated output by the model. The samples on training data should be very good with bleu score 100. The samples on validation data, however, probably won't make sense (because we're overfitting)."
      ]
    },
    {
      "cell_type": "code",
      "execution_count": null,
      "metadata": {
        "colab": {
          "base_uri": "https://localhost:8080/"
        },
        "id": "pI1zdeCMNBvp",
        "outputId": "06bd5945-0074-4f14-f011-5ce0f6297875"
      },
      "outputs": [
        {
          "name": "stdout",
          "output_type": "stream",
          "text": [
            "Sample 0:\n",
            "Bleu score: 100.00000000000004\n",
            "Reference: [' Rachel Pike : The science behind a climate headline']\n",
            "Hypotheses: [' Rachel Pike : The science behind a climate headline', ' Rachel Pike : The science behind a climate headline headline', ' P Pike : The science behind a climate headline', ' Rachel Pike : The science behind climate climate headline', 'ike Pike : The science behind a climate headline']\n",
            "\n",
            "\n",
            "Sample 1:\n",
            "Bleu score: 100.00000000000004\n",
            "Reference: [' In 4 minutes , atmospheric chemist Rachel Pike provides a glimpse of the massive scientific effort behind the bold headlines on climate change , with her team -- one of thousands who contributed -- taking a risky flight over the rainforest in pursuit of data on a key molecule .']\n",
            "Hypotheses: [' In 4 minutes , atmospheric chemist Rachel Pike provides a glimpse of the massive scientific effort behind the bold headlines on climate change , with her team -- one of thousands who contributed -- taking a risky flight over the rainforest in pursuit of data on a key molecule .', ' In 4 minutes , atmospheric chemist Rachel Pike provides a glimpse of the massive scientific effort behind the bold headlines on climate change , with her team -- one of thousands of contributed -- taking a risky flight over the rainforest in pursuit of data on a key molecule .', ' In 4 minutes , atmospheric chemist Rachel Pike provides a glimpse of the massive scientific effort behind the bold headlines on climate change , with her team -- one of thousands of risky flight over the rainforest in pursuit of data on a key molecule .', ' In 4 minutes , atmospheric chemist Rachel Pike provides a glimpse of the massive scientific effort behind the bold headlines on climate change , with her team -- one of thousands of the rainforest in pursuit of data on a key molecule .', ' In 4 minutes , atmospheric chemist Rachel Pike provides a glimpse of the massive scientific effort behind the bold headlines on a key molecule .']\n",
            "\n",
            "\n",
            "Sample 2:\n",
            "Bleu score: 100.00000000000004\n",
            "Reference: [' I &apos;d like to talk to you today about the scale of the scientific effort that goes into making the headlines you see in the paper .']\n",
            "Hypotheses: [' I &apos;d like to talk to you today about the scale of the scientific effort that goes into making the headlines you see in the paper .', ' I &apos;d like to talk to you today about the scale of the scientific effort that goes into making the headlines youmaking the paper .', ' I &apos;d to talk to you today about the scale of the scientific effort that goes into making the headlines you see in the paper .', ' I &apos;s like to talk to you today about the scale of the scientific effort that goes into making the headlines you see in the paper .', ' I &apos;d like to talk to you today .']\n",
            "\n",
            "\n",
            "Sample 3:\n",
            "Bleu score: 100.00000000000004\n",
            "Reference: [' Headlines that look like this when they have to do with climate change , and headlines that look like this when they have to do with air quality or smog .']\n",
            "Hypotheses: [' Headlines that look like this when they have to do with climate change , and headlines that look like this when they have to do with air quality or smog .', ' Headlines that look like this when they have to do with air change , and headlines that look like this when they have to do with air quality or smog .', ' Headlines that look like this when they have to do with climate change , and headlines that look like this when they have to look with air quality or smog .', ' Headlines that look like this when they have to do with climate change , and headlines that look like this when they have to do with climate quality or smog .', ' Headlines that look like this when they have to do with climate change , and headlines that look like this when they have to do with quality or smog .']\n",
            "\n",
            "\n",
            "Sample 4:\n",
            "Bleu score: 100.00000000000004\n",
            "Reference: [' They are both two branches of the same field of atmospheric science .']\n",
            "Hypotheses: [' They are both two branches of the same field of atmospheric science .', ' They are both two sames of the same field of atmospheric science .', ' They are both two branches of the same field of the atmospheric science .', ' They are two two branches of the same field of atmospheric science .', ' They are both two same branches of the same field of atmospheric science .']\n",
            "\n",
            "\n"
          ]
        }
      ],
      "source": [
        "# @title Testing on training set\n",
        "references = []\n",
        "hypotheses = []\n",
        "\n",
        "num_logs = 5\n",
        "if (num_logs > len(train_data_small)):\n",
        "  num_logs = len(train_data_small)\n",
        "\n",
        "for i in range(num_logs):\n",
        "  src, tgt = train_data_small[i]\n",
        "  references = [tgt]\n",
        "  hypotheses = model.beam_search(src)\n",
        "  bleu_score, detokened_refs, detokened_hyps = compute_corpus_level_bleu_score(references, hypotheses)\n",
        "  print(f\"Sample {i}:\")\n",
        "  print(\"Bleu score: \" + str(bleu_score))\n",
        "  print(\"Source: \" + str(src))\n",
        "  print(\"Reference: \" + str(detokened_refs))\n",
        "  print(\"Hypotheses: \" + str(detokened_hyps))\n",
        "  print('\\n')"
      ]
    },
    {
      "cell_type": "code",
      "execution_count": null,
      "metadata": {
        "colab": {
          "base_uri": "https://localhost:8080/"
        },
        "id": "FxyncmAebxPR",
        "outputId": "ebd1e336-5f4a-4315-f70e-c05bc6f7307c"
      },
      "outputs": [
        {
          "name": "stdout",
          "output_type": "stream",
          "text": [
            "Sample 0:\n",
            "Bleu score: 0.00592933030954805\n",
            "Reference: [' How can I speak in 10 minutes about the bonds of women over three generations , about how the astonishing strength of those bonds took hold in the life of a four-year-old girl huddled with her young sister , her mother and her grandmother for five days and nights in a small boat in the China Sea more than 30 years ago , bonds that took hold in the life of that small girl and never let go -- that small girl now living in San Francisco and speaking to you today ?']\n",
            "Hypotheses: [' So maybe you took a similar aircraft to get here today .', ' And 4 you took a similar aircraft to get here today .', ' So may you took a similar aircraft to get here today .', ' And may you took a similar aircraft to get here today .', ' So weight of this took to get here today .']\n",
            "\n",
            "\n",
            "Sample 1:\n",
            "Bleu score: 4.767707020457095\n",
            "Reference: [' This is not a finished story .']\n",
            "Hypotheses: [' And this plane , the inside of it .', ' And this plane , the models , which is what I happen to study .', ' And may one of this when the middle of the rainforest , and headlines .', ' And may one of this when the middle of the rainforest , and headlines that produce biofuels , with is what I happen to study .', ' And may one of this when the middle of the rainforest , and hung hundreds of thousands of dollars worth of scientific equip .']\n",
            "\n",
            "\n",
            "Sample 2:\n",
            "Bleu score: 5.61480827173619\n",
            "Reference: [' It is a jigsaw puzzle still being put together .']\n",
            "Hypotheses: [' It &apos;s a big community .', ' It &apos;s a flying of the middle of the rainforest , and hung hundreds of thousands of dollars worth .', ' It &apos;s a huge amount of the sames of the rainforest , and hung hundreds of thousands of dollars worth .', ' It &apos;s a huge amount of the middle of the rainforest , and headlines that look like this thing .', ' It &apos;s a flying of the middle of the rainforest , and hung hundreds of thousands of they have to do .']\n",
            "\n",
            "\n",
            "Sample 3:\n",
            "Bleu score: 2.719665272174911\n",
            "Reference: [' Let me tell you about some of the pieces .']\n",
            "Hypotheses: [' And as you students , in they have to do with climate change , and headlines .', ' And as you students , in they have to do with climate change , and we', ' And as you students , in the middle of the rainforest , and headlines .', ' And as you students , in the middle of the rainforest , and hung hundreds of thousands of dollars worth .', ' And as you students , in the middle of the rainforest , and hung hundreds of thousands who .']\n",
            "\n",
            "\n",
            "Sample 4:\n",
            "Bleu score: 14.025775160081475\n",
            "Reference: [' Imagine the first piece : a man burning his life &apos;s work .']\n",
            "Hypotheses: [' And out of that field campaign we &apos;s equal to the rainforest , and headlines .', ' And may you imagine , the inside of this aircraft doesn &apos;s on the subject .', ' And out of that field campaign we &apos;s , which is what I happen today .', ' And may you imagine , the inside of this aircraft doesn &apos;s on they of topics .', ' And may you imagine , the inside of this aircraft doesn &apos;s on the rainforest , and we hundreds of thousands of dollars worth .']\n",
            "\n",
            "\n"
          ]
        }
      ],
      "source": [
        "# @title Testing on evaluate set\n",
        "references = []\n",
        "hypotheses = []\n",
        "\n",
        "num_logs = 5\n",
        "if (num_logs > len(dev_data_small)):\n",
        "  num_logs = len(dev_data_small)\n",
        "\n",
        "for i in range(num_logs):\n",
        "  src, tgt = dev_data_small[i]\n",
        "  references = [tgt]\n",
        "  hypotheses = model.beam_search(src)\n",
        "  bleu_score, detokened_refs, detokened_hyps = compute_corpus_level_bleu_score(references, hypotheses)\n",
        "  print(f\"Sample {i}:\")\n",
        "  print(\"Bleu score: \" + str(bleu_score))\n",
        "  print(\"Reference: \" + str(detokened_refs))\n",
        "  print(\"Hypotheses: \" + str(detokened_hyps))\n",
        "  print('\\n')"
      ]
    },
    {
      "cell_type": "markdown",
      "metadata": {
        "id": "BsCdZ2dcjS-r"
      },
      "source": [
        "# The Seq2Seq Model 2: Transformer\n",
        "In this part, you will train a sequence-to-sequence Transformer model to translate Portuguese into English. The Transformer was originally proposed in \"Attention is all you need\" by Vaswani et al. (2017).\n",
        "\n",
        "<img src=\"https://www.tensorflow.org/images/tutorials/transformer/apply_the_transformer_to_machine_translation.gif\" alt=\"Applying the Transformer to machine translation\">\n",
        "\n",
        "Figure 2: Applying the Transformer to machine translation. Source: [Google AI Blog](https://ai.googleblog.com/2017/08/transformer-novel-neural-network.html)."
      ]
    },
    {
      "cell_type": "markdown",
      "metadata": {
        "id": "rBdNGGPSj4V3"
      },
      "source": [
        "A Transformer is a sequence-to-sequence encoder-decoder model similar to the model in the [NMT with attention tutorial](https://www.tensorflow.org/text/tutorials/nmt_with_attention).\n",
        "A single-layer Transformer takes a little more code to write, but is almost identical to that encoder-decoder RNN model. The only difference is that the RNN layers are replaced with self attention layers.\n",
        "\n",
        "<table>\n",
        "<tr>\n",
        "  <th>The <a href=https://www.tensorflow.org/text/tutorials/nmt_with_attention>RNN+Attention model</a></th>\n",
        "  <th>A 1-layer transformer</th>\n",
        "</tr>\n",
        "<tr>\n",
        "  <td>\n",
        "   <img width=411 src=\"https://www.tensorflow.org/images/tutorials/transformer/RNN+attention-words.png\"/>\n",
        "  </td>\n",
        "  <td>\n",
        "   <img width=400 src=\"https://www.tensorflow.org/images/tutorials/transformer/Transformer-1layer-words.png\"/>\n",
        "  </td>\n",
        "</tr>\n",
        "</table>"
      ]
    },
    {
      "cell_type": "markdown",
      "metadata": {
        "id": "-YagB7OYkE0i"
      },
      "source": [
        "### The Embedding and Positional Encoding Layer\n",
        "\n",
        "The inputs to both the encoder and decoder use the same embedding and positional encoding logic.\n",
        "\n",
        "<table>\n",
        "<tr>\n",
        "  <th colspan=1>The embedding and positional encoding layer</th>\n",
        "<tr>\n",
        "<tr>\n",
        "  <td>\n",
        "   <img src=\"https://www.tensorflow.org/images/tutorials/transformer/PositionalEmbedding.png\"/>\n",
        "  </td>\n",
        "</tr>\n",
        "</table>"
      ]
    },
    {
      "cell_type": "markdown",
      "metadata": {
        "id": "FhPl3LVekMWD"
      },
      "source": [
        "The formula for calculating the positional encoding (implemented in Python below) is as follows:\n",
        "\n",
        "$$\\Large{PE_{(pos, 2i)} = \\sin(pos / 10000^{2i / d_{model}})} $$\n",
        "$$\\Large{PE_{(pos, 2i+1)} = \\cos(pos / 10000^{2i / d_{model}})} $$"
      ]
    },
    {
      "cell_type": "markdown",
      "metadata": {
        "id": "ik3jYEAilHtB"
      },
      "source": [
        "## Q7: Transformer Embedding Layer (10 points)\n",
        "Implement `TransformerEmbedding` (consists of lookup embedding & positional encoding) for transformer model."
      ]
    },
    {
      "cell_type": "code",
      "execution_count": null,
      "metadata": {
        "id": "ljJYuvtlj6uc"
      },
      "outputs": [],
      "source": [
        "class TransformerEmbedding(nn.Module):\n",
        "    \"\"\"\n",
        "    Class that combines token embeddings with positional embeddings.\n",
        "    \"\"\"\n",
        "    def __init__(self, vocab_size, embedding_size, max_len, dropout_rate):\n",
        "        \"\"\"\n",
        "        Init the Transformer Embedding layer.\n",
        "\n",
        "        @param vocab_size (int): Vocabulary size (number of unique tokens)\n",
        "        @param embedding_size (int): Embedding size (dimensionality)\n",
        "        @param max_len (int): Maximum sequence length\n",
        "        @param dropout_rate (float): Dropout probability\n",
        "        \"\"\"\n",
        "        super().__init__()\n",
        "        # default values\n",
        "        self.embedding_size = embedding_size\n",
        "        self.token_embedding = None\n",
        "        self.dropout = None\n",
        "        pos_embedding = None\n",
        "\n",
        "        ### YOUR CODE HERE\n",
        "        ### TODO - Implement the positional embedding and Initialize the following variables :\n",
        "        ###     self.token_embedding (Embedding Layer)\n",
        "        ###     self.pos_embedding (Positional Embedding Layer), notes that pos_embedding is not learnable parameters,\n",
        "        ###         so we should use the self.register_buffer function to initialize it.\n",
        "        ###     self.dropout (Dropout Layer)\n",
        "        ###\n",
        "        ### Note:\n",
        "        ###     1. `vocab_size` represents the size of the vocabulary (number of unique tokens)\n",
        "        ###     2. `embedding_size` represents the size of each embedding vector\n",
        "        ###     3. `max_len` represents the maximum sequence length\n",
        "        ###     4. `dropout_rate` represents the dropout probability\n",
        "        ###\n",
        "        ### Use the following docs to properly initialize these variables:\n",
        "        ###     Embedding Layer:\n",
        "        ###         https://pytorch.org/docs/stable/nn.html#torch.nn.Embeddingl\n",
        "        ###     Dropout Layer:\n",
        "        ###         https://pytorch.org/docs/stable/nn.html#torch.nn.Dropout\n",
        "        ###\n",
        "\n",
        "\n",
        "        ### END YOUR CODE\n",
        "        self.register_buffer('pos_embedding', pos_embedding)\n",
        "\n",
        "    def forward(self, x):\n",
        "        \"\"\"\n",
        "        Maps input sequences of tokens to their embeddings.\n",
        "\n",
        "        @param x (Tensor): Input tensor of tokens with shape (seq_len, batch_size)\n",
        "\n",
        "        @returns embedded (Tensor): Tensor of token embeddings with shape (seq_len, batch_size, embedding_size)\n",
        "        \"\"\"\n",
        "        # Retrieve token embeddings\n",
        "        embedded_tokens =  ### YOUR CODE HERE (~1 Line) ###\n",
        "\n",
        "        # Retrieve positional embeddings for the appropriate segment of the input sequence\n",
        "        embedded_positions =  ### YOUR CODE HERE (~1 Line) ###\n",
        "\n",
        "        # Add token and positional embeddings together, apply dropout, and return\n",
        "        embedded =  ### YOUR CODE HERE (~1 Line) ###\n",
        "        return embedded"
      ]
    },
    {
      "cell_type": "markdown",
      "metadata": {
        "id": "g-8g-HtBlsRZ"
      },
      "source": [
        "## The Transformer model\n",
        "\n",
        "To be convinient, we will use `nn.Transformer` layer from PyTorch. We will build a 4-layer Transformer model.\n",
        "\n",
        "<table>\n",
        "<tr>\n",
        "  <th colspan=1>The original Transformer diagram</th>\n",
        "  <th colspan=1>A representation of a 4-layer Transformer</th>\n",
        "</tr>\n",
        "<tr>\n",
        "  <td>\n",
        "   <img width=400 src=\"https://www.tensorflow.org/images/tutorials/transformer/transformer.png\"/>\n",
        "  </td>\n",
        "  <td>\n",
        "   <img width=307 src=\"https://www.tensorflow.org/images/tutorials/transformer/Transformer-4layer-compact.png\"/>\n",
        "  </td>\n",
        "</tr>\n",
        "</table>"
      ]
    },
    {
      "cell_type": "markdown",
      "metadata": {
        "id": "TMOQpxvqODYB"
      },
      "source": [
        "## Q8-9 Transfomer NMT model"
      ]
    },
    {
      "cell_type": "markdown",
      "metadata": {
        "id": "NRncXVMqN6GS"
      },
      "source": [
        "### Q8: (5 points) Initialize layers in TransformerNMT model\n",
        "Implement the `__init__` function  to initialize the\n",
        "necessary module for our TransformerNMT model"
      ]
    },
    {
      "cell_type": "markdown",
      "metadata": {
        "id": "yKCJQc17N8pj"
      },
      "source": [
        "### Q9: (10 points) Implement the forward function\n",
        "Complete the `forward` function in the TransformerNMT class\n",
        "\n"
      ]
    },
    {
      "cell_type": "code",
      "execution_count": null,
      "metadata": {
        "id": "a4FpByedD5pS"
      },
      "outputs": [],
      "source": [
        "from torch import Tensor\n",
        "import torch\n",
        "import torch.nn as nn\n",
        "import math\n",
        "DEVICE = torch.device('cuda' if torch.cuda.is_available() else 'cpu')\n",
        "\n",
        "BOS_IDX, PAD_IDX, EOS_IDX, UNK_IDX = vocab.tgt[\"<s>\"], vocab.tgt[\"<pad>\"], vocab.tgt[\"</s>\"], vocab.tgt[\"<unk>\"]\n",
        "\n",
        "class TransformerNMT(nn.Module):\n",
        "    \"\"\" Neural Machine Translation Model with Transformer:\n",
        "        - Encoder with stacked self-attention and feedforward layers\n",
        "        - Decoder with stacked self-attention, encoder-decoder attention, and feedforward layers\n",
        "    \"\"\"\n",
        "    def __init__(self,\n",
        "                 num_encoder_layers: int,\n",
        "                 num_decoder_layers: int,\n",
        "                 emb_size: int,\n",
        "                 nhead: int,\n",
        "                 src_vocab_size: int,\n",
        "                 tgt_vocab_size: int,\n",
        "                 dim_feedforward: int = 512,\n",
        "                 max_len: int = 5000,\n",
        "                 dropout: float = 0.1):\n",
        "        \"\"\" Init TransformerNMT NMT Model.\n",
        "        @param num_encoder_layers (int): The number of sub-layers in the Encoder Transformer\n",
        "        @param num_decoder_layers (int): The number of sub-layers in the Decoder Transformer\n",
        "        @param emb_size (int): Hidden Size, the size of hidden states (dimensionality)\n",
        "        @param nhead (int): The number of heads in the multiheadattention\n",
        "        @param src_vocab_size (int): The vocab size of src languages\n",
        "        @param tgt_vocab_size (int): The vocab size of tgt languages\n",
        "        @param dim_feedforward (int): The dimension of the feedforward network model\n",
        "        @param max_len (int) max sequence length\n",
        "        @param dropout (float): Dropout probability, for attention\n",
        "        \"\"\"\n",
        "\n",
        "        super(TransformerNMT, self).__init__()\n",
        "\n",
        "        self.src_embedding = None\n",
        "        self.tgt_embedding = None\n",
        "\n",
        "        self.transformer = None\n",
        "        self.target_vocab_projection = None\n",
        "\n",
        "        ### YOUR CODE HERE\n",
        "        ### TODO - Initialize the following variables IN THIS ORDER:\n",
        "        ###     self.src_embedding: Transformer Embedding Layer used for source language\n",
        "        ###     self.tgt_embedding: Transformer Embedding Layer used for target language\n",
        "        ###     self.transformer: Transformer layer\n",
        "        ###     self.target_vocab_projection (Linear Layer with no bias), mapping hidden representation to the vocab distribution\n",
        "        ###\n",
        "        ### Use the following docs to properly initialize these variables:\n",
        "        ###     Transformer\n",
        "        ###         https://pytorch.org/docs/stable/generated/torch.nn.Transformer.html\n",
        "\n",
        "\n",
        "        ### END YOUR CODE\n",
        "\n",
        "\n",
        "    def forward(self,\n",
        "                src: Tensor,\n",
        "                trg: Tensor,\n",
        "                src_mask: Tensor,\n",
        "                tgt_mask: Tensor,\n",
        "                src_padding_mask: Tensor,\n",
        "                tgt_padding_mask: Tensor,\n",
        "                memory_key_padding_mask: Tensor):\n",
        "        \"\"\"Forward pass through the neural machine translation (NMT) model.\n",
        "        @param src (Tensor): Source sequence tensor.\n",
        "        @param trg (Tensor): Target sequence tensor.\n",
        "        @param src_mask (Tensor): Mask for the source sequence.\n",
        "        @param tgt_mask (Tensor): Mask for the target sequence.\n",
        "        @param src_padding_mask (Tensor): Padding mask for the source sequence.\n",
        "        @param tgt_padding_mask (Tensor): Padding mask for the target sequence.\n",
        "        @param memory_key_padding_mask (Tensor): Padding mask for memory keys.\n",
        "\n",
        "        @returns Tensor: Output tensor representing the NMT model's predictions for the target sequence.\n",
        "        \"\"\"\n",
        "\n",
        "        ### Q9 APPROACH 01\n",
        "        ### YOUR CODE HERE\n",
        "        ### TODO - Implement the forward function:\n",
        "        ###     1. Compute `src_emb` and `tgt_emb` from `src` and `tgt` using TransformerEmbedding,\n",
        "        ###     which return shape (src_len, b, e).\n",
        "        ###     src_len = maximum source sentence length, b = batch size, e = embedding size.\n",
        "        ###     2. Apply the self.transformer to compute the decoder output with shape (tgt_len, b, e).\n",
        "        ###     tgt_len = maximum target sentence length, b = batch size, e = embedding size.\n",
        "        ###     3. Mapping the decoder ouput to the vocab distribution using self.target_vocab_projection and return it.\n",
        "        ###     which return shape (tgt_len, b, tgt_vocab_size).\n",
        "        \n",
        "        ### Use the following docs for how to use nn.Transformer forward function:\n",
        "        ###     Transformer\n",
        "        ###         https://pytorch.org/docs/stable/generated/torch.nn.Transformer.html\n",
        "\n",
        "        ### Q9 APPROACH 02\n",
        "        ### YOUR CODE HERE\n",
        "        ### TODO - Implement the forward function:\n",
        "        ###     1. Compute `memory` from `src` and `src_mask` using self.encode,\n",
        "        ###     which return shape (src_len, b, e).\n",
        "        ###     2. Apply the self.decode to compute the decoder output with shape (tgt_len, b, e).\n",
        "        ###     tgt_len = maximum target sentence length, b = batch size, e = embedding size.\n",
        "        ###     3. Mapping the decoder ouput to the vocab distribution using self.target_vocab_projection and return it,\n",
        "        ###     which return shape (tgt_len, b, tgt_vocab_size).\n",
        "\n",
        "        return pass\n",
        "        ### END YOUR CODE\n",
        "\n",
        "    def encode(self, src: Tensor, src_mask: Tensor):\n",
        "        return self.transformer.encoder(self.src_embedding(src), src_mask)\n",
        "\n",
        "    def decode(self, tgt: Tensor, memory: Tensor, tgt_mask: Tensor):\n",
        "        return self.transformer.decoder(self.tgt_embedding(tgt), memory, tgt_mask)\n",
        "\n",
        "\n",
        "def generate_square_subsequent_mask(sz):\n",
        "    mask = (torch.triu(torch.ones((sz, sz), device=DEVICE)) == 1).transpose(0, 1)\n",
        "    mask = mask.float().masked_fill(mask == 0, float('-inf')).masked_fill(mask == 1, float(0.0))\n",
        "    return mask\n",
        "\n",
        "\n",
        "def create_mask(src, tgt):\n",
        "    src_seq_len = src.shape[0]\n",
        "    tgt_seq_len = tgt.shape[0]\n",
        "\n",
        "    tgt_mask = generate_square_subsequent_mask(tgt_seq_len)\n",
        "    src_mask = torch.zeros((src_seq_len, src_seq_len),device=DEVICE).type(torch.bool)\n",
        "\n",
        "    src_padding_mask = (src == PAD_IDX).transpose(0, 1)\n",
        "    tgt_padding_mask = (tgt == PAD_IDX).transpose(0, 1)\n",
        "    return src_mask, tgt_mask, src_padding_mask, tgt_padding_mask"
      ]
    },
    {
      "cell_type": "markdown",
      "metadata": {
        "id": "91bFTjSttI87"
      },
      "source": [
        "## Train our full model\n",
        "\n"
      ]
    },
    {
      "cell_type": "code",
      "execution_count": null,
      "metadata": {
        "id": "TUlRiRFrUJvh"
      },
      "outputs": [],
      "source": [
        "# @title Model Initialization\n",
        "\n",
        "import torch\n",
        "torch.manual_seed(0)\n",
        "\n",
        "args.src_vocab_size = len(vocab.src)\n",
        "args.tgt_vocab_size = len(vocab.tgt)\n",
        "args.emb_size = 768\n",
        "args.n_heads = 8\n",
        "args.ffn_hid_dim = 768\n",
        "args.batch_size = 32\n",
        "args.n_encoder_layers = 3\n",
        "args.n_decoder_layers = 3\n",
        "args.lr = 1e-4\n",
        "args.dropout = 0.1\n",
        "\n",
        "transformer = TransformerNMT(args.n_encoder_layers, args.n_decoder_layers, args.emb_size,\n",
        "                                 args.n_heads, args.src_vocab_size, args.tgt_vocab_size, args.ffn_hid_dim, dropout=args.dropout)\n",
        "\n",
        "for p in transformer.parameters():\n",
        "    if p.dim() > 1:\n",
        "        nn.init.xavier_uniform_(p)\n",
        "\n",
        "transformer = transformer.to(DEVICE)\n",
        "\n",
        "loss_fn = torch.nn.CrossEntropyLoss(ignore_index=PAD_IDX)\n",
        "\n",
        "optimizer = torch.optim.Adam(transformer.parameters(), lr=args.lr, betas=(0.9, 0.98), eps=1e-8)"
      ]
    },
    {
      "cell_type": "code",
      "execution_count": null,
      "metadata": {
        "cellView": "form",
        "id": "l2ipFnjSKFVM"
      },
      "outputs": [],
      "source": [
        "# @title Helper function\n",
        "from torch.nn.utils.rnn import pad_sequence\n",
        "\n",
        "# helper function to club together sequential operations\n",
        "def sequential_transforms(*transforms):\n",
        "    def func(txt_input):\n",
        "        for transform in transforms:\n",
        "            try:\n",
        "                txt_input = transform(txt_input)\n",
        "            except Exception as e:\n",
        "                if \"device\" in str(e):\n",
        "                    print(e)\n",
        "                    txt_input = transform(txt_input, device=device)\n",
        "                else:\n",
        "                    raise ValueError(e)\n",
        "        return txt_input\n",
        "    return func\n",
        "\n",
        "# function to add BOS/EOS and create tensor for input sequence indices\n",
        "def tensor_transform(token_ids: List[int]):\n",
        "    # print(token_ids)\n",
        "    return torch.cat((torch.tensor([BOS_IDX]).to(device),\n",
        "                      token_ids,\n",
        "                      torch.tensor([EOS_IDX]).to(device))).to(device)\n",
        "\n",
        "\n",
        "def convert_to_tensor_src(txt):\n",
        "    # print(torch.tensor([BOS_IDX]).shape, vocab.src.to_input_tensor(txt).shape, torch.tensor([EOS_IDX]).shape)\n",
        "    # print(torch.tensor([BOS_IDX]), vocab.src.to_input_tensor(txt).reshape(1,), torch.tensor([EOS_IDX]))\n",
        "    return torch.cat((torch.tensor([BOS_IDX]).view(1, 1).to(device),\n",
        "                      vocab.src.to_input_tensor(txt).to(device),\n",
        "                      torch.tensor([EOS_IDX]).view(1, 1).to(device)), dim=0).view(-1)\n",
        "\n",
        "def convert_to_tensor_tgt(txt):\n",
        "    return torch.cat((torch.tensor([BOS_IDX]).view(1, 1).to(device),\n",
        "                      vocab.tgt.to_input_tensor(txt).to(device),\n",
        "                      torch.tensor([EOS_IDX]).view(1, 1).to(device)), dim=0).view(-1)\n",
        "\n",
        "# ``src`` and ``tgt`` language text transforms to convert raw strings into tensors indices\n",
        "text_transform = {}\n",
        "\n",
        "SRC_LANGUAGE, TGT_LANGUAGE = \"vi\", \"en\"\n",
        "for ln in [SRC_LANGUAGE, TGT_LANGUAGE]:\n",
        "    if ln == SRC_LANGUAGE:\n",
        "        text_transform[ln] = convert_to_tensor_src # Add BOS/EOS and create tensor\n",
        "    if ln == TGT_LANGUAGE:\n",
        "        text_transform[ln] = convert_to_tensor_tgt# Add BOS/EOS and create tensor\n",
        "\n",
        "\n",
        "# function to collate data samples into batch tensors\n",
        "def collate_fn(batch):\n",
        "    src_batch, tgt_batch = [], []\n",
        "    for src_sample, tgt_sample in batch:\n",
        "        # print(src_sample, tgt_sample)\n",
        "        src_batch.append(text_transform[SRC_LANGUAGE](src_sample))\n",
        "        tgt_batch.append(text_transform[TGT_LANGUAGE](tgt_sample))\n",
        "\n",
        "    src_batch = pad_sequence(src_batch, padding_value=PAD_IDX)\n",
        "    tgt_batch = pad_sequence(tgt_batch, padding_value=PAD_IDX)\n",
        "    return src_batch, tgt_batch"
      ]
    },
    {
      "cell_type": "code",
      "execution_count": null,
      "metadata": {
        "cellView": "form",
        "id": "Oy_gOxZwUp2g"
      },
      "outputs": [],
      "source": [
        "# @title Training the model\n",
        "\n",
        "from torch.utils.data import DataLoader\n",
        "\n",
        "def train_epoch(model, optimizer, epoch):\n",
        "    model.train()\n",
        "    losses = 0\n",
        "    # train_iter = Multi30k(split='train', language_pair=(SRC_LANGUAGE, TGT_LANGUAGE))\n",
        "    train_dataloader = DataLoader(train_data_small, batch_size=args.batch_size, collate_fn=collate_fn)\n",
        "    # train_dataloader = batch_iter(train_data, BATCH_SIZE)\n",
        "\n",
        "    for i, (src, tgt) in enumerate(train_dataloader):\n",
        "        src = src.to(DEVICE)\n",
        "        tgt = tgt.to(DEVICE)\n",
        "\n",
        "        tgt_input = tgt[:-1, :]\n",
        "\n",
        "        src_mask, tgt_mask, src_padding_mask, tgt_padding_mask = create_mask(src, tgt_input)\n",
        "\n",
        "        logits = model(src, tgt_input, src_mask, tgt_mask,src_padding_mask, tgt_padding_mask, src_padding_mask)\n",
        "\n",
        "        optimizer.zero_grad()\n",
        "\n",
        "        tgt_out = tgt[1:, :]\n",
        "        loss = loss_fn(logits.reshape(-1, logits.shape[-1]), tgt_out.reshape(-1))\n",
        "        loss.backward()\n",
        "\n",
        "        optimizer.step()\n",
        "        losses += loss.item()\n",
        "\n",
        "        if i % args.log_every == 0:\n",
        "\n",
        "            print('epoch %d, iter %d, losses %.2f, avg. loss %.2f'\n",
        "                     % (epoch, i, losses, losses/(i+1)), file=sys.stderr)\n",
        "\n",
        "\n",
        "    return losses / len(list(train_dataloader))\n",
        "\n",
        "\n",
        "def evaluate(model):\n",
        "    model.eval()\n",
        "    losses = 0\n",
        "\n",
        "    # val_iter = Multi30k(split='valid', language_pair=(SRC_LANGUAGE, TGT_LANGUAGE))\n",
        "    val_dataloader = DataLoader(dev_data_small, batch_size=args.batch_size, collate_fn=collate_fn)\n",
        "    # val_dataloader = batch_iter(dev_data, BATCH_SIZE)\n",
        "\n",
        "    for src, tgt in val_dataloader:\n",
        "        src = src.to(DEVICE)\n",
        "        tgt = tgt.to(DEVICE)\n",
        "\n",
        "        tgt_input = tgt[:-1, :]\n",
        "\n",
        "        src_mask, tgt_mask, src_padding_mask, tgt_padding_mask = create_mask(src, tgt_input)\n",
        "\n",
        "        logits = model(src, tgt_input, src_mask, tgt_mask,src_padding_mask, tgt_padding_mask, src_padding_mask)\n",
        "\n",
        "        tgt_out = tgt[1:, :]\n",
        "        loss = loss_fn(logits.reshape(-1, logits.shape[-1]), tgt_out.reshape(-1))\n",
        "        losses += loss.item()\n",
        "\n",
        "    return losses / len(list(val_dataloader))"
      ]
    },
    {
      "cell_type": "markdown",
      "metadata": {
        "id": "tHbTs8aweGKZ"
      },
      "source": [
        "We also pick a small subset of 50 sampels for training and 50 samples for validating."
      ]
    },
    {
      "cell_type": "code",
      "execution_count": null,
      "metadata": {
        "id": "-iE_n0gvKpxv"
      },
      "outputs": [],
      "source": [
        "train_data_small = [val for val in train_data if len(val[0]) > 3][:50]\n",
        "dev_data_small = [val for val in dev_data if len(val[0]) > 3][:50]"
      ]
    },
    {
      "cell_type": "code",
      "execution_count": null,
      "metadata": {
        "colab": {
          "base_uri": "https://localhost:8080/"
        },
        "id": "fwLcM5IOKuuH",
        "outputId": "0f9b52f3-bba9-4b6f-e813-ebacc04501fc"
      },
      "outputs": [
        {
          "name": "stderr",
          "output_type": "stream",
          "text": [
            "epoch 1, iter 0, losses 9.95, avg. loss 9.95\n"
          ]
        },
        {
          "name": "stdout",
          "output_type": "stream",
          "text": [
            "Epoch: 1, Train loss: 9.743, Val loss: 9.294, Epoch time = 0.409s\n"
          ]
        },
        {
          "name": "stderr",
          "output_type": "stream",
          "text": [
            "epoch 2, iter 0, losses 9.28, avg. loss 9.28\n"
          ]
        },
        {
          "name": "stdout",
          "output_type": "stream",
          "text": [
            "Epoch: 2, Train loss: 9.182, Val loss: 9.036, Epoch time = 0.315s\n"
          ]
        },
        {
          "name": "stderr",
          "output_type": "stream",
          "text": [
            "epoch 3, iter 0, losses 8.98, avg. loss 8.98\n"
          ]
        },
        {
          "name": "stdout",
          "output_type": "stream",
          "text": [
            "Epoch: 3, Train loss: 8.893, Val loss: 8.849, Epoch time = 0.316s\n"
          ]
        },
        {
          "name": "stderr",
          "output_type": "stream",
          "text": [
            "epoch 4, iter 0, losses 8.73, avg. loss 8.73\n"
          ]
        },
        {
          "name": "stdout",
          "output_type": "stream",
          "text": [
            "Epoch: 4, Train loss: 8.646, Val loss: 8.688, Epoch time = 0.319s\n"
          ]
        },
        {
          "name": "stderr",
          "output_type": "stream",
          "text": [
            "epoch 5, iter 0, losses 8.50, avg. loss 8.50\n"
          ]
        },
        {
          "name": "stdout",
          "output_type": "stream",
          "text": [
            "Epoch: 5, Train loss: 8.411, Val loss: 8.539, Epoch time = 0.321s\n"
          ]
        },
        {
          "name": "stderr",
          "output_type": "stream",
          "text": [
            "epoch 6, iter 0, losses 8.27, avg. loss 8.27\n"
          ]
        },
        {
          "name": "stdout",
          "output_type": "stream",
          "text": [
            "Epoch: 6, Train loss: 8.185, Val loss: 8.389, Epoch time = 0.318s\n"
          ]
        },
        {
          "name": "stderr",
          "output_type": "stream",
          "text": [
            "epoch 7, iter 0, losses 8.05, avg. loss 8.05\n"
          ]
        },
        {
          "name": "stdout",
          "output_type": "stream",
          "text": [
            "Epoch: 7, Train loss: 7.954, Val loss: 8.237, Epoch time = 0.317s\n"
          ]
        },
        {
          "name": "stderr",
          "output_type": "stream",
          "text": [
            "epoch 8, iter 0, losses 7.82, avg. loss 7.82\n"
          ]
        },
        {
          "name": "stdout",
          "output_type": "stream",
          "text": [
            "Epoch: 8, Train loss: 7.727, Val loss: 8.084, Epoch time = 0.319s\n"
          ]
        },
        {
          "name": "stderr",
          "output_type": "stream",
          "text": [
            "epoch 9, iter 0, losses 7.59, avg. loss 7.59\n"
          ]
        },
        {
          "name": "stdout",
          "output_type": "stream",
          "text": [
            "Epoch: 9, Train loss: 7.494, Val loss: 7.933, Epoch time = 0.315s\n"
          ]
        },
        {
          "name": "stderr",
          "output_type": "stream",
          "text": [
            "epoch 10, iter 0, losses 7.36, avg. loss 7.36\n"
          ]
        },
        {
          "name": "stdout",
          "output_type": "stream",
          "text": [
            "Epoch: 10, Train loss: 7.254, Val loss: 7.786, Epoch time = 0.315s\n"
          ]
        },
        {
          "name": "stderr",
          "output_type": "stream",
          "text": [
            "epoch 11, iter 0, losses 7.13, avg. loss 7.13\n"
          ]
        },
        {
          "name": "stdout",
          "output_type": "stream",
          "text": [
            "Epoch: 11, Train loss: 7.024, Val loss: 7.644, Epoch time = 0.316s\n"
          ]
        },
        {
          "name": "stderr",
          "output_type": "stream",
          "text": [
            "epoch 12, iter 0, losses 6.91, avg. loss 6.91\n"
          ]
        },
        {
          "name": "stdout",
          "output_type": "stream",
          "text": [
            "Epoch: 12, Train loss: 6.795, Val loss: 7.510, Epoch time = 0.322s\n"
          ]
        },
        {
          "name": "stderr",
          "output_type": "stream",
          "text": [
            "epoch 13, iter 0, losses 6.69, avg. loss 6.69\n"
          ]
        },
        {
          "name": "stdout",
          "output_type": "stream",
          "text": [
            "Epoch: 13, Train loss: 6.574, Val loss: 7.381, Epoch time = 0.317s\n"
          ]
        },
        {
          "name": "stderr",
          "output_type": "stream",
          "text": [
            "epoch 14, iter 0, losses 6.48, avg. loss 6.48\n"
          ]
        },
        {
          "name": "stdout",
          "output_type": "stream",
          "text": [
            "Epoch: 14, Train loss: 6.364, Val loss: 7.265, Epoch time = 0.323s\n"
          ]
        },
        {
          "name": "stderr",
          "output_type": "stream",
          "text": [
            "epoch 15, iter 0, losses 6.29, avg. loss 6.29\n"
          ]
        },
        {
          "name": "stdout",
          "output_type": "stream",
          "text": [
            "Epoch: 15, Train loss: 6.164, Val loss: 7.163, Epoch time = 0.318s\n"
          ]
        },
        {
          "name": "stderr",
          "output_type": "stream",
          "text": [
            "epoch 16, iter 0, losses 6.10, avg. loss 6.10\n"
          ]
        },
        {
          "name": "stdout",
          "output_type": "stream",
          "text": [
            "Epoch: 16, Train loss: 5.974, Val loss: 7.069, Epoch time = 0.319s\n"
          ]
        },
        {
          "name": "stderr",
          "output_type": "stream",
          "text": [
            "epoch 17, iter 0, losses 5.93, avg. loss 5.93\n"
          ]
        },
        {
          "name": "stdout",
          "output_type": "stream",
          "text": [
            "Epoch: 17, Train loss: 5.794, Val loss: 6.989, Epoch time = 0.316s\n"
          ]
        },
        {
          "name": "stderr",
          "output_type": "stream",
          "text": [
            "epoch 18, iter 0, losses 5.76, avg. loss 5.76\n"
          ]
        },
        {
          "name": "stdout",
          "output_type": "stream",
          "text": [
            "Epoch: 18, Train loss: 5.628, Val loss: 6.918, Epoch time = 0.329s\n"
          ]
        },
        {
          "name": "stderr",
          "output_type": "stream",
          "text": [
            "epoch 19, iter 0, losses 5.61, avg. loss 5.61\n"
          ]
        },
        {
          "name": "stdout",
          "output_type": "stream",
          "text": [
            "Epoch: 19, Train loss: 5.470, Val loss: 6.859, Epoch time = 0.322s\n"
          ]
        },
        {
          "name": "stderr",
          "output_type": "stream",
          "text": [
            "epoch 20, iter 0, losses 5.48, avg. loss 5.48\n"
          ]
        },
        {
          "name": "stdout",
          "output_type": "stream",
          "text": [
            "Epoch: 20, Train loss: 5.333, Val loss: 6.804, Epoch time = 0.321s\n"
          ]
        },
        {
          "name": "stderr",
          "output_type": "stream",
          "text": [
            "epoch 21, iter 0, losses 5.36, avg. loss 5.36\n"
          ]
        },
        {
          "name": "stdout",
          "output_type": "stream",
          "text": [
            "Epoch: 21, Train loss: 5.200, Val loss: 6.762, Epoch time = 0.331s\n"
          ]
        },
        {
          "name": "stderr",
          "output_type": "stream",
          "text": [
            "epoch 22, iter 0, losses 5.25, avg. loss 5.25\n"
          ]
        },
        {
          "name": "stdout",
          "output_type": "stream",
          "text": [
            "Epoch: 22, Train loss: 5.081, Val loss: 6.729, Epoch time = 0.332s\n"
          ]
        },
        {
          "name": "stderr",
          "output_type": "stream",
          "text": [
            "epoch 23, iter 0, losses 5.15, avg. loss 5.15\n"
          ]
        },
        {
          "name": "stdout",
          "output_type": "stream",
          "text": [
            "Epoch: 23, Train loss: 4.972, Val loss: 6.705, Epoch time = 0.330s\n"
          ]
        },
        {
          "name": "stderr",
          "output_type": "stream",
          "text": [
            "epoch 24, iter 0, losses 5.06, avg. loss 5.06\n"
          ]
        },
        {
          "name": "stdout",
          "output_type": "stream",
          "text": [
            "Epoch: 24, Train loss: 4.874, Val loss: 6.691, Epoch time = 0.331s\n"
          ]
        },
        {
          "name": "stderr",
          "output_type": "stream",
          "text": [
            "epoch 25, iter 0, losses 4.98, avg. loss 4.98\n"
          ]
        },
        {
          "name": "stdout",
          "output_type": "stream",
          "text": [
            "Epoch: 25, Train loss: 4.790, Val loss: 6.675, Epoch time = 0.339s\n"
          ]
        },
        {
          "name": "stderr",
          "output_type": "stream",
          "text": [
            "epoch 26, iter 0, losses 4.90, avg. loss 4.90\n"
          ]
        },
        {
          "name": "stdout",
          "output_type": "stream",
          "text": [
            "Epoch: 26, Train loss: 4.697, Val loss: 6.663, Epoch time = 0.348s\n"
          ]
        },
        {
          "name": "stderr",
          "output_type": "stream",
          "text": [
            "epoch 27, iter 0, losses 4.83, avg. loss 4.83\n"
          ]
        },
        {
          "name": "stdout",
          "output_type": "stream",
          "text": [
            "Epoch: 27, Train loss: 4.622, Val loss: 6.647, Epoch time = 0.321s\n"
          ]
        },
        {
          "name": "stderr",
          "output_type": "stream",
          "text": [
            "epoch 28, iter 0, losses 4.76, avg. loss 4.76\n"
          ]
        },
        {
          "name": "stdout",
          "output_type": "stream",
          "text": [
            "Epoch: 28, Train loss: 4.546, Val loss: 6.636, Epoch time = 0.323s\n"
          ]
        },
        {
          "name": "stderr",
          "output_type": "stream",
          "text": [
            "epoch 29, iter 0, losses 4.70, avg. loss 4.70\n"
          ]
        },
        {
          "name": "stdout",
          "output_type": "stream",
          "text": [
            "Epoch: 29, Train loss: 4.474, Val loss: 6.631, Epoch time = 0.320s\n"
          ]
        },
        {
          "name": "stderr",
          "output_type": "stream",
          "text": [
            "epoch 30, iter 0, losses 4.63, avg. loss 4.63\n"
          ]
        },
        {
          "name": "stdout",
          "output_type": "stream",
          "text": [
            "Epoch: 30, Train loss: 4.399, Val loss: 6.608, Epoch time = 0.323s\n"
          ]
        },
        {
          "name": "stderr",
          "output_type": "stream",
          "text": [
            "epoch 31, iter 0, losses 4.57, avg. loss 4.57\n"
          ]
        },
        {
          "name": "stdout",
          "output_type": "stream",
          "text": [
            "Epoch: 31, Train loss: 4.338, Val loss: 6.609, Epoch time = 0.320s\n"
          ]
        },
        {
          "name": "stderr",
          "output_type": "stream",
          "text": [
            "epoch 32, iter 0, losses 4.52, avg. loss 4.52\n"
          ]
        },
        {
          "name": "stdout",
          "output_type": "stream",
          "text": [
            "Epoch: 32, Train loss: 4.271, Val loss: 6.598, Epoch time = 0.318s\n"
          ]
        },
        {
          "name": "stderr",
          "output_type": "stream",
          "text": [
            "epoch 33, iter 0, losses 4.46, avg. loss 4.46\n"
          ]
        },
        {
          "name": "stdout",
          "output_type": "stream",
          "text": [
            "Epoch: 33, Train loss: 4.209, Val loss: 6.591, Epoch time = 0.325s\n"
          ]
        },
        {
          "name": "stderr",
          "output_type": "stream",
          "text": [
            "epoch 34, iter 0, losses 4.39, avg. loss 4.39\n"
          ]
        },
        {
          "name": "stdout",
          "output_type": "stream",
          "text": [
            "Epoch: 34, Train loss: 4.141, Val loss: 6.586, Epoch time = 0.330s\n"
          ]
        },
        {
          "name": "stderr",
          "output_type": "stream",
          "text": [
            "epoch 35, iter 0, losses 4.33, avg. loss 4.33\n"
          ]
        },
        {
          "name": "stdout",
          "output_type": "stream",
          "text": [
            "Epoch: 35, Train loss: 4.072, Val loss: 6.567, Epoch time = 0.320s\n"
          ]
        },
        {
          "name": "stderr",
          "output_type": "stream",
          "text": [
            "epoch 36, iter 0, losses 4.27, avg. loss 4.27\n"
          ]
        },
        {
          "name": "stdout",
          "output_type": "stream",
          "text": [
            "Epoch: 36, Train loss: 4.006, Val loss: 6.563, Epoch time = 0.331s\n"
          ]
        },
        {
          "name": "stderr",
          "output_type": "stream",
          "text": [
            "epoch 37, iter 0, losses 4.22, avg. loss 4.22\n"
          ]
        },
        {
          "name": "stdout",
          "output_type": "stream",
          "text": [
            "Epoch: 37, Train loss: 3.941, Val loss: 6.541, Epoch time = 0.326s\n"
          ]
        },
        {
          "name": "stderr",
          "output_type": "stream",
          "text": [
            "epoch 38, iter 0, losses 4.16, avg. loss 4.16\n"
          ]
        },
        {
          "name": "stdout",
          "output_type": "stream",
          "text": [
            "Epoch: 38, Train loss: 3.878, Val loss: 6.574, Epoch time = 0.328s\n"
          ]
        },
        {
          "name": "stderr",
          "output_type": "stream",
          "text": [
            "epoch 39, iter 0, losses 4.09, avg. loss 4.09\n"
          ]
        },
        {
          "name": "stdout",
          "output_type": "stream",
          "text": [
            "Epoch: 39, Train loss: 3.809, Val loss: 6.551, Epoch time = 0.324s\n"
          ]
        },
        {
          "name": "stderr",
          "output_type": "stream",
          "text": [
            "epoch 40, iter 0, losses 4.04, avg. loss 4.04\n"
          ]
        },
        {
          "name": "stdout",
          "output_type": "stream",
          "text": [
            "Epoch: 40, Train loss: 3.745, Val loss: 6.549, Epoch time = 0.325s\n"
          ]
        },
        {
          "name": "stderr",
          "output_type": "stream",
          "text": [
            "epoch 41, iter 0, losses 3.97, avg. loss 3.97\n"
          ]
        },
        {
          "name": "stdout",
          "output_type": "stream",
          "text": [
            "Epoch: 41, Train loss: 3.677, Val loss: 6.556, Epoch time = 0.331s\n"
          ]
        },
        {
          "name": "stderr",
          "output_type": "stream",
          "text": [
            "epoch 42, iter 0, losses 3.92, avg. loss 3.92\n"
          ]
        },
        {
          "name": "stdout",
          "output_type": "stream",
          "text": [
            "Epoch: 42, Train loss: 3.617, Val loss: 6.527, Epoch time = 0.330s\n"
          ]
        },
        {
          "name": "stderr",
          "output_type": "stream",
          "text": [
            "epoch 43, iter 0, losses 3.84, avg. loss 3.84\n"
          ]
        },
        {
          "name": "stdout",
          "output_type": "stream",
          "text": [
            "Epoch: 43, Train loss: 3.542, Val loss: 6.533, Epoch time = 0.329s\n"
          ]
        },
        {
          "name": "stderr",
          "output_type": "stream",
          "text": [
            "epoch 44, iter 0, losses 3.80, avg. loss 3.80\n"
          ]
        },
        {
          "name": "stdout",
          "output_type": "stream",
          "text": [
            "Epoch: 44, Train loss: 3.494, Val loss: 6.568, Epoch time = 0.331s\n"
          ]
        },
        {
          "name": "stderr",
          "output_type": "stream",
          "text": [
            "epoch 45, iter 0, losses 3.72, avg. loss 3.72\n"
          ]
        },
        {
          "name": "stdout",
          "output_type": "stream",
          "text": [
            "Epoch: 45, Train loss: 3.416, Val loss: 6.522, Epoch time = 0.330s\n"
          ]
        },
        {
          "name": "stderr",
          "output_type": "stream",
          "text": [
            "epoch 46, iter 0, losses 3.67, avg. loss 3.67\n"
          ]
        },
        {
          "name": "stdout",
          "output_type": "stream",
          "text": [
            "Epoch: 46, Train loss: 3.348, Val loss: 6.559, Epoch time = 0.327s\n"
          ]
        },
        {
          "name": "stderr",
          "output_type": "stream",
          "text": [
            "epoch 47, iter 0, losses 3.60, avg. loss 3.60\n"
          ]
        },
        {
          "name": "stdout",
          "output_type": "stream",
          "text": [
            "Epoch: 47, Train loss: 3.288, Val loss: 6.538, Epoch time = 0.341s\n"
          ]
        },
        {
          "name": "stderr",
          "output_type": "stream",
          "text": [
            "epoch 48, iter 0, losses 3.54, avg. loss 3.54\n"
          ]
        },
        {
          "name": "stdout",
          "output_type": "stream",
          "text": [
            "Epoch: 48, Train loss: 3.217, Val loss: 6.578, Epoch time = 0.329s\n"
          ]
        },
        {
          "name": "stderr",
          "output_type": "stream",
          "text": [
            "epoch 49, iter 0, losses 3.49, avg. loss 3.49\n"
          ]
        },
        {
          "name": "stdout",
          "output_type": "stream",
          "text": [
            "Epoch: 49, Train loss: 3.161, Val loss: 6.518, Epoch time = 0.332s\n"
          ]
        },
        {
          "name": "stderr",
          "output_type": "stream",
          "text": [
            "epoch 50, iter 0, losses 3.42, avg. loss 3.42\n"
          ]
        },
        {
          "name": "stdout",
          "output_type": "stream",
          "text": [
            "Epoch: 50, Train loss: 3.100, Val loss: 6.567, Epoch time = 0.332s\n"
          ]
        },
        {
          "name": "stderr",
          "output_type": "stream",
          "text": [
            "epoch 51, iter 0, losses 3.37, avg. loss 3.37\n"
          ]
        },
        {
          "name": "stdout",
          "output_type": "stream",
          "text": [
            "Epoch: 51, Train loss: 3.043, Val loss: 6.561, Epoch time = 0.328s\n"
          ]
        },
        {
          "name": "stderr",
          "output_type": "stream",
          "text": [
            "epoch 52, iter 0, losses 3.31, avg. loss 3.31\n"
          ]
        },
        {
          "name": "stdout",
          "output_type": "stream",
          "text": [
            "Epoch: 52, Train loss: 2.983, Val loss: 6.589, Epoch time = 0.333s\n"
          ]
        },
        {
          "name": "stderr",
          "output_type": "stream",
          "text": [
            "epoch 53, iter 0, losses 3.26, avg. loss 3.26\n"
          ]
        },
        {
          "name": "stdout",
          "output_type": "stream",
          "text": [
            "Epoch: 53, Train loss: 2.925, Val loss: 6.536, Epoch time = 0.322s\n"
          ]
        },
        {
          "name": "stderr",
          "output_type": "stream",
          "text": [
            "epoch 54, iter 0, losses 3.20, avg. loss 3.20\n"
          ]
        },
        {
          "name": "stdout",
          "output_type": "stream",
          "text": [
            "Epoch: 54, Train loss: 2.868, Val loss: 6.621, Epoch time = 0.322s\n"
          ]
        },
        {
          "name": "stderr",
          "output_type": "stream",
          "text": [
            "epoch 55, iter 0, losses 3.16, avg. loss 3.16\n"
          ]
        },
        {
          "name": "stdout",
          "output_type": "stream",
          "text": [
            "Epoch: 55, Train loss: 2.812, Val loss: 6.562, Epoch time = 0.324s\n"
          ]
        },
        {
          "name": "stderr",
          "output_type": "stream",
          "text": [
            "epoch 56, iter 0, losses 3.08, avg. loss 3.08\n"
          ]
        },
        {
          "name": "stdout",
          "output_type": "stream",
          "text": [
            "Epoch: 56, Train loss: 2.750, Val loss: 6.594, Epoch time = 0.328s\n"
          ]
        },
        {
          "name": "stderr",
          "output_type": "stream",
          "text": [
            "epoch 57, iter 0, losses 3.04, avg. loss 3.04\n"
          ]
        },
        {
          "name": "stdout",
          "output_type": "stream",
          "text": [
            "Epoch: 57, Train loss: 2.691, Val loss: 6.592, Epoch time = 0.323s\n"
          ]
        },
        {
          "name": "stderr",
          "output_type": "stream",
          "text": [
            "epoch 58, iter 0, losses 2.99, avg. loss 2.99\n"
          ]
        },
        {
          "name": "stdout",
          "output_type": "stream",
          "text": [
            "Epoch: 58, Train loss: 2.639, Val loss: 6.585, Epoch time = 0.324s\n"
          ]
        },
        {
          "name": "stderr",
          "output_type": "stream",
          "text": [
            "epoch 59, iter 0, losses 2.94, avg. loss 2.94\n"
          ]
        },
        {
          "name": "stdout",
          "output_type": "stream",
          "text": [
            "Epoch: 59, Train loss: 2.586, Val loss: 6.606, Epoch time = 0.324s\n"
          ]
        },
        {
          "name": "stderr",
          "output_type": "stream",
          "text": [
            "epoch 60, iter 0, losses 2.88, avg. loss 2.88\n"
          ]
        },
        {
          "name": "stdout",
          "output_type": "stream",
          "text": [
            "Epoch: 60, Train loss: 2.525, Val loss: 6.590, Epoch time = 0.325s\n"
          ]
        },
        {
          "name": "stderr",
          "output_type": "stream",
          "text": [
            "epoch 61, iter 0, losses 2.84, avg. loss 2.84\n"
          ]
        },
        {
          "name": "stdout",
          "output_type": "stream",
          "text": [
            "Epoch: 61, Train loss: 2.476, Val loss: 6.631, Epoch time = 0.327s\n"
          ]
        },
        {
          "name": "stderr",
          "output_type": "stream",
          "text": [
            "epoch 62, iter 0, losses 2.77, avg. loss 2.77\n"
          ]
        },
        {
          "name": "stdout",
          "output_type": "stream",
          "text": [
            "Epoch: 62, Train loss: 2.421, Val loss: 6.598, Epoch time = 0.324s\n"
          ]
        },
        {
          "name": "stderr",
          "output_type": "stream",
          "text": [
            "epoch 63, iter 0, losses 2.73, avg. loss 2.73\n"
          ]
        },
        {
          "name": "stdout",
          "output_type": "stream",
          "text": [
            "Epoch: 63, Train loss: 2.372, Val loss: 6.645, Epoch time = 0.327s\n"
          ]
        },
        {
          "name": "stderr",
          "output_type": "stream",
          "text": [
            "epoch 64, iter 0, losses 2.68, avg. loss 2.68\n"
          ]
        },
        {
          "name": "stdout",
          "output_type": "stream",
          "text": [
            "Epoch: 64, Train loss: 2.323, Val loss: 6.629, Epoch time = 0.325s\n"
          ]
        },
        {
          "name": "stderr",
          "output_type": "stream",
          "text": [
            "epoch 65, iter 0, losses 2.63, avg. loss 2.63\n"
          ]
        },
        {
          "name": "stdout",
          "output_type": "stream",
          "text": [
            "Epoch: 65, Train loss: 2.267, Val loss: 6.642, Epoch time = 0.326s\n"
          ]
        },
        {
          "name": "stderr",
          "output_type": "stream",
          "text": [
            "epoch 66, iter 0, losses 2.59, avg. loss 2.59\n"
          ]
        },
        {
          "name": "stdout",
          "output_type": "stream",
          "text": [
            "Epoch: 66, Train loss: 2.219, Val loss: 6.640, Epoch time = 0.324s\n"
          ]
        },
        {
          "name": "stderr",
          "output_type": "stream",
          "text": [
            "epoch 67, iter 0, losses 2.53, avg. loss 2.53\n"
          ]
        },
        {
          "name": "stdout",
          "output_type": "stream",
          "text": [
            "Epoch: 67, Train loss: 2.168, Val loss: 6.686, Epoch time = 0.338s\n"
          ]
        },
        {
          "name": "stderr",
          "output_type": "stream",
          "text": [
            "epoch 68, iter 0, losses 2.50, avg. loss 2.50\n"
          ]
        },
        {
          "name": "stdout",
          "output_type": "stream",
          "text": [
            "Epoch: 68, Train loss: 2.119, Val loss: 6.616, Epoch time = 0.324s\n"
          ]
        },
        {
          "name": "stderr",
          "output_type": "stream",
          "text": [
            "epoch 69, iter 0, losses 2.45, avg. loss 2.45\n"
          ]
        },
        {
          "name": "stdout",
          "output_type": "stream",
          "text": [
            "Epoch: 69, Train loss: 2.068, Val loss: 6.691, Epoch time = 0.329s\n"
          ]
        },
        {
          "name": "stderr",
          "output_type": "stream",
          "text": [
            "epoch 70, iter 0, losses 2.40, avg. loss 2.40\n"
          ]
        },
        {
          "name": "stdout",
          "output_type": "stream",
          "text": [
            "Epoch: 70, Train loss: 2.018, Val loss: 6.673, Epoch time = 0.331s\n"
          ]
        },
        {
          "name": "stderr",
          "output_type": "stream",
          "text": [
            "epoch 71, iter 0, losses 2.34, avg. loss 2.34\n"
          ]
        },
        {
          "name": "stdout",
          "output_type": "stream",
          "text": [
            "Epoch: 71, Train loss: 1.971, Val loss: 6.690, Epoch time = 0.330s\n"
          ]
        },
        {
          "name": "stderr",
          "output_type": "stream",
          "text": [
            "epoch 72, iter 0, losses 2.30, avg. loss 2.30\n"
          ]
        },
        {
          "name": "stdout",
          "output_type": "stream",
          "text": [
            "Epoch: 72, Train loss: 1.934, Val loss: 6.684, Epoch time = 0.326s\n"
          ]
        },
        {
          "name": "stderr",
          "output_type": "stream",
          "text": [
            "epoch 73, iter 0, losses 2.24, avg. loss 2.24\n"
          ]
        },
        {
          "name": "stdout",
          "output_type": "stream",
          "text": [
            "Epoch: 73, Train loss: 1.873, Val loss: 6.699, Epoch time = 0.331s\n"
          ]
        },
        {
          "name": "stderr",
          "output_type": "stream",
          "text": [
            "epoch 74, iter 0, losses 2.20, avg. loss 2.20\n"
          ]
        },
        {
          "name": "stdout",
          "output_type": "stream",
          "text": [
            "Epoch: 74, Train loss: 1.830, Val loss: 6.707, Epoch time = 0.339s\n"
          ]
        },
        {
          "name": "stderr",
          "output_type": "stream",
          "text": [
            "epoch 75, iter 0, losses 2.15, avg. loss 2.15\n"
          ]
        },
        {
          "name": "stdout",
          "output_type": "stream",
          "text": [
            "Epoch: 75, Train loss: 1.783, Val loss: 6.720, Epoch time = 0.338s\n"
          ]
        },
        {
          "name": "stderr",
          "output_type": "stream",
          "text": [
            "epoch 76, iter 0, losses 2.12, avg. loss 2.12\n"
          ]
        },
        {
          "name": "stdout",
          "output_type": "stream",
          "text": [
            "Epoch: 76, Train loss: 1.749, Val loss: 6.718, Epoch time = 0.339s\n"
          ]
        },
        {
          "name": "stderr",
          "output_type": "stream",
          "text": [
            "epoch 77, iter 0, losses 2.06, avg. loss 2.06\n"
          ]
        },
        {
          "name": "stdout",
          "output_type": "stream",
          "text": [
            "Epoch: 77, Train loss: 1.689, Val loss: 6.730, Epoch time = 0.334s\n"
          ]
        },
        {
          "name": "stderr",
          "output_type": "stream",
          "text": [
            "epoch 78, iter 0, losses 2.02, avg. loss 2.02\n"
          ]
        },
        {
          "name": "stdout",
          "output_type": "stream",
          "text": [
            "Epoch: 78, Train loss: 1.652, Val loss: 6.759, Epoch time = 0.344s\n"
          ]
        },
        {
          "name": "stderr",
          "output_type": "stream",
          "text": [
            "epoch 79, iter 0, losses 2.00, avg. loss 2.00\n"
          ]
        },
        {
          "name": "stdout",
          "output_type": "stream",
          "text": [
            "Epoch: 79, Train loss: 1.622, Val loss: 6.760, Epoch time = 0.337s\n"
          ]
        },
        {
          "name": "stderr",
          "output_type": "stream",
          "text": [
            "epoch 80, iter 0, losses 1.95, avg. loss 1.95\n"
          ]
        },
        {
          "name": "stdout",
          "output_type": "stream",
          "text": [
            "Epoch: 80, Train loss: 1.576, Val loss: 6.794, Epoch time = 0.328s\n"
          ]
        },
        {
          "name": "stderr",
          "output_type": "stream",
          "text": [
            "epoch 81, iter 0, losses 1.91, avg. loss 1.91\n"
          ]
        },
        {
          "name": "stdout",
          "output_type": "stream",
          "text": [
            "Epoch: 81, Train loss: 1.541, Val loss: 6.762, Epoch time = 0.325s\n"
          ]
        },
        {
          "name": "stderr",
          "output_type": "stream",
          "text": [
            "epoch 82, iter 0, losses 1.87, avg. loss 1.87\n"
          ]
        },
        {
          "name": "stdout",
          "output_type": "stream",
          "text": [
            "Epoch: 82, Train loss: 1.498, Val loss: 6.831, Epoch time = 0.336s\n"
          ]
        },
        {
          "name": "stderr",
          "output_type": "stream",
          "text": [
            "epoch 83, iter 0, losses 1.83, avg. loss 1.83\n"
          ]
        },
        {
          "name": "stdout",
          "output_type": "stream",
          "text": [
            "Epoch: 83, Train loss: 1.463, Val loss: 6.799, Epoch time = 0.329s\n"
          ]
        },
        {
          "name": "stderr",
          "output_type": "stream",
          "text": [
            "epoch 84, iter 0, losses 1.80, avg. loss 1.80\n"
          ]
        },
        {
          "name": "stdout",
          "output_type": "stream",
          "text": [
            "Epoch: 84, Train loss: 1.436, Val loss: 6.850, Epoch time = 0.333s\n"
          ]
        },
        {
          "name": "stderr",
          "output_type": "stream",
          "text": [
            "epoch 85, iter 0, losses 1.74, avg. loss 1.74\n"
          ]
        },
        {
          "name": "stdout",
          "output_type": "stream",
          "text": [
            "Epoch: 85, Train loss: 1.383, Val loss: 6.831, Epoch time = 0.326s\n"
          ]
        },
        {
          "name": "stderr",
          "output_type": "stream",
          "text": [
            "epoch 86, iter 0, losses 1.71, avg. loss 1.71\n"
          ]
        },
        {
          "name": "stdout",
          "output_type": "stream",
          "text": [
            "Epoch: 86, Train loss: 1.348, Val loss: 6.815, Epoch time = 0.328s\n"
          ]
        },
        {
          "name": "stderr",
          "output_type": "stream",
          "text": [
            "epoch 87, iter 0, losses 1.67, avg. loss 1.67\n"
          ]
        },
        {
          "name": "stdout",
          "output_type": "stream",
          "text": [
            "Epoch: 87, Train loss: 1.319, Val loss: 6.912, Epoch time = 0.332s\n"
          ]
        },
        {
          "name": "stderr",
          "output_type": "stream",
          "text": [
            "epoch 88, iter 0, losses 1.64, avg. loss 1.64\n"
          ]
        },
        {
          "name": "stdout",
          "output_type": "stream",
          "text": [
            "Epoch: 88, Train loss: 1.288, Val loss: 6.841, Epoch time = 0.326s\n"
          ]
        },
        {
          "name": "stderr",
          "output_type": "stream",
          "text": [
            "epoch 89, iter 0, losses 1.63, avg. loss 1.63\n"
          ]
        },
        {
          "name": "stdout",
          "output_type": "stream",
          "text": [
            "Epoch: 89, Train loss: 1.261, Val loss: 6.922, Epoch time = 0.330s\n"
          ]
        },
        {
          "name": "stderr",
          "output_type": "stream",
          "text": [
            "epoch 90, iter 0, losses 1.58, avg. loss 1.58\n"
          ]
        },
        {
          "name": "stdout",
          "output_type": "stream",
          "text": [
            "Epoch: 90, Train loss: 1.228, Val loss: 6.893, Epoch time = 0.332s\n"
          ]
        },
        {
          "name": "stderr",
          "output_type": "stream",
          "text": [
            "epoch 91, iter 0, losses 1.54, avg. loss 1.54\n"
          ]
        },
        {
          "name": "stdout",
          "output_type": "stream",
          "text": [
            "Epoch: 91, Train loss: 1.183, Val loss: 6.867, Epoch time = 0.335s\n"
          ]
        },
        {
          "name": "stderr",
          "output_type": "stream",
          "text": [
            "epoch 92, iter 0, losses 1.47, avg. loss 1.47\n"
          ]
        },
        {
          "name": "stdout",
          "output_type": "stream",
          "text": [
            "Epoch: 92, Train loss: 1.143, Val loss: 6.923, Epoch time = 0.327s\n"
          ]
        },
        {
          "name": "stderr",
          "output_type": "stream",
          "text": [
            "epoch 93, iter 0, losses 1.44, avg. loss 1.44\n"
          ]
        },
        {
          "name": "stdout",
          "output_type": "stream",
          "text": [
            "Epoch: 93, Train loss: 1.105, Val loss: 6.906, Epoch time = 0.332s\n"
          ]
        },
        {
          "name": "stderr",
          "output_type": "stream",
          "text": [
            "epoch 94, iter 0, losses 1.41, avg. loss 1.41\n"
          ]
        },
        {
          "name": "stdout",
          "output_type": "stream",
          "text": [
            "Epoch: 94, Train loss: 1.077, Val loss: 6.954, Epoch time = 0.331s\n"
          ]
        },
        {
          "name": "stderr",
          "output_type": "stream",
          "text": [
            "epoch 95, iter 0, losses 1.38, avg. loss 1.38\n"
          ]
        },
        {
          "name": "stdout",
          "output_type": "stream",
          "text": [
            "Epoch: 95, Train loss: 1.045, Val loss: 6.927, Epoch time = 0.334s\n"
          ]
        },
        {
          "name": "stderr",
          "output_type": "stream",
          "text": [
            "epoch 96, iter 0, losses 1.33, avg. loss 1.33\n"
          ]
        },
        {
          "name": "stdout",
          "output_type": "stream",
          "text": [
            "Epoch: 96, Train loss: 1.012, Val loss: 6.981, Epoch time = 0.336s\n"
          ]
        },
        {
          "name": "stderr",
          "output_type": "stream",
          "text": [
            "epoch 97, iter 0, losses 1.29, avg. loss 1.29\n"
          ]
        },
        {
          "name": "stdout",
          "output_type": "stream",
          "text": [
            "Epoch: 97, Train loss: 0.980, Val loss: 6.939, Epoch time = 0.332s\n"
          ]
        },
        {
          "name": "stderr",
          "output_type": "stream",
          "text": [
            "epoch 98, iter 0, losses 1.27, avg. loss 1.27\n"
          ]
        },
        {
          "name": "stdout",
          "output_type": "stream",
          "text": [
            "Epoch: 98, Train loss: 0.954, Val loss: 6.982, Epoch time = 0.328s\n"
          ]
        },
        {
          "name": "stderr",
          "output_type": "stream",
          "text": [
            "epoch 99, iter 0, losses 1.23, avg. loss 1.23\n"
          ]
        },
        {
          "name": "stdout",
          "output_type": "stream",
          "text": [
            "Epoch: 99, Train loss: 0.921, Val loss: 6.957, Epoch time = 0.345s\n"
          ]
        },
        {
          "name": "stderr",
          "output_type": "stream",
          "text": [
            "epoch 100, iter 0, losses 1.20, avg. loss 1.20\n"
          ]
        },
        {
          "name": "stdout",
          "output_type": "stream",
          "text": [
            "Epoch: 100, Train loss: 0.897, Val loss: 7.014, Epoch time = 0.339s\n"
          ]
        },
        {
          "name": "stderr",
          "output_type": "stream",
          "text": [
            "epoch 101, iter 0, losses 1.16, avg. loss 1.16\n"
          ]
        },
        {
          "name": "stdout",
          "output_type": "stream",
          "text": [
            "Epoch: 101, Train loss: 0.862, Val loss: 6.988, Epoch time = 0.338s\n"
          ]
        },
        {
          "name": "stderr",
          "output_type": "stream",
          "text": [
            "epoch 102, iter 0, losses 1.13, avg. loss 1.13\n"
          ]
        },
        {
          "name": "stdout",
          "output_type": "stream",
          "text": [
            "Epoch: 102, Train loss: 0.841, Val loss: 7.017, Epoch time = 0.337s\n"
          ]
        },
        {
          "name": "stderr",
          "output_type": "stream",
          "text": [
            "epoch 103, iter 0, losses 1.09, avg. loss 1.09\n"
          ]
        },
        {
          "name": "stdout",
          "output_type": "stream",
          "text": [
            "Epoch: 103, Train loss: 0.809, Val loss: 7.051, Epoch time = 0.336s\n"
          ]
        },
        {
          "name": "stderr",
          "output_type": "stream",
          "text": [
            "epoch 104, iter 0, losses 1.05, avg. loss 1.05\n"
          ]
        },
        {
          "name": "stdout",
          "output_type": "stream",
          "text": [
            "Epoch: 104, Train loss: 0.781, Val loss: 7.029, Epoch time = 0.340s\n"
          ]
        },
        {
          "name": "stderr",
          "output_type": "stream",
          "text": [
            "epoch 105, iter 0, losses 1.02, avg. loss 1.02\n"
          ]
        },
        {
          "name": "stdout",
          "output_type": "stream",
          "text": [
            "Epoch: 105, Train loss: 0.756, Val loss: 7.102, Epoch time = 0.334s\n"
          ]
        },
        {
          "name": "stderr",
          "output_type": "stream",
          "text": [
            "epoch 106, iter 0, losses 1.01, avg. loss 1.01\n"
          ]
        },
        {
          "name": "stdout",
          "output_type": "stream",
          "text": [
            "Epoch: 106, Train loss: 0.738, Val loss: 7.081, Epoch time = 0.329s\n"
          ]
        },
        {
          "name": "stderr",
          "output_type": "stream",
          "text": [
            "epoch 107, iter 0, losses 0.97, avg. loss 0.97\n"
          ]
        },
        {
          "name": "stdout",
          "output_type": "stream",
          "text": [
            "Epoch: 107, Train loss: 0.714, Val loss: 7.105, Epoch time = 0.330s\n"
          ]
        },
        {
          "name": "stderr",
          "output_type": "stream",
          "text": [
            "epoch 108, iter 0, losses 0.94, avg. loss 0.94\n"
          ]
        },
        {
          "name": "stdout",
          "output_type": "stream",
          "text": [
            "Epoch: 108, Train loss: 0.687, Val loss: 7.101, Epoch time = 0.326s\n"
          ]
        },
        {
          "name": "stderr",
          "output_type": "stream",
          "text": [
            "epoch 109, iter 0, losses 0.91, avg. loss 0.91\n"
          ]
        },
        {
          "name": "stdout",
          "output_type": "stream",
          "text": [
            "Epoch: 109, Train loss: 0.664, Val loss: 7.129, Epoch time = 0.338s\n"
          ]
        },
        {
          "name": "stderr",
          "output_type": "stream",
          "text": [
            "epoch 110, iter 0, losses 0.89, avg. loss 0.89\n"
          ]
        },
        {
          "name": "stdout",
          "output_type": "stream",
          "text": [
            "Epoch: 110, Train loss: 0.643, Val loss: 7.105, Epoch time = 0.334s\n"
          ]
        },
        {
          "name": "stderr",
          "output_type": "stream",
          "text": [
            "epoch 111, iter 0, losses 0.87, avg. loss 0.87\n"
          ]
        },
        {
          "name": "stdout",
          "output_type": "stream",
          "text": [
            "Epoch: 111, Train loss: 0.630, Val loss: 7.140, Epoch time = 0.332s\n"
          ]
        },
        {
          "name": "stderr",
          "output_type": "stream",
          "text": [
            "epoch 112, iter 0, losses 0.83, avg. loss 0.83\n"
          ]
        },
        {
          "name": "stdout",
          "output_type": "stream",
          "text": [
            "Epoch: 112, Train loss: 0.605, Val loss: 7.124, Epoch time = 0.333s\n"
          ]
        },
        {
          "name": "stderr",
          "output_type": "stream",
          "text": [
            "epoch 113, iter 0, losses 0.81, avg. loss 0.81\n"
          ]
        },
        {
          "name": "stdout",
          "output_type": "stream",
          "text": [
            "Epoch: 113, Train loss: 0.582, Val loss: 7.140, Epoch time = 0.332s\n"
          ]
        },
        {
          "name": "stderr",
          "output_type": "stream",
          "text": [
            "epoch 114, iter 0, losses 0.78, avg. loss 0.78\n"
          ]
        },
        {
          "name": "stdout",
          "output_type": "stream",
          "text": [
            "Epoch: 114, Train loss: 0.565, Val loss: 7.172, Epoch time = 0.329s\n"
          ]
        },
        {
          "name": "stderr",
          "output_type": "stream",
          "text": [
            "epoch 115, iter 0, losses 0.77, avg. loss 0.77\n"
          ]
        },
        {
          "name": "stdout",
          "output_type": "stream",
          "text": [
            "Epoch: 115, Train loss: 0.550, Val loss: 7.182, Epoch time = 0.334s\n"
          ]
        },
        {
          "name": "stderr",
          "output_type": "stream",
          "text": [
            "epoch 116, iter 0, losses 0.74, avg. loss 0.74\n"
          ]
        },
        {
          "name": "stdout",
          "output_type": "stream",
          "text": [
            "Epoch: 116, Train loss: 0.526, Val loss: 7.209, Epoch time = 0.333s\n"
          ]
        },
        {
          "name": "stderr",
          "output_type": "stream",
          "text": [
            "epoch 117, iter 0, losses 0.72, avg. loss 0.72\n"
          ]
        },
        {
          "name": "stdout",
          "output_type": "stream",
          "text": [
            "Epoch: 117, Train loss: 0.513, Val loss: 7.215, Epoch time = 0.331s\n"
          ]
        },
        {
          "name": "stderr",
          "output_type": "stream",
          "text": [
            "epoch 118, iter 0, losses 0.69, avg. loss 0.69\n"
          ]
        },
        {
          "name": "stdout",
          "output_type": "stream",
          "text": [
            "Epoch: 118, Train loss: 0.495, Val loss: 7.201, Epoch time = 0.335s\n"
          ]
        },
        {
          "name": "stderr",
          "output_type": "stream",
          "text": [
            "epoch 119, iter 0, losses 0.67, avg. loss 0.67\n"
          ]
        },
        {
          "name": "stdout",
          "output_type": "stream",
          "text": [
            "Epoch: 119, Train loss: 0.475, Val loss: 7.227, Epoch time = 0.332s\n"
          ]
        },
        {
          "name": "stderr",
          "output_type": "stream",
          "text": [
            "epoch 120, iter 0, losses 0.65, avg. loss 0.65\n"
          ]
        },
        {
          "name": "stdout",
          "output_type": "stream",
          "text": [
            "Epoch: 120, Train loss: 0.460, Val loss: 7.263, Epoch time = 0.332s\n"
          ]
        },
        {
          "name": "stderr",
          "output_type": "stream",
          "text": [
            "epoch 121, iter 0, losses 0.63, avg. loss 0.63\n"
          ]
        },
        {
          "name": "stdout",
          "output_type": "stream",
          "text": [
            "Epoch: 121, Train loss: 0.444, Val loss: 7.231, Epoch time = 0.331s\n"
          ]
        },
        {
          "name": "stderr",
          "output_type": "stream",
          "text": [
            "epoch 122, iter 0, losses 0.61, avg. loss 0.61\n"
          ]
        },
        {
          "name": "stdout",
          "output_type": "stream",
          "text": [
            "Epoch: 122, Train loss: 0.434, Val loss: 7.308, Epoch time = 0.334s\n"
          ]
        },
        {
          "name": "stderr",
          "output_type": "stream",
          "text": [
            "epoch 123, iter 0, losses 0.60, avg. loss 0.60\n"
          ]
        },
        {
          "name": "stdout",
          "output_type": "stream",
          "text": [
            "Epoch: 123, Train loss: 0.420, Val loss: 7.246, Epoch time = 0.338s\n"
          ]
        },
        {
          "name": "stderr",
          "output_type": "stream",
          "text": [
            "epoch 124, iter 0, losses 0.57, avg. loss 0.57\n"
          ]
        },
        {
          "name": "stdout",
          "output_type": "stream",
          "text": [
            "Epoch: 124, Train loss: 0.402, Val loss: 7.347, Epoch time = 0.331s\n"
          ]
        },
        {
          "name": "stderr",
          "output_type": "stream",
          "text": [
            "epoch 125, iter 0, losses 0.56, avg. loss 0.56\n"
          ]
        },
        {
          "name": "stdout",
          "output_type": "stream",
          "text": [
            "Epoch: 125, Train loss: 0.389, Val loss: 7.293, Epoch time = 0.341s\n"
          ]
        },
        {
          "name": "stderr",
          "output_type": "stream",
          "text": [
            "epoch 126, iter 0, losses 0.55, avg. loss 0.55\n"
          ]
        },
        {
          "name": "stdout",
          "output_type": "stream",
          "text": [
            "Epoch: 126, Train loss: 0.382, Val loss: 7.295, Epoch time = 0.343s\n"
          ]
        },
        {
          "name": "stderr",
          "output_type": "stream",
          "text": [
            "epoch 127, iter 0, losses 0.51, avg. loss 0.51\n"
          ]
        },
        {
          "name": "stdout",
          "output_type": "stream",
          "text": [
            "Epoch: 127, Train loss: 0.361, Val loss: 7.325, Epoch time = 0.340s\n"
          ]
        },
        {
          "name": "stderr",
          "output_type": "stream",
          "text": [
            "epoch 128, iter 0, losses 0.50, avg. loss 0.50\n"
          ]
        },
        {
          "name": "stdout",
          "output_type": "stream",
          "text": [
            "Epoch: 128, Train loss: 0.353, Val loss: 7.339, Epoch time = 0.337s\n"
          ]
        },
        {
          "name": "stderr",
          "output_type": "stream",
          "text": [
            "epoch 129, iter 0, losses 0.48, avg. loss 0.48\n"
          ]
        },
        {
          "name": "stdout",
          "output_type": "stream",
          "text": [
            "Epoch: 129, Train loss: 0.337, Val loss: 7.315, Epoch time = 0.342s\n"
          ]
        },
        {
          "name": "stderr",
          "output_type": "stream",
          "text": [
            "epoch 130, iter 0, losses 0.46, avg. loss 0.46\n"
          ]
        },
        {
          "name": "stdout",
          "output_type": "stream",
          "text": [
            "Epoch: 130, Train loss: 0.327, Val loss: 7.357, Epoch time = 0.342s\n"
          ]
        },
        {
          "name": "stderr",
          "output_type": "stream",
          "text": [
            "epoch 131, iter 0, losses 0.44, avg. loss 0.44\n"
          ]
        },
        {
          "name": "stdout",
          "output_type": "stream",
          "text": [
            "Epoch: 131, Train loss: 0.312, Val loss: 7.369, Epoch time = 0.331s\n"
          ]
        },
        {
          "name": "stderr",
          "output_type": "stream",
          "text": [
            "epoch 132, iter 0, losses 0.43, avg. loss 0.43\n"
          ]
        },
        {
          "name": "stdout",
          "output_type": "stream",
          "text": [
            "Epoch: 132, Train loss: 0.302, Val loss: 7.354, Epoch time = 0.334s\n"
          ]
        },
        {
          "name": "stderr",
          "output_type": "stream",
          "text": [
            "epoch 133, iter 0, losses 0.41, avg. loss 0.41\n"
          ]
        },
        {
          "name": "stdout",
          "output_type": "stream",
          "text": [
            "Epoch: 133, Train loss: 0.293, Val loss: 7.360, Epoch time = 0.331s\n"
          ]
        },
        {
          "name": "stderr",
          "output_type": "stream",
          "text": [
            "epoch 134, iter 0, losses 0.40, avg. loss 0.40\n"
          ]
        },
        {
          "name": "stdout",
          "output_type": "stream",
          "text": [
            "Epoch: 134, Train loss: 0.283, Val loss: 7.404, Epoch time = 0.336s\n"
          ]
        },
        {
          "name": "stderr",
          "output_type": "stream",
          "text": [
            "epoch 135, iter 0, losses 0.38, avg. loss 0.38\n"
          ]
        },
        {
          "name": "stdout",
          "output_type": "stream",
          "text": [
            "Epoch: 135, Train loss: 0.271, Val loss: 7.398, Epoch time = 0.334s\n"
          ]
        },
        {
          "name": "stderr",
          "output_type": "stream",
          "text": [
            "epoch 136, iter 0, losses 0.37, avg. loss 0.37\n"
          ]
        },
        {
          "name": "stdout",
          "output_type": "stream",
          "text": [
            "Epoch: 136, Train loss: 0.258, Val loss: 7.379, Epoch time = 0.341s\n"
          ]
        },
        {
          "name": "stderr",
          "output_type": "stream",
          "text": [
            "epoch 137, iter 0, losses 0.36, avg. loss 0.36\n"
          ]
        },
        {
          "name": "stdout",
          "output_type": "stream",
          "text": [
            "Epoch: 137, Train loss: 0.251, Val loss: 7.450, Epoch time = 0.345s\n"
          ]
        },
        {
          "name": "stderr",
          "output_type": "stream",
          "text": [
            "epoch 138, iter 0, losses 0.34, avg. loss 0.34\n"
          ]
        },
        {
          "name": "stdout",
          "output_type": "stream",
          "text": [
            "Epoch: 138, Train loss: 0.242, Val loss: 7.451, Epoch time = 0.338s\n"
          ]
        },
        {
          "name": "stderr",
          "output_type": "stream",
          "text": [
            "epoch 139, iter 0, losses 0.33, avg. loss 0.33\n"
          ]
        },
        {
          "name": "stdout",
          "output_type": "stream",
          "text": [
            "Epoch: 139, Train loss: 0.235, Val loss: 7.453, Epoch time = 0.344s\n"
          ]
        },
        {
          "name": "stderr",
          "output_type": "stream",
          "text": [
            "epoch 140, iter 0, losses 0.32, avg. loss 0.32\n"
          ]
        },
        {
          "name": "stdout",
          "output_type": "stream",
          "text": [
            "Epoch: 140, Train loss: 0.224, Val loss: 7.468, Epoch time = 0.340s\n"
          ]
        },
        {
          "name": "stderr",
          "output_type": "stream",
          "text": [
            "epoch 141, iter 0, losses 0.31, avg. loss 0.31\n"
          ]
        },
        {
          "name": "stdout",
          "output_type": "stream",
          "text": [
            "Epoch: 141, Train loss: 0.220, Val loss: 7.454, Epoch time = 0.339s\n"
          ]
        },
        {
          "name": "stderr",
          "output_type": "stream",
          "text": [
            "epoch 142, iter 0, losses 0.30, avg. loss 0.30\n"
          ]
        },
        {
          "name": "stdout",
          "output_type": "stream",
          "text": [
            "Epoch: 142, Train loss: 0.211, Val loss: 7.500, Epoch time = 0.337s\n"
          ]
        },
        {
          "name": "stderr",
          "output_type": "stream",
          "text": [
            "epoch 143, iter 0, losses 0.28, avg. loss 0.28\n"
          ]
        },
        {
          "name": "stdout",
          "output_type": "stream",
          "text": [
            "Epoch: 143, Train loss: 0.201, Val loss: 7.540, Epoch time = 0.338s\n"
          ]
        },
        {
          "name": "stderr",
          "output_type": "stream",
          "text": [
            "epoch 144, iter 0, losses 0.28, avg. loss 0.28\n"
          ]
        },
        {
          "name": "stdout",
          "output_type": "stream",
          "text": [
            "Epoch: 144, Train loss: 0.196, Val loss: 7.547, Epoch time = 0.339s\n"
          ]
        },
        {
          "name": "stderr",
          "output_type": "stream",
          "text": [
            "epoch 145, iter 0, losses 0.26, avg. loss 0.26\n"
          ]
        },
        {
          "name": "stdout",
          "output_type": "stream",
          "text": [
            "Epoch: 145, Train loss: 0.187, Val loss: 7.552, Epoch time = 0.336s\n"
          ]
        },
        {
          "name": "stderr",
          "output_type": "stream",
          "text": [
            "epoch 146, iter 0, losses 0.26, avg. loss 0.26\n"
          ]
        },
        {
          "name": "stdout",
          "output_type": "stream",
          "text": [
            "Epoch: 146, Train loss: 0.185, Val loss: 7.524, Epoch time = 0.337s\n"
          ]
        },
        {
          "name": "stderr",
          "output_type": "stream",
          "text": [
            "epoch 147, iter 0, losses 0.25, avg. loss 0.25\n"
          ]
        },
        {
          "name": "stdout",
          "output_type": "stream",
          "text": [
            "Epoch: 147, Train loss: 0.176, Val loss: 7.522, Epoch time = 0.339s\n"
          ]
        },
        {
          "name": "stderr",
          "output_type": "stream",
          "text": [
            "epoch 148, iter 0, losses 0.25, avg. loss 0.25\n"
          ]
        },
        {
          "name": "stdout",
          "output_type": "stream",
          "text": [
            "Epoch: 148, Train loss: 0.175, Val loss: 7.612, Epoch time = 0.331s\n"
          ]
        },
        {
          "name": "stderr",
          "output_type": "stream",
          "text": [
            "epoch 149, iter 0, losses 0.23, avg. loss 0.23\n"
          ]
        },
        {
          "name": "stdout",
          "output_type": "stream",
          "text": [
            "Epoch: 149, Train loss: 0.165, Val loss: 7.585, Epoch time = 0.337s\n"
          ]
        },
        {
          "name": "stderr",
          "output_type": "stream",
          "text": [
            "epoch 150, iter 0, losses 0.22, avg. loss 0.22\n"
          ]
        },
        {
          "name": "stdout",
          "output_type": "stream",
          "text": [
            "Epoch: 150, Train loss: 0.157, Val loss: 7.596, Epoch time = 0.338s\n"
          ]
        },
        {
          "name": "stderr",
          "output_type": "stream",
          "text": [
            "epoch 151, iter 0, losses 0.21, avg. loss 0.21\n"
          ]
        },
        {
          "name": "stdout",
          "output_type": "stream",
          "text": [
            "Epoch: 151, Train loss: 0.152, Val loss: 7.580, Epoch time = 0.343s\n"
          ]
        },
        {
          "name": "stderr",
          "output_type": "stream",
          "text": [
            "epoch 152, iter 0, losses 0.20, avg. loss 0.20\n"
          ]
        },
        {
          "name": "stdout",
          "output_type": "stream",
          "text": [
            "Epoch: 152, Train loss: 0.145, Val loss: 7.562, Epoch time = 0.344s\n"
          ]
        },
        {
          "name": "stderr",
          "output_type": "stream",
          "text": [
            "epoch 153, iter 0, losses 0.20, avg. loss 0.20\n"
          ]
        },
        {
          "name": "stdout",
          "output_type": "stream",
          "text": [
            "Epoch: 153, Train loss: 0.143, Val loss: 7.622, Epoch time = 0.341s\n"
          ]
        },
        {
          "name": "stderr",
          "output_type": "stream",
          "text": [
            "epoch 154, iter 0, losses 0.19, avg. loss 0.19\n"
          ]
        },
        {
          "name": "stdout",
          "output_type": "stream",
          "text": [
            "Epoch: 154, Train loss: 0.138, Val loss: 7.622, Epoch time = 0.342s\n"
          ]
        },
        {
          "name": "stderr",
          "output_type": "stream",
          "text": [
            "epoch 155, iter 0, losses 0.19, avg. loss 0.19\n"
          ]
        },
        {
          "name": "stdout",
          "output_type": "stream",
          "text": [
            "Epoch: 155, Train loss: 0.135, Val loss: 7.623, Epoch time = 0.349s\n"
          ]
        },
        {
          "name": "stderr",
          "output_type": "stream",
          "text": [
            "epoch 156, iter 0, losses 0.18, avg. loss 0.18\n"
          ]
        },
        {
          "name": "stdout",
          "output_type": "stream",
          "text": [
            "Epoch: 156, Train loss: 0.132, Val loss: 7.622, Epoch time = 0.346s\n"
          ]
        },
        {
          "name": "stderr",
          "output_type": "stream",
          "text": [
            "epoch 157, iter 0, losses 0.18, avg. loss 0.18\n"
          ]
        },
        {
          "name": "stdout",
          "output_type": "stream",
          "text": [
            "Epoch: 157, Train loss: 0.127, Val loss: 7.649, Epoch time = 0.337s\n"
          ]
        },
        {
          "name": "stderr",
          "output_type": "stream",
          "text": [
            "epoch 158, iter 0, losses 0.17, avg. loss 0.17\n"
          ]
        },
        {
          "name": "stdout",
          "output_type": "stream",
          "text": [
            "Epoch: 158, Train loss: 0.122, Val loss: 7.657, Epoch time = 0.341s\n"
          ]
        },
        {
          "name": "stderr",
          "output_type": "stream",
          "text": [
            "epoch 159, iter 0, losses 0.16, avg. loss 0.16\n"
          ]
        },
        {
          "name": "stdout",
          "output_type": "stream",
          "text": [
            "Epoch: 159, Train loss: 0.118, Val loss: 7.605, Epoch time = 0.339s\n"
          ]
        },
        {
          "name": "stderr",
          "output_type": "stream",
          "text": [
            "epoch 160, iter 0, losses 0.16, avg. loss 0.16\n"
          ]
        },
        {
          "name": "stdout",
          "output_type": "stream",
          "text": [
            "Epoch: 160, Train loss: 0.115, Val loss: 7.644, Epoch time = 0.338s\n"
          ]
        },
        {
          "name": "stderr",
          "output_type": "stream",
          "text": [
            "epoch 161, iter 0, losses 0.15, avg. loss 0.15\n"
          ]
        },
        {
          "name": "stdout",
          "output_type": "stream",
          "text": [
            "Epoch: 161, Train loss: 0.109, Val loss: 7.711, Epoch time = 0.339s\n"
          ]
        },
        {
          "name": "stderr",
          "output_type": "stream",
          "text": [
            "epoch 162, iter 0, losses 0.15, avg. loss 0.15\n"
          ]
        },
        {
          "name": "stdout",
          "output_type": "stream",
          "text": [
            "Epoch: 162, Train loss: 0.107, Val loss: 7.714, Epoch time = 0.335s\n"
          ]
        },
        {
          "name": "stderr",
          "output_type": "stream",
          "text": [
            "epoch 163, iter 0, losses 0.14, avg. loss 0.14\n"
          ]
        },
        {
          "name": "stdout",
          "output_type": "stream",
          "text": [
            "Epoch: 163, Train loss: 0.103, Val loss: 7.669, Epoch time = 0.337s\n"
          ]
        },
        {
          "name": "stderr",
          "output_type": "stream",
          "text": [
            "epoch 164, iter 0, losses 0.14, avg. loss 0.14\n"
          ]
        },
        {
          "name": "stdout",
          "output_type": "stream",
          "text": [
            "Epoch: 164, Train loss: 0.100, Val loss: 7.676, Epoch time = 0.336s\n"
          ]
        },
        {
          "name": "stderr",
          "output_type": "stream",
          "text": [
            "epoch 165, iter 0, losses 0.13, avg. loss 0.13\n"
          ]
        },
        {
          "name": "stdout",
          "output_type": "stream",
          "text": [
            "Epoch: 165, Train loss: 0.098, Val loss: 7.706, Epoch time = 0.336s\n"
          ]
        },
        {
          "name": "stderr",
          "output_type": "stream",
          "text": [
            "epoch 166, iter 0, losses 0.13, avg. loss 0.13\n"
          ]
        },
        {
          "name": "stdout",
          "output_type": "stream",
          "text": [
            "Epoch: 166, Train loss: 0.096, Val loss: 7.717, Epoch time = 0.346s\n"
          ]
        },
        {
          "name": "stderr",
          "output_type": "stream",
          "text": [
            "epoch 167, iter 0, losses 0.12, avg. loss 0.12\n"
          ]
        },
        {
          "name": "stdout",
          "output_type": "stream",
          "text": [
            "Epoch: 167, Train loss: 0.090, Val loss: 7.746, Epoch time = 0.340s\n"
          ]
        },
        {
          "name": "stderr",
          "output_type": "stream",
          "text": [
            "epoch 168, iter 0, losses 0.12, avg. loss 0.12\n"
          ]
        },
        {
          "name": "stdout",
          "output_type": "stream",
          "text": [
            "Epoch: 168, Train loss: 0.087, Val loss: 7.741, Epoch time = 0.337s\n"
          ]
        },
        {
          "name": "stderr",
          "output_type": "stream",
          "text": [
            "epoch 169, iter 0, losses 0.12, avg. loss 0.12\n"
          ]
        },
        {
          "name": "stdout",
          "output_type": "stream",
          "text": [
            "Epoch: 169, Train loss: 0.086, Val loss: 7.748, Epoch time = 0.342s\n"
          ]
        },
        {
          "name": "stderr",
          "output_type": "stream",
          "text": [
            "epoch 170, iter 0, losses 0.12, avg. loss 0.12\n"
          ]
        },
        {
          "name": "stdout",
          "output_type": "stream",
          "text": [
            "Epoch: 170, Train loss: 0.085, Val loss: 7.800, Epoch time = 0.407s\n"
          ]
        },
        {
          "name": "stderr",
          "output_type": "stream",
          "text": [
            "epoch 171, iter 0, losses 0.11, avg. loss 0.11\n"
          ]
        },
        {
          "name": "stdout",
          "output_type": "stream",
          "text": [
            "Epoch: 171, Train loss: 0.080, Val loss: 7.754, Epoch time = 0.532s\n"
          ]
        },
        {
          "name": "stderr",
          "output_type": "stream",
          "text": [
            "epoch 172, iter 0, losses 0.11, avg. loss 0.11\n"
          ]
        },
        {
          "name": "stdout",
          "output_type": "stream",
          "text": [
            "Epoch: 172, Train loss: 0.078, Val loss: 7.804, Epoch time = 0.341s\n"
          ]
        },
        {
          "name": "stderr",
          "output_type": "stream",
          "text": [
            "epoch 173, iter 0, losses 0.10, avg. loss 0.10\n"
          ]
        },
        {
          "name": "stdout",
          "output_type": "stream",
          "text": [
            "Epoch: 173, Train loss: 0.075, Val loss: 7.806, Epoch time = 0.342s\n"
          ]
        },
        {
          "name": "stderr",
          "output_type": "stream",
          "text": [
            "epoch 174, iter 0, losses 0.10, avg. loss 0.10\n"
          ]
        },
        {
          "name": "stdout",
          "output_type": "stream",
          "text": [
            "Epoch: 174, Train loss: 0.072, Val loss: 7.750, Epoch time = 0.341s\n"
          ]
        },
        {
          "name": "stderr",
          "output_type": "stream",
          "text": [
            "epoch 175, iter 0, losses 0.10, avg. loss 0.10\n"
          ]
        },
        {
          "name": "stdout",
          "output_type": "stream",
          "text": [
            "Epoch: 175, Train loss: 0.072, Val loss: 7.760, Epoch time = 0.356s\n"
          ]
        },
        {
          "name": "stderr",
          "output_type": "stream",
          "text": [
            "epoch 176, iter 0, losses 0.10, avg. loss 0.10\n"
          ]
        },
        {
          "name": "stdout",
          "output_type": "stream",
          "text": [
            "Epoch: 176, Train loss: 0.069, Val loss: 7.804, Epoch time = 0.348s\n"
          ]
        },
        {
          "name": "stderr",
          "output_type": "stream",
          "text": [
            "epoch 177, iter 0, losses 0.09, avg. loss 0.09\n"
          ]
        },
        {
          "name": "stdout",
          "output_type": "stream",
          "text": [
            "Epoch: 177, Train loss: 0.066, Val loss: 7.825, Epoch time = 0.351s\n"
          ]
        },
        {
          "name": "stderr",
          "output_type": "stream",
          "text": [
            "epoch 178, iter 0, losses 0.09, avg. loss 0.09\n"
          ]
        },
        {
          "name": "stdout",
          "output_type": "stream",
          "text": [
            "Epoch: 178, Train loss: 0.064, Val loss: 7.847, Epoch time = 0.342s\n"
          ]
        },
        {
          "name": "stderr",
          "output_type": "stream",
          "text": [
            "epoch 179, iter 0, losses 0.09, avg. loss 0.09\n"
          ]
        },
        {
          "name": "stdout",
          "output_type": "stream",
          "text": [
            "Epoch: 179, Train loss: 0.062, Val loss: 7.814, Epoch time = 0.348s\n"
          ]
        },
        {
          "name": "stderr",
          "output_type": "stream",
          "text": [
            "epoch 180, iter 0, losses 0.08, avg. loss 0.08\n"
          ]
        },
        {
          "name": "stdout",
          "output_type": "stream",
          "text": [
            "Epoch: 180, Train loss: 0.061, Val loss: 7.815, Epoch time = 0.348s\n"
          ]
        },
        {
          "name": "stderr",
          "output_type": "stream",
          "text": [
            "epoch 181, iter 0, losses 0.08, avg. loss 0.08\n"
          ]
        },
        {
          "name": "stdout",
          "output_type": "stream",
          "text": [
            "Epoch: 181, Train loss: 0.059, Val loss: 7.873, Epoch time = 0.341s\n"
          ]
        },
        {
          "name": "stderr",
          "output_type": "stream",
          "text": [
            "epoch 182, iter 0, losses 0.08, avg. loss 0.08\n"
          ]
        },
        {
          "name": "stdout",
          "output_type": "stream",
          "text": [
            "Epoch: 182, Train loss: 0.056, Val loss: 7.887, Epoch time = 0.342s\n"
          ]
        },
        {
          "name": "stderr",
          "output_type": "stream",
          "text": [
            "epoch 183, iter 0, losses 0.07, avg. loss 0.07\n"
          ]
        },
        {
          "name": "stdout",
          "output_type": "stream",
          "text": [
            "Epoch: 183, Train loss: 0.055, Val loss: 7.873, Epoch time = 0.343s\n"
          ]
        },
        {
          "name": "stderr",
          "output_type": "stream",
          "text": [
            "epoch 184, iter 0, losses 0.07, avg. loss 0.07\n"
          ]
        },
        {
          "name": "stdout",
          "output_type": "stream",
          "text": [
            "Epoch: 184, Train loss: 0.053, Val loss: 7.899, Epoch time = 0.339s\n"
          ]
        },
        {
          "name": "stderr",
          "output_type": "stream",
          "text": [
            "epoch 185, iter 0, losses 0.07, avg. loss 0.07\n"
          ]
        },
        {
          "name": "stdout",
          "output_type": "stream",
          "text": [
            "Epoch: 185, Train loss: 0.051, Val loss: 7.918, Epoch time = 0.347s\n"
          ]
        },
        {
          "name": "stderr",
          "output_type": "stream",
          "text": [
            "epoch 186, iter 0, losses 0.07, avg. loss 0.07\n"
          ]
        },
        {
          "name": "stdout",
          "output_type": "stream",
          "text": [
            "Epoch: 186, Train loss: 0.050, Val loss: 7.919, Epoch time = 0.336s\n"
          ]
        },
        {
          "name": "stderr",
          "output_type": "stream",
          "text": [
            "epoch 187, iter 0, losses 0.07, avg. loss 0.07\n"
          ]
        },
        {
          "name": "stdout",
          "output_type": "stream",
          "text": [
            "Epoch: 187, Train loss: 0.048, Val loss: 7.926, Epoch time = 0.342s\n"
          ]
        },
        {
          "name": "stderr",
          "output_type": "stream",
          "text": [
            "epoch 188, iter 0, losses 0.06, avg. loss 0.06\n"
          ]
        },
        {
          "name": "stdout",
          "output_type": "stream",
          "text": [
            "Epoch: 188, Train loss: 0.047, Val loss: 7.935, Epoch time = 0.339s\n"
          ]
        },
        {
          "name": "stderr",
          "output_type": "stream",
          "text": [
            "epoch 189, iter 0, losses 0.06, avg. loss 0.06\n"
          ]
        },
        {
          "name": "stdout",
          "output_type": "stream",
          "text": [
            "Epoch: 189, Train loss: 0.046, Val loss: 7.978, Epoch time = 0.341s\n"
          ]
        },
        {
          "name": "stderr",
          "output_type": "stream",
          "text": [
            "epoch 190, iter 0, losses 0.06, avg. loss 0.06\n"
          ]
        },
        {
          "name": "stdout",
          "output_type": "stream",
          "text": [
            "Epoch: 190, Train loss: 0.044, Val loss: 7.992, Epoch time = 0.338s\n"
          ]
        },
        {
          "name": "stderr",
          "output_type": "stream",
          "text": [
            "epoch 191, iter 0, losses 0.06, avg. loss 0.06\n"
          ]
        },
        {
          "name": "stdout",
          "output_type": "stream",
          "text": [
            "Epoch: 191, Train loss: 0.043, Val loss: 7.963, Epoch time = 0.339s\n"
          ]
        },
        {
          "name": "stderr",
          "output_type": "stream",
          "text": [
            "epoch 192, iter 0, losses 0.06, avg. loss 0.06\n"
          ]
        },
        {
          "name": "stdout",
          "output_type": "stream",
          "text": [
            "Epoch: 192, Train loss: 0.042, Val loss: 7.963, Epoch time = 0.341s\n"
          ]
        },
        {
          "name": "stderr",
          "output_type": "stream",
          "text": [
            "epoch 193, iter 0, losses 0.06, avg. loss 0.06\n"
          ]
        },
        {
          "name": "stdout",
          "output_type": "stream",
          "text": [
            "Epoch: 193, Train loss: 0.040, Val loss: 7.995, Epoch time = 0.342s\n"
          ]
        },
        {
          "name": "stderr",
          "output_type": "stream",
          "text": [
            "epoch 194, iter 0, losses 0.06, avg. loss 0.06\n"
          ]
        },
        {
          "name": "stdout",
          "output_type": "stream",
          "text": [
            "Epoch: 194, Train loss: 0.041, Val loss: 8.056, Epoch time = 0.342s\n"
          ]
        },
        {
          "name": "stderr",
          "output_type": "stream",
          "text": [
            "epoch 195, iter 0, losses 0.05, avg. loss 0.05\n"
          ]
        },
        {
          "name": "stdout",
          "output_type": "stream",
          "text": [
            "Epoch: 195, Train loss: 0.040, Val loss: 8.045, Epoch time = 0.339s\n"
          ]
        },
        {
          "name": "stderr",
          "output_type": "stream",
          "text": [
            "epoch 196, iter 0, losses 0.05, avg. loss 0.05\n"
          ]
        },
        {
          "name": "stdout",
          "output_type": "stream",
          "text": [
            "Epoch: 196, Train loss: 0.038, Val loss: 8.046, Epoch time = 0.379s\n"
          ]
        },
        {
          "name": "stderr",
          "output_type": "stream",
          "text": [
            "epoch 197, iter 0, losses 0.05, avg. loss 0.05\n"
          ]
        },
        {
          "name": "stdout",
          "output_type": "stream",
          "text": [
            "Epoch: 197, Train loss: 0.038, Val loss: 8.047, Epoch time = 0.378s\n"
          ]
        },
        {
          "name": "stderr",
          "output_type": "stream",
          "text": [
            "epoch 198, iter 0, losses 0.05, avg. loss 0.05\n"
          ]
        },
        {
          "name": "stdout",
          "output_type": "stream",
          "text": [
            "Epoch: 198, Train loss: 0.036, Val loss: 8.061, Epoch time = 0.340s\n"
          ]
        },
        {
          "name": "stderr",
          "output_type": "stream",
          "text": [
            "epoch 199, iter 0, losses 0.05, avg. loss 0.05\n"
          ]
        },
        {
          "name": "stdout",
          "output_type": "stream",
          "text": [
            "Epoch: 199, Train loss: 0.035, Val loss: 8.007, Epoch time = 0.338s\n"
          ]
        },
        {
          "name": "stderr",
          "output_type": "stream",
          "text": [
            "epoch 200, iter 0, losses 0.05, avg. loss 0.05\n"
          ]
        },
        {
          "name": "stdout",
          "output_type": "stream",
          "text": [
            "Epoch: 200, Train loss: 0.035, Val loss: 8.006, Epoch time = 0.349s\n"
          ]
        }
      ],
      "source": [
        "from timeit import default_timer as timer\n",
        "args.max_epoch = 200\n",
        "\n",
        "for epoch in range(args.max_epoch):\n",
        "    start_time = timer()\n",
        "    train_loss = train_epoch(transformer, optimizer, epoch)\n",
        "    end_time = timer()\n",
        "    val_loss = evaluate(transformer)\n",
        "    print((f\"Epoch: {epoch}, Train loss: {train_loss:.3f}, Val loss: {val_loss:.3f}, \"f\"Epoch time = {(end_time - start_time):.3f}s\"))"
      ]
    },
    {
      "cell_type": "markdown",
      "metadata": {
        "id": "TiVrxI2tasTR"
      },
      "source": [
        "## Testing the model"
      ]
    },
    {
      "cell_type": "markdown",
      "metadata": {
        "id": "rhLRKX6vccix"
      },
      "source": [
        "Greedy Decoding: At each step, pick the most probable token.\n",
        "\n",
        "The straightforward decoding strategy is greedy - at each step, generate a token with the highest probability. This can be a good baseline to test our model, but this method is inherently flawed: the best token at the current step does not necessarily lead to the best sequence."
      ]
    },
    {
      "cell_type": "markdown",
      "metadata": {
        "id": "adbc1m3Ec9aj"
      },
      "source": [
        "## Q10: (5 points) Greedy Decoding\n",
        "Implement the `greedy_decode` function  to initialize the\n",
        "necessary module for our TransformerNMT model."
      ]
    },
    {
      "cell_type": "code",
      "execution_count": null,
      "metadata": {
        "id": "G1wBX52xaaeq"
      },
      "outputs": [],
      "source": [
        "# function to generate output sequence using greedy algorithm\n",
        "def greedy_decode(model, src, src_mask, max_len, start_symbol):\n",
        "    \"\"\" Generates a sequence using greedy decoding based on the given model.\n",
        "    @param model (torch.nn.Module): The transformer model used for decoding.\n",
        "    @param src (torch.Tensor): The source sequence tensor of shape (src_seq_len, 1).\n",
        "    @param src_mask (torch.Tensor): The mask for the source sequence of shape (src_seq_len, src_seg_len).\n",
        "    @param max_len (int): The maximum length of the generated sequence.\n",
        "    @param start_symbol (int): The starting symbol for the decoding process.\n",
        "\n",
        "    @returns: torch.Tensor: The generated sequence tensor of shape (tgt_seq_len, 1), with 0 < tgt_seq_len < max_len.\n",
        "\n",
        "    Note:\n",
        "        The decoding process is performed using greedy decoding, where at each step,\n",
        "        the model predicts the next word in the sequence based on the highest probability.\n",
        "    \"\"\"\n",
        "\n",
        "    src = src.to(DEVICE)\n",
        "    src_mask = src_mask.to(DEVICE)\n",
        "\n",
        "    ys = torch.ones(1, 1).fill_(start_symbol).type(torch.long).to(DEVICE)\n",
        "    ### YOUR CODE HERE (~12 lines)\n",
        "\n",
        "\n",
        "    ### END YOUR CODE\n",
        "    return ys\n",
        "\n",
        "\n",
        "# actual function to translate input sentence into target language\n",
        "def translate(model: torch.nn.Module, src_sentence: str):\n",
        "    model.eval()\n",
        "    src = text_transform[SRC_LANGUAGE](src_sentence).view(-1, 1)\n",
        "    num_tokens = src.shape[0]\n",
        "    src_mask = (torch.zeros(num_tokens, num_tokens)).type(torch.bool)\n",
        "    tgt_tokens = greedy_decode(\n",
        "        model,  src, src_mask, max_len=num_tokens + 20, start_symbol=BOS_IDX).flatten()\n",
        "    return \" \".join(vocab.tgt.indices2words(list(tgt_tokens.cpu().numpy()))).replace(\"<s>\", \"\").replace(\"</s>\", \"\")"
      ]
    },
    {
      "cell_type": "code",
      "execution_count": null,
      "metadata": {
        "colab": {
          "base_uri": "https://localhost:8080/"
        },
        "id": "ggy9A0qBdfmL",
        "outputId": "f42d00ef-844e-4e04-ee29-aec2c4a2a538"
      },
      "outputs": [
        {
          "name": "stdout",
          "output_type": "stream",
          "text": [
            "Sample 0:\n",
            "Reference: ▁Khoa ▁học ▁đ ằng ▁sau ▁một ▁tiêu ▁đề ▁về ▁khí ▁hậu\n",
            "Translation:   ▁Rachel ▁P ike ▁ : ▁The ▁science ▁ behind ▁a ▁climate ▁headline \n",
            "\n",
            "\n",
            "Sample 1:\n",
            "Reference: ▁Tro ng ▁4 ▁phút ▁, ▁chuyên ▁gia ▁hoá ▁học ▁khí ▁quyển ▁Rachel ▁P ike ▁giới ▁t hiệu ▁sơ ▁lược ▁về ▁những ▁nỗ ▁lực ▁khoa ▁học ▁m iệt ▁mà i ▁đ ằng ▁sau ▁những ▁tiêu ▁đề ▁táo ▁bạo ▁về ▁biến ▁đổi ▁khí ▁hậu ▁, ▁cùng ▁với ▁đoàn ▁nghiên ▁cứu ▁của ▁mình ▁-- ▁hàng ▁ngàn ▁người ▁đã ▁cố ng ▁ hiến ▁cho ▁dự ▁án ▁này ▁-- ▁một ▁chuyến ▁bay ▁mạo ▁hiểm ▁qua ▁rừng ▁già ▁để ▁tìm ▁kiếm ▁thông ▁tin ▁về ▁một ▁phân ▁tử ▁the n ▁chố t ▁.\n",
            "Translation:   ▁In ▁4 ▁minutes ▁ , ▁atmospher ic ▁chemist ▁Rachel ▁P ike ▁provide s ▁a ▁glimpse ▁of ▁the ▁massive ▁scientific ▁effort ▁ behind ▁the ▁bold ▁headline s ▁on ▁climate ▁change ▁ , ▁with ▁her ▁team ▁-- ▁one ▁of ▁ thousands ▁who ▁contribute d ▁-- ▁ taking ▁a ▁risk y ▁flight ▁over ▁the ▁rainforest ▁in ▁pursuit ▁of ▁data ▁on ▁a ▁key ▁molecule ▁. \n",
            "\n",
            "\n",
            "Sample 2:\n",
            "Reference: ▁Tôi ▁muốn ▁cho ▁các ▁bạn ▁biết ▁về ▁sự ▁to ▁lớn ▁của ▁những ▁nỗ ▁lực ▁khoa ▁học ▁đã ▁góp ▁phần ▁làm ▁nên ▁các ▁dò ng ▁tí t ▁bạn ▁thường ▁thấy ▁trên ▁báo ▁.\n",
            "Translation:   ▁I ▁& apos ; d ▁like ▁to ▁talk ▁to ▁you ▁to day ▁about ▁the ▁scale ▁of ▁the ▁scientific ▁effort ▁that ▁go es ▁into ▁ making ▁the ▁headline s ▁you ▁see ▁in ▁the ▁paper ▁. \n",
            "\n",
            "\n",
            "Sample 3:\n",
            "Reference: ▁Có ▁những ▁dò ng ▁tr ông ▁như ▁thế ▁này ▁khi ▁bàn ▁về ▁biến ▁đổi ▁khí ▁hậu ▁, ▁và ▁như ▁thế ▁này ▁khi ▁nói ▁về ▁chất ▁lượng ▁không ▁khí ▁hay ▁khói ▁bụ i ▁.\n",
            "Translation:   ▁Head lines ▁that ▁look ▁like ▁ this ▁when ▁the y ▁have ▁to ▁do ▁with ▁climate ▁change ▁ , ▁and ▁headline s ▁that ▁look ▁like ▁ this ▁when ▁the y ▁have ▁to ▁do ▁with ▁air ▁quality ▁or ▁smog ▁. \n",
            "\n",
            "\n",
            "Sample 4:\n",
            "Reference: ▁Cả ▁hai ▁đều ▁là ▁một ▁nh ánh ▁của ▁cùng ▁một ▁lĩnh ▁vực ▁trong ▁ngành ▁khoa ▁học ▁khí ▁quyển ▁.\n",
            "Translation:   ▁The y ▁are ▁both ▁two ▁branche s ▁of ▁the ▁same ▁field ▁of ▁atmospher ic ▁science ▁. \n",
            "\n",
            "\n"
          ]
        }
      ],
      "source": [
        "# @title Testing on training set\n",
        "num_logs = 5\n",
        "if (num_logs > len(train_data_small)):\n",
        "  num_logs = len(train_data_small)\n",
        "\n",
        "for i in range(num_logs):\n",
        "  src_sentence, tgt_sentence = train_data_small[i]\n",
        "  translation = translate(transformer, src_sentence)\n",
        "  print(f\"Sample {i}:\")\n",
        "  print(\"Source: \" + \" \".join(src_sentence))\n",
        "  print(\"Reference: \" + \" \".join(tgt_sentence).replace(\"<s>\", \"\").replace(\"</s>\", \"\"))\n",
        "  print(\"Translation: \" + translation)\n",
        "  print('\\n')"
      ]
    },
    {
      "cell_type": "code",
      "execution_count": null,
      "metadata": {
        "colab": {
          "base_uri": "https://localhost:8080/"
        },
        "id": "MTTotHLSdf82",
        "outputId": "6237decb-634f-4c40-f59f-28d06149a111"
      },
      "outputs": [
        {
          "name": "stdout",
          "output_type": "stream",
          "text": [
            "Sample 0:\n",
            "Reference: ▁Là m ▁sao ▁tôi ▁có ▁thể ▁trình ▁bày ▁trong ▁10 ▁phút ▁về ▁sợ i ▁dây ▁liên ▁kết ▁những ▁người ▁phụ ▁nữ ▁qua ▁ba ▁thế ▁hệ ▁, ▁về ▁việc ▁làm ▁thế ▁nào ▁những ▁sợ i ▁dây ▁mạnh ▁mẽ ▁đáng ▁kinh ▁ngạc ▁ấy ▁đã ▁ní u ▁ch ặt ▁lấy ▁cuộc ▁sống ▁của ▁một ▁cô ▁bé ▁bốn ▁tuổi ▁co ▁qu ắp ▁với ▁đ ứa ▁em ▁gái ▁nhỏ ▁của ▁cô ▁bé ▁, ▁với ▁mẹ ▁và ▁bà ▁trong ▁suốt ▁năm ▁ngày ▁đêm ▁trên ▁con ▁thuyền ▁nhỏ ▁lên h ▁đê nh ▁trên ▁B iển ▁Đông ▁hơn ▁30 ▁năm ▁trước ▁, ▁những ▁sợ i ▁dây ▁liên ▁kết ▁đã ▁ní u ▁lấy ▁cuộc ▁đời ▁cô ▁bé ▁ấy ▁và ▁không ▁bao ▁giờ ▁ rời ▁đi ▁-- ▁cô ▁bé ▁ấy ▁giờ ▁sống ▁ở ▁San ▁Francis co ▁và ▁đang ▁nói ▁chuyện ▁với ▁các ▁bạn ▁ hôm ▁nay ▁?\n",
            "Translation:   ▁In ▁4 ▁minutes ▁ , ▁atmospher ic ▁chemist ▁Rachel ▁P ike ▁provide s ▁a ▁glimpse ▁of ▁the ▁massive ▁scientific ▁effort ▁ behind ▁the ▁bold ▁headline s ▁on ▁climate ▁change ▁ , ▁with ▁her ▁team ▁-- ▁one ▁of ▁ thousands ▁who ▁contribute d ▁-- ▁ taking ▁a ▁risk y ▁flight ▁over ▁the ▁rainforest ▁in ▁pursuit ▁of ▁data ▁on ▁a ▁key ▁molecule ▁. \n",
            "\n",
            "\n",
            "Sample 1:\n",
            "Reference: ▁C âu ▁chuyện ▁này ▁chưa ▁kết ▁thúc ▁.\n",
            "Translation:   ▁And ▁ this ▁is ▁the ▁tower ▁from ▁be low ▁. \n",
            "\n",
            "\n",
            "Sample 2:\n",
            "Reference: ▁Nó ▁là ▁một ▁trò ▁chơi ▁ghép ▁hình ▁vẫ n ▁đang ▁được ▁xếp ▁.\n",
            "Translation:   ▁It ▁& apos ; s ▁a ▁flying ▁laboratory ▁that ▁we ▁to ok ▁to ▁make ▁measurement s ▁in ▁the ▁region ▁of ▁ this ▁molecule ▁. \n",
            "\n",
            "\n",
            "Sample 3:\n",
            "Reference: ▁Hã y ▁để ▁tôi ▁kể ▁cho ▁các ▁bạn ▁về ▁và i ▁m ảnh ▁ghép ▁nhé ▁.\n",
            "Translation:   ▁We ▁blow ▁it ▁up ▁and ▁look ▁at ▁the ▁piece s ▁. \n",
            "\n",
            "\n",
            "Sample 4:\n",
            "Reference: ▁Hã y ▁tưởng ▁tượng ▁m ảnh ▁đầu ▁tiên ▁: ▁một ▁người ▁đàn ▁ông ▁đố t ▁chá y ▁sự ▁nghiệp ▁cả ▁đời ▁mình ▁.\n",
            "Translation:   ▁And ▁out ▁of ▁that ▁field ▁campaign ▁we ▁& apos ; ll ▁probabl y ▁get ▁a ▁few ▁dozen ▁paper s ▁on ▁a ▁few ▁dozen ▁processe s ▁or ▁molecule s ▁. \n",
            "\n",
            "\n"
          ]
        }
      ],
      "source": [
        "# @title Testing on evaluate set\n",
        "num_logs = 5\n",
        "if (num_logs > len(dev_data_small)):\n",
        "  num_logs = len(dev_data_small)\n",
        "\n",
        "for i in range(num_logs):\n",
        "  src_sentence, tgt_sentence = dev_data_small[i]\n",
        "  translation = translate(transformer, src_sentence)\n",
        "  print(f\"Sample {i}:\")\n",
        "  print(\"Source: \" + \" \".join(src_sentence))\n",
        "  print(\"Reference: \" + \" \".join(tgt_sentence).replace(\"<s>\", \"\").replace(\"</s>\", \"\"))\n",
        "  print(\"Translation: \" + translation)\n",
        "  print('\\n')"
      ]
    },
    {
      "cell_type": "markdown",
      "metadata": {
        "id": "zI6QmPSEqQSu"
      },
      "source": [
        "# Great work! You have completed all the tasks in this assignment 👏"
      ]
    }
  ],
  "metadata": {
    "accelerator": "GPU",
    "colab": {
      "collapsed_sections": [
        "aJjqKeVjNdJt"
      ],
      "gpuType": "T4",
      "machine_shape": "hm",
      "provenance": [],
      "toc_visible": true
    },
    "kernelspec": {
      "display_name": "Python 3",
      "name": "python3"
    }
  },
  "nbformat": 4,
  "nbformat_minor": 0
}
