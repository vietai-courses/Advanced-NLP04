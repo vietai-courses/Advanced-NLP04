{
  "cells": [
    {
      "cell_type": "markdown",
      "source": [
        "# **Assignment 1: Translation with a Sequence to Sequence Network**\n",
        "\n",
        "This assignment is split into two sections: Neural Machine Translation with (1) RNNs and (2) Transformer. To be more specifically, in Machine Translation, our goal is to convert a sentence from the source language (e.g. Vietnamese) to the target language (e.g. English). In this assignment, we will implement a sequence-to-sequence (Seq2Seq) network based on two architectures: **RNNs with Attention** and **Transformer**, to build a Neural Machine Translation (NMT) system."
      ],
      "metadata": {
        "id": "GhYjHDP9wUiw"
      }
    },
    {
      "cell_type": "markdown",
      "source": [
        "That's a lot to digest, the goal of this assignment is to break it down into easy to understand parts. In this assignment you will:\n",
        "\n",
        "- Prepare the data.\n",
        "- Implement necessary components:\n",
        "    - With RNNs and attention architecture:\n",
        "        - Embedding Layer: to initialize the necessary word embeddings\n",
        "        - Declare basic components of our model.\n",
        "        - The Encoder & Decoder\n",
        "\n",
        "    - With Transformer Architecture:\n",
        "        - Positional embeddings.\n",
        "        - Transformer Layer\n",
        "\n",
        "- Build & train two our models.\n",
        "- Generate translations."
      ],
      "metadata": {
        "id": "UzUewzPQyv7j"
      }
    },
    {
      "cell_type": "markdown",
      "source": [
        "**Requirements**\n",
        "\n",
        "Firstly, apart from standards libraries, we need to install some package:\n",
        "\n",
        "1. `sentencepiece`: To build your own vocabulary \\\\\n",
        "2. `sacrebleu`: To evaluate our model using BLUE score metric"
      ],
      "metadata": {
        "id": "AfRYHN7dxXfn"
      }
    },
    {
      "cell_type": "code",
      "source": [
        "%%capture\n",
        "!pip install sentencepiece==0.1.97\n",
        "!pip install tqdm==4.29.1\n",
        "!pip install sacrebleu\n",
        "!pip install nltk\n",
        "!pip install 'portalocker>=2.0.0'"
      ],
      "metadata": {
        "id": "4hbap3qmadgJ"
      },
      "execution_count": null,
      "outputs": []
    },
    {
      "cell_type": "markdown",
      "source": [
        "Below, we import our standard libraries."
      ],
      "metadata": {
        "id": "yMNtv0jhyZuJ"
      }
    },
    {
      "cell_type": "code",
      "source": [
        "# Standard libraries\n",
        "import sys\n",
        "import json\n",
        "import time\n",
        "import math\n",
        "import numpy as np\n",
        "from typing import List, Tuple, Dict, Set, Union\n",
        "from collections import Counter, namedtuple\n",
        "from itertools import chain\n",
        "from dataclasses import dataclass\n",
        "\n",
        "# to compute BLUE score\n",
        "import sacrebleu\n",
        "\n",
        "# Pytorch\n",
        "import torch\n",
        "import torch.nn as nn\n",
        "import torch.nn.utils\n",
        "import torch.nn.functional as F\n",
        "from torch.nn.utils.rnn import pad_packed_sequence, pack_padded_sequence\n",
        "\n",
        "# To train vocabulary\n",
        "import sentencepiece as spm\n",
        "\n",
        "# Ensure that all operations are deterministic on GPU (if used) for reproducibility\n",
        "torch.backends.cudnn.deterministic = True\n",
        "torch.backends.cudnn.benchmark = False"
      ],
      "metadata": {
        "id": "ivUAAQs2XuIw"
      },
      "execution_count": null,
      "outputs": []
    },
    {
      "cell_type": "code",
      "source": [
        "#@title Default hyperparameters\n",
        "@dataclass\n",
        "class Args:\n",
        "    cuda: str = \"cuda:0\"\n",
        "    train_src: str = \"data/train.vi\"\n",
        "    train_tgt: str = \"data/train.en\"\n",
        "    dev_src: str = \"data/dev.vi\"\n",
        "    dev_tgt: str = 'data/dev.en'\n",
        "    vocab_file: str = 'vocab.json'\n",
        "    src_vocab_size: int = 15000\n",
        "    tgt_vocab_size: int = 21000\n",
        "    seed: int = 0\n",
        "    batch_size: int = 32\n",
        "    max_len: int = 320\n",
        "    embed_size: int = 1024\n",
        "    hidden_size: int = 768\n",
        "    clip_grad: float = 5.0                  # gradient clipping\n",
        "    log_every: int = 10                     # log every\n",
        "    max_epoch: int = 100                     # max epoch\n",
        "    patience: int = 5                       # wait for how many iterations to decay learning rate\n",
        "    max_num_trial: int = 5                  # terminate training after how many trials\n",
        "    lr_decay: float = 0.5                   # learning rate decay\n",
        "    beam_size: int = 5                      # beam size\n",
        "    lr: float = 0.001                       # learning rate\n",
        "    uniform_init: float = 0.1               # uniformly initialize all parameters\n",
        "    model_save_path: str = 'lstm_model.bin' # model save path\n",
        "    valid_niter: int = 2000                 # perform validation after how many iterations\n",
        "    dropout: float = 0.3\n",
        "    max_decoding_time_step: int = 70        # maximum number of decoding time steps\n",
        "\n",
        "args = Args()\n",
        "device = torch.device(args.cuda) if torch.cuda.is_available() else torch.device(\"cpu\")\n",
        "\n",
        "seed = int(args.seed)\n",
        "torch.manual_seed(seed)\n",
        "torch.cuda.manual_seed(seed)\n",
        "np.random.seed(seed * 13 // 7)"
      ],
      "metadata": {
        "id": "DhgJuptiW9Pa"
      },
      "execution_count": null,
      "outputs": []
    },
    {
      "cell_type": "markdown",
      "source": [
        "# Data Preparation"
      ],
      "metadata": {
        "id": "yFw7oNvnzRjf"
      }
    },
    {
      "cell_type": "markdown",
      "source": [
        "\n",
        "## Loading data files\n",
        "The data for this project is a set of thousands of Vietnamese to\n",
        "English translation pairs. We will download them first then save to 'data' folder."
      ],
      "metadata": {
        "id": "4HvcA-jc2CmC"
      }
    },
    {
      "cell_type": "code",
      "source": [
        "%%capture\n",
        "!mkdir data\n",
        "\n",
        "import os\n",
        "import re\n",
        "\n",
        "def download_file(google_drive_link, to_save_path):\n",
        "    match = re.search(r\"/file/d/(.*?)/\", google_drive_link)\n",
        "    file_id = match.group(1) if match else None\n",
        "    new_path = f\"https://drive.google.com/uc?id={file_id}\"\n",
        "\n",
        "    os.system(f\"wget --no-check-certificate {new_path} -O {to_save_path}\")\n",
        "\n",
        "\n",
        "\n",
        "data_path = 'https://drive.google.com/file/d/1eq68XlKxWBFCj4YgMRl2N5YdrZvB9FDs/view?usp=sharing'\n",
        "download_file(data_path, args.train_src)\n",
        "\n",
        "data_path = 'https://drive.google.com/file/d/1679j2kIvdl8Oe_WRSX0vi62JtOrhr1GD/view?usp=sharing'\n",
        "download_file(data_path, args.train_tgt)\n",
        "\n",
        "\n",
        "data_path = 'https://drive.google.com/file/d/1p0tBxnD-MVXyve772omfq1nFDraeI_sO/view?usp=sharing'\n",
        "download_file(data_path, args.dev_src)\n",
        "\n",
        "data_path = 'https://drive.google.com/file/d/1ZvBBTUwzYJuN4J8WCZ9-kZiBEm4iPpiL/view?usp=sharing'\n",
        "download_file(data_path, args.dev_tgt)"
      ],
      "metadata": {
        "id": "nQCDCurrVPwh"
      },
      "execution_count": null,
      "outputs": []
    },
    {
      "cell_type": "markdown",
      "source": [
        "## Logging data files"
      ],
      "metadata": {
        "id": "p0yO-MHgGKeX"
      }
    },
    {
      "cell_type": "markdown",
      "source": [
        "Understanding the appearance of our data serves as a solid starting point when addressing the issue. The data will be recorded in the source-target (src-tgt) format, featuring raw, unprocessed text. In the subsequent section, you will observe how the data undergoes preprocessing into a more suitable format, specifically using a sub-word tokenizer, to enhance the machine's comprehension."
      ],
      "metadata": {
        "id": "4UQxrse_JeVw"
      }
    },
    {
      "cell_type": "code",
      "source": [
        "def read_file(file_path):\n",
        "  \"\"\" Read file, where each sentence is dilineated by a `\\n`.\n",
        "  @param file_path (str): path to file containing corpus\n",
        "  \"\"\"\n",
        "  data = []\n",
        "  with open(file_path, 'r', encoding='utf8') as f:\n",
        "    for line in f:\n",
        "      data.append(line.strip())\n",
        "\n",
        "  return data"
      ],
      "metadata": {
        "id": "f_U7PVxJIVcv"
      },
      "execution_count": null,
      "outputs": []
    },
    {
      "cell_type": "code",
      "source": [
        "def logging_data(file_path_src, file_path_tgt, num_data):\n",
        "    \"\"\" Read file, where each sentence is dilineated by a `\\n`.\n",
        "    @param file_path (str): path to file containing corpus\n",
        "    \"\"\"\n",
        "\n",
        "    data_src = read_file(file_path_src)\n",
        "    data_tgt = read_file(file_path_tgt)\n",
        "\n",
        "    for i in range(num_data):\n",
        "      print(\"Src sent: \", data_src[i])\n",
        "      print(\"Tgt sent: \", data_tgt[i])\n",
        "      print(\"\\n\")"
      ],
      "metadata": {
        "id": "NgJsKOk-FosY"
      },
      "execution_count": null,
      "outputs": []
    },
    {
      "cell_type": "code",
      "source": [
        "logging_data(args.train_src, args.train_tgt, 5)"
      ],
      "metadata": {
        "colab": {
          "base_uri": "https://localhost:8080/"
        },
        "id": "7pqsnAr6Gw0w",
        "outputId": "d4dbfd75-1b90-43c2-c458-904d429bcdcc"
      },
      "execution_count": null,
      "outputs": [
        {
          "output_type": "stream",
          "name": "stdout",
          "text": [
            "Src sent:  Khoa học đằng sau một tiêu đề về khí hậu\n",
            "Tgt sent:  Rachel Pike : The science behind a climate headline\n",
            "\n",
            "\n",
            "Src sent:  Trong 4 phút , chuyên gia hoá học khí quyển Rachel Pike giới thiệu sơ lược về những nỗ lực khoa học miệt mài đằng sau những tiêu đề táo bạo về biến đổi khí hậu , cùng với đoàn nghiên cứu của mình -- hàng ngàn người đã cống hiến cho dự án này -- một chuyến bay mạo hiểm qua rừng già để tìm kiếm thông tin về một phân tử then chốt .\n",
            "Tgt sent:  In 4 minutes , atmospheric chemist Rachel Pike provides a glimpse of the massive scientific effort behind the bold headlines on climate change , with her team -- one of thousands who contributed -- taking a risky flight over the rainforest in pursuit of data on a key molecule .\n",
            "\n",
            "\n",
            "Src sent:  Tôi muốn cho các bạn biết về sự to lớn của những nỗ lực khoa học đã góp phần làm nên các dòng tít bạn thường thấy trên báo .\n",
            "Tgt sent:  I &apos;d like to talk to you today about the scale of the scientific effort that goes into making the headlines you see in the paper .\n",
            "\n",
            "\n",
            "Src sent:  Có những dòng trông như thế này khi bàn về biến đổi khí hậu , và như thế này khi nói về chất lượng không khí hay khói bụi .\n",
            "Tgt sent:  Headlines that look like this when they have to do with climate change , and headlines that look like this when they have to do with air quality or smog .\n",
            "\n",
            "\n",
            "Src sent:  Cả hai đều là một nhánh của cùng một lĩnh vực trong ngành khoa học khí quyển .\n",
            "Tgt sent:  They are both two branches of the same field of atmospheric science .\n",
            "\n",
            "\n"
          ]
        }
      ]
    },
    {
      "cell_type": "markdown",
      "source": [
        "# Let's start your assignment implementation 💪\n"
      ],
      "metadata": {
        "id": "dNjAaNbWypoV"
      }
    },
    {
      "cell_type": "markdown",
      "source": [
        "## Q1: Padding function (5 points)\n",
        "In order to apply tensor operations, we must ensure that the sentences in a given batch are of the same length. Thus, we must identify the longest sentence in a batch and pad others to be the same length. Implement the `pad_sents` function, which shall produce these padded sentences."
      ],
      "metadata": {
        "id": "KEmMVX8J2hHw"
      }
    },
    {
      "cell_type": "code",
      "source": [
        "def pad_sents(sents, pad_token):\n",
        "    \"\"\" Pad list of sentences according to the longest sentence in the batch.\n",
        "        The paddings should be at the end of each sentence.\n",
        "    @param sents (list[list[str]]): list of sentences, where each sentence\n",
        "                                    is represented as a list of words\n",
        "    @param pad_token (str): padding token\n",
        "    @returns sents_padded (list[list[str]]): list of sentences where sentences shorter\n",
        "        than the max length sentence are padded out with the pad_token, such that\n",
        "        each sentences in the batch now has equal length.\n",
        "    \"\"\"\n",
        "    sents_padded = []\n",
        "\n",
        "    ### YOUR CODE HERE (~6 Lines)\n",
        "\n",
        "    max_length = max([len(sent) for sent in sents])\n",
        "    for sent in sents:\n",
        "      pads = [pad_token]*(max_length - len(sent))\n",
        "      sent.extend(pads)\n",
        "      sents_padded.append(sent)\n",
        "\n",
        "    ### END YOUR CODE\n",
        "\n",
        "    return sents_padded"
      ],
      "metadata": {
        "id": "1iQUZHWNWULr"
      },
      "execution_count": null,
      "outputs": []
    },
    {
      "cell_type": "code",
      "source": [
        "sents = [\n",
        "    \"VietAI là tổ chức phi lợi nhuận.\",\n",
        "    \"Theo báo cáo mới nhất của Linkedin về danh sách việc làm triển vọng với mức lương hấp dẫn năm 2020, các chức danh công việc liên quan đến AI đều xếp thứ hạng cao.\",\n",
        "    \"Sứ mệnh của VietAI là ươm mầm tài năng về trí tuệ nhân tạo và xây dựng một cộng đồng các chuyên gia trong lĩnh vực trí tuệ nhân tạo đẳng cấp quốc tế.\"\n",
        "    \"Chúng ta đang trên hành trình tiến bộ và dân chủ hoá trí tuệ nhân tạo thông qua mã nguồn mở và khoa học mở\"]\n",
        "\n",
        "sents = [s.split() for s in sents]\n",
        "padded_sents = pad_sents(sents, pad_token=\"<PAD>\")\n",
        "\n",
        "for sent in padded_sents:\n",
        "    assert len(sent) == len(padded_sents[0])"
      ],
      "metadata": {
        "id": "cNwJBxvO2u75"
      },
      "execution_count": null,
      "outputs": []
    },
    {
      "cell_type": "markdown",
      "source": [
        "Below, we define the `VocabEntry` class. The `VocabEntry` class is a vocabulary entry that contains a dictionary that maps words to indices and provides methods to convert words to indices, indices to words, and sentences to tensors. The purpose of this class is to facilitate the management of the vocabulary."
      ],
      "metadata": {
        "id": "SGywMiTH5MCa"
      }
    },
    {
      "cell_type": "code",
      "source": [
        "class VocabEntry(object):\n",
        "    \"\"\" Vocabulary Entry, i.e. structure containing either\n",
        "    src or tgt language terms.\n",
        "    \"\"\"\n",
        "    def __init__(self, word2id=None):\n",
        "        \"\"\" Init VocabEntry Instance.\n",
        "        @param word2id (dict): dictionary mapping words 2 indices\n",
        "        \"\"\"\n",
        "        if word2id:\n",
        "            self.word2id = word2id\n",
        "        else:\n",
        "            self.word2id = dict()\n",
        "            self.word2id['<pad>'] = 0   # Pad Token\n",
        "            self.word2id['<s>'] = 1 # Start Token\n",
        "            self.word2id['</s>'] = 2    # End Token\n",
        "            self.word2id['<unk>'] = 3   # Unknown Token\n",
        "        self.unk_id = self.word2id['<unk>']\n",
        "        self.id2word = {v: k for k, v in self.word2id.items()}\n",
        "\n",
        "    def __getitem__(self, word):\n",
        "        \"\"\" Retrieve word's index. Return the index for the unk\n",
        "        token if the word is out of vocabulary.\n",
        "        @param word (str): word to look up.\n",
        "        @returns index (int): index of word\n",
        "        \"\"\"\n",
        "        return self.word2id.get(word, self.unk_id)\n",
        "\n",
        "    def __contains__(self, word):\n",
        "        \"\"\" Check if word is captured by VocabEntry.\n",
        "        @param word (str): word to look up\n",
        "        @returns contains (bool): whether word is contained\n",
        "        \"\"\"\n",
        "        return word in self.word2id\n",
        "\n",
        "    def __setitem__(self, key, value):\n",
        "        \"\"\" Raise error, if one tries to edit the VocabEntry.\n",
        "        \"\"\"\n",
        "        raise ValueError('vocabulary is readonly')\n",
        "\n",
        "    def __len__(self):\n",
        "        \"\"\" Compute number of words in VocabEntry.\n",
        "        @returns len (int): number of words in VocabEntry\n",
        "        \"\"\"\n",
        "        return len(self.word2id)\n",
        "\n",
        "    def __repr__(self):\n",
        "        \"\"\" Representation of VocabEntry to be used\n",
        "        when printing the object.\n",
        "        \"\"\"\n",
        "        return 'Vocabulary[size=%d]' % len(self)\n",
        "\n",
        "    def id2word(self, wid):\n",
        "        \"\"\" Return mapping of index to word.\n",
        "        @param wid (int): word index\n",
        "        @returns word (str): word corresponding to index\n",
        "        \"\"\"\n",
        "        return self.id2word[wid]\n",
        "\n",
        "    def add(self, word):\n",
        "        \"\"\" Add word to VocabEntry, if it is previously unseen.\n",
        "        @param word (str): word to add to VocabEntry\n",
        "        @return index (int): index that the word has been assigned\n",
        "        \"\"\"\n",
        "        if word not in self:\n",
        "            wid = self.word2id[word] = len(self)\n",
        "            self.id2word[wid] = word\n",
        "            return wid\n",
        "        else:\n",
        "            return self[word]\n",
        "\n",
        "    def words2indices(self, sents):\n",
        "        \"\"\" Convert list of words or list of sentences of words\n",
        "        into list or list of list of indices.\n",
        "        @param sents (list[str] or list[list[str]]): sentence(s) in words\n",
        "        @return word_ids (list[int] or list[list[int]]): sentence(s) in indices\n",
        "        \"\"\"\n",
        "        try:\n",
        "            if type(sents[0]) == list:\n",
        "                for i in range(len(sents)):\n",
        "                    # set max length\n",
        "                    sents[i] = sents[i][:args.max_len]\n",
        "                return [[self[w] for w in s] for s in sents]\n",
        "            else:\n",
        "                # set max length\n",
        "                sents = sents[:args.max_len]\n",
        "                return [[self[w] for w in sents]]\n",
        "        except Exception as e:\n",
        "            print(e, sents)\n",
        "            return []\n",
        "\n",
        "    def indices2words(self, word_ids):\n",
        "        \"\"\" Convert list of indices into words.\n",
        "        @param word_ids (list[int]): list of word ids\n",
        "        @return sents (list[str]): list of words\n",
        "        \"\"\"\n",
        "        return [self.id2word[w_id] for w_id in word_ids]\n",
        "\n",
        "    def to_input_tensor(self, sents: List[List[str]], device: torch.device = device) -> torch.Tensor:\n",
        "        \"\"\" Convert list of sentences (words) into tensor with necessary padding for\n",
        "        shorter sentences.\n",
        "\n",
        "        @param sents (List[List[str]]): list of sentences (words)\n",
        "        @param device: device on which to load the tesnor, i.e. CPU or GPU\n",
        "\n",
        "        @returns sents_var: tensor of (max_sentence_length, batch_size)\n",
        "        \"\"\"\n",
        "        word_ids = self.words2indices(sents)\n",
        "        sents_t = pad_sents(word_ids, self['<pad>'])\n",
        "        sents_var = torch.tensor(sents_t, dtype=torch.long, device=device)\n",
        "        return torch.t(sents_var)\n",
        "\n",
        "    @staticmethod\n",
        "    def from_corpus(corpus, size, freq_cutoff=2):\n",
        "        \"\"\" Given a corpus construct a Vocab Entry.\n",
        "        @param corpus (list[str]): corpus of text produced by read_corpus function\n",
        "        @param size (int): # of words in vocabulary\n",
        "        @param freq_cutoff (int): if word occurs n < freq_cutoff times, drop the word\n",
        "        @returns vocab_entry (VocabEntry): VocabEntry instance produced from provided corpus\n",
        "        \"\"\"\n",
        "        vocab_entry = VocabEntry()\n",
        "        word_freq = Counter(chain(*corpus))\n",
        "        valid_words = [w for w, v in word_freq.items() if v >= freq_cutoff]\n",
        "        print('number of word types: {}, number of word types w/ frequency >= {}: {}'\n",
        "              .format(len(word_freq), freq_cutoff, len(valid_words)))\n",
        "        top_k_words = sorted(valid_words, key=lambda w: word_freq[w], reverse=True)[:size]\n",
        "        for word in top_k_words:\n",
        "            vocab_entry.add(word)\n",
        "        return vocab_entry\n",
        "\n",
        "    @staticmethod\n",
        "    def from_subword_list(subword_list):\n",
        "        vocab_entry = VocabEntry()\n",
        "        for subword in subword_list:\n",
        "            vocab_entry.add(subword)\n",
        "        return vocab_entry"
      ],
      "metadata": {
        "id": "euaeDPZSaISN"
      },
      "execution_count": null,
      "outputs": []
    },
    {
      "cell_type": "markdown",
      "source": [
        "Afterwards, we use a `Vocab` class to wrap vocabulary used for both the source and target languages in a machine translation task. It is composed of two `VocabEntry` objects, one for the source language and one for the target language.\n",
        "\n",
        "The build method is used to construct a `Vocab` object from a list of subwords generated by **SentencePiece** for both the source and target languages. Then, we save them to a JSON file."
      ],
      "metadata": {
        "id": "T9afEr0m6ZkF"
      }
    },
    {
      "cell_type": "code",
      "source": [
        "class Vocab(object):\n",
        "    \"\"\" Vocab encapsulating src and target langauges.\n",
        "    \"\"\"\n",
        "    def __init__(self, src_vocab: VocabEntry, tgt_vocab: VocabEntry):\n",
        "        \"\"\" Init Vocab.\n",
        "        @param src_vocab (VocabEntry): VocabEntry for source language\n",
        "        @param tgt_vocab (VocabEntry): VocabEntry for target language\n",
        "        \"\"\"\n",
        "        self.src = src_vocab\n",
        "        self.tgt = tgt_vocab\n",
        "\n",
        "    @staticmethod\n",
        "    def build(src_sents, tgt_sents) -> 'Vocab':\n",
        "        \"\"\" Build Vocabulary.\n",
        "        @param src_sents (list[str]): Source subwords provided by SentencePiece\n",
        "        @param tgt_sents (list[str]): Target subwords provided by SentencePiece\n",
        "        \"\"\"\n",
        "\n",
        "        print('initialize source vocabulary ..')\n",
        "        src = VocabEntry.from_subword_list(src_sents)\n",
        "\n",
        "        print('initialize target vocabulary ..')\n",
        "        tgt = VocabEntry.from_subword_list(tgt_sents)\n",
        "\n",
        "        return Vocab(src, tgt)\n",
        "\n",
        "    def save(self, file_path):\n",
        "        \"\"\" Save Vocab to file as JSON dump.\n",
        "        @param file_path (str): file path to vocab file\n",
        "        \"\"\"\n",
        "        with open(file_path, 'w') as f:\n",
        "            json.dump(dict(src_word2id=self.src.word2id, tgt_word2id=self.tgt.word2id), f, indent=2)\n",
        "\n",
        "    @staticmethod\n",
        "    def load(file_path):\n",
        "        \"\"\" Load vocabulary from JSON dump.\n",
        "        @param file_path (str): file path to vocab file\n",
        "        @returns Vocab object loaded from JSON dump\n",
        "        \"\"\"\n",
        "        entry = json.load(open(file_path, 'r'))\n",
        "        src_word2id = entry['src_word2id']\n",
        "        tgt_word2id = entry['tgt_word2id']\n",
        "\n",
        "        return Vocab(VocabEntry(src_word2id), VocabEntry(tgt_word2id))\n",
        "\n",
        "    def __repr__(self):\n",
        "        \"\"\" Representation of Vocab to be used\n",
        "        when printing the object.\n",
        "        \"\"\"\n",
        "        return 'Vocab(source %d words, target %d words)' % (len(self.src), len(self.tgt))\n",
        "\n",
        "\n",
        "def get_vocab_list(file_path, source, vocab_size):\n",
        "    \"\"\" Use SentencePiece to tokenize and acquire list of unique subwords.\n",
        "    @param file_path (str): file path to corpus\n",
        "    @param source (str): tgt or src\n",
        "    @param vocab_size: desired vocabulary size\n",
        "    \"\"\"\n",
        "    spm.SentencePieceTrainer.Train(input=file_path, model_prefix=source, vocab_size=vocab_size)     # train the spm model\n",
        "    sp = spm.SentencePieceProcessor()   # create an instance; this saves .model and .vocab files\n",
        "    sp.Load('{}.model'.format(source))  # loads tgt.model or src.model\n",
        "    sp_list = [sp.IdToPiece(piece_id) for piece_id in range(sp.GetPieceSize())] # this is the list of subwords\n",
        "    return sp_list"
      ],
      "metadata": {
        "id": "IoIvy1Fw6LGK"
      },
      "execution_count": null,
      "outputs": []
    },
    {
      "cell_type": "markdown",
      "source": [
        "## Train and save our vocabulary to a json file"
      ],
      "metadata": {
        "id": "01HlWwyR6x0v"
      }
    },
    {
      "cell_type": "code",
      "source": [
        "print('read in source sentences: %s' % args.train_src)\n",
        "print('read in target sentences: %s' % args.train_tgt)\n",
        "\n",
        "src_sents = get_vocab_list(args.train_src, source='src', vocab_size=args.src_vocab_size)\n",
        "tgt_sents = get_vocab_list(args.train_tgt, source='tgt', vocab_size=args.tgt_vocab_size)\n",
        "vocab = Vocab.build(src_sents, tgt_sents)\n",
        "print('generated vocabulary, source %d words, target %d words' % (len(src_sents), len(tgt_sents)))\n",
        "\n",
        "vocab.save(args.vocab_file)\n",
        "print('vocabulary saved to %s' % args.vocab_file)"
      ],
      "metadata": {
        "colab": {
          "base_uri": "https://localhost:8080/"
        },
        "id": "Uh-tl8jWat2S",
        "outputId": "1c1c59e1-116f-44d6-dc9b-33baee4a682a"
      },
      "execution_count": null,
      "outputs": [
        {
          "output_type": "stream",
          "name": "stdout",
          "text": [
            "read in source sentences: data/train.vi\n",
            "read in target sentences: data/train.en\n",
            "initialize source vocabulary ..\n",
            "initialize target vocabulary ..\n",
            "generated vocabulary, source 15000 words, target 21000 words\n",
            "vocabulary saved to vocab.json\n"
          ]
        }
      ]
    },
    {
      "cell_type": "code",
      "source": [
        "len(src_sents[0])"
      ],
      "metadata": {
        "colab": {
          "base_uri": "https://localhost:8080/"
        },
        "id": "i_Rekck02qHU",
        "outputId": "52a6a9b2-aa03-4e64-ddd3-8f863c01c9b1"
      },
      "execution_count": null,
      "outputs": [
        {
          "output_type": "execute_result",
          "data": {
            "text/plain": [
              "5"
            ]
          },
          "metadata": {},
          "execution_count": 13
        }
      ]
    },
    {
      "cell_type": "markdown",
      "source": [
        "## Read sentence pairs for training\n",
        "The full process for preparing the data is:\n",
        "\n",
        "- Read text file  into pairs\n",
        "- Encode raw text into subwords\n",
        "- Add word lists into our data"
      ],
      "metadata": {
        "id": "MiC1obxY763V"
      }
    },
    {
      "cell_type": "code",
      "source": [
        "def read_corpus(file_path, source):\n",
        "    \"\"\" Read file, where each sentence is dilineated by a `\\n`.\n",
        "    @param file_path (str): path to file containing corpus\n",
        "    @param source (str): \"tgt\" or \"src\" indicating whether text\n",
        "        is of the source language or target language\n",
        "    \"\"\"\n",
        "    data = []\n",
        "    sp = spm.SentencePieceProcessor()\n",
        "    sp.load('{}.model'.format(source))\n",
        "\n",
        "    with open(file_path, 'r', encoding='utf8') as f:\n",
        "        for line in f:\n",
        "            subword_tokens = sp.encode_as_pieces(line)\n",
        "            # only append <s> and </s> to the target sentence\n",
        "            if source == 'tgt':\n",
        "                subword_tokens = ['<s>'] + subword_tokens + ['</s>']\n",
        "            data.append(subword_tokens)\n",
        "\n",
        "    return data\n",
        "\n",
        "train_data_src = read_corpus(args.train_src, source='src')\n",
        "train_data_tgt = read_corpus(args.train_tgt, source='tgt')\n",
        "\n",
        "dev_data_src = read_corpus(args.dev_src, source='src')\n",
        "dev_data_tgt = read_corpus(args.dev_tgt, source='tgt')\n",
        "\n",
        "train_data = list(zip(train_data_src, train_data_tgt))\n",
        "dev_data = list(zip(dev_data_src, dev_data_tgt))"
      ],
      "metadata": {
        "id": "cIwV0sOye2JJ"
      },
      "execution_count": null,
      "outputs": []
    },
    {
      "cell_type": "markdown",
      "source": [
        "We will visualize certain pairs of training data after encoding into subwords to gain insights into the data. It becomes evident that when raw text is encoded into subwords, a single word can be represented as the concatenation of other subwords. For instance, `\"Trong\"` transforms into `\"_Tro\"` and `\"ng\"` while `\"dòng\"` transforms into `\"_dò\"` and `\"ng\"`. Both examples will share the `\"ng\"` in common, reduce the number of item needed in the vocab size."
      ],
      "metadata": {
        "id": "f1GXVgR08Nw3"
      }
    },
    {
      "cell_type": "code",
      "source": [
        "n = 5\n",
        "for i in range(n):\n",
        "  print(\"Src sent: \" + \"|\".join(train_data_src[i]))\n",
        "  print(\"Tgt sent: \" + \"|\".join(train_data_tgt[i]))\n",
        "  print(\"\\n\")"
      ],
      "metadata": {
        "colab": {
          "base_uri": "https://localhost:8080/"
        },
        "id": "VWCT-JzV6BeW",
        "outputId": "278e801e-a80d-4e10-ee36-e70bc706e6aa"
      },
      "execution_count": null,
      "outputs": [
        {
          "output_type": "stream",
          "name": "stdout",
          "text": [
            "Src sent: ▁Khoa|▁học|▁đ|ằng|▁sau|▁một|▁tiêu|▁đề|▁về|▁khí|▁hậu\n",
            "Tgt sent: <s>|▁Rachel|▁P|ike|▁|:|▁The|▁science|▁|behind|▁a|▁climate|▁headline|</s>\n",
            "\n",
            "\n",
            "Src sent: ▁Tro|ng|▁4|▁phút|▁,|▁chuyên|▁gia|▁hoá|▁học|▁khí|▁quyển|▁Rachel|▁P|ike|▁giới|▁t|hiệu|▁sơ|▁lược|▁về|▁những|▁nỗ|▁lực|▁khoa|▁học|▁m|iệt|▁mà|i|▁đ|ằng|▁sau|▁những|▁tiêu|▁đề|▁táo|▁bạo|▁về|▁biến|▁đổi|▁khí|▁hậu|▁,|▁cùng|▁với|▁đoàn|▁nghiên|▁cứu|▁của|▁mình|▁--|▁hàng|▁ngàn|▁người|▁đã|▁cố|ng|▁|hiến|▁cho|▁dự|▁án|▁này|▁--|▁một|▁chuyến|▁bay|▁mạo|▁hiểm|▁qua|▁rừng|▁già|▁để|▁tìm|▁kiếm|▁thông|▁tin|▁về|▁một|▁phân|▁tử|▁the|n|▁chố|t|▁.\n",
            "Tgt sent: <s>|▁In|▁4|▁minutes|▁|,|▁atmospher|ic|▁chemist|▁Rachel|▁P|ike|▁provide|s|▁a|▁glimpse|▁of|▁the|▁massive|▁scientific|▁effort|▁|behind|▁the|▁bold|▁headline|s|▁on|▁climate|▁change|▁|,|▁with|▁her|▁team|▁--|▁one|▁of|▁|thousands|▁who|▁contribute|d|▁--|▁|taking|▁a|▁risk|y|▁flight|▁over|▁the|▁rainforest|▁in|▁pursuit|▁of|▁data|▁on|▁a|▁key|▁molecule|▁.|</s>\n",
            "\n",
            "\n",
            "Src sent: ▁Tôi|▁muốn|▁cho|▁các|▁bạn|▁biết|▁về|▁sự|▁to|▁lớn|▁của|▁những|▁nỗ|▁lực|▁khoa|▁học|▁đã|▁góp|▁phần|▁làm|▁nên|▁các|▁dò|ng|▁tí|t|▁bạn|▁thường|▁thấy|▁trên|▁báo|▁.\n",
            "Tgt sent: <s>|▁I|▁&|apos|;|d|▁like|▁to|▁talk|▁to|▁you|▁to|day|▁about|▁the|▁scale|▁of|▁the|▁scientific|▁effort|▁that|▁go|es|▁into|▁|making|▁the|▁headline|s|▁you|▁see|▁in|▁the|▁paper|▁.|</s>\n",
            "\n",
            "\n",
            "Src sent: ▁Có|▁những|▁dò|ng|▁tr|ông|▁như|▁thế|▁này|▁khi|▁bàn|▁về|▁biến|▁đổi|▁khí|▁hậu|▁,|▁và|▁như|▁thế|▁này|▁khi|▁nói|▁về|▁chất|▁lượng|▁không|▁khí|▁hay|▁khói|▁bụ|i|▁.\n",
            "Tgt sent: <s>|▁Head|lines|▁that|▁look|▁like|▁|this|▁when|▁the|y|▁have|▁to|▁do|▁with|▁climate|▁change|▁|,|▁and|▁headline|s|▁that|▁look|▁like|▁|this|▁when|▁the|y|▁have|▁to|▁do|▁with|▁air|▁quality|▁or|▁smog|▁.|</s>\n",
            "\n",
            "\n",
            "Src sent: ▁Cả|▁hai|▁đều|▁là|▁một|▁nh|ánh|▁của|▁cùng|▁một|▁lĩnh|▁vực|▁trong|▁ngành|▁khoa|▁học|▁khí|▁quyển|▁.\n",
            "Tgt sent: <s>|▁The|y|▁are|▁both|▁two|▁branche|s|▁of|▁the|▁same|▁field|▁of|▁atmospher|ic|▁science|▁.|</s>\n",
            "\n",
            "\n"
          ]
        }
      ]
    },
    {
      "cell_type": "markdown",
      "source": [
        "We define the `batch_iter` function to iterate through the given data in batches of a specified size, where each batch contains source and target sentences.\n",
        "\n",
        "The sentences are sorted in reverse order by their length, so that longer sentences come first.\n",
        "\n",
        "The function takes three arguments: the data to iterate through, the batch size, and a flag indicating whether to shuffle the data randomly or not."
      ],
      "metadata": {
        "id": "HzUtPU1A32gt"
      }
    },
    {
      "cell_type": "code",
      "source": [
        "def batch_iter(data, batch_size, shuffle=False):\n",
        "    \"\"\" Yield batches of source and target sentences reverse sorted by length (largest to smallest).\n",
        "    @param data (list of (src_sent, tgt_sent)): list of tuples containing source and target sentence\n",
        "    @param batch_size (int): batch size\n",
        "    @param shuffle (boolean): whether to randomly shuffle the dataset\n",
        "    \"\"\"\n",
        "    batch_num = math.ceil(len(data) / batch_size)\n",
        "    index_array = list(range(len(data)))\n",
        "\n",
        "    if shuffle:\n",
        "        np.random.shuffle(index_array)\n",
        "\n",
        "    for i in range(batch_num):\n",
        "        indices = index_array[i * batch_size: (i + 1) * batch_size]\n",
        "        examples = [data[idx] for idx in indices]\n",
        "\n",
        "        examples = sorted(examples, key=lambda e: len(e[0]), reverse=True)\n",
        "        src_sents, tgt_sents = list(), list()\n",
        "        for src_sent, tgt_sent in examples:\n",
        "            if len(src_sent) > 0 and len(tgt_sent) > 0:\n",
        "                src_sents.append(src_sent)\n",
        "                tgt_sents.append(tgt_sent)\n",
        "        yield src_sents, tgt_sents"
      ],
      "metadata": {
        "id": "n4Lpa-Kck-QJ"
      },
      "execution_count": null,
      "outputs": []
    },
    {
      "cell_type": "markdown",
      "source": [
        "# The Seq2Seq Model 1: RNNs with global attention\n",
        "\n",
        "In this section, we describe the training procedure for the proposed NMT system, which uses a Bidirectional LSTM Encoder and a Unidirectional LSTM Decoder.\n",
        "\n",
        "<img src=\"https://i.ibb.co/pjRW6tC/arc.png\" alt=\"arc\" border=\"0\" width=70%>\n",
        "\n",
        "# Model description (training procedure)\n",
        "\n",
        "Given a sentence in the source language, we look up the character or word embeddings from an **embeddings matrix**, yielding $x_1,...,x_m (x_i \\in \\mathbb{R}^e)$, where $m$ is the length of the source sentence and e is the embedding size. We feed the embeddings to the bidirectional encoder, yielding hidden states and cell states for both the forwards (→) and backwards (←) LSTMs. The forwards and backwards versions are concatenated to give hidden states $h^{enc}_i$ and cell states $c^{enc}_i$ :\n",
        "\n",
        "$$ h^{enc}_i = [\\overleftarrow{h^{enc}_i}; \\overrightarrow{h^{enc}_i}] \\:\\: \\text{where} \\:\\: h^{enc}_i \\in \\mathbb{R}^{2h \\times 1} $$\n",
        "$$ c^{enc}_i = [\\overleftarrow{c^{enc}_i}; \\overrightarrow{c^{enc}_i}] \\:\\: \\text{where} \\:\\: c^{enc}_i \\in \\mathbb{R}^{2h \\times 1} $$ \\\\\n",
        "\n",
        "We then initialize the **decoder**’s first hidden state $h^{enc}_0$ and cell state $c^{enc}_0$  with a linear projection of the encoder’s final hidden state and final cell state.\n",
        "\n",
        "$$ h^{dec}_0 = W_h[\\overleftarrow{h^{enc}_1}; \\overrightarrow{h^{enc}_m}] \\:\\: \\text{where} \\:\\: h^{dec}_0 \\in \\mathbb{R}^{h \\times 1} $$\n",
        "$$ c^{dec}_0 = W_c[\\overleftarrow{c^{enc}_1}; \\overrightarrow{c^{enc}_m}] \\:\\: \\text{where} \\:\\: c^{dec}_0 \\in \\mathbb{R}^{h \\times 1} $$ \\\\\n",
        "\n",
        "With the decoder initialized, we must now feed it a target sentence. On the $t^{th}$ step, we look up the embedding for the $t^{th}$ subword, $y_t \\in \\mathbb{R}^{e \\times 1}$ . We then concatenate $y_t$ with the combined-output vector $o_{t-1} \\in \\mathbb{R}^{h \\times 1}$ from the previous timestep (we will explain what this is later!) to produce $\\bar{y_t} \\in \\mathbb{R}^{(e+h) \\times 1}$. Note that for the first target subword (i.e. the start token) $o_0$ is a zero-vector. We then feed $\\bar{y_t}$ as input to the decoder.\n",
        "\n",
        "\n",
        "$$ h^{dec}_t , c^{dec}_t = \\text{Decoder}(\\bar{y_t},  h^{dec}_{t-1} , c^{dec}_{t-1} ) \\:\\:\\: \\text{where} \\:\\:\\: h^{dec}_t \\in \\mathbb{R}^{h \\times 1} , c^{dec}_t \\in \\mathbb{R}^{h \\times 1} $$ \\\\\n",
        "\n",
        "We then use $h^{dec}_t$ to compute multiplicative attention over $h^{enc}_1,...,, h^{enc}_m$ :\n",
        "\n",
        "$$ e_{t,i} = (h_t^{dec})^TW_{attProj}h^{enc}_i \\:\\:\\: \\text{where} \\:\\:\\: e_t \\in \\mathbb{R}^{m \\times 1}, W_{attProj} \\in \\mathbb{R}^{h \\times 2h} $$\n",
        "\n",
        "$$ \\alpha_t = softmax(e_t) \\:\\:\\: \\text{where} \\:\\:\\: \\alpha_t \\in \\mathbb{R}^{m \\times 1}$$\n",
        "\n",
        "$$ a_t = ∑_{i=1}^m \\alpha_{t, i} h^{enc}_i \\:\\:\\: \\text{where} \\:\\:\\: a_t \\in \\mathbb{R}^{2h \\times 1}$$ \\\\\n",
        "\n",
        "We now concatenate the attention output $a_t$ with the decoder hidden state $h^{dec}_t$ and pass this through a linear layer, tanh, and dropout to attain the *combined-output* vector $o_t$.\n",
        "\n",
        "$$ u_t = [a_t;h^{dec}_t] \\:\\:\\: \\text{where} \\:\\:\\: u_t \\in \\mathbb{R}^{3h \\times 1} $$\n",
        "\n",
        "$$ v_t = W_uu_t \\:\\:\\: where \\:\\:\\: v_t \\in \\mathbb{R}^{h \\times 1},W_u \\in \\mathbb{R}^{h \\times 3h}$$\n",
        "\n",
        "$$ o_t = dropout(tanh(v_t)) \\:\\:\\: where \\:\\:\\: o_t \\in \\mathbb{R}^{h \\times 1}$$ \\\\\n",
        "\n",
        "Then, we produce a probability distribution $P_t$ over target subwords at the $t^{th}$ timestep:\n",
        "\n",
        "$$ P_t = softmax(W_{vocab}o_t) \\:\\:\\: where \\:\\:\\: P_t \\in \\mathbb{R}^{V_t \\times 1}, W_{vocab}\\in \\mathbb{R}^{V_t \\times h} $$\n",
        "\n",
        "Here, $V_t$ is the size of the target vocabulary. Finally, to train the network we then compute the cross entropy loss between $P_t$ and $g_t$, where $g_t$ is the one-hot vector of the target subword at timestep $t$:\n",
        "\n",
        "$$ J_t(θ) = CrossEntropy(P_t, g_t)$$\n",
        "Here, $θ$ represents all the parameters of the model and $J_t(θ)$ is the loss on step t of the decoder.\n",
        "\n",
        "Now that we have described the model, let’s try implementing it Mandarin Vietnamese to English translation!\n",
        "\n",
        "\n"
      ],
      "metadata": {
        "id": "1TVBV17b9N3Z"
      }
    },
    {
      "cell_type": "markdown",
      "source": [
        "## Q2 (5 points) Embedding Layer Initilization\n",
        "\n",
        "Implement the `__init__` function to initialize the necessary source and target embeddings."
      ],
      "metadata": {
        "id": "tLAaS2fZ4aBS"
      }
    },
    {
      "cell_type": "code",
      "source": [
        "class ModelEmbeddings(nn.Module):\n",
        "    \"\"\"\n",
        "    Class that converts input words to their embeddings.\n",
        "    \"\"\"\n",
        "    def __init__(self, embed_size, vocab):\n",
        "        \"\"\"\n",
        "        Init the Embedding layers.\n",
        "\n",
        "        @param embed_size (int): Embedding size (dimensionality)\n",
        "        @param vocab (Vocab): Vocabulary object containing src and tgt languages\n",
        "                              See vocab.py for documentation.\n",
        "        \"\"\"\n",
        "        super(ModelEmbeddings, self).__init__()\n",
        "        self.embed_size = embed_size\n",
        "\n",
        "        # default values\n",
        "        self.source = None\n",
        "        self.target = None\n",
        "\n",
        "        src_pad_token_idx = vocab.src['<pad>']\n",
        "        tgt_pad_token_idx = vocab.tgt['<pad>']\n",
        "\n",
        "        ### YOUR CODE HERE (~2 Lines)\n",
        "        ### TODO - Initialize the following variables:\n",
        "        ###     self.source (Embedding Layer for source language)\n",
        "        ###     self.target (Embedding Layer for target langauge)\n",
        "        ###\n",
        "        ### Note:\n",
        "        ###     1. `vocab` object contains two vocabularies:\n",
        "        ###            `vocab.src` for source\n",
        "        ###            `vocab.tgt` for target\n",
        "        ###     2. You can get the length of a specific vocabulary by running:\n",
        "        ###             `len(vocab.<specific_vocabulary>)`\n",
        "        ###     3. Remember to include the padding token for the specific vocabulary\n",
        "        ###        when creating your Embedding.\n",
        "        ###\n",
        "        ### Use the following docs to properly initialize these variables:\n",
        "        ###     Embedding Layer:\n",
        "        ###         https://pytorch.org/docs/stable/nn.html#torch.nn.Embedding\n",
        "        self.source = nn.Embedding(len(vocab.src), embed_size, padding_idx=src_pad_token_idx)\n",
        "        self.target = nn.Embedding(len(vocab.tgt), embed_size, padding_idx=tgt_pad_token_idx)\n",
        "\n",
        "        ### END YOUR CODE"
      ],
      "metadata": {
        "id": "O9zylrls4d6A"
      },
      "execution_count": null,
      "outputs": []
    },
    {
      "cell_type": "markdown",
      "source": [
        "## Q3-6 RNN with Global attention NMT model"
      ],
      "metadata": {
        "id": "PtcWFUr4NKoF"
      }
    },
    {
      "cell_type": "markdown",
      "source": [
        "\n",
        "### Q3 (10 points) Initialize layers in NMT model\n",
        "Implement the `init` function to initialize the necessary model layers (LSTM, projection, and dropout) for the NMT system."
      ],
      "metadata": {
        "id": "eQedhWy5JE6I"
      }
    },
    {
      "cell_type": "markdown",
      "source": [
        "###  Q4 (15 points) Encoder\n",
        "Implement the `encode` function. This function converts the padded source sentences into the tensor $X$, generates $h^{enc}_1 , . . . , h^{enc}_m $, and computes the initial state $h^{dec}_0$ and initial cell  $h^{dec}_0$ for the $\\text{Decoder}$"
      ],
      "metadata": {
        "id": "pZukPek7NPbn"
      }
    },
    {
      "cell_type": "markdown",
      "source": [
        "\n",
        "### Q5 (15 points) Decoder\n",
        "Implement the `decode` function. This function constructs $\\bar{y}$ and runs the step function over every timestep for the input.\n",
        "\n"
      ],
      "metadata": {
        "id": "cOFoVBl-NSBf"
      }
    },
    {
      "cell_type": "markdown",
      "source": [
        "### Q6: (20 points) Decoder step\n",
        "Implement the `step` function. This function applies the Decoder’s LSTM cell for a single timestep, computing the encoding of the target subword $h^{dec}_t$ , the attention scores $e_t$, attention distribution $\\alpha_t$, the attention output $a_t$, and finally the combined output $o_t$."
      ],
      "metadata": {
        "id": "OKOojY7ENUf0"
      }
    },
    {
      "cell_type": "code",
      "source": [
        "Hypothesis = namedtuple('Hypothesis', ['value', 'score'])\n",
        "\n",
        "class NMT(nn.Module):\n",
        "    \"\"\" Simple Neural Machine Translation Model:\n",
        "        - Bidrectional LSTM Encoder\n",
        "        - Unidirection LSTM Decoder\n",
        "        - Global Attention Model (Luong, et al. 2015)\n",
        "    \"\"\"\n",
        "\n",
        "    def __init__(self, embed_size, hidden_size, vocab, dropout_rate=0.2):\n",
        "        \"\"\" Init NMT Model.\n",
        "\n",
        "        @param embed_size (int): Embedding size (dimensionality)\n",
        "        @param hidden_size (int): Hidden Size, the size of hidden states (dimensionality)\n",
        "        @param vocab (Vocab): Vocabulary object containing src and tgt languages\n",
        "                              See vocab.py for documentation.\n",
        "        @param dropout_rate (float): Dropout probability, for attention\n",
        "        \"\"\"\n",
        "        super(NMT, self).__init__()\n",
        "        self.model_embeddings = ModelEmbeddings(embed_size, vocab)\n",
        "        self.hidden_size = hidden_size\n",
        "        self.dropout_rate = dropout_rate\n",
        "        self.vocab = vocab\n",
        "\n",
        "        # default values\n",
        "        self.encoder = None\n",
        "        self.decoder = None\n",
        "        self.h_projection = None\n",
        "        self.c_projection = None\n",
        "        self.att_projection = None\n",
        "        self.combined_output_projection = None\n",
        "        self.target_vocab_projection = None\n",
        "        self.dropout = None\n",
        "        # For sanity check only, not relevant to implementation\n",
        "        self.gen_sanity_check = False\n",
        "        self.counter = 0\n",
        "\n",
        "        ### YOUR CODE HERE (~9 Lines)\n",
        "        ### TODO - Initialize the following variables IN THIS ORDER:\n",
        "        ###     self.post_embed_cnn (Conv1d layer with kernel size 2, input and output channels = embed_size,\n",
        "        ###         padding = same to preserve output shape )\n",
        "        ###     self.encoder (Bidirectional LSTM with bias)\n",
        "        ###     self.decoder (LSTM Cell with bias)\n",
        "        ###     self.h_projection (Linear Layer with no bias), called W_{h} .\n",
        "        ###     self.c_projection (Linear Layer with no bias), called W_{c} .\n",
        "        ###     self.att_projection (Linear Layer with no bias), called W_{attProj}.\n",
        "        ###     self.combined_output_projection (Linear Layer with no bias), called W_{u}.\n",
        "        ###     self.target_vocab_projection (Linear Layer with no bias), called W_{vocab}.\n",
        "        ###     self.dropout (Dropout Layer)\n",
        "        ###\n",
        "        ### Use the following docs to properly initialize these variables:\n",
        "        ###     LSTM:\n",
        "        ###         https://pytorch.org/docs/stable/nn.html#torch.nn.LSTM\n",
        "        ###     LSTM Cell:\n",
        "        ###         https://pytorch.org/docs/stable/nn.html#torch.nn.LSTMCell\n",
        "        ###     Linear Layer:\n",
        "        ###         https://pytorch.org/docs/stable/nn.html#torch.nn.Linear\n",
        "        ###     Dropout Layer:\n",
        "        ###         https://pytorch.org/docs/stable/nn.html#torch.nn.Dropout\n",
        "        ###     Conv1D Layer:\n",
        "        ###         https://pytorch.org/docs/stable/generated/torch.nn.Conv1d.html\n",
        "        self.post_embed_cnn = nn.Conv1d(embed_size, embed_size, kernel_size=2, padding=\"same\")\n",
        "        self.encoder = nn.LSTM(embed_size, hidden_size, bias=True, bidirectional=True)\n",
        "        self.decoder = nn.LSTMCell(embed_size + hidden_size, hidden_size, bias=True)\n",
        "        self.h_projection = nn.Linear(2 * hidden_size, hidden_size, bias=False)\n",
        "        self.c_projection = nn.Linear(2 * hidden_size, hidden_size, bias=False)\n",
        "        self.att_projection = nn.Linear(2 * hidden_size, hidden_size, bias=False)\n",
        "        self.combined_output_projection = nn.Linear(3 * hidden_size, hidden_size, bias=False)\n",
        "        self.target_vocab_projection = nn.Linear(hidden_size, len(vocab.tgt), bias=False)\n",
        "        self.dropout = nn.Dropout(dropout_rate)\n",
        "\n",
        "        ### END YOUR CODE\n",
        "\n",
        "    def forward(self, source: List[List[str]], target: List[List[str]]) -> torch.Tensor:\n",
        "        \"\"\" Take a mini-batch of source and target sentences, compute the log-likelihood of\n",
        "        target sentences under the language models learned by the NMT system.\n",
        "\n",
        "        @param source (List[List[str]]): list of source sentence tokens\n",
        "        @param target (List[List[str]]): list of target sentence tokens, wrapped by `<s>` and `</s>`\n",
        "\n",
        "        @returns scores (Tensor): a variable/tensor of shape (b, ) representing the\n",
        "                                    log-likelihood of generating the gold-standard target sentence for\n",
        "                                    each example in the input batch. Here b = batch size.\n",
        "        \"\"\"\n",
        "        # Compute sentence lengths\n",
        "        # source_lengths = [len(s) for s in source]\n",
        "        source_lengths = [len(s) if len(s) <= args.max_len else args.max_len for s in source]\n",
        "\n",
        "        # Convert list of lists into tensors\n",
        "        source_padded = self.vocab.src.to_input_tensor(source, device=self.device)  # Tensor: (src_len, b)\n",
        "        target_padded = self.vocab.tgt.to_input_tensor(target, device=self.device)  # Tensor: (tgt_len, b)\n",
        "\n",
        "        ###     Run the network forward:\n",
        "        ###     1. Apply the encoder to `source_padded` by calling `self.encode()`\n",
        "        ###     2. Generate sentence masks for `source_padded` by calling `self.generate_sent_masks()`\n",
        "        ###     3. Apply the decoder to compute combined-output by calling `self.decode()`\n",
        "        ###     4. Compute log probability distribution over the target vocabulary using the\n",
        "        ###        combined_outputs returned by the `self.decode()` function.\n",
        "\n",
        "        enc_hiddens, dec_init_state = self.encode(source_padded, source_lengths)\n",
        "        enc_masks = self.generate_sent_masks(enc_hiddens, source_lengths)\n",
        "        combined_outputs = self.decode(enc_hiddens, enc_masks, dec_init_state, target_padded)\n",
        "        P = F.log_softmax(self.target_vocab_projection(combined_outputs), dim=-1)\n",
        "\n",
        "        # Zero out, probabilities for which we have nothing in the target text\n",
        "        target_masks = (target_padded != self.vocab.tgt['<pad>']).float()\n",
        "\n",
        "        # Compute log probability of generating true target words\n",
        "        target_gold_words_log_prob = torch.gather(P, index=target_padded[1:].unsqueeze(-1), dim=-1).squeeze(\n",
        "            -1) * target_masks[1:]\n",
        "        scores = target_gold_words_log_prob.sum(dim=0)\n",
        "        return scores\n",
        "\n",
        "    def encode(self, source_padded: torch.Tensor, source_lengths: List[int]) -> Tuple[\n",
        "        torch.Tensor, Tuple[torch.Tensor, torch.Tensor]]:\n",
        "        \"\"\" Apply the encoder to source sentences to obtain encoder hidden states.\n",
        "            Additionally, take the final states of the encoder and project them to obtain initial states for decoder.\n",
        "\n",
        "        @param source_padded (Tensor): Tensor of padded source sentences with shape (src_len, b), where\n",
        "                                        b = batch_size, src_len = maximum source sentence length. Note that\n",
        "                                       these have already been sorted in order of longest to shortest sentence.\n",
        "        @param source_lengths (List[int]): List of actual lengths for each of the source sentences in the batch\n",
        "        @returns enc_hiddens (Tensor): Tensor of hidden units with shape (b, src_len, h*2), where\n",
        "                                        b = batch size, src_len = maximum source sentence length, h = hidden size.\n",
        "        @returns dec_init_state (tuple(Tensor, Tensor)): Tuple of tensors representing the decoder's initial\n",
        "                                                hidden state and cell. Both tensors should have shape (2, b, h).\n",
        "        \"\"\"\n",
        "        enc_hiddens, dec_init_state = None, None\n",
        "\n",
        "        ### YOUR CODE HERE (~ 11 Lines)\n",
        "        ### TODO:\n",
        "        ###     1. Construct Tensor `X` of source sentences with shape (src_len, b, e) using the source model embeddings.\n",
        "        ###         src_len = maximum source sentence length, b = batch size, e = embedding size. Note\n",
        "        ###         that there is no initial hidden state or cell for the encoder.\n",
        "        ###     2. Apply the post_embed_cnn layer. Before feeding X into the CNN, first use torch.permute to change the\n",
        "        ###         shape of X to (b, e, src_len). After getting the output from the CNN, still stored in the X variable,\n",
        "        ###         remember to use torch.permute again to revert X back to its original shape.\n",
        "        ###     3. Compute `enc_hiddens`, `last_hidden`, `last_cell` by applying the encoder to `X`.\n",
        "        ###         - Before you can apply the encoder, you need to apply the `pack_padded_sequence` function to X.\n",
        "        ###         - After you apply the encoder, you need to apply the `pad_packed_sequence` function to enc_hiddens.\n",
        "        ###         - Note that the shape of the tensor output returned by the encoder RNN is (src_len, b, h*2) and we want to\n",
        "        ###           return a tensor of shape (b, src_len, h*2) as `enc_hiddens`, so you may need to do more permuting.\n",
        "        ###         - Note on using pad_packed_sequence -> For batched inputs, you need to make sure that each of the\n",
        "        ###           individual input examples has the same shape.\n",
        "        ###     4. Compute `dec_init_state` = (init_decoder_hidden, init_decoder_cell):\n",
        "        ###         - `init_decoder_hidden`:\n",
        "        ###             `last_hidden` is a tensor shape (2, b, h). The first dimension corresponds to forwards and backwards.\n",
        "        ###             Concatenate the forwards and backwards tensors to obtain a tensor shape (b, 2*h).\n",
        "        ###             Apply the h_projection layer to this in order to compute init_decoder_hidden.\n",
        "        ###             This is h_0^{dec} in the PDF. Here b = batch size, h = hidden size\n",
        "        ###         - `init_decoder_cell`:\n",
        "        ###             `last_cell` is a tensor shape (2, b, h). The first dimension corresponds to forwards and backwards.\n",
        "        ###             Concatenate the forwards and backwards tensors to obtain a tensor shape (b, 2*h).\n",
        "        ###             Apply the c_projection layer to this in order to compute init_decoder_cell.\n",
        "        ###             This is c_0^{dec} in the PDF. Here b = batch size, h = hidden size\n",
        "        ###\n",
        "        ### See the following docs, as you may need to use some of the following functions in your implementation:\n",
        "        ###     Pack the padded sequence X before passing to the encoder:\n",
        "        ###         https://pytorch.org/docs/stable/generated/torch.nn.utils.rnn.pack_padded_sequence.html\n",
        "        ###     Pad the packed sequence, enc_hiddens, returned by the encoder:\n",
        "        ###         https://pytorch.org/docs/stable/generated/torch.nn.utils.rnn.pad_packed_sequence.html\n",
        "        ###     Tensor Concatenation:\n",
        "        ###         https://pytorch.org/docs/stable/generated/torch.cat.html\n",
        "        ###     Tensor Permute:\n",
        "        ###         https://pytorch.org/docs/stable/generated/torch.permute.html\n",
        "        ###     Tensor Reshape (a possible alternative to permute):\n",
        "        ###         https://pytorch.org/docs/stable/generated/torch.Tensor.reshape.html\n",
        "        X = self.model_embeddings.source(source_padded)\n",
        "        X = X.permute(1, 2, 0)\n",
        "        X = self.post_embed_cnn(X)\n",
        "        X = X.permute(2, 0, 1)\n",
        "        X = pack_padded_sequence(X, source_lengths)\n",
        "        enc_hiddens, (last_hidden, last_cell) = self.encoder(X)\n",
        "        enc_hiddens, _ = pad_packed_sequence(enc_hiddens)\n",
        "        enc_hiddens = enc_hiddens.permute(1, 0, 2)\n",
        "        last_hidden = torch.cat((last_hidden[0], last_hidden[1]), 1)\n",
        "        last_cell = torch.cat((last_cell[0], last_cell[1]), 1)\n",
        "        init_decoder_hidden = self.h_projection(last_hidden)\n",
        "        init_decoder_cell = self.c_projection(last_cell)\n",
        "        dec_init_state = (init_decoder_hidden, init_decoder_cell)\n",
        "\n",
        "        ### END YOUR CODE\n",
        "\n",
        "        return enc_hiddens, dec_init_state\n",
        "\n",
        "    def decode(self, enc_hiddens: torch.Tensor, enc_masks: torch.Tensor,\n",
        "               dec_init_state: Tuple[torch.Tensor, torch.Tensor], target_padded: torch.Tensor) -> torch.Tensor:\n",
        "        \"\"\"Compute combined output vectors for a batch.\n",
        "\n",
        "        @param enc_hiddens (Tensor): Hidden states (b, src_len, h*2), where\n",
        "                                     b = batch size, src_len = maximum source sentence length, h = hidden size.\n",
        "        @param enc_masks (Tensor): Tensor of sentence masks (b, src_len), where\n",
        "                                     b = batch size, src_len = maximum source sentence length.\n",
        "        @param dec_init_state (tuple(Tensor, Tensor)): Initial state and cell for decoder\n",
        "        @param target_padded (Tensor): Gold-standard padded target sentences (tgt_len, b), where\n",
        "                                       tgt_len = maximum target sentence length, b = batch size.\n",
        "\n",
        "        @returns combined_outputs (Tensor): combined output tensor  (tgt_len, b,  h), where\n",
        "                                        tgt_len = maximum target sentence length, b = batch_size,  h = hidden size\n",
        "        \"\"\"\n",
        "        # Chop off the <END> token for max length sentences.\n",
        "        target_padded = target_padded[:-1]\n",
        "\n",
        "        # Initialize the decoder state (hidden and cell)\n",
        "        dec_state = dec_init_state\n",
        "\n",
        "        # Initialize previous combined output vector o_{t-1} as zero\n",
        "        batch_size = enc_hiddens.size(0)\n",
        "        o_prev = torch.zeros(batch_size, self.hidden_size, device=self.device)\n",
        "\n",
        "        # Initialize a list we will use to collect the combined output o_t on each step\n",
        "        combined_outputs = []\n",
        "\n",
        "        ### YOUR CODE HERE (~9 Lines)\n",
        "        ### TODO:\n",
        "        ###     1. Apply the attention projection layer to `enc_hiddens` to obtain `enc_hiddens_proj`,\n",
        "        ###         which should be shape (b, src_len, h),\n",
        "        ###         where b = batch size, src_len = maximum source length, h = hidden size.\n",
        "        ###         This is applying W_{attProj} to h^enc, as described in the PDF.\n",
        "        ###     2. Construct tensor `Y` of target sentences with shape (tgt_len, b, e) using the target model embeddings.\n",
        "        ###         where tgt_len = maximum target sentence length, b = batch size, e = embedding size.\n",
        "        ###     3. Use the torch.split function to iterate over the time dimension of Y.\n",
        "        ###         Within the loop, this will give you Y_t of shape (1, b, e) where b = batch size, e = embedding size.\n",
        "        ###             - Squeeze Y_t into a tensor of dimension (b, e).\n",
        "        ###             - Construct Ybar_t by concatenating Y_t with o_prev on their last dimension\n",
        "        ###             - Use the step function to compute the the Decoder's next (cell, state) values\n",
        "        ###               as well as the new combined output o_t.\n",
        "        ###             - Append o_t to combined_outputs\n",
        "        ###             - Update o_prev to the new o_t.\n",
        "        ###     4. Use torch.stack to convert combined_outputs from a list length tgt_len of\n",
        "        ###         tensors shape (b, h), to a single tensor shape (tgt_len, b, h)\n",
        "        ###         where tgt_len = maximum target sentence length, b = batch size, h = hidden size.\n",
        "        ###\n",
        "        ### Note:\n",
        "        ###    - When using the squeeze() function make sure to specify the dimension you want to squeeze\n",
        "        ###      over. Otherwise, you will remove the batch dimension accidentally, if batch_size = 1.\n",
        "        ###\n",
        "        ### You may find some of these functions useful:\n",
        "        ###     Zeros Tensor:\n",
        "        ###         https://pytorch.org/docs/stable/torch.html#torch.zeros\n",
        "        ###     Tensor Splitting (iteration):\n",
        "        ###         https://pytorch.org/docs/stable/torch.html#torch.split\n",
        "        ###     Tensor Dimension Squeezing:\n",
        "        ###         https://pytorch.org/docs/stable/torch.html#torch.squeeze\n",
        "        ###     Tensor Concatenation:\n",
        "        ###         https://pytorch.org/docs/stable/torch.html#torch.cat\n",
        "        ###     Tensor Stacking:\n",
        "        ###         https://pytorch.org/docs/stable/torch.html#torch.stack\n",
        "        enc_hiddens_proj = self.att_projection(enc_hiddens)\n",
        "        Y = self.model_embeddings.target(target_padded)\n",
        "        for Y_t in torch.split(Y, 1):\n",
        "            Y_t = torch.squeeze(Y_t, 0)\n",
        "            Ybar_t = torch.cat((Y_t, o_prev), 1)\n",
        "            dec_state, o_t, _ = self.step(Ybar_t, dec_state, enc_hiddens, enc_hiddens_proj, enc_masks)\n",
        "            combined_outputs.append(o_t)\n",
        "            o_prev = o_t\n",
        "        combined_outputs = torch.stack(combined_outputs)\n",
        "\n",
        "        ### END YOUR CODE\n",
        "\n",
        "        return combined_outputs\n",
        "\n",
        "    def step(self, Ybar_t: torch.Tensor,\n",
        "             dec_state: Tuple[torch.Tensor, torch.Tensor],\n",
        "             enc_hiddens: torch.Tensor,\n",
        "             enc_hiddens_proj: torch.Tensor,\n",
        "             enc_masks: torch.Tensor) -> Tuple[Tuple, torch.Tensor, torch.Tensor]:\n",
        "        \"\"\" Compute one forward step of the LSTM decoder, including the attention computation.\n",
        "\n",
        "        @param Ybar_t (Tensor): Concatenated Tensor of [Y_t o_prev], with shape (b, e + h). The input for the decoder,\n",
        "                                where b = batch size, e = embedding size, h = hidden size.\n",
        "        @param dec_state (tuple(Tensor, Tensor)): Tuple of tensors both with shape (b, h), where b = batch size, h = hidden size.\n",
        "                First tensor is decoder's prev hidden state, second tensor is decoder's prev cell.\n",
        "        @param enc_hiddens (Tensor): Encoder hidden states Tensor, with shape (b, src_len, h * 2), where b = batch size,\n",
        "                                    src_len = maximum source length, h = hidden size.\n",
        "        @param enc_hiddens_proj (Tensor): Encoder hidden states Tensor, projected from (h * 2) to h. Tensor is with shape (b, src_len, h),\n",
        "                                    where b = batch size, src_len = maximum source length, h = hidden size.\n",
        "        @param enc_masks (Tensor): Tensor of sentence masks shape (b, src_len),\n",
        "                                    where b = batch size, src_len is maximum source length.\n",
        "\n",
        "        @returns dec_state (tuple (Tensor, Tensor)): Tuple of tensors both shape (b, h), where b = batch size, h = hidden size.\n",
        "                First tensor is decoder's new hidden state, second tensor is decoder's new cell.\n",
        "        @returns combined_output (Tensor): Combined output Tensor at timestep t, shape (b, h), where b = batch size, h = hidden size.\n",
        "        @returns e_t (Tensor): Tensor of shape (b, src_len). It is attention scores distribution.\n",
        "                                Note: You will not use this outside of this function.\n",
        "                                      We are simply returning this value so that we can sanity check\n",
        "                                      your implementation.\n",
        "        \"\"\"\n",
        "\n",
        "        combined_output = None\n",
        "\n",
        "        ### YOUR CODE HERE (~3 Lines)\n",
        "        ### TODO:\n",
        "        ###     1. Apply the decoder to `Ybar_t` and `dec_state`to obtain the new dec_state.\n",
        "        ###     2. Split dec_state into its two parts (dec_hidden, dec_cell)\n",
        "        ###     3. Compute the attention scores e_t, a Tensor shape (b, src_len).\n",
        "        ###        Note: b = batch_size, src_len = maximum source length, h = hidden size.\n",
        "        ###\n",
        "        ###       Hints:\n",
        "        ###         - dec_hidden is shape (b, h) and corresponds to h^dec_t in the PDF (batched)\n",
        "        ###         - enc_hiddens_proj is shape (b, src_len, h) and corresponds to W_{attProj} h^enc (batched).\n",
        "        ###         - Use batched matrix multiplication (torch.bmm) to compute e_t (be careful about the input/ output shapes!)\n",
        "        ###         - To get the tensors into the right shapes for bmm, you will need to do some squeezing and unsqueezing.\n",
        "        ###         - When using the squeeze() function make sure to specify the dimension you want to squeeze\n",
        "        ###             over. Otherwise, you will remove the batch dimension accidentally, if batch_size = 1.\n",
        "        ###\n",
        "        ### Use the following docs to implement this functionality:\n",
        "        ###     Batch Multiplication:\n",
        "        ###        https://pytorch.org/docs/stable/torch.html#torch.bmm\n",
        "        ###     Tensor Unsqueeze:\n",
        "        ###         https://pytorch.org/docs/stable/torch.html#torch.unsqueeze\n",
        "        ###     Tensor Squeeze:\n",
        "        ###         https://pytorch.org/docs/stable/torch.html#torch.squeeze\n",
        "        dec_state = self.decoder(Ybar_t, dec_state)\n",
        "        dec_hidden, dec_cell = dec_state\n",
        "        e_t = torch.bmm(enc_hiddens_proj, dec_hidden.unsqueeze(2)).squeeze(2)\n",
        "\n",
        "        ### END YOUR CODE\n",
        "\n",
        "        # Set e_t to -inf where enc_masks has 1\n",
        "        if enc_masks is not None:\n",
        "            e_t.data.masked_fill_(enc_masks.bool(), -float('inf'))\n",
        "\n",
        "        ### YOUR CODE HERE (~6 Lines)\n",
        "        ### TODO:\n",
        "        ###     1. Apply softmax to e_t to yield alpha_t\n",
        "        ###     2. Use batched matrix multiplication between alpha_t and enc_hiddens to obtain the\n",
        "        ###         attention output vector, a_t.\n",
        "        # $$     Hints:\n",
        "        ###           - alpha_t is shape (b, src_len)\n",
        "        ###           - enc_hiddens is shape (b, src_len, 2h)\n",
        "        ###           - a_t should be shape (b, 2h)\n",
        "        ###           - You will need to do some squeezing and unsqueezing.\n",
        "        ###     Note: b = batch size, src_len = maximum source length, h = hidden size.\n",
        "        ###\n",
        "        ###     3. Concatenate dec_hidden with a_t to compute tensor U_t\n",
        "        ###     4. Apply the combined output projection layer to U_t to compute tensor V_t\n",
        "        ###     5. Compute tensor O_t by first applying the Tanh function and then the dropout layer.\n",
        "        ###\n",
        "        ### Use the following docs to implement this functionality:\n",
        "        ###     Softmax:\n",
        "        ###         https://pytorch.org/docs/stable/nn.functional.html#torch.nn.functional.softmax\n",
        "        ###     Batch Multiplication:\n",
        "        ###        https://pytorch.org/docs/stable/torch.html#torch.bmm\n",
        "        ###     Tensor View:\n",
        "        ###         https://pytorch.org/docs/stable/tensors.html#torch.Tensor.view\n",
        "        ###     Tensor Concatenation:\n",
        "        ###         https://pytorch.org/docs/stable/torch.html#torch.cat\n",
        "        ###     Tanh:\n",
        "        ###         https://pytorch.org/docs/stable/torch.html#torch.tanh\n",
        "        alpha_t = F.softmax(e_t, dim=1)\n",
        "        a_t = torch.bmm(alpha_t.unsqueeze(1), enc_hiddens).squeeze(1)\n",
        "        U_t = torch.cat((dec_hidden, a_t), dim=1)\n",
        "        V_t = self.combined_output_projection(U_t)\n",
        "        O_t = self.dropout(torch.tanh(V_t))\n",
        "\n",
        "        ### END YOUR CODE\n",
        "\n",
        "        combined_output = O_t\n",
        "        return dec_state, combined_output, e_t\n",
        "\n",
        "    def generate_sent_masks(self, enc_hiddens: torch.Tensor, source_lengths: List[int]) -> torch.Tensor:\n",
        "        \"\"\" Generate sentence masks for encoder hidden states.\n",
        "\n",
        "        @param enc_hiddens (Tensor): encodings of shape (b, src_len, 2*h), where b = batch size,\n",
        "                                     src_len = max source length, h = hidden size.\n",
        "        @param source_lengths (List[int]): List of actual lengths for each of the sentences in the batch.\n",
        "\n",
        "        @returns enc_masks (Tensor): Tensor of sentence masks of shape (b, src_len),\n",
        "                                    where src_len = max source length, h = hidden size.\n",
        "        \"\"\"\n",
        "        enc_masks = torch.zeros(enc_hiddens.size(0), enc_hiddens.size(1), dtype=torch.float)\n",
        "        for e_id, src_len in enumerate(source_lengths):\n",
        "            enc_masks[e_id, src_len:] = 1\n",
        "        return enc_masks.to(self.device)\n",
        "\n",
        "    def beam_search(self, src_sent: List[str], beam_size: int = 5, max_decoding_time_step: int = 70) -> List[\n",
        "        Hypothesis]:\n",
        "        \"\"\" Given a single source sentence, perform beam search, yielding translations in the target language.\n",
        "        @param src_sent (List[str]): a single source sentence (words)\n",
        "        @param beam_size (int): beam size\n",
        "        @param max_decoding_time_step (int): maximum number of time steps to unroll the decoding RNN\n",
        "        @returns hypotheses (List[Hypothesis]): a list of hypothesis, each hypothesis has two fields:\n",
        "                value: List[str]: the decoded target sentence, represented as a list of words\n",
        "                score: float: the log-likelihood of the target sentence\n",
        "        \"\"\"\n",
        "        src_sents_var = self.vocab.src.to_input_tensor([src_sent], self.device)\n",
        "\n",
        "        src_encodings, dec_init_vec = self.encode(src_sents_var, [len(src_sent)])\n",
        "        src_encodings_att_linear = self.att_projection(src_encodings)\n",
        "\n",
        "        h_tm1 = dec_init_vec\n",
        "        att_tm1 = torch.zeros(1, self.hidden_size, device=self.device)\n",
        "\n",
        "        eos_id = self.vocab.tgt['</s>']\n",
        "\n",
        "        hypotheses = [['<s>']]\n",
        "        hyp_scores = torch.zeros(len(hypotheses), dtype=torch.float, device=self.device)\n",
        "        completed_hypotheses = []\n",
        "\n",
        "        t = 0\n",
        "        while len(completed_hypotheses) < beam_size and t < max_decoding_time_step:\n",
        "            t += 1\n",
        "            hyp_num = len(hypotheses)\n",
        "\n",
        "            exp_src_encodings = src_encodings.expand(hyp_num,\n",
        "                                                     src_encodings.size(1),\n",
        "                                                     src_encodings.size(2))\n",
        "\n",
        "            exp_src_encodings_att_linear = src_encodings_att_linear.expand(hyp_num,\n",
        "                                                                           src_encodings_att_linear.size(1),\n",
        "                                                                           src_encodings_att_linear.size(2))\n",
        "\n",
        "            y_tm1 = torch.tensor([self.vocab.tgt[hyp[-1]] for hyp in hypotheses], dtype=torch.long, device=self.device)\n",
        "            y_t_embed = self.model_embeddings.target(y_tm1)\n",
        "\n",
        "            x = torch.cat([y_t_embed, att_tm1], dim=-1)\n",
        "\n",
        "            (h_t, cell_t), att_t, _ = self.step(x, h_tm1,\n",
        "                                                exp_src_encodings, exp_src_encodings_att_linear, enc_masks=None)\n",
        "\n",
        "            # log probabilities over target words\n",
        "            log_p_t = F.log_softmax(self.target_vocab_projection(att_t), dim=-1)\n",
        "\n",
        "            live_hyp_num = beam_size - len(completed_hypotheses)\n",
        "            contiuating_hyp_scores = (hyp_scores.unsqueeze(1).expand_as(log_p_t) + log_p_t).view(-1)\n",
        "            top_cand_hyp_scores, top_cand_hyp_pos = torch.topk(contiuating_hyp_scores, k=live_hyp_num)\n",
        "\n",
        "            prev_hyp_ids = torch.div(top_cand_hyp_pos, len(self.vocab.tgt), rounding_mode='floor')\n",
        "            hyp_word_ids = top_cand_hyp_pos % len(self.vocab.tgt)\n",
        "\n",
        "            new_hypotheses = []\n",
        "            live_hyp_ids = []\n",
        "            new_hyp_scores = []\n",
        "\n",
        "            for prev_hyp_id, hyp_word_id, cand_new_hyp_score in zip(prev_hyp_ids, hyp_word_ids, top_cand_hyp_scores):\n",
        "                prev_hyp_id = prev_hyp_id.item()\n",
        "                hyp_word_id = hyp_word_id.item()\n",
        "                cand_new_hyp_score = cand_new_hyp_score.item()\n",
        "\n",
        "                hyp_word = self.vocab.tgt.id2word[hyp_word_id]\n",
        "                new_hyp_sent = hypotheses[prev_hyp_id] + [hyp_word]\n",
        "                if hyp_word == '</s>':\n",
        "                    completed_hypotheses.append(Hypothesis(value=new_hyp_sent[1:-1],\n",
        "                                                           score=cand_new_hyp_score))\n",
        "                else:\n",
        "                    new_hypotheses.append(new_hyp_sent)\n",
        "                    live_hyp_ids.append(prev_hyp_id)\n",
        "                    new_hyp_scores.append(cand_new_hyp_score)\n",
        "\n",
        "            if len(completed_hypotheses) == beam_size:\n",
        "                break\n",
        "\n",
        "            live_hyp_ids = torch.tensor(live_hyp_ids, dtype=torch.long, device=self.device)\n",
        "            h_tm1 = (h_t[live_hyp_ids], cell_t[live_hyp_ids])\n",
        "            att_tm1 = att_t[live_hyp_ids]\n",
        "\n",
        "            hypotheses = new_hypotheses\n",
        "            hyp_scores = torch.tensor(new_hyp_scores, dtype=torch.float, device=self.device)\n",
        "\n",
        "        if len(completed_hypotheses) == 0:\n",
        "            completed_hypotheses.append(Hypothesis(value=hypotheses[0][1:],\n",
        "                                                   score=hyp_scores[0].item()))\n",
        "\n",
        "        completed_hypotheses.sort(key=lambda hyp: hyp.score, reverse=True)\n",
        "\n",
        "        return completed_hypotheses\n",
        "\n",
        "    @property\n",
        "    def device(self) -> torch.device:\n",
        "        \"\"\" Determine which device to place the Tensors upon, CPU or GPU.\n",
        "        \"\"\"\n",
        "        return self.model_embeddings.source.weight.device\n",
        "\n",
        "    @staticmethod\n",
        "    def load(model_path: str):\n",
        "        \"\"\" Load the model from a file.\n",
        "        @param model_path (str): path to model\n",
        "        \"\"\"\n",
        "        params = torch.load(model_path, map_location=lambda storage, loc: storage)\n",
        "        args = params['args']\n",
        "        model = NMT(vocab=params['vocab'], **args)\n",
        "        model.load_state_dict(params['state_dict'])\n",
        "\n",
        "        return model\n",
        "\n",
        "    def save(self, path: str):\n",
        "        \"\"\" Save the odel to a file.\n",
        "        @param path (str): path to the model\n",
        "        \"\"\"\n",
        "        print('save model parameters to [%s]' % path, file=sys.stderr)\n",
        "\n",
        "        params = {\n",
        "            'args': dict(embed_size=self.model_embeddings.embed_size, hidden_size=self.hidden_size,\n",
        "                         dropout_rate=self.dropout_rate),\n",
        "            'vocab': self.vocab,\n",
        "            'state_dict': self.state_dict()\n",
        "        }\n",
        "\n",
        "        torch.save(params, path)"
      ],
      "metadata": {
        "id": "qfa3jewziImC"
      },
      "execution_count": null,
      "outputs": []
    },
    {
      "cell_type": "markdown",
      "source": [
        "Now it’s time to get things running!"
      ],
      "metadata": {
        "id": "ViJAE00fMKw7"
      }
    },
    {
      "cell_type": "markdown",
      "source": [
        "## Evaluating function\n"
      ],
      "metadata": {
        "id": "aJjqKeVjNdJt"
      }
    },
    {
      "cell_type": "code",
      "source": [
        "def evaluate_ppl(model, dev_data, batch_size=32):\n",
        "    \"\"\" Evaluate perplexity on dev sentences\n",
        "    @param model (NMT): NMT Model\n",
        "    @param dev_data (list of (src_sent, tgt_sent)): list of tuples containing source and target sentence\n",
        "    @param batch_size (batch size)\n",
        "    @returns ppl (perplixty on dev sentences)\n",
        "    \"\"\"\n",
        "    was_training = model.training\n",
        "    model.eval()\n",
        "\n",
        "    cum_loss = 0.\n",
        "    cum_tgt_words = 0.\n",
        "\n",
        "    # no_grad() signals backend to throw away all gradients\n",
        "    with torch.no_grad():\n",
        "        for src_sents, tgt_sents in batch_iter(dev_data, batch_size):\n",
        "            loss = -model(src_sents, tgt_sents).sum()\n",
        "\n",
        "            cum_loss += loss.item()\n",
        "            tgt_word_num_to_predict = sum(len(s[1:]) for s in tgt_sents)  # omitting leading `<s>`\n",
        "            cum_tgt_words += tgt_word_num_to_predict\n",
        "\n",
        "        ppl = np.exp(cum_loss / cum_tgt_words)\n",
        "\n",
        "    if was_training:\n",
        "        model.train()\n",
        "\n",
        "    return ppl\n",
        "\n",
        "def compute_corpus_level_bleu_score(references: List[List[str]], hypotheses: List[Hypothesis]) -> float:\n",
        "    \"\"\" Given decoding results and reference sentences, compute corpus-level BLEU score.\n",
        "    @param references (List[List[str]]): a list of gold-standard reference target sentences\n",
        "    @param hypotheses (List[Hypothesis]): a list of hypotheses, one for each reference\n",
        "    @returns bleu_score: corpus-level BLEU score\n",
        "    \"\"\"\n",
        "    # remove the start and end tokens\n",
        "    if references[0][0] == '<s>':\n",
        "        references = [ref[1:-1] for ref in references]\n",
        "\n",
        "    # detokenize the subword pieces to get full sentences\n",
        "    detokened_refs = [''.join(pieces).replace('▁', ' ') for pieces in references]\n",
        "    detokened_hyps = [''.join(hyp.value).replace('▁', ' ') for hyp in hypotheses]\n",
        "\n",
        "    # sacreBLEU can take multiple references (golden example per sentence) but we only feed it one\n",
        "    bleu = sacrebleu.corpus_bleu(detokened_hyps, [detokened_refs])\n",
        "\n",
        "    return bleu.score, detokened_refs, detokened_hyps"
      ],
      "metadata": {
        "id": "80dkhcV5lT91"
      },
      "execution_count": null,
      "outputs": []
    },
    {
      "cell_type": "markdown",
      "source": [
        "## Training the model"
      ],
      "metadata": {
        "id": "YM4LMEmT62FL"
      }
    },
    {
      "cell_type": "code",
      "source": [
        "# Initialize our model and optimizer\n",
        "model = NMT(embed_size=args.embed_size,\n",
        "            hidden_size=args.hidden_size,\n",
        "            dropout_rate=float(args.dropout),\n",
        "            vocab=vocab)\n",
        "model.train()\n",
        "\n",
        "uniform_init = float(args.uniform_init)\n",
        "if np.abs(uniform_init) > 0.:\n",
        "    print('uniformly initialize parameters [-%f, +%f]' % (uniform_init, uniform_init), file=sys.stderr)\n",
        "    for p in model.parameters():\n",
        "        p.data.uniform_(-uniform_init, uniform_init)\n",
        "\n",
        "model = model.to(device)\n",
        "optimizer = torch.optim.Adam(model.parameters(), lr=float(args.lr))"
      ],
      "metadata": {
        "id": "etmZ3f8Ei1vG",
        "colab": {
          "base_uri": "https://localhost:8080/"
        },
        "outputId": "d44b6c4b-6235-4bff-ae87-40151d449a5c"
      },
      "execution_count": null,
      "outputs": [
        {
          "output_type": "stream",
          "name": "stderr",
          "text": [
            "uniformly initialize parameters [-0.100000, +0.100000]\n"
          ]
        }
      ]
    },
    {
      "cell_type": "markdown",
      "source": [
        "We wil first train our model on a small training set of 50 samples and evaluate it on a small dev set of 50 samples."
      ],
      "metadata": {
        "id": "gHL9PVKB7iQa"
      }
    },
    {
      "cell_type": "code",
      "source": [
        "max_train = 50\n",
        "\n",
        "train_data_small = [val for val in train_data if len(val[0]) > 3][:max_train]\n",
        "dev_data_small = [val for val in dev_data if len(val[0]) > 3][:max_train]"
      ],
      "metadata": {
        "id": "UBinbqo068vb"
      },
      "execution_count": null,
      "outputs": []
    },
    {
      "cell_type": "code",
      "source": [
        "num_trial = 0\n",
        "train_iter = patience = cum_loss = report_loss = cum_tgt_words = report_tgt_words = 0\n",
        "cum_examples = report_examples = epoch = valid_num = 0\n",
        "hist_valid_scores = []\n",
        "train_time = begin_time = time.time()\n",
        "print('begin Maximum Likelihood training')\n",
        "\n",
        "for epoch in range(args.max_epoch):\n",
        "    for src_sents, tgt_sents in batch_iter(train_data_small, batch_size=args.batch_size, shuffle=True):\n",
        "        train_iter += 1\n",
        "\n",
        "        optimizer.zero_grad()\n",
        "\n",
        "        batch_size = len(src_sents)\n",
        "\n",
        "        example_losses = -model(src_sents, tgt_sents) # (batch_size,)\n",
        "        batch_loss = example_losses.sum()\n",
        "        loss = batch_loss / batch_size\n",
        "\n",
        "        loss.backward()\n",
        "\n",
        "        # clip gradient\n",
        "        grad_norm = torch.nn.utils.clip_grad_norm_(model.parameters(), args.clip_grad)\n",
        "\n",
        "        optimizer.step()\n",
        "\n",
        "        batch_losses_val = batch_loss.item()\n",
        "        report_loss += batch_losses_val\n",
        "        cum_loss += batch_losses_val\n",
        "\n",
        "        tgt_words_num_to_predict = sum(len(s[1:]) for s in tgt_sents)  # omitting leading `<s>`\n",
        "        report_tgt_words += tgt_words_num_to_predict\n",
        "        cum_tgt_words += tgt_words_num_to_predict\n",
        "        report_examples += batch_size\n",
        "        cum_examples += batch_size\n",
        "\n",
        "        if train_iter % args.log_every == 0:\n",
        "            print('epoch %d, iter %d, avg. loss %.2f, avg. ppl %.2f ' \\\n",
        "                    'cum. examples %d, speed %.2f words/sec, time elapsed %.2f sec' % (epoch, train_iter,\n",
        "                                                                                        report_loss / report_examples,\n",
        "                                                                                        math.exp(report_loss / report_tgt_words),\n",
        "                                                                                        cum_examples,\n",
        "                                                                                        report_tgt_words / (time.time() - train_time),\n",
        "                                                                                        time.time() - begin_time), file=sys.stderr)\n",
        "\n",
        "            train_time = time.time()\n",
        "            report_loss = report_tgt_words = report_examples = 0.\n",
        "\n",
        "        # perform validation\n",
        "        if train_iter % args.valid_niter == 0:\n",
        "            print('epoch %d, iter %d, cum. loss %.2f, cum. ppl %.2f cum. examples %d' % (epoch, train_iter,\n",
        "                                                                                        cum_loss / cum_examples,\n",
        "                                                                                        np.exp(cum_loss / cum_tgt_words),\n",
        "                                                                                        cum_examples), file=sys.stderr)\n",
        "\n",
        "            cum_loss = cum_examples = cum_tgt_words = 0.\n",
        "            valid_num += 1\n",
        "\n",
        "            print('begin validation ...', file=sys.stderr)\n",
        "\n",
        "            # compute dev. ppl and bleu\n",
        "            dev_ppl = evaluate_ppl(model, dev_data, batch_size=128)   # dev batch size can be a bit larger\n",
        "            valid_metric = -dev_ppl\n",
        "\n",
        "            print('validation: iter %d, dev. ppl %f' % (train_iter, dev_ppl), file=sys.stderr)\n",
        "\n",
        "            is_better = len(hist_valid_scores) == 0 or valid_metric > max(hist_valid_scores)\n",
        "            hist_valid_scores.append(valid_metric)\n",
        "\n",
        "            if is_better:\n",
        "                patience = 0\n",
        "                print('save currently the best model to [%s]' % args.model_save_path, file=sys.stderr)\n",
        "                model.save(args.model_save_path)\n",
        "\n",
        "                # also save the optimizers' state\n",
        "                torch.save(optimizer.state_dict(), args.model_save_path + '.optim')\n",
        "            elif patience < int(args.patience):\n",
        "                patience += 1\n",
        "                print('hit patience %d' % patience, file=sys.stderr)\n",
        "\n",
        "                if patience == int(args.patience):\n",
        "                    num_trial += 1\n",
        "                    print('hit #%d trial' % num_trial, file=sys.stderr)\n",
        "                    if num_trial == int(args.max_num_trial):\n",
        "                        print('early stop!', file=sys.stderr)\n",
        "                        exit(0)\n",
        "\n",
        "                    # decay lr, and restore from previously best checkpoint\n",
        "                    lr = optimizer.param_groups[0]['lr'] * float(args.lr_decay)\n",
        "                    print('load previously best model and decay learning rate to %f' % lr, file=sys.stderr)\n",
        "\n",
        "                    # load model\n",
        "                    params = torch.load(args.model_save_path, map_location=lambda storage, loc: storage)\n",
        "                    model.load_state_dict(params['state_dict'])\n",
        "                    model = model.to(device)\n",
        "\n",
        "                    print('restore parameters of the optimizers', file=sys.stderr)\n",
        "                    optimizer.load_state_dict(torch.load(args.model_save_path + '.optim'))\n",
        "\n",
        "                    # set new lr\n",
        "                    for param_group in optimizer.param_groups:\n",
        "                        param_group['lr'] = lr\n",
        "\n",
        "                    # reset patience\n",
        "                    patience = 0"
      ],
      "metadata": {
        "id": "rFp33trgjLpP",
        "colab": {
          "base_uri": "https://localhost:8080/"
        },
        "outputId": "0b505893-df3e-49d5-fa9a-3a5eedcd818b"
      },
      "execution_count": null,
      "outputs": [
        {
          "output_type": "stream",
          "name": "stdout",
          "text": [
            "begin Maximum Likelihood training\n"
          ]
        },
        {
          "output_type": "stream",
          "name": "stderr",
          "text": [
            "/usr/local/lib/python3.10/dist-packages/torch/nn/modules/conv.py:306: UserWarning: Using padding='same' with even kernel lengths and odd dilation may require a zero-padded copy of the input be created (Triggered internally at ../aten/src/ATen/native/Convolution.cpp:1040.)\n",
            "  return F.conv1d(input, weight, bias, self.stride,\n",
            "epoch 4, iter 10, avg. loss 195.20, avg. ppl 1529.50 cum. examples 250, speed 1398.47 words/sec, time elapsed 4.76 sec\n",
            "epoch 9, iter 20, avg. loss 124.45, avg. ppl 107.24 cum. examples 500, speed 2985.66 words/sec, time elapsed 6.99 sec\n",
            "epoch 14, iter 30, avg. loss 89.25, avg. ppl 28.58 cum. examples 750, speed 3102.33 words/sec, time elapsed 9.13 sec\n",
            "epoch 19, iter 40, avg. loss 67.09, avg. ppl 12.43 cum. examples 1000, speed 3097.84 words/sec, time elapsed 11.28 sec\n",
            "epoch 24, iter 50, avg. loss 53.00, avg. ppl 7.32 cum. examples 1250, speed 3326.73 words/sec, time elapsed 13.28 sec\n",
            "epoch 29, iter 60, avg. loss 40.48, avg. ppl 4.58 cum. examples 1500, speed 3002.64 words/sec, time elapsed 15.50 sec\n",
            "epoch 34, iter 70, avg. loss 29.74, avg. ppl 3.06 cum. examples 1750, speed 3112.83 words/sec, time elapsed 17.64 sec\n",
            "epoch 39, iter 80, avg. loss 19.25, avg. ppl 2.06 cum. examples 2000, speed 3221.16 words/sec, time elapsed 19.70 sec\n",
            "epoch 44, iter 90, avg. loss 10.98, avg. ppl 1.51 cum. examples 2250, speed 3177.03 words/sec, time elapsed 21.80 sec\n",
            "epoch 49, iter 100, avg. loss 5.68, avg. ppl 1.24 cum. examples 2500, speed 3130.78 words/sec, time elapsed 23.92 sec\n",
            "epoch 54, iter 110, avg. loss 2.87, avg. ppl 1.11 cum. examples 2750, speed 3140.27 words/sec, time elapsed 26.04 sec\n",
            "epoch 59, iter 120, avg. loss 1.65, avg. ppl 1.06 cum. examples 3000, speed 2962.34 words/sec, time elapsed 28.29 sec\n",
            "epoch 64, iter 130, avg. loss 1.01, avg. ppl 1.04 cum. examples 3250, speed 3122.92 words/sec, time elapsed 30.42 sec\n",
            "epoch 69, iter 140, avg. loss 0.59, avg. ppl 1.02 cum. examples 3500, speed 3139.80 words/sec, time elapsed 32.54 sec\n",
            "epoch 74, iter 150, avg. loss 0.39, avg. ppl 1.01 cum. examples 3750, speed 3060.81 words/sec, time elapsed 34.71 sec\n",
            "epoch 79, iter 160, avg. loss 0.30, avg. ppl 1.01 cum. examples 4000, speed 3152.05 words/sec, time elapsed 36.83 sec\n",
            "epoch 84, iter 170, avg. loss 0.19, avg. ppl 1.01 cum. examples 4250, speed 3095.62 words/sec, time elapsed 38.98 sec\n",
            "epoch 89, iter 180, avg. loss 0.11, avg. ppl 1.00 cum. examples 4500, speed 3013.38 words/sec, time elapsed 41.19 sec\n",
            "epoch 94, iter 190, avg. loss 0.14, avg. ppl 1.01 cum. examples 4750, speed 3130.82 words/sec, time elapsed 43.31 sec\n",
            "epoch 99, iter 200, avg. loss 0.15, avg. ppl 1.01 cum. examples 5000, speed 3232.02 words/sec, time elapsed 45.37 sec\n"
          ]
        }
      ]
    },
    {
      "cell_type": "markdown",
      "source": [
        "## Testing the model\n",
        "\n",
        "Beam search is an algorithm used in many NLP and speech recognition models as a final decision making layer to choose the best output given target variables like maximum probability or next output character. The figure is referenced from the blog [Sequence to Sequence (seq2seq) and Attention](https://lena-voita.github.io/nlp_course/seq2seq_and_attention.html).\n",
        "\n",
        "<img src=\"https://drive.google.com/uc?id=1rjVuANPjwTQi33beysq_LRNCxd6xhRHY\" width=\"800\" height=\"400\"/>\n",
        "\n",
        "The model uses `beam_search` function to yield the translations in the target language. `beam_search` will return a list of hypothesis for the translated sentences, each will have the value and the score for it, sorted in the descending order, so the first element in the Hypothesis is the best option for translated output by the model. The samples on training data should be very good with bleu score 100. The samples on validation data, however, probably won't make sense (because we're overfitting)."
      ],
      "metadata": {
        "id": "p1kxo8fYNC_n"
      }
    },
    {
      "cell_type": "code",
      "source": [
        "# @title Testing on training set\n",
        "references = []\n",
        "hypotheses = []\n",
        "\n",
        "num_logs = 5\n",
        "if (num_logs > len(train_data_small)):\n",
        "  num_logs = len(train_data_small)\n",
        "\n",
        "for i in range(num_logs):\n",
        "  src, tgt = train_data_small[i]\n",
        "  references = [tgt]\n",
        "  hypotheses = model.beam_search(src)\n",
        "  bleu_score, detokened_refs, detokened_hyps = compute_corpus_level_bleu_score(references, hypotheses)\n",
        "  print(f\"Sample {i}:\")\n",
        "  print(\"Bleu score: \" + str(bleu_score))\n",
        "  print(\"Source: \" + str(src))\n",
        "  print(\"Reference: \" + str(detokened_refs))\n",
        "  print(\"Hypotheses: \" + str(detokened_hyps))\n",
        "  print('\\n')"
      ],
      "metadata": {
        "colab": {
          "base_uri": "https://localhost:8080/"
        },
        "id": "pI1zdeCMNBvp",
        "outputId": "4ef7f749-8b37-4365-dd9a-f1e3f22c6850"
      },
      "execution_count": null,
      "outputs": [
        {
          "output_type": "stream",
          "name": "stdout",
          "text": [
            "Sample 0:\n",
            "Bleu score: 100.00000000000004\n",
            "Source: ['▁Khoa', '▁học', '▁đ', 'ằng', '▁sau', '▁một', '▁tiêu', '▁đề', '▁về', '▁khí', '▁hậu']\n",
            "Reference: [' Rachel Pike : The science behind a climate headline']\n",
            "Hypotheses: [' Rachel Pike : The science behind a climate headline', ' Rachel Pike , The science behind a climate headline', ' Rachel Pike : The The behind a climate headline', ' Rachel Pike : The climate behind a climate headline', ' Rachel Pike behind a climate headline']\n",
            "\n",
            "\n",
            "Sample 1:\n",
            "Bleu score: 100.00000000000004\n",
            "Source: ['▁Tro', 'ng', '▁4', '▁phút', '▁,', '▁chuyên', '▁gia', '▁hoá', '▁học', '▁khí', '▁quyển', '▁Rachel', '▁P', 'ike', '▁giới', '▁t', 'hiệu', '▁sơ', '▁lược', '▁về', '▁những', '▁nỗ', '▁lực', '▁khoa', '▁học', '▁m', 'iệt', '▁mà', 'i', '▁đ', 'ằng', '▁sau', '▁những', '▁tiêu', '▁đề', '▁táo', '▁bạo', '▁về', '▁biến', '▁đổi', '▁khí', '▁hậu', '▁,', '▁cùng', '▁với', '▁đoàn', '▁nghiên', '▁cứu', '▁của', '▁mình', '▁--', '▁hàng', '▁ngàn', '▁người', '▁đã', '▁cố', 'ng', '▁', 'hiến', '▁cho', '▁dự', '▁án', '▁này', '▁--', '▁một', '▁chuyến', '▁bay', '▁mạo', '▁hiểm', '▁qua', '▁rừng', '▁già', '▁để', '▁tìm', '▁kiếm', '▁thông', '▁tin', '▁về', '▁một', '▁phân', '▁tử', '▁the', 'n', '▁chố', 't', '▁.']\n",
            "Reference: [' In 4 minutes , atmospheric chemist Rachel Pike provides a glimpse of the massive scientific effort behind the bold headlines on climate change , with her team -- one of thousands who contributed -- taking a risky flight over the rainforest in pursuit of data on a key molecule .']\n",
            "Hypotheses: [' In 4 minutes , atmospheric chemist Rachel Pike provides a glimpse of the massive scientific effort behind the bold headlines on climate change , with her team -- one of thousands who contributed -- taking a risky flight over the rainforest in pursuit of data on a key molecule .', ' In 4 minutes , atmospheric chemist Rachel Pike provide provides a glimpse of the massive scientific effort behind the bold headlines on climate change , with her team -- one of thousands who contributed -- taking a risky flight over the rainforest in pursuit of data on a key molecule .', ' In 4 minutes , atmospheric chemist Rachel Pike provides a glimpse of the massive scientific effort behind the headline headlines on climate change , with her team -- one of thousands who contributed -- taking a risky flight over the rainforest in pursuit of data on a key molecule .', ' In 4 minutes , atmospheric chemist Rachel Pike provides a glimpse of the massive scientific effort behind the bold headlines on climate key molecule .']\n",
            "\n",
            "\n",
            "Sample 2:\n",
            "Bleu score: 100.00000000000004\n",
            "Source: ['▁Tôi', '▁muốn', '▁cho', '▁các', '▁bạn', '▁biết', '▁về', '▁sự', '▁to', '▁lớn', '▁của', '▁những', '▁nỗ', '▁lực', '▁khoa', '▁học', '▁đã', '▁góp', '▁phần', '▁làm', '▁nên', '▁các', '▁dò', 'ng', '▁tí', 't', '▁bạn', '▁thường', '▁thấy', '▁trên', '▁báo', '▁.']\n",
            "Reference: [' I &apos;d like to talk to you today about the scale of the scientific effort that goes into making the headlines you see in the paper .']\n",
            "Hypotheses: [' I &apos;d like to talk to you today about the scale of the scientific effort that goes into making the headlines you see in the paper .', ' I &apos;d to talk to you today about the scale of the scientific effort that goes into making the headlines you see in the paper .', ' I &apos;d like to talk to you today about the scientific effort that goes into making the headlines you see in the paper .', ' I &apos;d like to talk to you today about the the scale of the scientific effort that goes into making the headlines you see in the paper .', ' I &apos;d like to talk to you today about the scale of the scientific effort you goes into making the headlines you see in the paper .']\n",
            "\n",
            "\n",
            "Sample 3:\n",
            "Bleu score: 100.00000000000004\n",
            "Source: ['▁Có', '▁những', '▁dò', 'ng', '▁tr', 'ông', '▁như', '▁thế', '▁này', '▁khi', '▁bàn', '▁về', '▁biến', '▁đổi', '▁khí', '▁hậu', '▁,', '▁và', '▁như', '▁thế', '▁này', '▁khi', '▁nói', '▁về', '▁chất', '▁lượng', '▁không', '▁khí', '▁hay', '▁khói', '▁bụ', 'i', '▁.']\n",
            "Reference: [' Headlines that look like this when they have to do with climate change , and headlines that look like this when they have to do with air quality or smog .']\n",
            "Hypotheses: [' Headlines that look like this when they have to do with climate change , and headlines that look like this when they have to do with air quality or smog .', ' Headlines that look look like this when they have to do with climate change , and headlines that look like this when they have to do with air quality or smog .', ' Headlines that look like this when they have to do with climate change , and headlines that look like , when they have to do with air quality or smog .', ' Headlines that look that like this when they have to do with climate change , and headlines that look like this when they have to do with air quality or smog .', ' Headlines that look like this when they have to do with climate change , and headlines that look like they have to do with air quality or smog .']\n",
            "\n",
            "\n",
            "Sample 4:\n",
            "Bleu score: 100.00000000000004\n",
            "Source: ['▁Cả', '▁hai', '▁đều', '▁là', '▁một', '▁nh', 'ánh', '▁của', '▁cùng', '▁một', '▁lĩnh', '▁vực', '▁trong', '▁ngành', '▁khoa', '▁học', '▁khí', '▁quyển', '▁.']\n",
            "Reference: [' They are both two branches of the same field of atmospheric science .']\n",
            "Hypotheses: [' They are both two branches of the same field of atmospheric science .', ' They are both two branches of the same of atmospheric science .', ' They are both two two branches of the same field of atmospheric science .', ' They are both two branches of the same field ofic science .', ' They are both two branche field of the same field of atmospheric science .']\n",
            "\n",
            "\n"
          ]
        }
      ]
    },
    {
      "cell_type": "code",
      "source": [
        "# @title Testing on evaluate set\n",
        "references = []\n",
        "hypotheses = []\n",
        "\n",
        "num_logs = 5\n",
        "if (num_logs > len(dev_data_small)):\n",
        "  num_logs = len(dev_data_small)\n",
        "\n",
        "for i in range(num_logs):\n",
        "  src, tgt = dev_data_small[i]\n",
        "  references = [tgt]\n",
        "  hypotheses = model.beam_search(src)\n",
        "  bleu_score, detokened_refs, detokened_hyps = compute_corpus_level_bleu_score(references, hypotheses)\n",
        "  print(f\"Sample {i}:\")\n",
        "  print(\"Bleu score: \" + str(bleu_score))\n",
        "  print(\"Source: \" + str(src))\n",
        "  print(\"Reference: \" + str(detokened_refs))\n",
        "  print(\"Hypotheses: \" + str(detokened_hyps))\n",
        "  print('\\n')"
      ],
      "metadata": {
        "colab": {
          "base_uri": "https://localhost:8080/"
        },
        "id": "FxyncmAebxPR",
        "outputId": "19130b03-cc52-499a-fab4-f30b41cfa53d"
      },
      "execution_count": null,
      "outputs": [
        {
          "output_type": "stream",
          "name": "stdout",
          "text": [
            "Sample 0:\n",
            "Bleu score: 0.0006304300361355795\n",
            "Source: ['▁Là', 'm', '▁sao', '▁tôi', '▁có', '▁thể', '▁trình', '▁bày', '▁trong', '▁10', '▁phút', '▁về', '▁sợ', 'i', '▁dây', '▁liên', '▁kết', '▁những', '▁người', '▁phụ', '▁nữ', '▁qua', '▁ba', '▁thế', '▁hệ', '▁,', '▁về', '▁việc', '▁làm', '▁thế', '▁nào', '▁những', '▁sợ', 'i', '▁dây', '▁mạnh', '▁mẽ', '▁đáng', '▁kinh', '▁ngạc', '▁ấy', '▁đã', '▁ní', 'u', '▁ch', 'ặt', '▁lấy', '▁cuộc', '▁sống', '▁của', '▁một', '▁cô', '▁bé', '▁bốn', '▁tuổi', '▁co', '▁qu', 'ắp', '▁với', '▁đ', 'ứa', '▁em', '▁gái', '▁nhỏ', '▁của', '▁cô', '▁bé', '▁,', '▁với', '▁mẹ', '▁và', '▁bà', '▁trong', '▁suốt', '▁năm', '▁ngày', '▁đêm', '▁trên', '▁con', '▁thuyền', '▁nhỏ', '▁lên', 'h', '▁đê', 'nh', '▁trên', '▁B', 'iển', '▁Đông', '▁hơn', '▁30', '▁năm', '▁trước', '▁,', '▁những', '▁sợ', 'i', '▁dây', '▁liên', '▁kết', '▁đã', '▁ní', 'u', '▁lấy', '▁cuộc', '▁đời', '▁cô', '▁bé', '▁ấy', '▁và', '▁không', '▁bao', '▁giờ', '▁', 'rời', '▁đi', '▁--', '▁cô', '▁bé', '▁ấy', '▁giờ', '▁sống', '▁ở', '▁San', '▁Francis', 'co', '▁và', '▁đang', '▁nói', '▁chuyện', '▁với', '▁các', '▁bạn', '▁', 'hôm', '▁nay', '▁?']\n",
            "Reference: [' How can I speak in 10 minutes about the bonds of women over three generations , about how the astonishing strength of those bonds took hold in the life of a four-year-old girl huddled with her young sister , her mother and her grandmother for five days and nights in a small boat in the China Sea more than 30 years ago , bonds that took hold in the life of that small girl and never let go -- that small girl now living in San Francisco and speaking to you today ?']\n",
            "Hypotheses: [' Soybe you took a similar in order today .', ' Soybe you took a similar aircraft to get they of that .', ' Soybe you took a similar aircraft to get they of topics .', ' Soybe you took a similar in order to make they of the rainforest in the rainforest .', ' Soybe you took a similar in order to make they of the rainforest in the rainforest , to emissions from crops that produce biofuels .']\n",
            "\n",
            "\n",
            "Sample 1:\n",
            "Bleu score: 2.908317710573757\n",
            "Source: ['▁C', 'âu', '▁chuyện', '▁này', '▁chưa', '▁kết', '▁thúc', '▁.']\n",
            "Reference: [' This is not a finished story .']\n",
            "Hypotheses: [' And this as a flying at the middle of the rainforest , and every study .', ' And this as a flyinged in the middle of the rainforest , and headlines .', ' And this as a flyinged in the middle of the rainforest , to emissions from crops that produce biofuels .', ' And this as a flying at the middle of the rainforest , and every study incredibly dangerous stuff .', ' And this as a flyinged in the middle of the rainforest , to emissions from crops that molecules .']\n",
            "\n",
            "\n",
            "Sample 2:\n",
            "Bleu score: 4.990049701936832\n",
            "Source: ['▁Nó', '▁là', '▁một', '▁trò', '▁chơi', '▁ghép', '▁hình', '▁vẫ', 'n', '▁đang', '▁được', '▁xếp', '▁.']\n",
            "Reference: [' It is a jigsaw puzzle still being put together .']\n",
            "Hypotheses: [' So &apos;s a flying laboratory that .', ' It &apos;s a flying laboratory that .', ' So &apos;s a glimpse of they have to do the', ' So &apos;s a glimpse of they have to do with climates .', ' So &apos;s a glimpse of they of one to make they of topics .']\n",
            "\n",
            "\n",
            "Sample 3:\n",
            "Bleu score: 5.522397783539471\n",
            "Source: ['▁Hã', 'y', '▁để', '▁tôi', '▁kể', '▁cho', '▁các', '▁bạn', '▁về', '▁và', 'i', '▁m', 'ảnh', '▁ghép', '▁nhé', '▁.']\n",
            "Reference: [' Let me tell you about some of the pieces .']\n",
            "Hypotheses: [' Butly it up , the inside of this aircraft .', ' Butly it &apos;s in the weight of thousands of dollars worth .', ' Butly it &apos;s in the middle of the rainforest , and headlines .', ' Butly it &apos;s in the middle of the rainforest , and every study .', ' Butly it &apos;s in the middle of the rainforest , and we study .']\n",
            "\n",
            "\n",
            "Sample 4:\n",
            "Bleu score: 6.150343144231885\n",
            "Source: ['▁Hã', 'y', '▁tưởng', '▁tượng', '▁m', 'ảnh', '▁đầu', '▁tiên', '▁:', '▁một', '▁người', '▁đàn', '▁ông', '▁đố', 't', '▁chá', 'y', '▁sự', '▁nghiệp', '▁cả', '▁đời', '▁mình', '▁.']\n",
            "Reference: [' Imagine the first piece : a man burning his life &apos;s work .']\n",
            "Hypotheses: [' And 4apos;s a smalled in the middle of the rainforest , and headlines .', ' And 4apos;s a smalled in the middle of the rainforest , and above .', ' And as a the atmospheric watchts in they of the rainforest , and headlines .', ' And 4apos;s a smalled in the middle of the rainforest , and .', ' And 4apos;s a big community , in the middle of the rainforest , and we study , and we study .']\n",
            "\n",
            "\n"
          ]
        }
      ]
    },
    {
      "cell_type": "markdown",
      "source": [
        "# The Seq2Seq Model 2: Transformer\n",
        "In this part, you will train a sequence-to-sequence Transformer model to translate Portuguese into English. The Transformer was originally proposed in \"Attention is all you need\" by Vaswani et al. (2017).\n",
        "\n",
        "<img src=\"https://www.tensorflow.org/images/tutorials/transformer/apply_the_transformer_to_machine_translation.gif\" alt=\"Applying the Transformer to machine translation\">\n",
        "\n",
        "Figure 2: Applying the Transformer to machine translation. Source: [Google AI Blog](https://ai.googleblog.com/2017/08/transformer-novel-neural-network.html)."
      ],
      "metadata": {
        "id": "BsCdZ2dcjS-r"
      }
    },
    {
      "cell_type": "markdown",
      "source": [
        "A Transformer is a sequence-to-sequence encoder-decoder model similar to the model in the [NMT with attention tutorial](https://www.tensorflow.org/text/tutorials/nmt_with_attention).\n",
        "A single-layer Transformer takes a little more code to write, but is almost identical to that encoder-decoder RNN model. The only difference is that the RNN layers are replaced with self attention layers.\n",
        "\n",
        "<table>\n",
        "<tr>\n",
        "  <th>The <a href=https://www.tensorflow.org/text/tutorials/nmt_with_attention>RNN+Attention model</a></th>\n",
        "  <th>A 1-layer transformer</th>\n",
        "</tr>\n",
        "<tr>\n",
        "  <td>\n",
        "   <img width=411 src=\"https://www.tensorflow.org/images/tutorials/transformer/RNN+attention-words.png\"/>\n",
        "  </td>\n",
        "  <td>\n",
        "   <img width=400 src=\"https://www.tensorflow.org/images/tutorials/transformer/Transformer-1layer-words.png\"/>\n",
        "  </td>\n",
        "</tr>\n",
        "</table>"
      ],
      "metadata": {
        "id": "rBdNGGPSj4V3"
      }
    },
    {
      "cell_type": "markdown",
      "source": [
        "### The Embedding and Positional Encoding Layer\n",
        "\n",
        "The inputs to both the encoder and decoder use the same embedding and positional encoding logic.\n",
        "\n",
        "<table>\n",
        "<tr>\n",
        "  <th colspan=1>The embedding and positional encoding layer</th>\n",
        "<tr>\n",
        "<tr>\n",
        "  <td>\n",
        "   <img src=\"https://www.tensorflow.org/images/tutorials/transformer/PositionalEmbedding.png\"/>\n",
        "  </td>\n",
        "</tr>\n",
        "</table>"
      ],
      "metadata": {
        "id": "-YagB7OYkE0i"
      }
    },
    {
      "cell_type": "markdown",
      "source": [
        "The formula for calculating the positional encoding (implemented in Python below) is as follows:\n",
        "\n",
        "$$\\Large{PE_{(pos, 2i)} = \\sin(pos / 10000^{2i / d_{model}})} $$\n",
        "$$\\Large{PE_{(pos, 2i+1)} = \\cos(pos / 10000^{2i / d_{model}})} $$"
      ],
      "metadata": {
        "id": "FhPl3LVekMWD"
      }
    },
    {
      "cell_type": "markdown",
      "source": [
        "## Q7: Transformer Embedding Layer (10 points)\n",
        "Implement `TransformerEmbedding` (consists of lookup embedding & positional encoding) for transformer model."
      ],
      "metadata": {
        "id": "ik3jYEAilHtB"
      }
    },
    {
      "cell_type": "code",
      "source": [
        "class TransformerEmbedding(nn.Module):\n",
        "    \"\"\"\n",
        "    Class that combines token embeddings with positional embeddings.\n",
        "    \"\"\"\n",
        "    def __init__(self, vocab_size, embedding_size, max_len, dropout_rate):\n",
        "        \"\"\"\n",
        "        Init the Transformer Embedding layer.\n",
        "\n",
        "        @param vocab_size (int): Vocabulary size (number of unique tokens)\n",
        "        @param embedding_size (int): Embedding size (dimensionality)\n",
        "        @param max_len (int): Maximum sequence length\n",
        "        @param dropout_rate (float): Dropout probability\n",
        "        \"\"\"\n",
        "        super().__init__()\n",
        "        # default values\n",
        "        self.embedding_size = embedding_size\n",
        "        self.token_embedding = None\n",
        "        self.dropout = None\n",
        "        pos_embedding = None\n",
        "\n",
        "        ### YOUR CODE HERE\n",
        "        ### TODO - Implement the positional embedding and Initialize the following variables :\n",
        "        ###     self.token_embedding (Embedding Layer)\n",
        "        ###     self.pos_embedding (Positional Embedding Layer), notes that pos_embedding is not learnable parameters,\n",
        "        ###         so we should use the self.register_buffer function to initialize it.\n",
        "        ###     self.dropout (Dropout Layer)\n",
        "        ###\n",
        "        ### Note:\n",
        "        ###     1. `vocab_size` represents the size of the vocabulary (number of unique tokens)\n",
        "        ###     2. `embedding_size` represents the size of each embedding vector\n",
        "        ###     3. `max_len` represents the maximum sequence length\n",
        "        ###     4. `dropout_rate` represents the dropout probability\n",
        "        ###\n",
        "        ### Use the following docs to properly initialize these variables:\n",
        "        ###     Embedding Layer:\n",
        "        ###         https://pytorch.org/docs/stable/nn.html#torch.nn.Embeddingl\n",
        "        ###     Dropout Layer:\n",
        "        ###         https://pytorch.org/docs/stable/nn.html#torch.nn.Dropout\n",
        "        ###\n",
        "\n",
        "        self.token_embedding = nn.Embedding(vocab_size, embedding_size)\n",
        "        self.dropout = nn.Dropout(dropout_rate)\n",
        "        den = torch.exp(- torch.arange(0, embedding_size, 2)* math.log(10000) / embedding_size)\n",
        "        pos = torch.arange(0, max_len).reshape(max_len, 1)\n",
        "        pos_embedding = torch.zeros((max_len, embedding_size))\n",
        "        pos_embedding[:, 0::2] = torch.sin(pos * den)\n",
        "        pos_embedding[:, 1::2] = torch.cos(pos * den)\n",
        "        pos_embedding = pos_embedding.unsqueeze(-2)\n",
        "\n",
        "        ### END YOUR CODE\n",
        "        self.register_buffer('pos_embedding', pos_embedding)\n",
        "\n",
        "    def forward(self, x):\n",
        "        \"\"\"\n",
        "        Maps input sequences of tokens to their embeddings.\n",
        "\n",
        "        @param x (Tensor): Input tensor of tokens with shape (seq_len, batch_size)\n",
        "\n",
        "        @returns embedded (Tensor): Tensor of token embeddings with shape (seq_len, batch_size, embedding_size)\n",
        "        \"\"\"\n",
        "        # Retrieve token embeddings\n",
        "        embedded_tokens = self.token_embedding(x.long()) * math.sqrt(self.embedding_size) ### YOUR CODE HERE (~1 Line) ###\n",
        "\n",
        "        # Retrieve positional embeddings for the appropriate segment of the input sequence\n",
        "        embedded_positions = self.pos_embedding[:x.size(0), :] ### YOUR CODE HERE (~1 Line) ###\n",
        "\n",
        "        # Add token and positional embeddings together, apply dropout, and return\n",
        "        embedded = self.dropout(embedded_tokens + embedded_positions) ### YOUR CODE HERE (~1 Line) ###\n",
        "        return embedded"
      ],
      "metadata": {
        "id": "ljJYuvtlj6uc"
      },
      "execution_count": null,
      "outputs": []
    },
    {
      "cell_type": "markdown",
      "source": [
        "### Visualize the positional encoding\n",
        "\n",
        "The `PositionalEncoding` class is identical to the positional encoding logic within the `TransformerEmbedding`. We extracted it separately to facilitate debugging of the positional encoding values before their addition to the `embedded_tokens`."
      ],
      "metadata": {
        "id": "h6GgNEpvXK58"
      }
    },
    {
      "cell_type": "code",
      "source": [
        "class PositionalEncoding(nn.Module):\n",
        "    \"\"\"\n",
        "    Class that combines token embeddings with positional embeddings.\n",
        "    \"\"\"\n",
        "    def __init__(self, embedding_size, dropout_rate, max_len=5000):\n",
        "        \"\"\"\n",
        "        Init the Transformer Embedding layer.\n",
        "\n",
        "        @param vocab_size (int): Vocabulary size (number of unique tokens)\n",
        "        @param embedding_size (int): Embedding size (dimensionality)\n",
        "        @param max_len (int): Maximum sequence length\n",
        "        @param dropout_rate (float): Dropout probability\n",
        "        \"\"\"\n",
        "        super().__init__()\n",
        "        # default values\n",
        "        self.embedding_size = embedding_size\n",
        "        self.dropout = None\n",
        "        pos_embedding = None\n",
        "\n",
        "        ### YOUR CODE HERE\n",
        "        ### TODO - Implement the positional embedding and Initialize the following variables :\n",
        "        ###     self.token_embedding (Embedding Layer)\n",
        "        ###     self.pos_embedding (Positional Embedding Layer), notes that pos_embedding is not learnable parameters,\n",
        "        ###         so we should use the self.register_buffer function to initialize it.\n",
        "        #self.token_embedding = nn.Embedding(vocab_size, embedding_size)\n",
        "\n",
        "        self.dropout = nn.Dropout(dropout_rate)\n",
        "        den = torch.exp(- torch.arange(0, embedding_size, 2)* math.log(10000) / embedding_size)\n",
        "        pos = torch.arange(0, max_len).reshape(max_len, 1)\n",
        "        pos_embedding = torch.zeros((max_len, embedding_size))\n",
        "        pos_embedding[:, 0::2] = torch.sin(pos * den)\n",
        "        pos_embedding[:, 1::2] = torch.cos(pos * den)\n",
        "        pos_embedding = pos_embedding.unsqueeze(-2)\n",
        "\n",
        "        self.register_buffer('pos_embedding', pos_embedding)\n",
        "\n",
        "\n",
        "    def forward(self, x):\n",
        "        \"\"\"\n",
        "        Maps input sequences of tokens to their embeddings.\n",
        "\n",
        "        @param x (Tensor): Input tensor of tokens with shape (seq_len, batch_size)\n",
        "\n",
        "        @returns embedded (Tensor): Tensor of token embeddings with shape (seq_len, batch_size, embedding_size)\n",
        "        \"\"\"\n",
        "\n",
        "        # Retrieve positional embeddings for the appropriate segment of the input sequence\n",
        "        embedded_positions = self.pos_embedding[:x.size(0), :] ### YOUR CODE HERE (~1 Line) ###\n",
        "        # Add token and positional embeddings together, apply dropout, and return\n",
        "        embedded = self.dropout(x + embedded_positions) ### YOUR CODE HERE (~1 Line) ###\n",
        "        return embedded"
      ],
      "metadata": {
        "id": "d0BP3BQBXKYJ"
      },
      "execution_count": null,
      "outputs": []
    },
    {
      "cell_type": "code",
      "source": [
        "import pandas as pd\n",
        "import altair as alt\n",
        "\n",
        "RUN_EXAMPLES = True\n",
        "\n",
        "def show_example(fn, args=[]):\n",
        "    if __name__ == \"__main__\" and RUN_EXAMPLES:\n",
        "        return fn(*args)"
      ],
      "metadata": {
        "id": "-JFxftbNXscz"
      },
      "execution_count": null,
      "outputs": []
    },
    {
      "cell_type": "code",
      "source": [
        "def example_positional():\n",
        "    pe = PositionalEncoding(20, 0)\n",
        "    # We simulate data with shape (100, 1, 20) where src_len = 100, b = 1, e = 20.\n",
        "    y = pe.forward(torch.zeros(100, 1, 20))\n",
        "\n",
        "    data = pd.concat(\n",
        "        [\n",
        "            pd.DataFrame(\n",
        "                {\n",
        "                    \"embedding\": y[: , 0, dim],\n",
        "                    \"dimension\": dim,\n",
        "                    \"position\": list(range(100)),\n",
        "                }\n",
        "            )\n",
        "            for dim in [4, 5, 6, 7]\n",
        "        ]\n",
        "    )\n",
        "\n",
        "    return (\n",
        "        alt.Chart(data)\n",
        "        .mark_line()\n",
        "        .properties(width=800)\n",
        "        .encode(x=\"position\", y=\"embedding\", color=\"dimension:N\")\n",
        "        .interactive()\n",
        "    )\n",
        "\n",
        "\n",
        "show_example(example_positional)"
      ],
      "metadata": {
        "colab": {
          "base_uri": "https://localhost:8080/",
          "height": 369
        },
        "id": "9qQ2ymktYd4A",
        "outputId": "761262d4-6623-4842-cae2-c8796e232364"
      },
      "execution_count": 89,
      "outputs": [
        {
          "output_type": "execute_result",
          "data": {
            "text/html": [
              "\n",
              "<div id=\"altair-viz-ddef5fc413044ff78bf4b716b7faeca8\"></div>\n",
              "<script type=\"text/javascript\">\n",
              "  var VEGA_DEBUG = (typeof VEGA_DEBUG == \"undefined\") ? {} : VEGA_DEBUG;\n",
              "  (function(spec, embedOpt){\n",
              "    let outputDiv = document.currentScript.previousElementSibling;\n",
              "    if (outputDiv.id !== \"altair-viz-ddef5fc413044ff78bf4b716b7faeca8\") {\n",
              "      outputDiv = document.getElementById(\"altair-viz-ddef5fc413044ff78bf4b716b7faeca8\");\n",
              "    }\n",
              "    const paths = {\n",
              "      \"vega\": \"https://cdn.jsdelivr.net/npm//vega@5?noext\",\n",
              "      \"vega-lib\": \"https://cdn.jsdelivr.net/npm//vega-lib?noext\",\n",
              "      \"vega-lite\": \"https://cdn.jsdelivr.net/npm//vega-lite@4.17.0?noext\",\n",
              "      \"vega-embed\": \"https://cdn.jsdelivr.net/npm//vega-embed@6?noext\",\n",
              "    };\n",
              "\n",
              "    function maybeLoadScript(lib, version) {\n",
              "      var key = `${lib.replace(\"-\", \"\")}_version`;\n",
              "      return (VEGA_DEBUG[key] == version) ?\n",
              "        Promise.resolve(paths[lib]) :\n",
              "        new Promise(function(resolve, reject) {\n",
              "          var s = document.createElement('script');\n",
              "          document.getElementsByTagName(\"head\")[0].appendChild(s);\n",
              "          s.async = true;\n",
              "          s.onload = () => {\n",
              "            VEGA_DEBUG[key] = version;\n",
              "            return resolve(paths[lib]);\n",
              "          };\n",
              "          s.onerror = () => reject(`Error loading script: ${paths[lib]}`);\n",
              "          s.src = paths[lib];\n",
              "        });\n",
              "    }\n",
              "\n",
              "    function showError(err) {\n",
              "      outputDiv.innerHTML = `<div class=\"error\" style=\"color:red;\">${err}</div>`;\n",
              "      throw err;\n",
              "    }\n",
              "\n",
              "    function displayChart(vegaEmbed) {\n",
              "      vegaEmbed(outputDiv, spec, embedOpt)\n",
              "        .catch(err => showError(`Javascript Error: ${err.message}<br>This usually means there's a typo in your chart specification. See the javascript console for the full traceback.`));\n",
              "    }\n",
              "\n",
              "    if(typeof define === \"function\" && define.amd) {\n",
              "      requirejs.config({paths});\n",
              "      require([\"vega-embed\"], displayChart, err => showError(`Error loading script: ${err.message}`));\n",
              "    } else {\n",
              "      maybeLoadScript(\"vega\", \"5\")\n",
              "        .then(() => maybeLoadScript(\"vega-lite\", \"4.17.0\"))\n",
              "        .then(() => maybeLoadScript(\"vega-embed\", \"6\"))\n",
              "        .catch(showError)\n",
              "        .then(() => displayChart(vegaEmbed));\n",
              "    }\n",
              "  })({\"config\": {\"view\": {\"continuousWidth\": 400, \"continuousHeight\": 300}}, \"data\": {\"name\": \"data-eafc635ddfa311c913cbcc2d2bc4477d\"}, \"mark\": \"line\", \"encoding\": {\"color\": {\"field\": \"dimension\", \"type\": \"nominal\"}, \"x\": {\"field\": \"position\", \"type\": \"quantitative\"}, \"y\": {\"field\": \"embedding\", \"type\": \"quantitative\"}}, \"selection\": {\"selector012\": {\"type\": \"interval\", \"bind\": \"scales\", \"encodings\": [\"x\", \"y\"]}}, \"width\": 800, \"$schema\": \"https://vega.github.io/schema/vega-lite/v4.17.0.json\", \"datasets\": {\"data-eafc635ddfa311c913cbcc2d2bc4477d\": [{\"embedding\": 0.0, \"dimension\": 4, \"position\": 0}, {\"embedding\": 0.15782663226127625, \"dimension\": 4, \"position\": 1}, {\"embedding\": 0.3116971552371979, \"dimension\": 4, \"position\": 2}, {\"embedding\": 0.45775455236434937, \"dimension\": 4, \"position\": 3}, {\"embedding\": 0.5923377275466919, \"dimension\": 4, \"position\": 4}, {\"embedding\": 0.7120732069015503, \"dimension\": 4, \"position\": 5}, {\"embedding\": 0.813959538936615, \"dimension\": 4, \"position\": 6}, {\"embedding\": 0.8954429626464844, \"dimension\": 4, \"position\": 7}, {\"embedding\": 0.9544808864593506, \"dimension\": 4, \"position\": 8}, {\"embedding\": 0.989593505859375, \"dimension\": 4, \"position\": 9}, {\"embedding\": 0.9999006390571594, \"dimension\": 4, \"position\": 10}, {\"embedding\": 0.9851439595222473, \"dimension\": 4, \"position\": 11}, {\"embedding\": 0.94569331407547, \"dimension\": 4, \"position\": 12}, {\"embedding\": 0.8825376033782959, \"dimension\": 4, \"position\": 13}, {\"embedding\": 0.7972599267959595, \"dimension\": 4, \"position\": 14}, {\"embedding\": 0.6919978260993958, \"dimension\": 4, \"position\": 15}, {\"embedding\": 0.5693899393081665, \"dimension\": 4, \"position\": 16}, {\"embedding\": 0.4325096309185028, \"dimension\": 4, \"position\": 17}, {\"embedding\": 0.284787654876709, \"dimension\": 4, \"position\": 18}, {\"embedding\": 0.12992730736732483, \"dimension\": 4, \"position\": 19}, {\"embedding\": -0.028190065175294876, \"dimension\": 4, \"position\": 20}, {\"embedding\": -0.18560057878494263, \"dimension\": 4, \"position\": 21}, {\"embedding\": -0.3383587896823883, \"dimension\": 4, \"position\": 22}, {\"embedding\": -0.4826357960700989, \"dimension\": 4, \"position\": 23}, {\"embedding\": -0.6148146390914917, \"dimension\": 4, \"position\": 24}, {\"embedding\": -0.7315824031829834, \"dimension\": 4, \"position\": 25}, {\"embedding\": -0.8300122618675232, \"dimension\": 4, \"position\": 26}, {\"embedding\": -0.9076365828514099, \"dimension\": 4, \"position\": 27}, {\"embedding\": -0.96250981092453, \"dimension\": 4, \"position\": 28}, {\"embedding\": -0.9932565093040466, \"dimension\": 4, \"position\": 29}, {\"embedding\": -0.9991058707237244, \"dimension\": 4, \"position\": 30}, {\"embedding\": -0.9799113273620605, \"dimension\": 4, \"position\": 31}, {\"embedding\": -0.9361540079116821, \"dimension\": 4, \"position\": 32}, {\"embedding\": -0.8689308166503906, \"dimension\": 4, \"position\": 33}, {\"embedding\": -0.7799267172813416, \"dimension\": 4, \"position\": 34}, {\"embedding\": -0.6713724136352539, \"dimension\": 4, \"position\": 35}, {\"embedding\": -0.5459895133972168, \"dimension\": 4, \"position\": 36}, {\"embedding\": -0.40692076086997986, \"dimension\": 4, \"position\": 37}, {\"embedding\": -0.2576519548892975, \"dimension\": 4, \"position\": 38}, {\"embedding\": -0.10192479938268661, \"dimension\": 4, \"position\": 39}, {\"embedding\": 0.056357722729444504, \"dimension\": 4, \"position\": 40}, {\"embedding\": 0.21322709321975708, \"dimension\": 4, \"position\": 41}, {\"embedding\": 0.3647516369819641, \"dimension\": 4, \"position\": 42}, {\"embedding\": 0.5071332454681396, \"dimension\": 4, \"position\": 43}, {\"embedding\": 0.6368028521537781, \"dimension\": 4, \"position\": 44}, {\"embedding\": 0.7505101561546326, \"dimension\": 4, \"position\": 45}, {\"embedding\": 0.8454052805900574, \"dimension\": 4, \"position\": 46}, {\"embedding\": 0.9191088080406189, \"dimension\": 4, \"position\": 47}, {\"embedding\": 0.9697737693786621, \"dimension\": 4, \"position\": 48}, {\"embedding\": 0.9961300492286682, \"dimension\": 4, \"position\": 49}, {\"embedding\": 0.9975170493125916, \"dimension\": 4, \"position\": 50}, {\"embedding\": 0.9738998413085938, \"dimension\": 4, \"position\": 51}, {\"embedding\": 0.9258706569671631, \"dimension\": 4, \"position\": 52}, {\"embedding\": 0.8546332716941833, \"dimension\": 4, \"position\": 53}, {\"embedding\": 0.7619734406471252, \"dimension\": 4, \"position\": 54}, {\"embedding\": 0.6502137184143066, \"dimension\": 4, \"position\": 55}, {\"embedding\": 0.5221555233001709, \"dimension\": 4, \"position\": 56}, {\"embedding\": 0.38100889325141907, \"dimension\": 4, \"position\": 57}, {\"embedding\": 0.23031172156333923, \"dimension\": 4, \"position\": 58}, {\"embedding\": 0.07384055852890015, \"dimension\": 4, \"position\": 59}, {\"embedding\": -0.08448058366775513, \"dimension\": 4, \"position\": 60}, {\"embedding\": -0.2406841218471527, \"dimension\": 4, \"position\": 61}, {\"embedding\": -0.3908545970916748, \"dimension\": 4, \"position\": 62}, {\"embedding\": -0.5312277674674988, \"dimension\": 4, \"position\": 63}, {\"embedding\": -0.6582850813865662, \"dimension\": 4, \"position\": 64}, {\"embedding\": -0.768841564655304, \"dimension\": 4, \"position\": 65}, {\"embedding\": -0.8601260781288147, \"dimension\": 4, \"position\": 66}, {\"embedding\": -0.9298503994941711, \"dimension\": 4, \"position\": 67}, {\"embedding\": -0.9762668013572693, \"dimension\": 4, \"position\": 68}, {\"embedding\": -0.9982118010520935, \"dimension\": 4, \"position\": 69}, {\"embedding\": -0.9951352477073669, \"dimension\": 4, \"position\": 70}, {\"embedding\": -0.967114269733429, \"dimension\": 4, \"position\": 71}, {\"embedding\": -0.9148513078689575, \"dimension\": 4, \"position\": 72}, {\"embedding\": -0.839656412601471, \"dimension\": 4, \"position\": 73}, {\"embedding\": -0.7434144616127014, \"dimension\": 4, \"position\": 74}, {\"embedding\": -0.6285378336906433, \"dimension\": 4, \"position\": 75}, {\"embedding\": -0.4979061186313629, \"dimension\": 4, \"position\": 76}, {\"embedding\": -0.3547937273979187, \"dimension\": 4, \"position\": 77}, {\"embedding\": -0.20278796553611755, \"dimension\": 4, \"position\": 78}, {\"embedding\": -0.04569905996322632, \"dimension\": 4, \"position\": 79}, {\"embedding\": 0.11253630369901657, \"dimension\": 4, \"position\": 80}, {\"embedding\": 0.2679498493671417, \"dimension\": 4, \"position\": 81}, {\"embedding\": 0.4166468679904938, \"dimension\": 4, \"position\": 82}, {\"embedding\": 0.5549001097679138, \"dimension\": 4, \"position\": 83}, {\"embedding\": 0.6792440414428711, \"dimension\": 4, \"position\": 84}, {\"embedding\": 0.7865618467330933, \"dimension\": 4, \"position\": 85}, {\"embedding\": 0.8741634488105774, \"dimension\": 4, \"position\": 86}, {\"embedding\": 0.9398530125617981, \"dimension\": 4, \"position\": 87}, {\"embedding\": 0.9819839596748352, \"dimension\": 4, \"position\": 88}, {\"embedding\": 0.9995002150535583, \"dimension\": 4, \"position\": 89}, {\"embedding\": 0.9919626712799072, \"dimension\": 4, \"position\": 90}, {\"embedding\": 0.959559977054596, \"dimension\": 4, \"position\": 91}, {\"embedding\": 0.903104841709137, \"dimension\": 4, \"position\": 92}, {\"embedding\": 0.8240122199058533, \"dimension\": 4, \"position\": 93}, {\"embedding\": 0.7242646217346191, \"dimension\": 4, \"position\": 94}, {\"embedding\": 0.6063624024391174, \"dimension\": 4, \"position\": 95}, {\"embedding\": 0.4732609689235687, \"dimension\": 4, \"position\": 96}, {\"embedding\": 0.32829657196998596, \"dimension\": 4, \"position\": 97}, {\"embedding\": 0.17510302364826202, \"dimension\": 4, \"position\": 98}, {\"embedding\": 0.01752028614282608, \"dimension\": 4, \"position\": 99}, {\"embedding\": 1.0, \"dimension\": 5, \"position\": 0}, {\"embedding\": 0.9874668121337891, \"dimension\": 5, \"position\": 1}, {\"embedding\": 0.9501814842224121, \"dimension\": 5, \"position\": 2}, {\"embedding\": 0.8890786170959473, \"dimension\": 5, \"position\": 3}, {\"embedding\": 0.8056897521018982, \"dimension\": 5, \"position\": 4}, {\"embedding\": 0.7021052241325378, \"dimension\": 5, \"position\": 5}, {\"embedding\": 0.5809215903282166, \"dimension\": 5, \"position\": 6}, {\"embedding\": 0.44517630338668823, \"dimension\": 5, \"position\": 7}, {\"embedding\": 0.2982720732688904, \"dimension\": 5, \"position\": 8}, {\"embedding\": 0.14389123022556305, \"dimension\": 5, \"position\": 9}, {\"embedding\": -0.01409643329679966, \"dimension\": 5, \"position\": 10}, {\"embedding\": -0.1717306226491928, \"dimension\": 5, \"position\": 11}, {\"embedding\": -0.32506027817726135, \"dimension\": 5, \"position\": 12}, {\"embedding\": -0.47024187445640564, \"dimension\": 5, \"position\": 13}, {\"embedding\": -0.6036361455917358, \"dimension\": 5, \"position\": 14}, {\"embedding\": -0.7218996286392212, \"dimension\": 5, \"position\": 15}, {\"embedding\": -0.8220675587654114, \"dimension\": 5, \"position\": 16}, {\"embedding\": -0.9016293287277222, \"dimension\": 5, \"position\": 17}, {\"embedding\": -0.9585906267166138, \"dimension\": 5, \"position\": 18}, {\"embedding\": -0.9915235042572021, \"dimension\": 5, \"position\": 19}, {\"embedding\": -0.9996025562286377, \"dimension\": 5, \"position\": 20}, {\"embedding\": -0.9826252460479736, \"dimension\": 5, \"position\": 21}, {\"embedding\": -0.941017210483551, \"dimension\": 5, \"position\": 22}, {\"embedding\": -0.8758211731910706, \"dimension\": 5, \"position\": 23}, {\"embedding\": -0.788671612739563, \"dimension\": 5, \"position\": 24}, {\"embedding\": -0.6817529797554016, \"dimension\": 5, \"position\": 25}, {\"embedding\": -0.5577451586723328, \"dimension\": 5, \"position\": 26}, {\"embedding\": -0.4197568893432617, \"dimension\": 5, \"position\": 27}, {\"embedding\": -0.27124688029289246, \"dimension\": 5, \"position\": 28}, {\"embedding\": -0.11593768745660782, \"dimension\": 5, \"position\": 29}, {\"embedding\": 0.042278096079826355, \"dimension\": 5, \"position\": 30}, {\"embedding\": 0.19943365454673767, \"dimension\": 5, \"position\": 31}, {\"embedding\": 0.3515901565551758, \"dimension\": 5, \"position\": 32}, {\"embedding\": 0.4949335753917694, \"dimension\": 5, \"position\": 33}, {\"embedding\": 0.6258708238601685, \"dimension\": 5, \"position\": 34}, {\"embedding\": 0.7411201596260071, \"dimension\": 5, \"position\": 35}, {\"embedding\": 0.8377919793128967, \"dimension\": 5, \"position\": 36}, {\"embedding\": 0.9134634733200073, \"dimension\": 5, \"position\": 37}, {\"embedding\": 0.9662377834320068, \"dimension\": 5, \"position\": 38}, {\"embedding\": 0.994792103767395, \"dimension\": 5, \"position\": 39}, {\"embedding\": 0.9984106421470642, \"dimension\": 5, \"position\": 40}, {\"embedding\": 0.9770026803016663, \"dimension\": 5, \"position\": 41}, {\"embedding\": 0.931104838848114, \"dimension\": 5, \"position\": 42}, {\"embedding\": 0.8618676662445068, \"dimension\": 5, \"position\": 43}, {\"embedding\": 0.7710266709327698, \"dimension\": 5, \"position\": 44}, {\"embedding\": 0.6608588695526123, \"dimension\": 5, \"position\": 45}, {\"embedding\": 0.5341253876686096, \"dimension\": 5, \"position\": 46}, {\"embedding\": 0.3940037488937378, \"dimension\": 5, \"position\": 47}, {\"embedding\": 0.24400585889816284, \"dimension\": 5, \"position\": 48}, {\"embedding\": 0.08789165318012238, \"dimension\": 5, \"position\": 49}, {\"embedding\": -0.07042567431926727, \"dimension\": 5, \"position\": 50}, {\"embedding\": -0.2269781529903412, \"dimension\": 5, \"position\": 51}, {\"embedding\": -0.37784066796302795, \"dimension\": 5, \"position\": 52}, {\"embedding\": -0.5192320942878723, \"dimension\": 5, \"position\": 53}, {\"embedding\": -0.6476082801818848, \"dimension\": 5, \"position\": 54}, {\"embedding\": -0.7597513794898987, \"dimension\": 5, \"position\": 55}, {\"embedding\": -0.8528502583503723, \"dimension\": 5, \"position\": 56}, {\"embedding\": -0.9245713949203491, \"dimension\": 5, \"position\": 57}, {\"embedding\": -0.973116934299469, \"dimension\": 5, \"position\": 58}, {\"embedding\": -0.9972700476646423, \"dimension\": 5, \"position\": 59}, {\"embedding\": -0.9964250922203064, \"dimension\": 5, \"position\": 60}, {\"embedding\": -0.9706035256385803, \"dimension\": 5, \"position\": 61}, {\"embedding\": -0.9204524159431458, \"dimension\": 5, \"position\": 62}, {\"embedding\": -0.8472290635108948, \"dimension\": 5, \"position\": 63}, {\"embedding\": -0.7527687549591064, \"dimension\": 5, \"position\": 64}, {\"embedding\": -0.6394393444061279, \"dimension\": 5, \"position\": 65}, {\"embedding\": -0.5100815296173096, \"dimension\": 5, \"position\": 66}, {\"embedding\": -0.3679378628730774, \"dimension\": 5, \"position\": 67}, {\"embedding\": -0.2165713608264923, \"dimension\": 5, \"position\": 68}, {\"embedding\": -0.05977622792124748, \"dimension\": 5, \"position\": 69}, {\"embedding\": 0.09851823002099991, \"dimension\": 5, \"position\": 70}, {\"embedding\": 0.254342257976532, \"dimension\": 5, \"position\": 71}, {\"embedding\": 0.4037908613681793, \"dimension\": 5, \"position\": 72}, {\"embedding\": 0.543117880821228, \"dimension\": 5, \"position\": 73}, {\"embedding\": 0.6688309907913208, \"dimension\": 5, \"position\": 74}, {\"embedding\": 0.7777789831161499, \"dimension\": 5, \"position\": 75}, {\"embedding\": 0.8672309517860413, \"dimension\": 5, \"position\": 76}, {\"embedding\": 0.9349446296691895, \"dimension\": 5, \"position\": 77}, {\"embedding\": 0.9792226552963257, \"dimension\": 5, \"position\": 78}, {\"embedding\": 0.998955249786377, \"dimension\": 5, \"position\": 79}, {\"embedding\": 0.9936476349830627, \"dimension\": 5, \"position\": 80}, {\"embedding\": 0.9634328484535217, \"dimension\": 5, \"position\": 81}, {\"embedding\": 0.9090684056282043, \"dimension\": 5, \"position\": 82}, {\"embedding\": 0.8319169878959656, \"dimension\": 5, \"position\": 83}, {\"embedding\": 0.733912467956543, \"dimension\": 5, \"position\": 84}, {\"embedding\": 0.617511510848999, \"dimension\": 5, \"position\": 85}, {\"embedding\": 0.4856317937374115, \"dimension\": 5, \"position\": 86}, {\"embedding\": 0.3415791094303131, \"dimension\": 5, \"position\": 87}, {\"embedding\": 0.18896427750587463, \"dimension\": 5, \"position\": 88}, {\"embedding\": 0.0316128134727478, \"dimension\": 5, \"position\": 89}, {\"embedding\": -0.12653106451034546, \"dimension\": 5, \"position\": 90}, {\"embedding\": -0.28150418400764465, \"dimension\": 5, \"position\": 91}, {\"embedding\": -0.4294200837612152, \"dimension\": 5, \"position\": 92}, {\"embedding\": -0.5665720105171204, \"dimension\": 5, \"position\": 93}, {\"embedding\": -0.6895220875740051, \"dimension\": 5, \"position\": 94}, {\"embedding\": -0.7951884269714355, \"dimension\": 5, \"position\": 95}, {\"embedding\": -0.880922257900238, \"dimension\": 5, \"position\": 96}, {\"embedding\": -0.9445747137069702, \"dimension\": 5, \"position\": 97}, {\"embedding\": -0.9845501184463501, \"dimension\": 5, \"position\": 98}, {\"embedding\": -0.9998465180397034, \"dimension\": 5, \"position\": 99}, {\"embedding\": 0.0, \"dimension\": 6, \"position\": 0}, {\"embedding\": 0.06305388361215591, \"dimension\": 6, \"position\": 1}, {\"embedding\": 0.12585683166980743, \"dimension\": 6, \"position\": 2}, {\"embedding\": 0.18815888464450836, \"dimension\": 6, \"position\": 3}, {\"embedding\": 0.24971213936805725, \"dimension\": 6, \"position\": 4}, {\"embedding\": 0.31027159094810486, \"dimension\": 6, \"position\": 5}, {\"embedding\": 0.3695962131023407, \"dimension\": 6, \"position\": 6}, {\"embedding\": 0.4274499714374542, \"dimension\": 6, \"position\": 7}, {\"embedding\": 0.4836025834083557, \"dimension\": 6, \"position\": 8}, {\"embedding\": 0.5378305912017822, \"dimension\": 6, \"position\": 9}, {\"embedding\": 0.5899181365966797, \"dimension\": 6, \"position\": 10}, {\"embedding\": 0.6396579146385193, \"dimension\": 6, \"position\": 11}, {\"embedding\": 0.6868520379066467, \"dimension\": 6, \"position\": 12}, {\"embedding\": 0.7313126921653748, \"dimension\": 6, \"position\": 13}, {\"embedding\": 0.7728629112243652, \"dimension\": 6, \"position\": 14}, {\"embedding\": 0.8113372921943665, \"dimension\": 6, \"position\": 15}, {\"embedding\": 0.8465827703475952, \"dimension\": 6, \"position\": 16}, {\"embedding\": 0.8784590363502502, \"dimension\": 6, \"position\": 17}, {\"embedding\": 0.9068393111228943, \"dimension\": 6, \"position\": 18}, {\"embedding\": 0.9316105246543884, \"dimension\": 6, \"position\": 19}, {\"embedding\": 0.9526742100715637, \"dimension\": 6, \"position\": 20}, {\"embedding\": 0.9699464440345764, \"dimension\": 6, \"position\": 21}, {\"embedding\": 0.9833585619926453, \"dimension\": 6, \"position\": 22}, {\"embedding\": 0.9928570985794067, \"dimension\": 6, \"position\": 23}, {\"embedding\": 0.9984043836593628, \"dimension\": 6, \"position\": 24}, {\"embedding\": 0.999978244304657, \"dimension\": 6, \"position\": 25}, {\"embedding\": 0.9975724220275879, \"dimension\": 6, \"position\": 26}, {\"embedding\": 0.9911965131759644, \"dimension\": 6, \"position\": 27}, {\"embedding\": 0.9808759093284607, \"dimension\": 6, \"position\": 28}, {\"embedding\": 0.9666516780853271, \"dimension\": 6, \"position\": 29}, {\"embedding\": 0.9485803842544556, \"dimension\": 6, \"position\": 30}, {\"embedding\": 0.9267339110374451, \"dimension\": 6, \"position\": 31}, {\"embedding\": 0.9011994004249573, \"dimension\": 6, \"position\": 32}, {\"embedding\": 0.8720782399177551, \"dimension\": 6, \"position\": 33}, {\"embedding\": 0.8394865393638611, \"dimension\": 6, \"position\": 34}, {\"embedding\": 0.8035537600517273, \"dimension\": 6, \"position\": 35}, {\"embedding\": 0.7644230127334595, \"dimension\": 6, \"position\": 36}, {\"embedding\": 0.7222501039505005, \"dimension\": 6, \"position\": 37}, {\"embedding\": 0.6772029399871826, \"dimension\": 6, \"position\": 38}, {\"embedding\": 0.6294605135917664, \"dimension\": 6, \"position\": 39}, {\"embedding\": 0.57921302318573, \"dimension\": 6, \"position\": 40}, {\"embedding\": 0.5266605615615845, \"dimension\": 6, \"position\": 41}, {\"embedding\": 0.4720119535923004, \"dimension\": 6, \"position\": 42}, {\"embedding\": 0.41548484563827515, \"dimension\": 6, \"position\": 43}, {\"embedding\": 0.3573042154312134, \"dimension\": 6, \"position\": 44}, {\"embedding\": 0.29770180583000183, \"dimension\": 6, \"position\": 45}, {\"embedding\": 0.23691439628601074, \"dimension\": 6, \"position\": 46}, {\"embedding\": 0.17518411576747894, \"dimension\": 6, \"position\": 47}, {\"embedding\": 0.1127568930387497, \"dimension\": 6, \"position\": 48}, {\"embedding\": 0.04988069087266922, \"dimension\": 6, \"position\": 49}, {\"embedding\": -0.013194027356803417, \"dimension\": 6, \"position\": 50}, {\"embedding\": -0.07621623575687408, \"dimension\": 6, \"position\": 51}, {\"embedding\": -0.1389348804950714, \"dimension\": 6, \"position\": 52}, {\"embedding\": -0.20110084116458893, \"dimension\": 6, \"position\": 53}, {\"embedding\": -0.2624664604663849, \"dimension\": 6, \"position\": 54}, {\"embedding\": -0.3227875530719757, \"dimension\": 6, \"position\": 55}, {\"embedding\": -0.3818237781524658, \"dimension\": 6, \"position\": 56}, {\"embedding\": -0.4393406808376312, \"dimension\": 6, \"position\": 57}, {\"embedding\": -0.49510911107063293, \"dimension\": 6, \"position\": 58}, {\"embedding\": -0.5489069223403931, \"dimension\": 6, \"position\": 59}, {\"embedding\": -0.6005204319953918, \"dimension\": 6, \"position\": 60}, {\"embedding\": -0.6497439742088318, \"dimension\": 6, \"position\": 61}, {\"embedding\": -0.6963817477226257, \"dimension\": 6, \"position\": 62}, {\"embedding\": -0.7402478456497192, \"dimension\": 6, \"position\": 63}, {\"embedding\": -0.7811681628227234, \"dimension\": 6, \"position\": 64}, {\"embedding\": -0.8189795017242432, \"dimension\": 6, \"position\": 65}, {\"embedding\": -0.8535317182540894, \"dimension\": 6, \"position\": 66}, {\"embedding\": -0.8846868872642517, \"dimension\": 6, \"position\": 67}, {\"embedding\": -0.9123212099075317, \"dimension\": 6, \"position\": 68}, {\"embedding\": -0.936324954032898, \"dimension\": 6, \"position\": 69}, {\"embedding\": -0.956602156162262, \"dimension\": 6, \"position\": 70}, {\"embedding\": -0.9730724096298218, \"dimension\": 6, \"position\": 71}, {\"embedding\": -0.9856699705123901, \"dimension\": 6, \"position\": 72}, {\"embedding\": -0.9943448305130005, \"dimension\": 6, \"position\": 73}, {\"embedding\": -0.9990625381469727, \"dimension\": 6, \"position\": 74}, {\"embedding\": -0.9998041391372681, \"dimension\": 6, \"position\": 75}, {\"embedding\": -0.9965668320655823, \"dimension\": 6, \"position\": 76}, {\"embedding\": -0.9893633723258972, \"dimension\": 6, \"position\": 77}, {\"embedding\": -0.9782225489616394, \"dimension\": 6, \"position\": 78}, {\"embedding\": -0.963188648223877, \"dimension\": 6, \"position\": 79}, {\"embedding\": -0.9443213939666748, \"dimension\": 6, \"position\": 80}, {\"embedding\": -0.9216960668563843, \"dimension\": 6, \"position\": 81}, {\"embedding\": -0.8954026699066162, \"dimension\": 6, \"position\": 82}, {\"embedding\": -0.8655455708503723, \"dimension\": 6, \"position\": 83}, {\"embedding\": -0.8322440981864929, \"dimension\": 6, \"position\": 84}, {\"embedding\": -0.795630156993866, \"dimension\": 6, \"position\": 85}, {\"embedding\": -0.7558501362800598, \"dimension\": 6, \"position\": 86}, {\"embedding\": -0.7130619883537292, \"dimension\": 6, \"position\": 87}, {\"embedding\": -0.6674357056617737, \"dimension\": 6, \"position\": 88}, {\"embedding\": -0.6191535592079163, \"dimension\": 6, \"position\": 89}, {\"embedding\": -0.5684073567390442, \"dimension\": 6, \"position\": 90}, {\"embedding\": -0.5153986215591431, \"dimension\": 6, \"position\": 91}, {\"embedding\": -0.46033912897109985, \"dimension\": 6, \"position\": 92}, {\"embedding\": -0.40344759821891785, \"dimension\": 6, \"position\": 93}, {\"embedding\": -0.3449500501155853, \"dimension\": 6, \"position\": 94}, {\"embedding\": -0.28508007526397705, \"dimension\": 6, \"position\": 95}, {\"embedding\": -0.22407560050487518, \"dimension\": 6, \"position\": 96}, {\"embedding\": -0.1621788740158081, \"dimension\": 6, \"position\": 97}, {\"embedding\": -0.09963719546794891, \"dimension\": 6, \"position\": 98}, {\"embedding\": -0.03669850528240204, \"dimension\": 6, \"position\": 99}, {\"embedding\": 1.0, \"dimension\": 7, \"position\": 0}, {\"embedding\": 0.9980100989341736, \"dimension\": 7, \"position\": 1}, {\"embedding\": 0.9920483827590942, \"dimension\": 7, \"position\": 2}, {\"embedding\": 0.9821385741233826, \"dimension\": 7, \"position\": 3}, {\"embedding\": 0.9683201313018799, \"dimension\": 7, \"position\": 4}, {\"embedding\": 0.9506479501724243, \"dimension\": 7, \"position\": 5}, {\"embedding\": 0.9291924834251404, \"dimension\": 7, \"position\": 6}, {\"embedding\": 0.9040390253067017, \"dimension\": 7, \"position\": 7}, {\"embedding\": 0.8752877116203308, \"dimension\": 7, \"position\": 8}, {\"embedding\": 0.8430529236793518, \"dimension\": 7, \"position\": 9}, {\"embedding\": 0.8074630498886108, \"dimension\": 7, \"position\": 10}, {\"embedding\": 0.7686597108840942, \"dimension\": 7, \"position\": 11}, {\"embedding\": 0.7267972826957703, \"dimension\": 7, \"position\": 12}, {\"embedding\": 0.6820423603057861, \"dimension\": 7, \"position\": 13}, {\"embedding\": 0.6345730423927307, \"dimension\": 7, \"position\": 14}, {\"embedding\": 0.5845783352851868, \"dimension\": 7, \"position\": 15}, {\"embedding\": 0.532257080078125, \"dimension\": 7, \"position\": 16}, {\"embedding\": 0.47781768441200256, \"dimension\": 7, \"position\": 17}, {\"embedding\": 0.4214765727519989, \"dimension\": 7, \"position\": 18}, {\"embedding\": 0.36345821619033813, \"dimension\": 7, \"position\": 19}, {\"embedding\": 0.30399325489997864, \"dimension\": 7, \"position\": 20}, {\"embedding\": 0.243318572640419, \"dimension\": 7, \"position\": 21}, {\"embedding\": 0.18167544901371002, \"dimension\": 7, \"position\": 22}, {\"embedding\": 0.11930941045284271, \"dimension\": 7, \"position\": 23}, {\"embedding\": 0.056468550115823746, \"dimension\": 7, \"position\": 24}, {\"embedding\": -0.006597157102078199, \"dimension\": 7, \"position\": 25}, {\"embedding\": -0.06963648647069931, \"dimension\": 7, \"position\": 26}, {\"embedding\": -0.1323987990617752, \"dimension\": 7, \"position\": 27}, {\"embedding\": -0.1946340948343277, \"dimension\": 7, \"position\": 28}, {\"embedding\": -0.25609490275382996, \"dimension\": 7, \"position\": 29}, {\"embedding\": -0.31653639674186707, \"dimension\": 7, \"position\": 30}, {\"embedding\": -0.37571826577186584, \"dimension\": 7, \"position\": 31}, {\"embedding\": -0.43340474367141724, \"dimension\": 7, \"position\": 32}, {\"embedding\": -0.4893665015697479, \"dimension\": 7, \"position\": 33}, {\"embedding\": -0.5433804988861084, \"dimension\": 7, \"position\": 34}, {\"embedding\": -0.5952321887016296, \"dimension\": 7, \"position\": 35}, {\"embedding\": -0.6447150111198425, \"dimension\": 7, \"position\": 36}, {\"embedding\": -0.6916319727897644, \"dimension\": 7, \"position\": 37}, {\"embedding\": -0.7357962727546692, \"dimension\": 7, \"position\": 38}, {\"embedding\": -0.7770324349403381, \"dimension\": 7, \"position\": 39}, {\"embedding\": -0.8151761889457703, \"dimension\": 7, \"position\": 40}, {\"embedding\": -0.8500756621360779, \"dimension\": 7, \"position\": 41}, {\"embedding\": -0.8815921545028687, \"dimension\": 7, \"position\": 42}, {\"embedding\": -0.9096000790596008, \"dimension\": 7, \"position\": 43}, {\"embedding\": -0.933988094329834, \"dimension\": 7, \"position\": 44}, {\"embedding\": -0.9546589255332947, \"dimension\": 7, \"position\": 45}, {\"embedding\": -0.971530556678772, \"dimension\": 7, \"position\": 46}, {\"embedding\": -0.9845356941223145, \"dimension\": 7, \"position\": 47}, {\"embedding\": -0.9936226010322571, \"dimension\": 7, \"position\": 48}, {\"embedding\": -0.998755156993866, \"dimension\": 7, \"position\": 49}, {\"embedding\": -0.9999129772186279, \"dimension\": 7, \"position\": 50}, {\"embedding\": -0.9970912933349609, \"dimension\": 7, \"position\": 51}, {\"embedding\": -0.9903014898300171, \"dimension\": 7, \"position\": 52}, {\"embedding\": -0.9795705676078796, \"dimension\": 7, \"position\": 53}, {\"embedding\": -0.964941143989563, \"dimension\": 7, \"position\": 54}, {\"embedding\": -0.9464714527130127, \"dimension\": 7, \"position\": 55}, {\"embedding\": -0.9242351651191711, \"dimension\": 7, \"position\": 56}, {\"embedding\": -0.8983205556869507, \"dimension\": 7, \"position\": 57}, {\"embedding\": -0.8688308000564575, \"dimension\": 7, \"position\": 58}, {\"embedding\": -0.8358834981918335, \"dimension\": 7, \"position\": 59}, {\"embedding\": -0.7996094226837158, \"dimension\": 7, \"position\": 60}, {\"embedding\": -0.7601531147956848, \"dimension\": 7, \"position\": 61}, {\"embedding\": -0.7176715731620789, \"dimension\": 7, \"position\": 62}, {\"embedding\": -0.6723340749740601, \"dimension\": 7, \"position\": 63}, {\"embedding\": -0.6243206262588501, \"dimension\": 7, \"position\": 64}, {\"embedding\": -0.5738227963447571, \"dimension\": 7, \"position\": 65}, {\"embedding\": -0.5210408568382263, \"dimension\": 7, \"position\": 66}, {\"embedding\": -0.46618568897247314, \"dimension\": 7, \"position\": 67}, {\"embedding\": -0.4094752371311188, \"dimension\": 7, \"position\": 68}, {\"embedding\": -0.3511347472667694, \"dimension\": 7, \"position\": 69}, {\"embedding\": -0.2913972735404968, \"dimension\": 7, \"position\": 70}, {\"embedding\": -0.23049965500831604, \"dimension\": 7, \"position\": 71}, {\"embedding\": -0.1686851680278778, \"dimension\": 7, \"position\": 72}, {\"embedding\": -0.10619935393333435, \"dimension\": 7, \"position\": 73}, {\"embedding\": -0.04329042136669159, \"dimension\": 7, \"position\": 74}, {\"embedding\": 0.019790323451161385, \"dimension\": 7, \"position\": 75}, {\"embedding\": 0.08279230445623398, \"dimension\": 7, \"position\": 76}, {\"embedding\": 0.14546526968479156, \"dimension\": 7, \"position\": 77}, {\"embedding\": 0.20755885541439056, \"dimension\": 7, \"position\": 78}, {\"embedding\": 0.2688263952732086, \"dimension\": 7, \"position\": 79}, {\"embedding\": 0.3290245532989502, \"dimension\": 7, \"position\": 80}, {\"embedding\": 0.3879128098487854, \"dimension\": 7, \"position\": 81}, {\"embedding\": 0.4452572762966156, \"dimension\": 7, \"position\": 82}, {\"embedding\": 0.5008301138877869, \"dimension\": 7, \"position\": 83}, {\"embedding\": 0.5544094443321228, \"dimension\": 7, \"position\": 84}, {\"embedding\": 0.605782687664032, \"dimension\": 7, \"position\": 85}, {\"embedding\": 0.6547446846961975, \"dimension\": 7, \"position\": 86}, {\"embedding\": 0.7011010050773621, \"dimension\": 7, \"position\": 87}, {\"embedding\": 0.7446674108505249, \"dimension\": 7, \"position\": 88}, {\"embedding\": 0.7852699160575867, \"dimension\": 7, \"position\": 89}, {\"embedding\": 0.8227472901344299, \"dimension\": 7, \"position\": 90}, {\"embedding\": 0.856950581073761, \"dimension\": 7, \"position\": 91}, {\"embedding\": 0.8877431154251099, \"dimension\": 7, \"position\": 92}, {\"embedding\": 0.9150027632713318, \"dimension\": 7, \"position\": 93}, {\"embedding\": 0.9386210441589355, \"dimension\": 7, \"position\": 94}, {\"embedding\": 0.9585037231445312, \"dimension\": 7, \"position\": 95}, {\"embedding\": 0.9745717644691467, \"dimension\": 7, \"position\": 96}, {\"embedding\": 0.9867613911628723, \"dimension\": 7, \"position\": 97}, {\"embedding\": 0.9950238466262817, \"dimension\": 7, \"position\": 98}, {\"embedding\": 0.9993264079093933, \"dimension\": 7, \"position\": 99}]}}, {\"mode\": \"vega-lite\"});\n",
              "</script>"
            ],
            "text/plain": [
              "alt.Chart(...)"
            ]
          },
          "metadata": {},
          "execution_count": 89
        }
      ]
    },
    {
      "cell_type": "markdown",
      "source": [
        "## The Transformer model\n",
        "\n",
        "To be convinient, we will use `nn.Transformer` layer from PyTorch. We will build a 4-layer Transformer model.\n",
        "\n",
        "<table>\n",
        "<tr>\n",
        "  <th colspan=1>The original Transformer diagram</th>\n",
        "  <th colspan=1>A representation of a 4-layer Transformer</th>\n",
        "</tr>\n",
        "<tr>\n",
        "  <td>\n",
        "   <img width=400 src=\"https://www.tensorflow.org/images/tutorials/transformer/transformer.png\"/>\n",
        "  </td>\n",
        "  <td>\n",
        "   <img width=307 src=\"https://www.tensorflow.org/images/tutorials/transformer/Transformer-4layer-compact.png\"/>\n",
        "  </td>\n",
        "</tr>\n",
        "</table>"
      ],
      "metadata": {
        "id": "g-8g-HtBlsRZ"
      }
    },
    {
      "cell_type": "markdown",
      "source": [
        "## Q8-9 Transfomer NMT model"
      ],
      "metadata": {
        "id": "TMOQpxvqODYB"
      }
    },
    {
      "cell_type": "markdown",
      "source": [
        "### Q8: (5 points) Initialize layers in TransformerNMT model\n",
        "Implement the `__init__` function  to initialize the\n",
        "necessary module for our TransformerNMT model"
      ],
      "metadata": {
        "id": "NRncXVMqN6GS"
      }
    },
    {
      "cell_type": "markdown",
      "source": [
        "### Q9: (10 points) Implement the forward function\n",
        "Complete the `forward` function in the TransformerNMT class\n",
        "\n"
      ],
      "metadata": {
        "id": "yKCJQc17N8pj"
      }
    },
    {
      "cell_type": "code",
      "source": [
        "from torch import Tensor\n",
        "import torch\n",
        "import torch.nn as nn\n",
        "import math\n",
        "DEVICE = torch.device('cuda' if torch.cuda.is_available() else 'cpu')\n",
        "\n",
        "BOS_IDX, PAD_IDX, EOS_IDX, UNK_IDX = vocab.tgt[\"<s>\"], vocab.tgt[\"<pad>\"], vocab.tgt[\"</s>\"], vocab.tgt[\"<unk>\"]\n",
        "\n",
        "class TransformerNMT(nn.Module):\n",
        "    \"\"\" Neural Machine Translation Model with Transformer:\n",
        "        - Encoder with stacked self-attention and feedforward layers\n",
        "        - Decoder with stacked self-attention, encoder-decoder attention, and feedforward layers\n",
        "    \"\"\"\n",
        "    def __init__(self,\n",
        "                 num_encoder_layers: int,\n",
        "                 num_decoder_layers: int,\n",
        "                 emb_size: int,\n",
        "                 nhead: int,\n",
        "                 src_vocab_size: int,\n",
        "                 tgt_vocab_size: int,\n",
        "                 dim_feedforward: int = 512,\n",
        "                 max_len: int = 5000,\n",
        "                 dropout: float = 0.1):\n",
        "        \"\"\" Init TransformerNMT NMT Model.\n",
        "        @param num_encoder_layers (int): The number of sub-layers in the Encoder Transformer\n",
        "        @param num_decoder_layers (int): The number of sub-layers in the Decoder Transformer\n",
        "        @param emb_size (int): Hidden Size, the size of hidden states (dimensionality)\n",
        "        @param nhead (int): The number of heads in the multiheadattention\n",
        "        @param src_vocab_size (int): The vocab size of src languages\n",
        "        @param tgt_vocab_size (int): The vocab size of tgt languages\n",
        "        @param dim_feedforward (int): The dimension of the feedforward network model\n",
        "        @param max_len (int) max sequence length\n",
        "        @param dropout (float): Dropout probability, for attention\n",
        "        \"\"\"\n",
        "\n",
        "        super(TransformerNMT, self).__init__()\n",
        "\n",
        "        self.src_embedding = None\n",
        "        self.tgt_embedding = None\n",
        "\n",
        "        self.transformer = None\n",
        "        self.target_vocab_projection = None\n",
        "\n",
        "        ### YOUR CODE HERE\n",
        "        ### TODO - Initialize the following variables IN THIS ORDER:\n",
        "        ###     self.src_embedding: Transformer Embedding Layer used for source language\n",
        "        ###     self.tgt_embedding: Transformer Embedding Layer used for target language\n",
        "        ###     self.transformer: Transformer layer\n",
        "        ###     self.target_vocab_projection (Linear Layer with no bias), mapping hidden representation to the vocab distribution\n",
        "        ###\n",
        "        ### Use the following docs to properly initialize these variables:\n",
        "        ###     Transformer\n",
        "        ###         https://pytorch.org/docs/stable/generated/torch.nn.Transformer.html\n",
        "        self.transformer = nn.Transformer(d_model=emb_size,\n",
        "                                       nhead=nhead,\n",
        "                                       num_encoder_layers=num_encoder_layers,\n",
        "                                       num_decoder_layers=num_decoder_layers,\n",
        "                                       dim_feedforward=dim_feedforward,\n",
        "                                       dropout=dropout)\n",
        "        self.target_vocab_projection = nn.Linear(emb_size, tgt_vocab_size, bias=False)\n",
        "        self.src_embedding = TransformerEmbedding(src_vocab_size, emb_size, max_len, dropout_rate=dropout)\n",
        "        self.tgt_embedding = TransformerEmbedding(tgt_vocab_size, emb_size, max_len, dropout_rate=dropout)\n",
        "\n",
        "\n",
        "    def forward(self,\n",
        "                src: Tensor,\n",
        "                trg: Tensor,\n",
        "                src_mask: Tensor,\n",
        "                tgt_mask: Tensor,\n",
        "                src_padding_mask: Tensor,\n",
        "                tgt_padding_mask: Tensor,\n",
        "                memory_key_padding_mask: Tensor):\n",
        "        \"\"\"Forward pass through the neural machine translation (NMT) model.\n",
        "        @param src (Tensor): Source sequence tensor.\n",
        "        @param trg (Tensor): Target sequence tensor.\n",
        "        @param src_mask (Tensor): Mask for the source sequence.\n",
        "        @param tgt_mask (Tensor): Mask for the target sequence.\n",
        "        @param src_padding_mask (Tensor): Padding mask for the source sequence.\n",
        "        @param tgt_padding_mask (Tensor): Padding mask for the target sequence.\n",
        "        @param memory_key_padding_mask (Tensor): Padding mask for memory keys.\n",
        "\n",
        "        @returns Tensor: Output tensor representing the NMT model's predictions for the target sequence.\n",
        "        \"\"\"\n",
        "\n",
        "        ### YOUR CODE HERE\n",
        "        ### TODO - Implement the forward function:\n",
        "        ###     1. Compute `src_embeded` and `tgt_embeded` from `src` and `tgt` using TransformerEmbedding,\n",
        "        ###     which return shape (src_len, b, e)\n",
        "        ###     src_len = maximum source sentence length, b = batch size, e = embedding size.\n",
        "        ###     2. Apply the self.transformer to compute the decoder output with shape (tgt_len, b, e)\n",
        "        ###     tgt_len = maximum target sentence length, b = batch size, e = embedding size.\n",
        "        ###     3. Mapping the decoder ouput to the vocab distribution using self.target_vocab_projection and return it.\n",
        "        ###     which return shape (tgt_len, b, tgt_vocab_size)\n",
        "        src_emb = self.src_embedding(src)\n",
        "        tgt_emb = self.tgt_embedding(trg)\n",
        "        outs = self.transformer(src_emb, tgt_emb, src_mask, tgt_mask, None,\n",
        "                                src_padding_mask, tgt_padding_mask, memory_key_padding_mask)\n",
        "\n",
        "        ### YOUR CODE HERE\n",
        "        ### TODO - Implement the forward function:\n",
        "        ###     1. Compute `memory` from `src` and `src_mask` using self.encode\n",
        "        ###     2. Apply the self.decode to compute the decoder output with shape (tgt_len, b, e)\n",
        "        ###     tgt_len = maximum target sentence length, b = batch size, e = embedding size.\n",
        "        ###     3. Mapping the decoder ouput to the vocab distribution using self.target_vocab_projection and return it.\n",
        "        ###     which return shape (tgt_len, b, tgt_vocab_size)\n",
        "\n",
        "        # memory = self.encode(src, src_mask)\n",
        "        # outs = self.decode(trg, memory, tgt_mask)\n",
        "\n",
        "\n",
        "        outs_proj = self.target_vocab_projection(outs)\n",
        "        return outs_proj\n",
        "        ### END YOUR CODE\n",
        "\n",
        "    def encode(self, src: Tensor, src_mask: Tensor):\n",
        "        return self.transformer.encoder(self.src_embedding(src), src_mask)\n",
        "\n",
        "    def decode(self, tgt: Tensor, memory: Tensor, tgt_mask: Tensor):\n",
        "        return self.transformer.decoder(self.tgt_embedding(tgt), memory, tgt_mask)\n",
        "\n",
        "\n",
        "def generate_square_subsequent_mask(sz):\n",
        "    mask = (torch.triu(torch.ones((sz, sz), device=DEVICE)) == 1).transpose(0, 1)\n",
        "    mask = mask.float().masked_fill(mask == 0, float('-inf')).masked_fill(mask == 1, float(0.0))\n",
        "    return mask\n",
        "\n",
        "\n",
        "def create_mask(src, tgt):\n",
        "    src_seq_len = src.shape[0]\n",
        "    tgt_seq_len = tgt.shape[0]\n",
        "\n",
        "    tgt_mask = generate_square_subsequent_mask(tgt_seq_len)\n",
        "    src_mask = torch.zeros((src_seq_len, src_seq_len),device=DEVICE).type(torch.bool)\n",
        "\n",
        "    src_padding_mask = (src == PAD_IDX).transpose(0, 1)\n",
        "    tgt_padding_mask = (tgt == PAD_IDX).transpose(0, 1)\n",
        "    return src_mask, tgt_mask, src_padding_mask, tgt_padding_mask"
      ],
      "metadata": {
        "id": "a4FpByedD5pS"
      },
      "execution_count": 94,
      "outputs": []
    },
    {
      "cell_type": "markdown",
      "source": [
        "## Train our full model\n",
        "\n"
      ],
      "metadata": {
        "id": "91bFTjSttI87"
      }
    },
    {
      "cell_type": "code",
      "source": [
        "# @title Model Initialization\n",
        "\n",
        "import torch\n",
        "torch.manual_seed(0)\n",
        "\n",
        "args.src_vocab_size = len(vocab.src)\n",
        "args.tgt_vocab_size = len(vocab.tgt)\n",
        "args.emb_size = 776\n",
        "args.n_heads = 8\n",
        "args.ffn_hid_dim = 768\n",
        "args.batch_size = 32\n",
        "args.n_encoder_layers = 3\n",
        "args.n_decoder_layers = 3\n",
        "args.lr = 1e-4\n",
        "args.dropout = 0.1\n",
        "\n",
        "transformer = TransformerNMT(args.n_encoder_layers, args.n_decoder_layers, args.emb_size,\n",
        "                                 args.n_heads, args.src_vocab_size, args.tgt_vocab_size, args.ffn_hid_dim, dropout=args.dropout)\n",
        "\n",
        "for p in transformer.parameters():\n",
        "    if p.dim() > 1:\n",
        "        nn.init.xavier_uniform_(p)\n",
        "\n",
        "transformer = transformer.to(DEVICE)\n",
        "\n",
        "loss_fn = torch.nn.CrossEntropyLoss(ignore_index=PAD_IDX)\n",
        "\n",
        "optimizer = torch.optim.Adam(transformer.parameters(), lr=args.lr, betas=(0.9, 0.98), eps=1e-8)"
      ],
      "metadata": {
        "id": "TUlRiRFrUJvh"
      },
      "execution_count": 95,
      "outputs": []
    },
    {
      "cell_type": "code",
      "source": [
        "# @title Helper function\n",
        "from torch.nn.utils.rnn import pad_sequence\n",
        "\n",
        "# helper function to club together sequential operations\n",
        "def sequential_transforms(*transforms):\n",
        "    def func(txt_input):\n",
        "        for transform in transforms:\n",
        "            try:\n",
        "                txt_input = transform(txt_input)\n",
        "            except Exception as e:\n",
        "                if \"device\" in str(e):\n",
        "                    print(e)\n",
        "                    txt_input = transform(txt_input, device=device)\n",
        "                else:\n",
        "                    raise ValueError(e)\n",
        "        return txt_input\n",
        "    return func\n",
        "\n",
        "# function to add BOS/EOS and create tensor for input sequence indices\n",
        "def tensor_transform(token_ids: List[int]):\n",
        "    # print(token_ids)\n",
        "    return torch.cat((torch.tensor([BOS_IDX]).to(device),\n",
        "                      token_ids,\n",
        "                      torch.tensor([EOS_IDX]).to(device))).to(device)\n",
        "\n",
        "\n",
        "def convert_to_tensor_src(txt):\n",
        "    # print(torch.tensor([BOS_IDX]).shape, vocab.src.to_input_tensor(txt).shape, torch.tensor([EOS_IDX]).shape)\n",
        "    # print(torch.tensor([BOS_IDX]), vocab.src.to_input_tensor(txt).reshape(1,), torch.tensor([EOS_IDX]))\n",
        "    return torch.cat((torch.tensor([BOS_IDX]).view(1, 1).to(device),\n",
        "                      vocab.src.to_input_tensor(txt).to(device),\n",
        "                      torch.tensor([EOS_IDX]).view(1, 1).to(device)), dim=0).view(-1)\n",
        "\n",
        "def convert_to_tensor_tgt(txt):\n",
        "    return torch.cat((torch.tensor([BOS_IDX]).view(1, 1).to(device),\n",
        "                      vocab.tgt.to_input_tensor(txt).to(device),\n",
        "                      torch.tensor([EOS_IDX]).view(1, 1).to(device)), dim=0).view(-1)\n",
        "\n",
        "# ``src`` and ``tgt`` language text transforms to convert raw strings into tensors indices\n",
        "text_transform = {}\n",
        "\n",
        "SRC_LANGUAGE, TGT_LANGUAGE = \"vi\", \"en\"\n",
        "for ln in [SRC_LANGUAGE, TGT_LANGUAGE]:\n",
        "    if ln == SRC_LANGUAGE:\n",
        "        text_transform[ln] = convert_to_tensor_src # Add BOS/EOS and create tensor\n",
        "    if ln == TGT_LANGUAGE:\n",
        "        text_transform[ln] = convert_to_tensor_tgt# Add BOS/EOS and create tensor\n",
        "\n",
        "\n",
        "# function to collate data samples into batch tensors\n",
        "def collate_fn(batch):\n",
        "    src_batch, tgt_batch = [], []\n",
        "    for src_sample, tgt_sample in batch:\n",
        "        # print(src_sample, tgt_sample)\n",
        "        src_batch.append(text_transform[SRC_LANGUAGE](src_sample))\n",
        "        tgt_batch.append(text_transform[TGT_LANGUAGE](tgt_sample))\n",
        "\n",
        "    src_batch = pad_sequence(src_batch, padding_value=PAD_IDX)\n",
        "    tgt_batch = pad_sequence(tgt_batch, padding_value=PAD_IDX)\n",
        "    return src_batch, tgt_batch"
      ],
      "metadata": {
        "id": "l2ipFnjSKFVM",
        "cellView": "form"
      },
      "execution_count": 91,
      "outputs": []
    },
    {
      "cell_type": "code",
      "source": [
        "# @title Training the model\n",
        "\n",
        "from torch.utils.data import DataLoader\n",
        "\n",
        "def train_epoch(model, optimizer, epoch):\n",
        "    model.train()\n",
        "    losses = 0\n",
        "    # train_iter = Multi30k(split='train', language_pair=(SRC_LANGUAGE, TGT_LANGUAGE))\n",
        "    train_dataloader = DataLoader(train_data_small, batch_size=args.batch_size, collate_fn=collate_fn)\n",
        "    # train_dataloader = batch_iter(train_data, BATCH_SIZE)\n",
        "\n",
        "    for i, (src, tgt) in enumerate(train_dataloader):\n",
        "        src = src.to(DEVICE)\n",
        "        tgt = tgt.to(DEVICE)\n",
        "\n",
        "        tgt_input = tgt[:-1, :]\n",
        "\n",
        "        src_mask, tgt_mask, src_padding_mask, tgt_padding_mask = create_mask(src, tgt_input)\n",
        "\n",
        "        logits = model(src, tgt_input, src_mask, tgt_mask,src_padding_mask, tgt_padding_mask, src_padding_mask)\n",
        "\n",
        "        optimizer.zero_grad()\n",
        "\n",
        "        tgt_out = tgt[1:, :]\n",
        "        loss = loss_fn(logits.reshape(-1, logits.shape[-1]), tgt_out.reshape(-1))\n",
        "        loss.backward()\n",
        "\n",
        "        optimizer.step()\n",
        "        losses += loss.item()\n",
        "\n",
        "        if i % args.log_every == 0:\n",
        "\n",
        "            print('epoch %d, iter %d, losses %.2f, avg. loss %.2f'\n",
        "                     % (epoch, i, losses, losses/(i+1)), file=sys.stderr)\n",
        "\n",
        "\n",
        "    return losses / len(list(train_dataloader))\n",
        "\n",
        "\n",
        "def evaluate(model):\n",
        "    model.eval()\n",
        "    losses = 0\n",
        "\n",
        "    # val_iter = Multi30k(split='valid', language_pair=(SRC_LANGUAGE, TGT_LANGUAGE))\n",
        "    val_dataloader = DataLoader(dev_data_small, batch_size=args.batch_size, collate_fn=collate_fn)\n",
        "    # val_dataloader = batch_iter(dev_data, BATCH_SIZE)\n",
        "\n",
        "    for src, tgt in val_dataloader:\n",
        "        src = src.to(DEVICE)\n",
        "        tgt = tgt.to(DEVICE)\n",
        "\n",
        "        tgt_input = tgt[:-1, :]\n",
        "\n",
        "        src_mask, tgt_mask, src_padding_mask, tgt_padding_mask = create_mask(src, tgt_input)\n",
        "\n",
        "        logits = model(src, tgt_input, src_mask, tgt_mask,src_padding_mask, tgt_padding_mask, src_padding_mask)\n",
        "\n",
        "        tgt_out = tgt[1:, :]\n",
        "        loss = loss_fn(logits.reshape(-1, logits.shape[-1]), tgt_out.reshape(-1))\n",
        "        losses += loss.item()\n",
        "\n",
        "    return losses / len(list(val_dataloader))"
      ],
      "metadata": {
        "id": "Oy_gOxZwUp2g"
      },
      "execution_count": 96,
      "outputs": []
    },
    {
      "cell_type": "markdown",
      "source": [
        "We also pick a small subset of 1600 sampels for training and 100 samples for validating."
      ],
      "metadata": {
        "id": "tHbTs8aweGKZ"
      }
    },
    {
      "cell_type": "code",
      "source": [
        "train_data_small = [val for val in train_data if len(val[0]) > 3][:50]\n",
        "dev_data_small = [val for val in dev_data if len(val[0]) > 3][:50]"
      ],
      "metadata": {
        "id": "-iE_n0gvKpxv"
      },
      "execution_count": 97,
      "outputs": []
    },
    {
      "cell_type": "code",
      "source": [
        "from timeit import default_timer as timer\n",
        "args.max_epoch = 200\n",
        "\n",
        "for epoch in range(args.max_epoch):\n",
        "    start_time = timer()\n",
        "    train_loss = train_epoch(transformer, optimizer, epoch)\n",
        "    end_time = timer()\n",
        "    val_loss = evaluate(transformer)\n",
        "    print((f\"Epoch: {epoch}, Train loss: {train_loss:.3f}, Val loss: {val_loss:.3f}, \"f\"Epoch time = {(end_time - start_time):.3f}s\"))\n"
      ],
      "metadata": {
        "colab": {
          "base_uri": "https://localhost:8080/"
        },
        "id": "fwLcM5IOKuuH",
        "outputId": "2ec5d537-5437-437b-ef31-4c7417c50ea6"
      },
      "execution_count": 98,
      "outputs": [
        {
          "output_type": "stream",
          "name": "stderr",
          "text": [
            "epoch 0, iter 0, losses 10.04, avg. loss 10.04\n"
          ]
        },
        {
          "output_type": "stream",
          "name": "stdout",
          "text": [
            "Epoch: 0, Train loss: 9.824, Val loss: 9.372, Epoch time = 0.453s\n"
          ]
        },
        {
          "output_type": "stream",
          "name": "stderr",
          "text": [
            "epoch 1, iter 0, losses 9.31, avg. loss 9.31\n"
          ]
        },
        {
          "output_type": "stream",
          "name": "stdout",
          "text": [
            "Epoch: 1, Train loss: 9.227, Val loss: 9.100, Epoch time = 0.381s\n"
          ]
        },
        {
          "output_type": "stream",
          "name": "stderr",
          "text": [
            "epoch 2, iter 0, losses 9.00, avg. loss 9.00\n"
          ]
        },
        {
          "output_type": "stream",
          "name": "stdout",
          "text": [
            "Epoch: 2, Train loss: 8.928, Val loss: 8.910, Epoch time = 0.393s\n"
          ]
        },
        {
          "output_type": "stream",
          "name": "stderr",
          "text": [
            "epoch 3, iter 0, losses 8.76, avg. loss 8.76\n"
          ]
        },
        {
          "output_type": "stream",
          "name": "stdout",
          "text": [
            "Epoch: 3, Train loss: 8.688, Val loss: 8.754, Epoch time = 0.386s\n"
          ]
        },
        {
          "output_type": "stream",
          "name": "stderr",
          "text": [
            "epoch 4, iter 0, losses 8.54, avg. loss 8.54\n"
          ]
        },
        {
          "output_type": "stream",
          "name": "stdout",
          "text": [
            "Epoch: 4, Train loss: 8.465, Val loss: 8.609, Epoch time = 0.387s\n"
          ]
        },
        {
          "output_type": "stream",
          "name": "stderr",
          "text": [
            "epoch 5, iter 0, losses 8.32, avg. loss 8.32\n"
          ]
        },
        {
          "output_type": "stream",
          "name": "stdout",
          "text": [
            "Epoch: 5, Train loss: 8.243, Val loss: 8.462, Epoch time = 0.392s\n"
          ]
        },
        {
          "output_type": "stream",
          "name": "stderr",
          "text": [
            "epoch 6, iter 0, losses 8.10, avg. loss 8.10\n"
          ]
        },
        {
          "output_type": "stream",
          "name": "stdout",
          "text": [
            "Epoch: 6, Train loss: 8.014, Val loss: 8.312, Epoch time = 0.391s\n"
          ]
        },
        {
          "output_type": "stream",
          "name": "stderr",
          "text": [
            "epoch 7, iter 0, losses 7.87, avg. loss 7.87\n"
          ]
        },
        {
          "output_type": "stream",
          "name": "stdout",
          "text": [
            "Epoch: 7, Train loss: 7.786, Val loss: 8.161, Epoch time = 0.394s\n"
          ]
        },
        {
          "output_type": "stream",
          "name": "stderr",
          "text": [
            "epoch 8, iter 0, losses 7.65, avg. loss 7.65\n"
          ]
        },
        {
          "output_type": "stream",
          "name": "stdout",
          "text": [
            "Epoch: 8, Train loss: 7.553, Val loss: 8.006, Epoch time = 0.390s\n"
          ]
        },
        {
          "output_type": "stream",
          "name": "stderr",
          "text": [
            "epoch 9, iter 0, losses 7.41, avg. loss 7.41\n"
          ]
        },
        {
          "output_type": "stream",
          "name": "stdout",
          "text": [
            "Epoch: 9, Train loss: 7.315, Val loss: 7.854, Epoch time = 0.400s\n"
          ]
        },
        {
          "output_type": "stream",
          "name": "stderr",
          "text": [
            "epoch 10, iter 0, losses 7.18, avg. loss 7.18\n"
          ]
        },
        {
          "output_type": "stream",
          "name": "stdout",
          "text": [
            "Epoch: 10, Train loss: 7.076, Val loss: 7.708, Epoch time = 0.395s\n"
          ]
        },
        {
          "output_type": "stream",
          "name": "stderr",
          "text": [
            "epoch 11, iter 0, losses 6.95, avg. loss 6.95\n"
          ]
        },
        {
          "output_type": "stream",
          "name": "stdout",
          "text": [
            "Epoch: 11, Train loss: 6.844, Val loss: 7.568, Epoch time = 0.399s\n"
          ]
        },
        {
          "output_type": "stream",
          "name": "stderr",
          "text": [
            "epoch 12, iter 0, losses 6.73, avg. loss 6.73\n"
          ]
        },
        {
          "output_type": "stream",
          "name": "stdout",
          "text": [
            "Epoch: 12, Train loss: 6.622, Val loss: 7.436, Epoch time = 0.400s\n"
          ]
        },
        {
          "output_type": "stream",
          "name": "stderr",
          "text": [
            "epoch 13, iter 0, losses 6.52, avg. loss 6.52\n"
          ]
        },
        {
          "output_type": "stream",
          "name": "stdout",
          "text": [
            "Epoch: 13, Train loss: 6.407, Val loss: 7.316, Epoch time = 0.391s\n"
          ]
        },
        {
          "output_type": "stream",
          "name": "stderr",
          "text": [
            "epoch 14, iter 0, losses 6.32, avg. loss 6.32\n"
          ]
        },
        {
          "output_type": "stream",
          "name": "stdout",
          "text": [
            "Epoch: 14, Train loss: 6.196, Val loss: 7.207, Epoch time = 0.406s\n"
          ]
        },
        {
          "output_type": "stream",
          "name": "stderr",
          "text": [
            "epoch 15, iter 0, losses 6.12, avg. loss 6.12\n"
          ]
        },
        {
          "output_type": "stream",
          "name": "stdout",
          "text": [
            "Epoch: 15, Train loss: 5.998, Val loss: 7.110, Epoch time = 0.406s\n"
          ]
        },
        {
          "output_type": "stream",
          "name": "stderr",
          "text": [
            "epoch 16, iter 0, losses 5.95, avg. loss 5.95\n"
          ]
        },
        {
          "output_type": "stream",
          "name": "stdout",
          "text": [
            "Epoch: 16, Train loss: 5.817, Val loss: 7.022, Epoch time = 0.415s\n"
          ]
        },
        {
          "output_type": "stream",
          "name": "stderr",
          "text": [
            "epoch 17, iter 0, losses 5.78, avg. loss 5.78\n"
          ]
        },
        {
          "output_type": "stream",
          "name": "stdout",
          "text": [
            "Epoch: 17, Train loss: 5.646, Val loss: 6.948, Epoch time = 0.408s\n"
          ]
        },
        {
          "output_type": "stream",
          "name": "stderr",
          "text": [
            "epoch 18, iter 0, losses 5.63, avg. loss 5.63\n"
          ]
        },
        {
          "output_type": "stream",
          "name": "stdout",
          "text": [
            "Epoch: 18, Train loss: 5.490, Val loss: 6.879, Epoch time = 0.403s\n"
          ]
        },
        {
          "output_type": "stream",
          "name": "stderr",
          "text": [
            "epoch 19, iter 0, losses 5.49, avg. loss 5.49\n"
          ]
        },
        {
          "output_type": "stream",
          "name": "stdout",
          "text": [
            "Epoch: 19, Train loss: 5.342, Val loss: 6.825, Epoch time = 0.404s\n"
          ]
        },
        {
          "output_type": "stream",
          "name": "stderr",
          "text": [
            "epoch 20, iter 0, losses 5.36, avg. loss 5.36\n"
          ]
        },
        {
          "output_type": "stream",
          "name": "stdout",
          "text": [
            "Epoch: 20, Train loss: 5.205, Val loss: 6.783, Epoch time = 0.399s\n"
          ]
        },
        {
          "output_type": "stream",
          "name": "stderr",
          "text": [
            "epoch 21, iter 0, losses 5.25, avg. loss 5.25\n"
          ]
        },
        {
          "output_type": "stream",
          "name": "stdout",
          "text": [
            "Epoch: 21, Train loss: 5.081, Val loss: 6.742, Epoch time = 0.403s\n"
          ]
        },
        {
          "output_type": "stream",
          "name": "stderr",
          "text": [
            "epoch 22, iter 0, losses 5.14, avg. loss 5.14\n"
          ]
        },
        {
          "output_type": "stream",
          "name": "stdout",
          "text": [
            "Epoch: 22, Train loss: 4.973, Val loss: 6.718, Epoch time = 0.399s\n"
          ]
        },
        {
          "output_type": "stream",
          "name": "stderr",
          "text": [
            "epoch 23, iter 0, losses 5.04, avg. loss 5.04\n"
          ]
        },
        {
          "output_type": "stream",
          "name": "stdout",
          "text": [
            "Epoch: 23, Train loss: 4.863, Val loss: 6.696, Epoch time = 0.399s\n"
          ]
        },
        {
          "output_type": "stream",
          "name": "stderr",
          "text": [
            "epoch 24, iter 0, losses 4.96, avg. loss 4.96\n"
          ]
        },
        {
          "output_type": "stream",
          "name": "stdout",
          "text": [
            "Epoch: 24, Train loss: 4.769, Val loss: 6.684, Epoch time = 0.394s\n"
          ]
        },
        {
          "output_type": "stream",
          "name": "stderr",
          "text": [
            "epoch 25, iter 0, losses 4.88, avg. loss 4.88\n"
          ]
        },
        {
          "output_type": "stream",
          "name": "stdout",
          "text": [
            "Epoch: 25, Train loss: 4.689, Val loss: 6.670, Epoch time = 0.397s\n"
          ]
        },
        {
          "output_type": "stream",
          "name": "stderr",
          "text": [
            "epoch 26, iter 0, losses 4.80, avg. loss 4.80\n"
          ]
        },
        {
          "output_type": "stream",
          "name": "stdout",
          "text": [
            "Epoch: 26, Train loss: 4.606, Val loss: 6.656, Epoch time = 0.397s\n"
          ]
        },
        {
          "output_type": "stream",
          "name": "stderr",
          "text": [
            "epoch 27, iter 0, losses 4.74, avg. loss 4.74\n"
          ]
        },
        {
          "output_type": "stream",
          "name": "stdout",
          "text": [
            "Epoch: 27, Train loss: 4.532, Val loss: 6.651, Epoch time = 0.397s\n"
          ]
        },
        {
          "output_type": "stream",
          "name": "stderr",
          "text": [
            "epoch 28, iter 0, losses 4.68, avg. loss 4.68\n"
          ]
        },
        {
          "output_type": "stream",
          "name": "stdout",
          "text": [
            "Epoch: 28, Train loss: 4.461, Val loss: 6.638, Epoch time = 0.402s\n"
          ]
        },
        {
          "output_type": "stream",
          "name": "stderr",
          "text": [
            "epoch 29, iter 0, losses 4.61, avg. loss 4.61\n"
          ]
        },
        {
          "output_type": "stream",
          "name": "stdout",
          "text": [
            "Epoch: 29, Train loss: 4.388, Val loss: 6.627, Epoch time = 0.399s\n"
          ]
        },
        {
          "output_type": "stream",
          "name": "stderr",
          "text": [
            "epoch 30, iter 0, losses 4.55, avg. loss 4.55\n"
          ]
        },
        {
          "output_type": "stream",
          "name": "stdout",
          "text": [
            "Epoch: 30, Train loss: 4.316, Val loss: 6.618, Epoch time = 0.395s\n"
          ]
        },
        {
          "output_type": "stream",
          "name": "stderr",
          "text": [
            "epoch 31, iter 0, losses 4.48, avg. loss 4.48\n"
          ]
        },
        {
          "output_type": "stream",
          "name": "stdout",
          "text": [
            "Epoch: 31, Train loss: 4.250, Val loss: 6.611, Epoch time = 0.396s\n"
          ]
        },
        {
          "output_type": "stream",
          "name": "stderr",
          "text": [
            "epoch 32, iter 0, losses 4.42, avg. loss 4.42\n"
          ]
        },
        {
          "output_type": "stream",
          "name": "stdout",
          "text": [
            "Epoch: 32, Train loss: 4.178, Val loss: 6.593, Epoch time = 0.392s\n"
          ]
        },
        {
          "output_type": "stream",
          "name": "stderr",
          "text": [
            "epoch 33, iter 0, losses 4.36, avg. loss 4.36\n"
          ]
        },
        {
          "output_type": "stream",
          "name": "stdout",
          "text": [
            "Epoch: 33, Train loss: 4.115, Val loss: 6.613, Epoch time = 0.399s\n"
          ]
        },
        {
          "output_type": "stream",
          "name": "stderr",
          "text": [
            "epoch 34, iter 0, losses 4.31, avg. loss 4.31\n"
          ]
        },
        {
          "output_type": "stream",
          "name": "stdout",
          "text": [
            "Epoch: 34, Train loss: 4.053, Val loss: 6.573, Epoch time = 0.394s\n"
          ]
        },
        {
          "output_type": "stream",
          "name": "stderr",
          "text": [
            "epoch 35, iter 0, losses 4.24, avg. loss 4.24\n"
          ]
        },
        {
          "output_type": "stream",
          "name": "stdout",
          "text": [
            "Epoch: 35, Train loss: 3.985, Val loss: 6.603, Epoch time = 0.400s\n"
          ]
        },
        {
          "output_type": "stream",
          "name": "stderr",
          "text": [
            "epoch 36, iter 0, losses 4.19, avg. loss 4.19\n"
          ]
        },
        {
          "output_type": "stream",
          "name": "stdout",
          "text": [
            "Epoch: 36, Train loss: 3.918, Val loss: 6.568, Epoch time = 0.396s\n"
          ]
        },
        {
          "output_type": "stream",
          "name": "stderr",
          "text": [
            "epoch 37, iter 0, losses 4.13, avg. loss 4.13\n"
          ]
        },
        {
          "output_type": "stream",
          "name": "stdout",
          "text": [
            "Epoch: 37, Train loss: 3.857, Val loss: 6.575, Epoch time = 0.407s\n"
          ]
        },
        {
          "output_type": "stream",
          "name": "stderr",
          "text": [
            "epoch 38, iter 0, losses 4.06, avg. loss 4.06\n"
          ]
        },
        {
          "output_type": "stream",
          "name": "stdout",
          "text": [
            "Epoch: 38, Train loss: 3.791, Val loss: 6.599, Epoch time = 0.395s\n"
          ]
        },
        {
          "output_type": "stream",
          "name": "stderr",
          "text": [
            "epoch 39, iter 0, losses 4.01, avg. loss 4.01\n"
          ]
        },
        {
          "output_type": "stream",
          "name": "stdout",
          "text": [
            "Epoch: 39, Train loss: 3.725, Val loss: 6.552, Epoch time = 0.396s\n"
          ]
        },
        {
          "output_type": "stream",
          "name": "stderr",
          "text": [
            "epoch 40, iter 0, losses 3.95, avg. loss 3.95\n"
          ]
        },
        {
          "output_type": "stream",
          "name": "stdout",
          "text": [
            "Epoch: 40, Train loss: 3.655, Val loss: 6.566, Epoch time = 0.391s\n"
          ]
        },
        {
          "output_type": "stream",
          "name": "stderr",
          "text": [
            "epoch 41, iter 0, losses 3.89, avg. loss 3.89\n"
          ]
        },
        {
          "output_type": "stream",
          "name": "stdout",
          "text": [
            "Epoch: 41, Train loss: 3.588, Val loss: 6.556, Epoch time = 0.397s\n"
          ]
        },
        {
          "output_type": "stream",
          "name": "stderr",
          "text": [
            "epoch 42, iter 0, losses 3.82, avg. loss 3.82\n"
          ]
        },
        {
          "output_type": "stream",
          "name": "stdout",
          "text": [
            "Epoch: 42, Train loss: 3.526, Val loss: 6.577, Epoch time = 0.387s\n"
          ]
        },
        {
          "output_type": "stream",
          "name": "stderr",
          "text": [
            "epoch 43, iter 0, losses 3.75, avg. loss 3.75\n"
          ]
        },
        {
          "output_type": "stream",
          "name": "stdout",
          "text": [
            "Epoch: 43, Train loss: 3.452, Val loss: 6.571, Epoch time = 0.389s\n"
          ]
        },
        {
          "output_type": "stream",
          "name": "stderr",
          "text": [
            "epoch 44, iter 0, losses 3.69, avg. loss 3.69\n"
          ]
        },
        {
          "output_type": "stream",
          "name": "stdout",
          "text": [
            "Epoch: 44, Train loss: 3.395, Val loss: 6.543, Epoch time = 0.386s\n"
          ]
        },
        {
          "output_type": "stream",
          "name": "stderr",
          "text": [
            "epoch 45, iter 0, losses 3.62, avg. loss 3.62\n"
          ]
        },
        {
          "output_type": "stream",
          "name": "stdout",
          "text": [
            "Epoch: 45, Train loss: 3.326, Val loss: 6.551, Epoch time = 0.385s\n"
          ]
        },
        {
          "output_type": "stream",
          "name": "stderr",
          "text": [
            "epoch 46, iter 0, losses 3.58, avg. loss 3.58\n"
          ]
        },
        {
          "output_type": "stream",
          "name": "stdout",
          "text": [
            "Epoch: 46, Train loss: 3.264, Val loss: 6.578, Epoch time = 0.392s\n"
          ]
        },
        {
          "output_type": "stream",
          "name": "stderr",
          "text": [
            "epoch 47, iter 0, losses 3.51, avg. loss 3.51\n"
          ]
        },
        {
          "output_type": "stream",
          "name": "stdout",
          "text": [
            "Epoch: 47, Train loss: 3.203, Val loss: 6.554, Epoch time = 0.385s\n"
          ]
        },
        {
          "output_type": "stream",
          "name": "stderr",
          "text": [
            "epoch 48, iter 0, losses 3.44, avg. loss 3.44\n"
          ]
        },
        {
          "output_type": "stream",
          "name": "stdout",
          "text": [
            "Epoch: 48, Train loss: 3.129, Val loss: 6.572, Epoch time = 0.388s\n"
          ]
        },
        {
          "output_type": "stream",
          "name": "stderr",
          "text": [
            "epoch 49, iter 0, losses 3.38, avg. loss 3.38\n"
          ]
        },
        {
          "output_type": "stream",
          "name": "stdout",
          "text": [
            "Epoch: 49, Train loss: 3.065, Val loss: 6.564, Epoch time = 0.389s\n"
          ]
        },
        {
          "output_type": "stream",
          "name": "stderr",
          "text": [
            "epoch 50, iter 0, losses 3.32, avg. loss 3.32\n"
          ]
        },
        {
          "output_type": "stream",
          "name": "stdout",
          "text": [
            "Epoch: 50, Train loss: 3.010, Val loss: 6.544, Epoch time = 0.383s\n"
          ]
        },
        {
          "output_type": "stream",
          "name": "stderr",
          "text": [
            "epoch 51, iter 0, losses 3.26, avg. loss 3.26\n"
          ]
        },
        {
          "output_type": "stream",
          "name": "stdout",
          "text": [
            "Epoch: 51, Train loss: 2.935, Val loss: 6.567, Epoch time = 0.384s\n"
          ]
        },
        {
          "output_type": "stream",
          "name": "stderr",
          "text": [
            "epoch 52, iter 0, losses 3.20, avg. loss 3.20\n"
          ]
        },
        {
          "output_type": "stream",
          "name": "stdout",
          "text": [
            "Epoch: 52, Train loss: 2.875, Val loss: 6.555, Epoch time = 0.384s\n"
          ]
        },
        {
          "output_type": "stream",
          "name": "stderr",
          "text": [
            "epoch 53, iter 0, losses 3.15, avg. loss 3.15\n"
          ]
        },
        {
          "output_type": "stream",
          "name": "stdout",
          "text": [
            "Epoch: 53, Train loss: 2.812, Val loss: 6.580, Epoch time = 0.383s\n"
          ]
        },
        {
          "output_type": "stream",
          "name": "stderr",
          "text": [
            "epoch 54, iter 0, losses 3.10, avg. loss 3.10\n"
          ]
        },
        {
          "output_type": "stream",
          "name": "stdout",
          "text": [
            "Epoch: 54, Train loss: 2.756, Val loss: 6.558, Epoch time = 0.384s\n"
          ]
        },
        {
          "output_type": "stream",
          "name": "stderr",
          "text": [
            "epoch 55, iter 0, losses 3.03, avg. loss 3.03\n"
          ]
        },
        {
          "output_type": "stream",
          "name": "stdout",
          "text": [
            "Epoch: 55, Train loss: 2.698, Val loss: 6.567, Epoch time = 0.388s\n"
          ]
        },
        {
          "output_type": "stream",
          "name": "stderr",
          "text": [
            "epoch 56, iter 0, losses 2.99, avg. loss 2.99\n"
          ]
        },
        {
          "output_type": "stream",
          "name": "stdout",
          "text": [
            "Epoch: 56, Train loss: 2.643, Val loss: 6.583, Epoch time = 0.401s\n"
          ]
        },
        {
          "output_type": "stream",
          "name": "stderr",
          "text": [
            "epoch 57, iter 0, losses 2.93, avg. loss 2.93\n"
          ]
        },
        {
          "output_type": "stream",
          "name": "stdout",
          "text": [
            "Epoch: 57, Train loss: 2.593, Val loss: 6.594, Epoch time = 0.392s\n"
          ]
        },
        {
          "output_type": "stream",
          "name": "stderr",
          "text": [
            "epoch 58, iter 0, losses 2.88, avg. loss 2.88\n"
          ]
        },
        {
          "output_type": "stream",
          "name": "stdout",
          "text": [
            "Epoch: 58, Train loss: 2.541, Val loss: 6.576, Epoch time = 0.398s\n"
          ]
        },
        {
          "output_type": "stream",
          "name": "stderr",
          "text": [
            "epoch 59, iter 0, losses 2.82, avg. loss 2.82\n"
          ]
        },
        {
          "output_type": "stream",
          "name": "stdout",
          "text": [
            "Epoch: 59, Train loss: 2.471, Val loss: 6.583, Epoch time = 0.391s\n"
          ]
        },
        {
          "output_type": "stream",
          "name": "stderr",
          "text": [
            "epoch 60, iter 0, losses 2.78, avg. loss 2.78\n"
          ]
        },
        {
          "output_type": "stream",
          "name": "stdout",
          "text": [
            "Epoch: 60, Train loss: 2.428, Val loss: 6.611, Epoch time = 0.382s\n"
          ]
        },
        {
          "output_type": "stream",
          "name": "stderr",
          "text": [
            "epoch 61, iter 0, losses 2.73, avg. loss 2.73\n"
          ]
        },
        {
          "output_type": "stream",
          "name": "stdout",
          "text": [
            "Epoch: 61, Train loss: 2.381, Val loss: 6.590, Epoch time = 0.377s\n"
          ]
        },
        {
          "output_type": "stream",
          "name": "stderr",
          "text": [
            "epoch 62, iter 0, losses 2.70, avg. loss 2.70\n"
          ]
        },
        {
          "output_type": "stream",
          "name": "stdout",
          "text": [
            "Epoch: 62, Train loss: 2.328, Val loss: 6.657, Epoch time = 0.380s\n"
          ]
        },
        {
          "output_type": "stream",
          "name": "stderr",
          "text": [
            "epoch 63, iter 0, losses 2.63, avg. loss 2.63\n"
          ]
        },
        {
          "output_type": "stream",
          "name": "stdout",
          "text": [
            "Epoch: 63, Train loss: 2.268, Val loss: 6.572, Epoch time = 0.380s\n"
          ]
        },
        {
          "output_type": "stream",
          "name": "stderr",
          "text": [
            "epoch 64, iter 0, losses 2.58, avg. loss 2.58\n"
          ]
        },
        {
          "output_type": "stream",
          "name": "stdout",
          "text": [
            "Epoch: 64, Train loss: 2.219, Val loss: 6.672, Epoch time = 0.378s\n"
          ]
        },
        {
          "output_type": "stream",
          "name": "stderr",
          "text": [
            "epoch 65, iter 0, losses 2.53, avg. loss 2.53\n"
          ]
        },
        {
          "output_type": "stream",
          "name": "stdout",
          "text": [
            "Epoch: 65, Train loss: 2.163, Val loss: 6.591, Epoch time = 0.385s\n"
          ]
        },
        {
          "output_type": "stream",
          "name": "stderr",
          "text": [
            "epoch 66, iter 0, losses 2.48, avg. loss 2.48\n"
          ]
        },
        {
          "output_type": "stream",
          "name": "stdout",
          "text": [
            "Epoch: 66, Train loss: 2.116, Val loss: 6.671, Epoch time = 0.379s\n"
          ]
        },
        {
          "output_type": "stream",
          "name": "stderr",
          "text": [
            "epoch 67, iter 0, losses 2.43, avg. loss 2.43\n"
          ]
        },
        {
          "output_type": "stream",
          "name": "stdout",
          "text": [
            "Epoch: 67, Train loss: 2.065, Val loss: 6.656, Epoch time = 0.380s\n"
          ]
        },
        {
          "output_type": "stream",
          "name": "stderr",
          "text": [
            "epoch 68, iter 0, losses 2.39, avg. loss 2.39\n"
          ]
        },
        {
          "output_type": "stream",
          "name": "stdout",
          "text": [
            "Epoch: 68, Train loss: 2.018, Val loss: 6.639, Epoch time = 0.379s\n"
          ]
        },
        {
          "output_type": "stream",
          "name": "stderr",
          "text": [
            "epoch 69, iter 0, losses 2.35, avg. loss 2.35\n"
          ]
        },
        {
          "output_type": "stream",
          "name": "stdout",
          "text": [
            "Epoch: 69, Train loss: 1.969, Val loss: 6.686, Epoch time = 0.376s\n"
          ]
        },
        {
          "output_type": "stream",
          "name": "stderr",
          "text": [
            "epoch 70, iter 0, losses 2.31, avg. loss 2.31\n"
          ]
        },
        {
          "output_type": "stream",
          "name": "stdout",
          "text": [
            "Epoch: 70, Train loss: 1.936, Val loss: 6.697, Epoch time = 0.376s\n"
          ]
        },
        {
          "output_type": "stream",
          "name": "stderr",
          "text": [
            "epoch 71, iter 0, losses 2.25, avg. loss 2.25\n"
          ]
        },
        {
          "output_type": "stream",
          "name": "stdout",
          "text": [
            "Epoch: 71, Train loss: 1.880, Val loss: 6.661, Epoch time = 0.376s\n"
          ]
        },
        {
          "output_type": "stream",
          "name": "stderr",
          "text": [
            "epoch 72, iter 0, losses 2.20, avg. loss 2.20\n"
          ]
        },
        {
          "output_type": "stream",
          "name": "stdout",
          "text": [
            "Epoch: 72, Train loss: 1.828, Val loss: 6.700, Epoch time = 0.375s\n"
          ]
        },
        {
          "output_type": "stream",
          "name": "stderr",
          "text": [
            "epoch 73, iter 0, losses 2.16, avg. loss 2.16\n"
          ]
        },
        {
          "output_type": "stream",
          "name": "stdout",
          "text": [
            "Epoch: 73, Train loss: 1.787, Val loss: 6.706, Epoch time = 0.375s\n"
          ]
        },
        {
          "output_type": "stream",
          "name": "stderr",
          "text": [
            "epoch 74, iter 0, losses 2.11, avg. loss 2.11\n"
          ]
        },
        {
          "output_type": "stream",
          "name": "stdout",
          "text": [
            "Epoch: 74, Train loss: 1.738, Val loss: 6.738, Epoch time = 0.378s\n"
          ]
        },
        {
          "output_type": "stream",
          "name": "stderr",
          "text": [
            "epoch 75, iter 0, losses 2.09, avg. loss 2.09\n"
          ]
        },
        {
          "output_type": "stream",
          "name": "stdout",
          "text": [
            "Epoch: 75, Train loss: 1.719, Val loss: 6.769, Epoch time = 0.370s\n"
          ]
        },
        {
          "output_type": "stream",
          "name": "stderr",
          "text": [
            "epoch 76, iter 0, losses 2.02, avg. loss 2.02\n"
          ]
        },
        {
          "output_type": "stream",
          "name": "stdout",
          "text": [
            "Epoch: 76, Train loss: 1.656, Val loss: 6.722, Epoch time = 0.378s\n"
          ]
        },
        {
          "output_type": "stream",
          "name": "stderr",
          "text": [
            "epoch 77, iter 0, losses 1.99, avg. loss 1.99\n"
          ]
        },
        {
          "output_type": "stream",
          "name": "stdout",
          "text": [
            "Epoch: 77, Train loss: 1.621, Val loss: 6.760, Epoch time = 0.382s\n"
          ]
        },
        {
          "output_type": "stream",
          "name": "stderr",
          "text": [
            "epoch 78, iter 0, losses 1.94, avg. loss 1.94\n"
          ]
        },
        {
          "output_type": "stream",
          "name": "stdout",
          "text": [
            "Epoch: 78, Train loss: 1.578, Val loss: 6.745, Epoch time = 0.383s\n"
          ]
        },
        {
          "output_type": "stream",
          "name": "stderr",
          "text": [
            "epoch 79, iter 0, losses 1.90, avg. loss 1.90\n"
          ]
        },
        {
          "output_type": "stream",
          "name": "stdout",
          "text": [
            "Epoch: 79, Train loss: 1.538, Val loss: 6.761, Epoch time = 0.387s\n"
          ]
        },
        {
          "output_type": "stream",
          "name": "stderr",
          "text": [
            "epoch 80, iter 0, losses 1.86, avg. loss 1.86\n"
          ]
        },
        {
          "output_type": "stream",
          "name": "stdout",
          "text": [
            "Epoch: 80, Train loss: 1.494, Val loss: 6.773, Epoch time = 0.398s\n"
          ]
        },
        {
          "output_type": "stream",
          "name": "stderr",
          "text": [
            "epoch 81, iter 0, losses 1.82, avg. loss 1.82\n"
          ]
        },
        {
          "output_type": "stream",
          "name": "stdout",
          "text": [
            "Epoch: 81, Train loss: 1.469, Val loss: 6.785, Epoch time = 0.378s\n"
          ]
        },
        {
          "output_type": "stream",
          "name": "stderr",
          "text": [
            "epoch 82, iter 0, losses 1.78, avg. loss 1.78\n"
          ]
        },
        {
          "output_type": "stream",
          "name": "stdout",
          "text": [
            "Epoch: 82, Train loss: 1.423, Val loss: 6.797, Epoch time = 0.379s\n"
          ]
        },
        {
          "output_type": "stream",
          "name": "stderr",
          "text": [
            "epoch 83, iter 0, losses 1.73, avg. loss 1.73\n"
          ]
        },
        {
          "output_type": "stream",
          "name": "stdout",
          "text": [
            "Epoch: 83, Train loss: 1.370, Val loss: 6.804, Epoch time = 0.372s\n"
          ]
        },
        {
          "output_type": "stream",
          "name": "stderr",
          "text": [
            "epoch 84, iter 0, losses 1.69, avg. loss 1.69\n"
          ]
        },
        {
          "output_type": "stream",
          "name": "stdout",
          "text": [
            "Epoch: 84, Train loss: 1.341, Val loss: 6.811, Epoch time = 0.373s\n"
          ]
        },
        {
          "output_type": "stream",
          "name": "stderr",
          "text": [
            "epoch 85, iter 0, losses 1.65, avg. loss 1.65\n"
          ]
        },
        {
          "output_type": "stream",
          "name": "stdout",
          "text": [
            "Epoch: 85, Train loss: 1.302, Val loss: 6.828, Epoch time = 0.372s\n"
          ]
        },
        {
          "output_type": "stream",
          "name": "stderr",
          "text": [
            "epoch 86, iter 0, losses 1.60, avg. loss 1.60\n"
          ]
        },
        {
          "output_type": "stream",
          "name": "stdout",
          "text": [
            "Epoch: 86, Train loss: 1.253, Val loss: 6.834, Epoch time = 0.373s\n"
          ]
        },
        {
          "output_type": "stream",
          "name": "stderr",
          "text": [
            "epoch 87, iter 0, losses 1.57, avg. loss 1.57\n"
          ]
        },
        {
          "output_type": "stream",
          "name": "stdout",
          "text": [
            "Epoch: 87, Train loss: 1.225, Val loss: 6.866, Epoch time = 0.372s\n"
          ]
        },
        {
          "output_type": "stream",
          "name": "stderr",
          "text": [
            "epoch 88, iter 0, losses 1.55, avg. loss 1.55\n"
          ]
        },
        {
          "output_type": "stream",
          "name": "stdout",
          "text": [
            "Epoch: 88, Train loss: 1.202, Val loss: 6.839, Epoch time = 0.374s\n"
          ]
        },
        {
          "output_type": "stream",
          "name": "stderr",
          "text": [
            "epoch 89, iter 0, losses 1.49, avg. loss 1.49\n"
          ]
        },
        {
          "output_type": "stream",
          "name": "stdout",
          "text": [
            "Epoch: 89, Train loss: 1.164, Val loss: 6.900, Epoch time = 0.371s\n"
          ]
        },
        {
          "output_type": "stream",
          "name": "stderr",
          "text": [
            "epoch 90, iter 0, losses 1.46, avg. loss 1.46\n"
          ]
        },
        {
          "output_type": "stream",
          "name": "stdout",
          "text": [
            "Epoch: 90, Train loss: 1.126, Val loss: 6.850, Epoch time = 0.371s\n"
          ]
        },
        {
          "output_type": "stream",
          "name": "stderr",
          "text": [
            "epoch 91, iter 0, losses 1.42, avg. loss 1.42\n"
          ]
        },
        {
          "output_type": "stream",
          "name": "stdout",
          "text": [
            "Epoch: 91, Train loss: 1.096, Val loss: 6.943, Epoch time = 0.375s\n"
          ]
        },
        {
          "output_type": "stream",
          "name": "stderr",
          "text": [
            "epoch 92, iter 0, losses 1.39, avg. loss 1.39\n"
          ]
        },
        {
          "output_type": "stream",
          "name": "stdout",
          "text": [
            "Epoch: 92, Train loss: 1.063, Val loss: 6.853, Epoch time = 0.375s\n"
          ]
        },
        {
          "output_type": "stream",
          "name": "stderr",
          "text": [
            "epoch 93, iter 0, losses 1.36, avg. loss 1.36\n"
          ]
        },
        {
          "output_type": "stream",
          "name": "stdout",
          "text": [
            "Epoch: 93, Train loss: 1.033, Val loss: 6.933, Epoch time = 0.375s\n"
          ]
        },
        {
          "output_type": "stream",
          "name": "stderr",
          "text": [
            "epoch 94, iter 0, losses 1.31, avg. loss 1.31\n"
          ]
        },
        {
          "output_type": "stream",
          "name": "stdout",
          "text": [
            "Epoch: 94, Train loss: 1.003, Val loss: 6.907, Epoch time = 0.375s\n"
          ]
        },
        {
          "output_type": "stream",
          "name": "stderr",
          "text": [
            "epoch 95, iter 0, losses 1.28, avg. loss 1.28\n"
          ]
        },
        {
          "output_type": "stream",
          "name": "stdout",
          "text": [
            "Epoch: 95, Train loss: 0.972, Val loss: 6.988, Epoch time = 0.373s\n"
          ]
        },
        {
          "output_type": "stream",
          "name": "stderr",
          "text": [
            "epoch 96, iter 0, losses 1.25, avg. loss 1.25\n"
          ]
        },
        {
          "output_type": "stream",
          "name": "stdout",
          "text": [
            "Epoch: 96, Train loss: 0.938, Val loss: 6.906, Epoch time = 0.376s\n"
          ]
        },
        {
          "output_type": "stream",
          "name": "stderr",
          "text": [
            "epoch 97, iter 0, losses 1.22, avg. loss 1.22\n"
          ]
        },
        {
          "output_type": "stream",
          "name": "stdout",
          "text": [
            "Epoch: 97, Train loss: 0.918, Val loss: 7.055, Epoch time = 0.375s\n"
          ]
        },
        {
          "output_type": "stream",
          "name": "stderr",
          "text": [
            "epoch 98, iter 0, losses 1.19, avg. loss 1.19\n"
          ]
        },
        {
          "output_type": "stream",
          "name": "stdout",
          "text": [
            "Epoch: 98, Train loss: 0.895, Val loss: 6.938, Epoch time = 0.378s\n"
          ]
        },
        {
          "output_type": "stream",
          "name": "stderr",
          "text": [
            "epoch 99, iter 0, losses 1.15, avg. loss 1.15\n"
          ]
        },
        {
          "output_type": "stream",
          "name": "stdout",
          "text": [
            "Epoch: 99, Train loss: 0.861, Val loss: 7.030, Epoch time = 0.379s\n"
          ]
        },
        {
          "output_type": "stream",
          "name": "stderr",
          "text": [
            "epoch 100, iter 0, losses 1.13, avg. loss 1.13\n"
          ]
        },
        {
          "output_type": "stream",
          "name": "stdout",
          "text": [
            "Epoch: 100, Train loss: 0.837, Val loss: 6.992, Epoch time = 0.381s\n"
          ]
        },
        {
          "output_type": "stream",
          "name": "stderr",
          "text": [
            "epoch 101, iter 0, losses 1.09, avg. loss 1.09\n"
          ]
        },
        {
          "output_type": "stream",
          "name": "stdout",
          "text": [
            "Epoch: 101, Train loss: 0.810, Val loss: 7.048, Epoch time = 0.380s\n"
          ]
        },
        {
          "output_type": "stream",
          "name": "stderr",
          "text": [
            "epoch 102, iter 0, losses 1.06, avg. loss 1.06\n"
          ]
        },
        {
          "output_type": "stream",
          "name": "stdout",
          "text": [
            "Epoch: 102, Train loss: 0.781, Val loss: 7.012, Epoch time = 0.388s\n"
          ]
        },
        {
          "output_type": "stream",
          "name": "stderr",
          "text": [
            "epoch 103, iter 0, losses 1.04, avg. loss 1.04\n"
          ]
        },
        {
          "output_type": "stream",
          "name": "stdout",
          "text": [
            "Epoch: 103, Train loss: 0.764, Val loss: 7.037, Epoch time = 0.378s\n"
          ]
        },
        {
          "output_type": "stream",
          "name": "stderr",
          "text": [
            "epoch 104, iter 0, losses 1.00, avg. loss 1.00\n"
          ]
        },
        {
          "output_type": "stream",
          "name": "stdout",
          "text": [
            "Epoch: 104, Train loss: 0.733, Val loss: 7.027, Epoch time = 0.379s\n"
          ]
        },
        {
          "output_type": "stream",
          "name": "stderr",
          "text": [
            "epoch 105, iter 0, losses 0.97, avg. loss 0.97\n"
          ]
        },
        {
          "output_type": "stream",
          "name": "stdout",
          "text": [
            "Epoch: 105, Train loss: 0.710, Val loss: 7.066, Epoch time = 0.375s\n"
          ]
        },
        {
          "output_type": "stream",
          "name": "stderr",
          "text": [
            "epoch 106, iter 0, losses 0.94, avg. loss 0.94\n"
          ]
        },
        {
          "output_type": "stream",
          "name": "stdout",
          "text": [
            "Epoch: 106, Train loss: 0.683, Val loss: 7.088, Epoch time = 0.369s\n"
          ]
        },
        {
          "output_type": "stream",
          "name": "stderr",
          "text": [
            "epoch 107, iter 0, losses 0.93, avg. loss 0.93\n"
          ]
        },
        {
          "output_type": "stream",
          "name": "stdout",
          "text": [
            "Epoch: 107, Train loss: 0.672, Val loss: 7.071, Epoch time = 0.376s\n"
          ]
        },
        {
          "output_type": "stream",
          "name": "stderr",
          "text": [
            "epoch 108, iter 0, losses 0.89, avg. loss 0.89\n"
          ]
        },
        {
          "output_type": "stream",
          "name": "stdout",
          "text": [
            "Epoch: 108, Train loss: 0.648, Val loss: 7.109, Epoch time = 0.370s\n"
          ]
        },
        {
          "output_type": "stream",
          "name": "stderr",
          "text": [
            "epoch 109, iter 0, losses 0.86, avg. loss 0.86\n"
          ]
        },
        {
          "output_type": "stream",
          "name": "stdout",
          "text": [
            "Epoch: 109, Train loss: 0.624, Val loss: 7.101, Epoch time = 0.371s\n"
          ]
        },
        {
          "output_type": "stream",
          "name": "stderr",
          "text": [
            "epoch 110, iter 0, losses 0.84, avg. loss 0.84\n"
          ]
        },
        {
          "output_type": "stream",
          "name": "stdout",
          "text": [
            "Epoch: 110, Train loss: 0.607, Val loss: 7.096, Epoch time = 0.375s\n"
          ]
        },
        {
          "output_type": "stream",
          "name": "stderr",
          "text": [
            "epoch 111, iter 0, losses 0.81, avg. loss 0.81\n"
          ]
        },
        {
          "output_type": "stream",
          "name": "stdout",
          "text": [
            "Epoch: 111, Train loss: 0.584, Val loss: 7.176, Epoch time = 0.374s\n"
          ]
        },
        {
          "output_type": "stream",
          "name": "stderr",
          "text": [
            "epoch 112, iter 0, losses 0.78, avg. loss 0.78\n"
          ]
        },
        {
          "output_type": "stream",
          "name": "stdout",
          "text": [
            "Epoch: 112, Train loss: 0.560, Val loss: 7.132, Epoch time = 0.372s\n"
          ]
        },
        {
          "output_type": "stream",
          "name": "stderr",
          "text": [
            "epoch 113, iter 0, losses 0.75, avg. loss 0.75\n"
          ]
        },
        {
          "output_type": "stream",
          "name": "stdout",
          "text": [
            "Epoch: 113, Train loss: 0.540, Val loss: 7.121, Epoch time = 0.376s\n"
          ]
        },
        {
          "output_type": "stream",
          "name": "stderr",
          "text": [
            "epoch 114, iter 0, losses 0.73, avg. loss 0.73\n"
          ]
        },
        {
          "output_type": "stream",
          "name": "stdout",
          "text": [
            "Epoch: 114, Train loss: 0.525, Val loss: 7.219, Epoch time = 0.373s\n"
          ]
        },
        {
          "output_type": "stream",
          "name": "stderr",
          "text": [
            "epoch 115, iter 0, losses 0.70, avg. loss 0.70\n"
          ]
        },
        {
          "output_type": "stream",
          "name": "stdout",
          "text": [
            "Epoch: 115, Train loss: 0.503, Val loss: 7.126, Epoch time = 0.374s\n"
          ]
        },
        {
          "output_type": "stream",
          "name": "stderr",
          "text": [
            "epoch 116, iter 0, losses 0.68, avg. loss 0.68\n"
          ]
        },
        {
          "output_type": "stream",
          "name": "stdout",
          "text": [
            "Epoch: 116, Train loss: 0.491, Val loss: 7.181, Epoch time = 0.374s\n"
          ]
        },
        {
          "output_type": "stream",
          "name": "stderr",
          "text": [
            "epoch 117, iter 0, losses 0.66, avg. loss 0.66\n"
          ]
        },
        {
          "output_type": "stream",
          "name": "stdout",
          "text": [
            "Epoch: 117, Train loss: 0.469, Val loss: 7.209, Epoch time = 0.373s\n"
          ]
        },
        {
          "output_type": "stream",
          "name": "stderr",
          "text": [
            "epoch 118, iter 0, losses 0.63, avg. loss 0.63\n"
          ]
        },
        {
          "output_type": "stream",
          "name": "stdout",
          "text": [
            "Epoch: 118, Train loss: 0.450, Val loss: 7.188, Epoch time = 0.376s\n"
          ]
        },
        {
          "output_type": "stream",
          "name": "stderr",
          "text": [
            "epoch 119, iter 0, losses 0.61, avg. loss 0.61\n"
          ]
        },
        {
          "output_type": "stream",
          "name": "stdout",
          "text": [
            "Epoch: 119, Train loss: 0.438, Val loss: 7.212, Epoch time = 0.374s\n"
          ]
        },
        {
          "output_type": "stream",
          "name": "stderr",
          "text": [
            "epoch 120, iter 0, losses 0.60, avg. loss 0.60\n"
          ]
        },
        {
          "output_type": "stream",
          "name": "stdout",
          "text": [
            "Epoch: 120, Train loss: 0.422, Val loss: 7.258, Epoch time = 0.374s\n"
          ]
        },
        {
          "output_type": "stream",
          "name": "stderr",
          "text": [
            "epoch 121, iter 0, losses 0.58, avg. loss 0.58\n"
          ]
        },
        {
          "output_type": "stream",
          "name": "stdout",
          "text": [
            "Epoch: 121, Train loss: 0.411, Val loss: 7.227, Epoch time = 0.383s\n"
          ]
        },
        {
          "output_type": "stream",
          "name": "stderr",
          "text": [
            "epoch 122, iter 0, losses 0.56, avg. loss 0.56\n"
          ]
        },
        {
          "output_type": "stream",
          "name": "stdout",
          "text": [
            "Epoch: 122, Train loss: 0.396, Val loss: 7.298, Epoch time = 0.377s\n"
          ]
        },
        {
          "output_type": "stream",
          "name": "stderr",
          "text": [
            "epoch 123, iter 0, losses 0.54, avg. loss 0.54\n"
          ]
        },
        {
          "output_type": "stream",
          "name": "stdout",
          "text": [
            "Epoch: 123, Train loss: 0.382, Val loss: 7.248, Epoch time = 0.385s\n"
          ]
        },
        {
          "output_type": "stream",
          "name": "stderr",
          "text": [
            "epoch 124, iter 0, losses 0.52, avg. loss 0.52\n"
          ]
        },
        {
          "output_type": "stream",
          "name": "stdout",
          "text": [
            "Epoch: 124, Train loss: 0.368, Val loss: 7.286, Epoch time = 0.390s\n"
          ]
        },
        {
          "output_type": "stream",
          "name": "stderr",
          "text": [
            "epoch 125, iter 0, losses 0.51, avg. loss 0.51\n"
          ]
        },
        {
          "output_type": "stream",
          "name": "stdout",
          "text": [
            "Epoch: 125, Train loss: 0.360, Val loss: 7.366, Epoch time = 0.381s\n"
          ]
        },
        {
          "output_type": "stream",
          "name": "stderr",
          "text": [
            "epoch 126, iter 0, losses 0.48, avg. loss 0.48\n"
          ]
        },
        {
          "output_type": "stream",
          "name": "stdout",
          "text": [
            "Epoch: 126, Train loss: 0.345, Val loss: 7.255, Epoch time = 0.384s\n"
          ]
        },
        {
          "output_type": "stream",
          "name": "stderr",
          "text": [
            "epoch 127, iter 0, losses 0.47, avg. loss 0.47\n"
          ]
        },
        {
          "output_type": "stream",
          "name": "stdout",
          "text": [
            "Epoch: 127, Train loss: 0.330, Val loss: 7.312, Epoch time = 0.373s\n"
          ]
        },
        {
          "output_type": "stream",
          "name": "stderr",
          "text": [
            "epoch 128, iter 0, losses 0.46, avg. loss 0.46\n"
          ]
        },
        {
          "output_type": "stream",
          "name": "stdout",
          "text": [
            "Epoch: 128, Train loss: 0.323, Val loss: 7.393, Epoch time = 0.380s\n"
          ]
        },
        {
          "output_type": "stream",
          "name": "stderr",
          "text": [
            "epoch 129, iter 0, losses 0.44, avg. loss 0.44\n"
          ]
        },
        {
          "output_type": "stream",
          "name": "stdout",
          "text": [
            "Epoch: 129, Train loss: 0.311, Val loss: 7.279, Epoch time = 0.384s\n"
          ]
        },
        {
          "output_type": "stream",
          "name": "stderr",
          "text": [
            "epoch 130, iter 0, losses 0.42, avg. loss 0.42\n"
          ]
        },
        {
          "output_type": "stream",
          "name": "stdout",
          "text": [
            "Epoch: 130, Train loss: 0.298, Val loss: 7.377, Epoch time = 0.378s\n"
          ]
        },
        {
          "output_type": "stream",
          "name": "stderr",
          "text": [
            "epoch 131, iter 0, losses 0.41, avg. loss 0.41\n"
          ]
        },
        {
          "output_type": "stream",
          "name": "stdout",
          "text": [
            "Epoch: 131, Train loss: 0.291, Val loss: 7.350, Epoch time = 0.382s\n"
          ]
        },
        {
          "output_type": "stream",
          "name": "stderr",
          "text": [
            "epoch 132, iter 0, losses 0.39, avg. loss 0.39\n"
          ]
        },
        {
          "output_type": "stream",
          "name": "stdout",
          "text": [
            "Epoch: 132, Train loss: 0.276, Val loss: 7.365, Epoch time = 0.375s\n"
          ]
        },
        {
          "output_type": "stream",
          "name": "stderr",
          "text": [
            "epoch 133, iter 0, losses 0.38, avg. loss 0.38\n"
          ]
        },
        {
          "output_type": "stream",
          "name": "stdout",
          "text": [
            "Epoch: 133, Train loss: 0.268, Val loss: 7.410, Epoch time = 0.377s\n"
          ]
        },
        {
          "output_type": "stream",
          "name": "stderr",
          "text": [
            "epoch 134, iter 0, losses 0.36, avg. loss 0.36\n"
          ]
        },
        {
          "output_type": "stream",
          "name": "stdout",
          "text": [
            "Epoch: 134, Train loss: 0.257, Val loss: 7.429, Epoch time = 0.376s\n"
          ]
        },
        {
          "output_type": "stream",
          "name": "stderr",
          "text": [
            "epoch 135, iter 0, losses 0.35, avg. loss 0.35\n"
          ]
        },
        {
          "output_type": "stream",
          "name": "stdout",
          "text": [
            "Epoch: 135, Train loss: 0.246, Val loss: 7.362, Epoch time = 0.383s\n"
          ]
        },
        {
          "output_type": "stream",
          "name": "stderr",
          "text": [
            "epoch 136, iter 0, losses 0.34, avg. loss 0.34\n"
          ]
        },
        {
          "output_type": "stream",
          "name": "stdout",
          "text": [
            "Epoch: 136, Train loss: 0.239, Val loss: 7.435, Epoch time = 0.378s\n"
          ]
        },
        {
          "output_type": "stream",
          "name": "stderr",
          "text": [
            "epoch 137, iter 0, losses 0.32, avg. loss 0.32\n"
          ]
        },
        {
          "output_type": "stream",
          "name": "stdout",
          "text": [
            "Epoch: 137, Train loss: 0.229, Val loss: 7.462, Epoch time = 0.380s\n"
          ]
        },
        {
          "output_type": "stream",
          "name": "stderr",
          "text": [
            "epoch 138, iter 0, losses 0.32, avg. loss 0.32\n"
          ]
        },
        {
          "output_type": "stream",
          "name": "stdout",
          "text": [
            "Epoch: 138, Train loss: 0.227, Val loss: 7.457, Epoch time = 0.379s\n"
          ]
        },
        {
          "output_type": "stream",
          "name": "stderr",
          "text": [
            "epoch 139, iter 0, losses 0.30, avg. loss 0.30\n"
          ]
        },
        {
          "output_type": "stream",
          "name": "stdout",
          "text": [
            "Epoch: 139, Train loss: 0.216, Val loss: 7.458, Epoch time = 0.381s\n"
          ]
        },
        {
          "output_type": "stream",
          "name": "stderr",
          "text": [
            "epoch 140, iter 0, losses 0.30, avg. loss 0.30\n"
          ]
        },
        {
          "output_type": "stream",
          "name": "stdout",
          "text": [
            "Epoch: 140, Train loss: 0.212, Val loss: 7.478, Epoch time = 0.375s\n"
          ]
        },
        {
          "output_type": "stream",
          "name": "stderr",
          "text": [
            "epoch 141, iter 0, losses 0.28, avg. loss 0.28\n"
          ]
        },
        {
          "output_type": "stream",
          "name": "stdout",
          "text": [
            "Epoch: 141, Train loss: 0.204, Val loss: 7.463, Epoch time = 0.379s\n"
          ]
        },
        {
          "output_type": "stream",
          "name": "stderr",
          "text": [
            "epoch 142, iter 0, losses 0.27, avg. loss 0.27\n"
          ]
        },
        {
          "output_type": "stream",
          "name": "stdout",
          "text": [
            "Epoch: 142, Train loss: 0.194, Val loss: 7.499, Epoch time = 0.376s\n"
          ]
        },
        {
          "output_type": "stream",
          "name": "stderr",
          "text": [
            "epoch 143, iter 0, losses 0.26, avg. loss 0.26\n"
          ]
        },
        {
          "output_type": "stream",
          "name": "stdout",
          "text": [
            "Epoch: 143, Train loss: 0.187, Val loss: 7.515, Epoch time = 0.388s\n"
          ]
        },
        {
          "output_type": "stream",
          "name": "stderr",
          "text": [
            "epoch 144, iter 0, losses 0.25, avg. loss 0.25\n"
          ]
        },
        {
          "output_type": "stream",
          "name": "stdout",
          "text": [
            "Epoch: 144, Train loss: 0.180, Val loss: 7.537, Epoch time = 0.385s\n"
          ]
        },
        {
          "output_type": "stream",
          "name": "stderr",
          "text": [
            "epoch 145, iter 0, losses 0.24, avg. loss 0.24\n"
          ]
        },
        {
          "output_type": "stream",
          "name": "stdout",
          "text": [
            "Epoch: 145, Train loss: 0.174, Val loss: 7.518, Epoch time = 0.400s\n"
          ]
        },
        {
          "output_type": "stream",
          "name": "stderr",
          "text": [
            "epoch 146, iter 0, losses 0.23, avg. loss 0.23\n"
          ]
        },
        {
          "output_type": "stream",
          "name": "stdout",
          "text": [
            "Epoch: 146, Train loss: 0.167, Val loss: 7.534, Epoch time = 0.389s\n"
          ]
        },
        {
          "output_type": "stream",
          "name": "stderr",
          "text": [
            "epoch 147, iter 0, losses 0.23, avg. loss 0.23\n"
          ]
        },
        {
          "output_type": "stream",
          "name": "stdout",
          "text": [
            "Epoch: 147, Train loss: 0.161, Val loss: 7.587, Epoch time = 0.391s\n"
          ]
        },
        {
          "output_type": "stream",
          "name": "stderr",
          "text": [
            "epoch 148, iter 0, losses 0.22, avg. loss 0.22\n"
          ]
        },
        {
          "output_type": "stream",
          "name": "stdout",
          "text": [
            "Epoch: 148, Train loss: 0.156, Val loss: 7.547, Epoch time = 0.380s\n"
          ]
        },
        {
          "output_type": "stream",
          "name": "stderr",
          "text": [
            "epoch 149, iter 0, losses 0.21, avg. loss 0.21\n"
          ]
        },
        {
          "output_type": "stream",
          "name": "stdout",
          "text": [
            "Epoch: 149, Train loss: 0.150, Val loss: 7.561, Epoch time = 0.384s\n"
          ]
        },
        {
          "output_type": "stream",
          "name": "stderr",
          "text": [
            "epoch 150, iter 0, losses 0.20, avg. loss 0.20\n"
          ]
        },
        {
          "output_type": "stream",
          "name": "stdout",
          "text": [
            "Epoch: 150, Train loss: 0.146, Val loss: 7.599, Epoch time = 0.377s\n"
          ]
        },
        {
          "output_type": "stream",
          "name": "stderr",
          "text": [
            "epoch 151, iter 0, losses 0.20, avg. loss 0.20\n"
          ]
        },
        {
          "output_type": "stream",
          "name": "stdout",
          "text": [
            "Epoch: 151, Train loss: 0.140, Val loss: 7.665, Epoch time = 0.380s\n"
          ]
        },
        {
          "output_type": "stream",
          "name": "stderr",
          "text": [
            "epoch 152, iter 0, losses 0.19, avg. loss 0.19\n"
          ]
        },
        {
          "output_type": "stream",
          "name": "stdout",
          "text": [
            "Epoch: 152, Train loss: 0.138, Val loss: 7.649, Epoch time = 0.376s\n"
          ]
        },
        {
          "output_type": "stream",
          "name": "stderr",
          "text": [
            "epoch 153, iter 0, losses 0.18, avg. loss 0.18\n"
          ]
        },
        {
          "output_type": "stream",
          "name": "stdout",
          "text": [
            "Epoch: 153, Train loss: 0.131, Val loss: 7.604, Epoch time = 0.387s\n"
          ]
        },
        {
          "output_type": "stream",
          "name": "stderr",
          "text": [
            "epoch 154, iter 0, losses 0.18, avg. loss 0.18\n"
          ]
        },
        {
          "output_type": "stream",
          "name": "stdout",
          "text": [
            "Epoch: 154, Train loss: 0.128, Val loss: 7.612, Epoch time = 0.381s\n"
          ]
        },
        {
          "output_type": "stream",
          "name": "stderr",
          "text": [
            "epoch 155, iter 0, losses 0.17, avg. loss 0.17\n"
          ]
        },
        {
          "output_type": "stream",
          "name": "stdout",
          "text": [
            "Epoch: 155, Train loss: 0.126, Val loss: 7.657, Epoch time = 0.379s\n"
          ]
        },
        {
          "output_type": "stream",
          "name": "stderr",
          "text": [
            "epoch 156, iter 0, losses 0.16, avg. loss 0.16\n"
          ]
        },
        {
          "output_type": "stream",
          "name": "stdout",
          "text": [
            "Epoch: 156, Train loss: 0.119, Val loss: 7.643, Epoch time = 0.389s\n"
          ]
        },
        {
          "output_type": "stream",
          "name": "stderr",
          "text": [
            "epoch 157, iter 0, losses 0.16, avg. loss 0.16\n"
          ]
        },
        {
          "output_type": "stream",
          "name": "stdout",
          "text": [
            "Epoch: 157, Train loss: 0.116, Val loss: 7.661, Epoch time = 0.381s\n"
          ]
        },
        {
          "output_type": "stream",
          "name": "stderr",
          "text": [
            "epoch 158, iter 0, losses 0.16, avg. loss 0.16\n"
          ]
        },
        {
          "output_type": "stream",
          "name": "stdout",
          "text": [
            "Epoch: 158, Train loss: 0.112, Val loss: 7.707, Epoch time = 0.385s\n"
          ]
        },
        {
          "output_type": "stream",
          "name": "stderr",
          "text": [
            "epoch 159, iter 0, losses 0.15, avg. loss 0.15\n"
          ]
        },
        {
          "output_type": "stream",
          "name": "stdout",
          "text": [
            "Epoch: 159, Train loss: 0.109, Val loss: 7.677, Epoch time = 0.381s\n"
          ]
        },
        {
          "output_type": "stream",
          "name": "stderr",
          "text": [
            "epoch 160, iter 0, losses 0.14, avg. loss 0.14\n"
          ]
        },
        {
          "output_type": "stream",
          "name": "stdout",
          "text": [
            "Epoch: 160, Train loss: 0.106, Val loss: 7.676, Epoch time = 0.383s\n"
          ]
        },
        {
          "output_type": "stream",
          "name": "stderr",
          "text": [
            "epoch 161, iter 0, losses 0.14, avg. loss 0.14\n"
          ]
        },
        {
          "output_type": "stream",
          "name": "stdout",
          "text": [
            "Epoch: 161, Train loss: 0.105, Val loss: 7.686, Epoch time = 0.383s\n"
          ]
        },
        {
          "output_type": "stream",
          "name": "stderr",
          "text": [
            "epoch 162, iter 0, losses 0.14, avg. loss 0.14\n"
          ]
        },
        {
          "output_type": "stream",
          "name": "stdout",
          "text": [
            "Epoch: 162, Train loss: 0.099, Val loss: 7.723, Epoch time = 0.384s\n"
          ]
        },
        {
          "output_type": "stream",
          "name": "stderr",
          "text": [
            "epoch 163, iter 0, losses 0.13, avg. loss 0.13\n"
          ]
        },
        {
          "output_type": "stream",
          "name": "stdout",
          "text": [
            "Epoch: 163, Train loss: 0.093, Val loss: 7.754, Epoch time = 0.386s\n"
          ]
        },
        {
          "output_type": "stream",
          "name": "stderr",
          "text": [
            "epoch 164, iter 0, losses 0.13, avg. loss 0.13\n"
          ]
        },
        {
          "output_type": "stream",
          "name": "stdout",
          "text": [
            "Epoch: 164, Train loss: 0.092, Val loss: 7.758, Epoch time = 0.393s\n"
          ]
        },
        {
          "output_type": "stream",
          "name": "stderr",
          "text": [
            "epoch 165, iter 0, losses 0.12, avg. loss 0.12\n"
          ]
        },
        {
          "output_type": "stream",
          "name": "stdout",
          "text": [
            "Epoch: 165, Train loss: 0.089, Val loss: 7.742, Epoch time = 0.389s\n"
          ]
        },
        {
          "output_type": "stream",
          "name": "stderr",
          "text": [
            "epoch 166, iter 0, losses 0.12, avg. loss 0.12\n"
          ]
        },
        {
          "output_type": "stream",
          "name": "stdout",
          "text": [
            "Epoch: 166, Train loss: 0.088, Val loss: 7.748, Epoch time = 0.391s\n"
          ]
        },
        {
          "output_type": "stream",
          "name": "stderr",
          "text": [
            "epoch 167, iter 0, losses 0.12, avg. loss 0.12\n"
          ]
        },
        {
          "output_type": "stream",
          "name": "stdout",
          "text": [
            "Epoch: 167, Train loss: 0.087, Val loss: 7.721, Epoch time = 0.403s\n"
          ]
        },
        {
          "output_type": "stream",
          "name": "stderr",
          "text": [
            "epoch 168, iter 0, losses 0.11, avg. loss 0.11\n"
          ]
        },
        {
          "output_type": "stream",
          "name": "stdout",
          "text": [
            "Epoch: 168, Train loss: 0.082, Val loss: 7.762, Epoch time = 0.389s\n"
          ]
        },
        {
          "output_type": "stream",
          "name": "stderr",
          "text": [
            "epoch 169, iter 0, losses 0.11, avg. loss 0.11\n"
          ]
        },
        {
          "output_type": "stream",
          "name": "stdout",
          "text": [
            "Epoch: 169, Train loss: 0.079, Val loss: 7.785, Epoch time = 0.388s\n"
          ]
        },
        {
          "output_type": "stream",
          "name": "stderr",
          "text": [
            "epoch 170, iter 0, losses 0.11, avg. loss 0.11\n"
          ]
        },
        {
          "output_type": "stream",
          "name": "stdout",
          "text": [
            "Epoch: 170, Train loss: 0.078, Val loss: 7.739, Epoch time = 0.381s\n"
          ]
        },
        {
          "output_type": "stream",
          "name": "stderr",
          "text": [
            "epoch 171, iter 0, losses 0.10, avg. loss 0.10\n"
          ]
        },
        {
          "output_type": "stream",
          "name": "stdout",
          "text": [
            "Epoch: 171, Train loss: 0.073, Val loss: 7.790, Epoch time = 0.384s\n"
          ]
        },
        {
          "output_type": "stream",
          "name": "stderr",
          "text": [
            "epoch 172, iter 0, losses 0.10, avg. loss 0.10\n"
          ]
        },
        {
          "output_type": "stream",
          "name": "stdout",
          "text": [
            "Epoch: 172, Train loss: 0.073, Val loss: 7.859, Epoch time = 0.380s\n"
          ]
        },
        {
          "output_type": "stream",
          "name": "stderr",
          "text": [
            "epoch 173, iter 0, losses 0.10, avg. loss 0.10\n"
          ]
        },
        {
          "output_type": "stream",
          "name": "stdout",
          "text": [
            "Epoch: 173, Train loss: 0.070, Val loss: 7.844, Epoch time = 0.378s\n"
          ]
        },
        {
          "output_type": "stream",
          "name": "stderr",
          "text": [
            "epoch 174, iter 0, losses 0.09, avg. loss 0.09\n"
          ]
        },
        {
          "output_type": "stream",
          "name": "stdout",
          "text": [
            "Epoch: 174, Train loss: 0.066, Val loss: 7.814, Epoch time = 0.384s\n"
          ]
        },
        {
          "output_type": "stream",
          "name": "stderr",
          "text": [
            "epoch 175, iter 0, losses 0.09, avg. loss 0.09\n"
          ]
        },
        {
          "output_type": "stream",
          "name": "stdout",
          "text": [
            "Epoch: 175, Train loss: 0.066, Val loss: 7.823, Epoch time = 0.383s\n"
          ]
        },
        {
          "output_type": "stream",
          "name": "stderr",
          "text": [
            "epoch 176, iter 0, losses 0.09, avg. loss 0.09\n"
          ]
        },
        {
          "output_type": "stream",
          "name": "stdout",
          "text": [
            "Epoch: 176, Train loss: 0.063, Val loss: 7.878, Epoch time = 0.384s\n"
          ]
        },
        {
          "output_type": "stream",
          "name": "stderr",
          "text": [
            "epoch 177, iter 0, losses 0.08, avg. loss 0.08\n"
          ]
        },
        {
          "output_type": "stream",
          "name": "stdout",
          "text": [
            "Epoch: 177, Train loss: 0.061, Val loss: 7.883, Epoch time = 0.383s\n"
          ]
        },
        {
          "output_type": "stream",
          "name": "stderr",
          "text": [
            "epoch 178, iter 0, losses 0.08, avg. loss 0.08\n"
          ]
        },
        {
          "output_type": "stream",
          "name": "stdout",
          "text": [
            "Epoch: 178, Train loss: 0.059, Val loss: 7.890, Epoch time = 0.388s\n"
          ]
        },
        {
          "output_type": "stream",
          "name": "stderr",
          "text": [
            "epoch 179, iter 0, losses 0.08, avg. loss 0.08\n"
          ]
        },
        {
          "output_type": "stream",
          "name": "stdout",
          "text": [
            "Epoch: 179, Train loss: 0.057, Val loss: 7.910, Epoch time = 0.387s\n"
          ]
        },
        {
          "output_type": "stream",
          "name": "stderr",
          "text": [
            "epoch 180, iter 0, losses 0.08, avg. loss 0.08\n"
          ]
        },
        {
          "output_type": "stream",
          "name": "stdout",
          "text": [
            "Epoch: 180, Train loss: 0.057, Val loss: 7.886, Epoch time = 0.384s\n"
          ]
        },
        {
          "output_type": "stream",
          "name": "stderr",
          "text": [
            "epoch 181, iter 0, losses 0.07, avg. loss 0.07\n"
          ]
        },
        {
          "output_type": "stream",
          "name": "stdout",
          "text": [
            "Epoch: 181, Train loss: 0.055, Val loss: 7.871, Epoch time = 0.379s\n"
          ]
        },
        {
          "output_type": "stream",
          "name": "stderr",
          "text": [
            "epoch 182, iter 0, losses 0.07, avg. loss 0.07\n"
          ]
        },
        {
          "output_type": "stream",
          "name": "stdout",
          "text": [
            "Epoch: 182, Train loss: 0.052, Val loss: 7.949, Epoch time = 0.383s\n"
          ]
        },
        {
          "output_type": "stream",
          "name": "stderr",
          "text": [
            "epoch 183, iter 0, losses 0.07, avg. loss 0.07\n"
          ]
        },
        {
          "output_type": "stream",
          "name": "stdout",
          "text": [
            "Epoch: 183, Train loss: 0.051, Val loss: 8.007, Epoch time = 0.385s\n"
          ]
        },
        {
          "output_type": "stream",
          "name": "stderr",
          "text": [
            "epoch 184, iter 0, losses 0.07, avg. loss 0.07\n"
          ]
        },
        {
          "output_type": "stream",
          "name": "stdout",
          "text": [
            "Epoch: 184, Train loss: 0.048, Val loss: 7.909, Epoch time = 0.387s\n"
          ]
        },
        {
          "output_type": "stream",
          "name": "stderr",
          "text": [
            "epoch 185, iter 0, losses 0.07, avg. loss 0.07\n"
          ]
        },
        {
          "output_type": "stream",
          "name": "stdout",
          "text": [
            "Epoch: 185, Train loss: 0.051, Val loss: 7.922, Epoch time = 0.401s\n"
          ]
        },
        {
          "output_type": "stream",
          "name": "stderr",
          "text": [
            "epoch 186, iter 0, losses 0.07, avg. loss 0.07\n"
          ]
        },
        {
          "output_type": "stream",
          "name": "stdout",
          "text": [
            "Epoch: 186, Train loss: 0.049, Val loss: 7.960, Epoch time = 0.388s\n"
          ]
        },
        {
          "output_type": "stream",
          "name": "stderr",
          "text": [
            "epoch 187, iter 0, losses 0.06, avg. loss 0.06\n"
          ]
        },
        {
          "output_type": "stream",
          "name": "stdout",
          "text": [
            "Epoch: 187, Train loss: 0.046, Val loss: 7.966, Epoch time = 0.396s\n"
          ]
        },
        {
          "output_type": "stream",
          "name": "stderr",
          "text": [
            "epoch 188, iter 0, losses 0.06, avg. loss 0.06\n"
          ]
        },
        {
          "output_type": "stream",
          "name": "stdout",
          "text": [
            "Epoch: 188, Train loss: 0.044, Val loss: 7.933, Epoch time = 0.402s\n"
          ]
        },
        {
          "output_type": "stream",
          "name": "stderr",
          "text": [
            "epoch 189, iter 0, losses 0.06, avg. loss 0.06\n"
          ]
        },
        {
          "output_type": "stream",
          "name": "stdout",
          "text": [
            "Epoch: 189, Train loss: 0.044, Val loss: 7.959, Epoch time = 0.395s\n"
          ]
        },
        {
          "output_type": "stream",
          "name": "stderr",
          "text": [
            "epoch 190, iter 0, losses 0.06, avg. loss 0.06\n"
          ]
        },
        {
          "output_type": "stream",
          "name": "stdout",
          "text": [
            "Epoch: 190, Train loss: 0.044, Val loss: 8.011, Epoch time = 0.389s\n"
          ]
        },
        {
          "output_type": "stream",
          "name": "stderr",
          "text": [
            "epoch 191, iter 0, losses 0.06, avg. loss 0.06\n"
          ]
        },
        {
          "output_type": "stream",
          "name": "stdout",
          "text": [
            "Epoch: 191, Train loss: 0.042, Val loss: 7.978, Epoch time = 0.389s\n"
          ]
        },
        {
          "output_type": "stream",
          "name": "stderr",
          "text": [
            "epoch 192, iter 0, losses 0.05, avg. loss 0.05\n"
          ]
        },
        {
          "output_type": "stream",
          "name": "stdout",
          "text": [
            "Epoch: 192, Train loss: 0.040, Val loss: 7.976, Epoch time = 0.386s\n"
          ]
        },
        {
          "output_type": "stream",
          "name": "stderr",
          "text": [
            "epoch 193, iter 0, losses 0.05, avg. loss 0.05\n"
          ]
        },
        {
          "output_type": "stream",
          "name": "stdout",
          "text": [
            "Epoch: 193, Train loss: 0.039, Val loss: 8.007, Epoch time = 0.382s\n"
          ]
        },
        {
          "output_type": "stream",
          "name": "stderr",
          "text": [
            "epoch 194, iter 0, losses 0.05, avg. loss 0.05\n"
          ]
        },
        {
          "output_type": "stream",
          "name": "stdout",
          "text": [
            "Epoch: 194, Train loss: 0.038, Val loss: 8.076, Epoch time = 0.382s\n"
          ]
        },
        {
          "output_type": "stream",
          "name": "stderr",
          "text": [
            "epoch 195, iter 0, losses 0.05, avg. loss 0.05\n"
          ]
        },
        {
          "output_type": "stream",
          "name": "stdout",
          "text": [
            "Epoch: 195, Train loss: 0.038, Val loss: 7.991, Epoch time = 0.382s\n"
          ]
        },
        {
          "output_type": "stream",
          "name": "stderr",
          "text": [
            "epoch 196, iter 0, losses 0.05, avg. loss 0.05\n"
          ]
        },
        {
          "output_type": "stream",
          "name": "stdout",
          "text": [
            "Epoch: 196, Train loss: 0.038, Val loss: 7.955, Epoch time = 0.387s\n"
          ]
        },
        {
          "output_type": "stream",
          "name": "stderr",
          "text": [
            "epoch 197, iter 0, losses 0.05, avg. loss 0.05\n"
          ]
        },
        {
          "output_type": "stream",
          "name": "stdout",
          "text": [
            "Epoch: 197, Train loss: 0.038, Val loss: 8.017, Epoch time = 0.386s\n"
          ]
        },
        {
          "output_type": "stream",
          "name": "stderr",
          "text": [
            "epoch 198, iter 0, losses 0.05, avg. loss 0.05\n"
          ]
        },
        {
          "output_type": "stream",
          "name": "stdout",
          "text": [
            "Epoch: 198, Train loss: 0.035, Val loss: 8.034, Epoch time = 0.383s\n"
          ]
        },
        {
          "output_type": "stream",
          "name": "stderr",
          "text": [
            "epoch 199, iter 0, losses 0.05, avg. loss 0.05\n"
          ]
        },
        {
          "output_type": "stream",
          "name": "stdout",
          "text": [
            "Epoch: 199, Train loss: 0.034, Val loss: 8.012, Epoch time = 0.385s\n"
          ]
        }
      ]
    },
    {
      "cell_type": "markdown",
      "source": [
        "## Testing the model"
      ],
      "metadata": {
        "id": "TiVrxI2tasTR"
      }
    },
    {
      "cell_type": "markdown",
      "source": [
        "Greedy Decoding: At each step, pick the most probable token.\n",
        "\n",
        "The straightforward decoding strategy is greedy - at each step, generate a token with the highest probability. This can be a good baseline to test our model, but this method is inherently flawed: the best token at the current step does not necessarily lead to the best sequence."
      ],
      "metadata": {
        "id": "rhLRKX6vccix"
      }
    },
    {
      "cell_type": "markdown",
      "source": [
        "## Q10: (5 points) Greedy Decoding\n",
        "Implement the `greedy_decode` function  to initialize the\n",
        "necessary module for our TransformerNMT model."
      ],
      "metadata": {
        "id": "adbc1m3Ec9aj"
      }
    },
    {
      "cell_type": "code",
      "source": [
        "# function to generate output sequence using greedy algorithm\n",
        "def greedy_decode(model, src, src_mask, max_len, start_symbol):\n",
        "    \"\"\" Generates a sequence using greedy decoding based on the given model.\n",
        "    @param model (torch.nn.Module): The transformer model used for decoding.\n",
        "    @param src (torch.Tensor): The source sequence tensor.\n",
        "    @param src_mask (torch.Tensor): The mask for the source sequence.\n",
        "    @param max_len (int): The maximum length of the generated sequence.\n",
        "    @param start_symbol (int): The starting symbol for the decoding process.\n",
        "\n",
        "    @returns: torch.Tensor: The generated sequence tensor.\n",
        "\n",
        "    Note:\n",
        "        The decoding process is performed using greedy decoding, where at each step,\n",
        "        the model predicts the next word in the sequence based on the highest probability.\n",
        "    \"\"\"\n",
        "\n",
        "    src = src.to(DEVICE) # (src_seq_len, 1)\n",
        "    src_mask = src_mask.to(DEVICE) # (src_seg_len, src_seg_len)\n",
        "\n",
        "    ys = torch.ones(1, 1).fill_(start_symbol).type(torch.long).to(DEVICE) # (tgt_seg_len, 1)\n",
        "    # YOUR CODE HERE\n",
        "    memory = model.encode(src, src_mask)\n",
        "\n",
        "    for i in range(max_len-1):\n",
        "        memory = memory.to(DEVICE)\n",
        "        tgt_mask = (generate_square_subsequent_mask(ys.size(0))\n",
        "                    .type(torch.bool)).to(DEVICE)\n",
        "        out = model.decode(ys, memory, tgt_mask)\n",
        "        out = out.transpose(0, 1)\n",
        "        prob = model.target_vocab_projection(out[:, -1])\n",
        "        _, next_word = torch.max(prob, dim=1)\n",
        "        next_word = next_word.item()\n",
        "\n",
        "        ys = torch.cat([ys,\n",
        "                        torch.ones(1, 1).type_as(src.data).fill_(next_word)], dim=0)\n",
        "        if next_word == EOS_IDX:\n",
        "            break\n",
        "\n",
        "    # END YOUR CODE\n",
        "    return ys\n",
        "\n",
        "\n",
        "# actual function to translate input sentence into target language\n",
        "def translate(model: torch.nn.Module, src_sentence: str):\n",
        "    model.eval()\n",
        "    src = text_transform[SRC_LANGUAGE](src_sentence).view(-1, 1)\n",
        "    num_tokens = src.shape[0]\n",
        "    src_mask = (torch.zeros(num_tokens, num_tokens)).type(torch.bool)\n",
        "    tgt_tokens = greedy_decode(\n",
        "        model,  src, src_mask, max_len=num_tokens + 20, start_symbol=BOS_IDX).flatten()\n",
        "    return \" \".join(vocab.tgt.indices2words(list(tgt_tokens.cpu().numpy()))).replace(\"<s>\", \"\").replace(\"</s>\", \"\")"
      ],
      "metadata": {
        "id": "G1wBX52xaaeq"
      },
      "execution_count": null,
      "outputs": []
    },
    {
      "cell_type": "code",
      "source": [
        "# @title Testing on training set\n",
        "num_logs = 5\n",
        "if (num_logs > len(train_data_small)):\n",
        "  num_logs = len(train_data_small)\n",
        "\n",
        "for i in range(num_logs):\n",
        "  src_sentence, tgt_sentence = train_data_small[i]\n",
        "  translation = translate(transformer, src_sentence)\n",
        "  print(f\"Sample {i}:\")\n",
        "  print(\"Source: \" + \" \".join(src_sentence))\n",
        "  print(\"Reference: \" + \" \".join(tgt_sentence).replace(\"<s>\", \"\").replace(\"</s>\", \"\"))\n",
        "  print(\"Translation: \" + translation)\n",
        "  print('\\n')"
      ],
      "metadata": {
        "colab": {
          "base_uri": "https://localhost:8080/"
        },
        "id": "ggy9A0qBdfmL",
        "outputId": "1a854f65-3f2b-475a-9b20-0105c42f189a"
      },
      "execution_count": null,
      "outputs": [
        {
          "output_type": "stream",
          "name": "stdout",
          "text": [
            "Sample 0:\n",
            "Source: ▁Khoa ▁học ▁đ ằng ▁sau ▁một ▁tiêu ▁đề ▁về ▁khí ▁hậu\n",
            "Reference:  ▁Rachel ▁P ike ▁ : ▁The ▁science ▁ behind ▁a ▁climate ▁headline \n",
            "Translation:   ▁Rachel ▁P ike ▁ : ▁The ▁science ▁ behind ▁a ▁climate ▁headline \n",
            "\n",
            "\n",
            "Sample 1:\n",
            "Source: ▁Tro ng ▁4 ▁phút ▁, ▁chuyên ▁gia ▁hoá ▁học ▁khí ▁quyển ▁Rachel ▁P ike ▁giới ▁t hiệu ▁sơ ▁lược ▁về ▁những ▁nỗ ▁lực ▁khoa ▁học ▁m iệt ▁mà i ▁đ ằng ▁sau ▁những ▁tiêu ▁đề ▁táo ▁bạo ▁về ▁biến ▁đổi ▁khí ▁hậu ▁, ▁cùng ▁với ▁đoàn ▁nghiên ▁cứu ▁của ▁mình ▁-- ▁hàng ▁ngàn ▁người ▁đã ▁cố ng ▁ hiến ▁cho ▁dự ▁án ▁này ▁-- ▁một ▁chuyến ▁bay ▁mạo ▁hiểm ▁qua ▁rừng ▁già ▁để ▁tìm ▁kiếm ▁thông ▁tin ▁về ▁một ▁phân ▁tử ▁the n ▁chố t ▁.\n",
            "Reference:  ▁In ▁4 ▁minutes ▁ , ▁atmospher ic ▁chemist ▁Rachel ▁P ike ▁provide s ▁a ▁glimpse ▁of ▁the ▁massive ▁scientific ▁effort ▁ behind ▁the ▁bold ▁headline s ▁on ▁climate ▁change ▁ , ▁with ▁her ▁team ▁-- ▁one ▁of ▁ thousands ▁who ▁contribute d ▁-- ▁ taking ▁a ▁risk y ▁flight ▁over ▁the ▁rainforest ▁in ▁pursuit ▁of ▁data ▁on ▁a ▁key ▁molecule ▁. \n",
            "Translation:   ▁In ▁4 ▁minutes ▁ , ▁atmospher ic ▁chemist ▁Rachel ▁P ike ▁provide s ▁a ▁glimpse ▁of ▁the ▁massive ▁scientific ▁effort ▁ behind ▁the ▁bold ▁headline s ▁on ▁climate ▁change ▁ , ▁with ▁her ▁team ▁-- ▁one ▁of ▁ thousands ▁who ▁contribute d ▁-- ▁ taking ▁a ▁risk y ▁flight ▁over ▁the ▁rainforest ▁in ▁pursuit ▁of ▁data ▁on ▁a ▁key ▁molecule ▁. \n",
            "\n",
            "\n",
            "Sample 2:\n",
            "Source: ▁Tôi ▁muốn ▁cho ▁các ▁bạn ▁biết ▁về ▁sự ▁to ▁lớn ▁của ▁những ▁nỗ ▁lực ▁khoa ▁học ▁đã ▁góp ▁phần ▁làm ▁nên ▁các ▁dò ng ▁tí t ▁bạn ▁thường ▁thấy ▁trên ▁báo ▁.\n",
            "Reference:  ▁I ▁& apos ; d ▁like ▁to ▁talk ▁to ▁you ▁to day ▁about ▁the ▁scale ▁of ▁the ▁scientific ▁effort ▁that ▁go es ▁into ▁ making ▁the ▁headline s ▁you ▁see ▁in ▁the ▁paper ▁. \n",
            "Translation:   ▁I ▁& apos ; d ▁like ▁to ▁talk ▁to ▁you ▁to day ▁about ▁the ▁scale ▁of ▁the ▁scientific ▁effort ▁that ▁go es ▁into ▁ making ▁the ▁headline s ▁you ▁see ▁in ▁the ▁paper ▁. \n",
            "\n",
            "\n",
            "Sample 3:\n",
            "Source: ▁Có ▁những ▁dò ng ▁tr ông ▁như ▁thế ▁này ▁khi ▁bàn ▁về ▁biến ▁đổi ▁khí ▁hậu ▁, ▁và ▁như ▁thế ▁này ▁khi ▁nói ▁về ▁chất ▁lượng ▁không ▁khí ▁hay ▁khói ▁bụ i ▁.\n",
            "Reference:  ▁Head lines ▁that ▁look ▁like ▁ this ▁when ▁the y ▁have ▁to ▁do ▁with ▁climate ▁change ▁ , ▁and ▁headline s ▁that ▁look ▁like ▁ this ▁when ▁the y ▁have ▁to ▁do ▁with ▁air ▁quality ▁or ▁smog ▁. \n",
            "Translation:   ▁Head lines ▁that ▁look ▁like ▁ this ▁when ▁the y ▁have ▁to ▁do ▁with ▁climate ▁change ▁ , ▁and ▁headline s ▁that ▁look ▁like ▁ this ▁when ▁the y ▁have ▁to ▁do ▁with ▁air ▁quality ▁or ▁smog ▁. \n",
            "\n",
            "\n",
            "Sample 4:\n",
            "Source: ▁Cả ▁hai ▁đều ▁là ▁một ▁nh ánh ▁của ▁cùng ▁một ▁lĩnh ▁vực ▁trong ▁ngành ▁khoa ▁học ▁khí ▁quyển ▁.\n",
            "Reference:  ▁The y ▁are ▁both ▁two ▁branche s ▁of ▁the ▁same ▁field ▁of ▁atmospher ic ▁science ▁. \n",
            "Translation:   ▁The y ▁are ▁both ▁two ▁branche s ▁of ▁the ▁same ▁field ▁of ▁atmospher ic ▁science ▁. \n",
            "\n",
            "\n"
          ]
        }
      ]
    },
    {
      "cell_type": "code",
      "source": [
        "# @title Testing on evaluate set\n",
        "num_logs = 5\n",
        "if (num_logs > len(dev_data_small)):\n",
        "  num_logs = len(dev_data_small)\n",
        "\n",
        "for i in range(num_logs):\n",
        "  src_sentence, tgt_sentence = dev_data_small[i]\n",
        "  translation = translate(transformer, src_sentence)\n",
        "  print(f\"Sample {i}:\")\n",
        "  print(\"Source: \" + \" \".join(src_sentence))\n",
        "  print(\"Reference: \" + \" \".join(tgt_sentence).replace(\"<s>\", \"\").replace(\"</s>\", \"\"))\n",
        "  print(\"Translation: \" + translation)\n",
        "  print('\\n')"
      ],
      "metadata": {
        "colab": {
          "base_uri": "https://localhost:8080/"
        },
        "id": "MTTotHLSdf82",
        "outputId": "c7200428-509c-429b-f879-9199d29d4e0e"
      },
      "execution_count": null,
      "outputs": [
        {
          "output_type": "stream",
          "name": "stdout",
          "text": [
            "Sample 0:\n",
            "Source: ▁Là m ▁sao ▁tôi ▁có ▁thể ▁trình ▁bày ▁trong ▁10 ▁phút ▁về ▁sợ i ▁dây ▁liên ▁kết ▁những ▁người ▁phụ ▁nữ ▁qua ▁ba ▁thế ▁hệ ▁, ▁về ▁việc ▁làm ▁thế ▁nào ▁những ▁sợ i ▁dây ▁mạnh ▁mẽ ▁đáng ▁kinh ▁ngạc ▁ấy ▁đã ▁ní u ▁ch ặt ▁lấy ▁cuộc ▁sống ▁của ▁một ▁cô ▁bé ▁bốn ▁tuổi ▁co ▁qu ắp ▁với ▁đ ứa ▁em ▁gái ▁nhỏ ▁của ▁cô ▁bé ▁, ▁với ▁mẹ ▁và ▁bà ▁trong ▁suốt ▁năm ▁ngày ▁đêm ▁trên ▁con ▁thuyền ▁nhỏ ▁lên h ▁đê nh ▁trên ▁B iển ▁Đông ▁hơn ▁30 ▁năm ▁trước ▁, ▁những ▁sợ i ▁dây ▁liên ▁kết ▁đã ▁ní u ▁lấy ▁cuộc ▁đời ▁cô ▁bé ▁ấy ▁và ▁không ▁bao ▁giờ ▁ rời ▁đi ▁-- ▁cô ▁bé ▁ấy ▁giờ ▁sống ▁ở ▁San ▁Francis co ▁và ▁đang ▁nói ▁chuyện ▁với ▁các ▁bạn ▁ hôm ▁nay ▁?\n",
            "Reference:  ▁How ▁can ▁I ▁speak ▁in ▁10 ▁minutes ▁about ▁the ▁bond s ▁of ▁women ▁over ▁three ▁generation s ▁ , ▁about ▁how ▁the ▁astonishing ▁strength ▁of ▁t hose ▁bond s ▁to ok ▁hold ▁in ▁the ▁life ▁of ▁a ▁four - year - old ▁girl ▁huddle d ▁with ▁her ▁young ▁sister ▁ , ▁her ▁mother ▁and ▁her ▁grandmother ▁for ▁five ▁days ▁and ▁night s ▁in ▁a ▁small ▁boat ▁in ▁the ▁China ▁Sea ▁more ▁than ▁30 ▁years ▁ago ▁ , ▁bond s ▁that ▁to ok ▁hold ▁in ▁the ▁life ▁of ▁that ▁small ▁girl ▁and ▁never ▁let ▁go ▁-- ▁that ▁small ▁girl ▁now ▁living ▁in ▁San ▁Francisco ▁and ▁speaking ▁to ▁you ▁to day ▁? \n",
            "Translation:   ▁In ▁4 ▁minutes ▁ , ▁atmospher ic ▁chemist ▁Rachel ▁P ike ▁provide s ▁a ▁glimpse ▁of ▁the ▁massive ▁scientific ▁effort ▁ behind ▁the ▁bold ▁headline s ▁on ▁climate ▁change ▁ , ▁with ▁her ▁team ▁-- ▁one ▁of ▁ thousands ▁who ▁contribute d ▁-- ▁ taking ▁a ▁risk y ▁flight ▁over ▁the ▁rainforest ▁in ▁pursuit ▁of ▁data ▁on ▁a ▁key ▁molecule ▁. \n",
            "\n",
            "\n",
            "Sample 1:\n",
            "Source: ▁C âu ▁chuyện ▁này ▁chưa ▁kết ▁thúc ▁.\n",
            "Reference:  ▁Thi s ▁is ▁not ▁a ▁finish ed ▁story ▁. \n",
            "Translation:   ▁And ▁ this ▁is ▁the ▁tower ▁from ▁be low ▁. \n",
            "\n",
            "\n",
            "Sample 2:\n",
            "Source: ▁Nó ▁là ▁một ▁trò ▁chơi ▁ghép ▁hình ▁vẫ n ▁đang ▁được ▁xếp ▁.\n",
            "Reference:  ▁It ▁is ▁a ▁jig saw ▁puzzle ▁still ▁being ▁put ▁together ▁. \n",
            "Translation:   ▁We ▁have ▁to ▁fly ▁at ▁a ▁special ▁incline ▁in ▁order ▁to ▁make ▁the ▁measurement s ▁. \n",
            "\n",
            "\n",
            "Sample 3:\n",
            "Source: ▁Hã y ▁để ▁tôi ▁kể ▁cho ▁các ▁bạn ▁về ▁và i ▁m ảnh ▁ghép ▁nhé ▁.\n",
            "Reference:  ▁Let ▁me ▁tell ▁you ▁about ▁some ▁of ▁the ▁piece s ▁. \n",
            "Translation:   ▁We ▁have ▁to ▁fly ▁at ▁a ▁special ▁incline ▁in ▁order ▁to ▁make ▁the ▁measurement s ▁. \n",
            "\n",
            "\n",
            "Sample 4:\n",
            "Source: ▁Hã y ▁tưởng ▁tượng ▁m ảnh ▁đầu ▁tiên ▁: ▁một ▁người ▁đàn ▁ông ▁đố t ▁chá y ▁sự ▁nghiệp ▁cả ▁đời ▁mình ▁.\n",
            "Reference:  ▁I magine ▁the ▁first ▁piece ▁ : ▁a ▁man ▁burning ▁his ▁life ▁& apos ; s ▁work ▁. \n",
            "Translation:   ▁And ▁out ▁of ▁that ▁field ▁campaign ▁we ▁& apos ; ll ▁probabl y ▁get ▁a ▁few ▁dozen ▁paper s ▁on ▁a ▁few ▁dozen ▁processe s ▁. \n",
            "\n",
            "\n"
          ]
        }
      ]
    },
    {
      "cell_type": "markdown",
      "source": [
        "# Great work! You have completed all the tasks in this assignment 👏"
      ],
      "metadata": {
        "id": "zI6QmPSEqQSu"
      }
    }
  ],
  "metadata": {
    "colab": {
      "provenance": [],
      "machine_shape": "hm",
      "gpuType": "T4"
    },
    "kernelspec": {
      "display_name": "Python 3",
      "name": "python3"
    },
    "accelerator": "GPU"
  },
  "nbformat": 4,
  "nbformat_minor": 0
}